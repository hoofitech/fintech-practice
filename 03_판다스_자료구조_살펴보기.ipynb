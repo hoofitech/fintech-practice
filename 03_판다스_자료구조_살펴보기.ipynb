{
  "nbformat": 4,
  "nbformat_minor": 0,
  "metadata": {
    "colab": {
      "provenance": [],
      "mount_file_id": "10vRD5lKzjlekXXldZvi8gGVspbnW9LYI",
      "authorship_tag": "ABX9TyNvOXBCyvLUlqE/Pxs70Zab",
      "include_colab_link": true
    },
    "kernelspec": {
      "name": "python3",
      "display_name": "Python 3"
    },
    "language_info": {
      "name": "python"
    }
  },
  "cells": [
    {
      "cell_type": "markdown",
      "metadata": {
        "id": "view-in-github",
        "colab_type": "text"
      },
      "source": [
        "<a href=\"https://colab.research.google.com/github/hoofitech/fintech-practice/blob/main/03_%ED%8C%90%EB%8B%A4%EC%8A%A4_%EC%9E%90%EB%A3%8C%EA%B5%AC%EC%A1%B0_%EC%82%B4%ED%8E%B4%EB%B3%B4%EA%B8%B0.ipynb\" target=\"_parent\"><img src=\"https://colab.research.google.com/assets/colab-badge.svg\" alt=\"Open In Colab\"/></a>"
      ]
    },
    {
      "cell_type": "markdown",
      "source": [
        "# **03-1. 나만의 데이터 만들기**"
      ],
      "metadata": {
        "id": "__qBXcJQ5V7R"
      }
    },
    {
      "cell_type": "markdown",
      "source": [
        "시리즈는 모든 요소의 자료형이 같아야한다는 점만 뺴면 파이썬의 리스트는 매우 유사\n",
        "\n",
        "데이터프레임은 각 키가 열의 이름이고 값이 시리즈인 딕셔너리로 볼 수 있습니다."
      ],
      "metadata": {
        "id": "eJR09nyI50QD"
      }
    },
    {
      "cell_type": "code",
      "execution_count": null,
      "metadata": {
        "colab": {
          "base_uri": "https://localhost:8080/"
        },
        "id": "jiHK-EuB5FsG",
        "outputId": "7ef785e2-e4df-46de-cd70-82a5509cd5e7"
      },
      "outputs": [
        {
          "output_type": "stream",
          "name": "stdout",
          "text": [
            "0    banana\n",
            "1        42\n",
            "dtype: object\n"
          ]
        }
      ],
      "source": [
        "import pandas as pd\n",
        "s= pd.Series(['banana', 42]) #파이썬의 리스트를 이용하여 Series() 시리즈를 만들 수 있음\n",
        "print(s)"
      ]
    },
    {
      "cell_type": "code",
      "source": [
        "s = pd.Series(data=['Wes Mckinney', 'creator of pandas'], index = ['Person', 'Who']) #시리즈에도 값에 이름을 할당할 수 있다\n",
        "print(s)"
      ],
      "metadata": {
        "colab": {
          "base_uri": "https://localhost:8080/"
        },
        "id": "rZTnpLqt63gT",
        "outputId": "91f2ec47-3c3e-493d-ec0c-9c9c07fc0006"
      },
      "execution_count": null,
      "outputs": [
        {
          "output_type": "stream",
          "name": "stdout",
          "text": [
            "Person         Wes Mckinney\n",
            "Who       creator of pandas\n",
            "dtype: object\n"
          ]
        }
      ]
    },
    {
      "cell_type": "code",
      "source": [
        "scientists = pd.DataFrame({\n",
        "    \"Name\" : [\"Rosaline Franklin\", \"William Gosset\"],\n",
        "    \"Occupation\" : [\"Chemist\", \"Statistician\"],\n",
        "    \"Born\" : [\"1920-07-25\", \"1876-06-13\"],\n",
        "    \"Died\" : [\"1958-04-16\", \"1937-10-16\"],\n",
        "    \"Age\" : [37, 61],\n",
        "})\n",
        "print(scientists) #딕셔너리와 유사하듯 실제로 데이터프레임을 만드는 방법은 딕셔너리를 사용한다."
      ],
      "metadata": {
        "colab": {
          "base_uri": "https://localhost:8080/"
        },
        "id": "F8DsGBPU7mA1",
        "outputId": "c9acec14-4eb8-4241-f87b-9ab7f383d37f"
      },
      "execution_count": null,
      "outputs": [
        {
          "output_type": "stream",
          "name": "stdout",
          "text": [
            "                Name    Occupation        Born        Died  Age\n",
            "0  Rosaline Franklin       Chemist  1920-07-25  1958-04-16   37\n",
            "1     William Gosset  Statistician  1876-06-13  1937-10-16   61\n"
          ]
        }
      ]
    },
    {
      "cell_type": "code",
      "source": [
        "scientists = pd.DataFrame(\n",
        "    data={\"Name\" : [\"Rosaline Franklin\", \"William Gosset\"],\n",
        "    \"Occupation\" : [\"Chemist\", \"Statistician\"],\n",
        "    \"Born\" : [\"1920-07-25\", \"1876-06-13\"],\n",
        "    \"Died\" : [\"1958-04-16\", \"1937-10-16\"],\n",
        "    \"Age\" : [37, 61],\n",
        "  },\n",
        "    index = [\"Rosaline Franklin\", \"William Gosset\"],\n",
        "    columns = [\"Occupation\", \"Born\", \"Died\", \"Age\"],\n",
        ")\n",
        "print(scientists) # 매개변수 index를 통해서 name 열의 값을 열 이름 인데스로 사용하고 싶다면 매겨변수 index에 해당 리스트를 지정, 매개변수 columns를 사용해서 열 순서를 지정할 수 있다"
      ],
      "metadata": {
        "colab": {
          "base_uri": "https://localhost:8080/"
        },
        "id": "ayCD0xp69VF_",
        "outputId": "45adcb4d-0835-45a5-bf11-7e5e81e1ea14"
      },
      "execution_count": null,
      "outputs": [
        {
          "output_type": "stream",
          "name": "stdout",
          "text": [
            "                     Occupation        Born        Died  Age\n",
            "Rosaline Franklin       Chemist  1920-07-25  1958-04-16   37\n",
            "William Gosset     Statistician  1876-06-13  1937-10-16   61\n"
          ]
        }
      ]
    },
    {
      "cell_type": "markdown",
      "source": [
        "# 03-02 시리즈 다루기"
      ],
      "metadata": {
        "id": "EUKsB2da_B3E"
      }
    },
    {
      "cell_type": "code",
      "source": [
        "first_row = scientists.loc['William Gosset']\n",
        "print(first_row) #loc를 통해서 시리즈를 출력"
      ],
      "metadata": {
        "colab": {
          "base_uri": "https://localhost:8080/"
        },
        "id": "r57xfQyQ-5wg",
        "outputId": "b4287785-ceea-43a4-a40d-478935f3961c"
      },
      "execution_count": null,
      "outputs": [
        {
          "output_type": "stream",
          "name": "stdout",
          "text": [
            "Occupation    Statistician\n",
            "Born            1876-06-13\n",
            "Died            1937-10-16\n",
            "Age                     61\n",
            "Name: William Gosset, dtype: object\n"
          ]
        }
      ]
    },
    {
      "cell_type": "code",
      "source": [
        "print(first_row.index)\n",
        "print(first_row.values) #index나 values같이 다양한 속성을 제공한다"
      ],
      "metadata": {
        "colab": {
          "base_uri": "https://localhost:8080/"
        },
        "id": "n1WXW3ZUA2-a",
        "outputId": "588d8ac4-c15e-4ae8-be24-704c1c4166ce"
      },
      "execution_count": null,
      "outputs": [
        {
          "output_type": "stream",
          "name": "stdout",
          "text": [
            "Index(['Occupation', 'Born', 'Died', 'Age'], dtype='object')\n",
            "['Statistician' '1876-06-13' '1937-10-16' np.int64(61)]\n"
          ]
        }
      ]
    },
    {
      "cell_type": "code",
      "source": [
        "print(first_row.keys()) #.keys()는 메서드라서 () 소괄호를 사용\n",
        "print(first_row.index[0]) #속성이므로 바로 뒤에 [0]을 써서 추출\n",
        "print(first_row.keys()[0]) #메서드 호출 후 [0]을 써서 인덱스 추출"
      ],
      "metadata": {
        "id": "6_7v-m_nBS4j",
        "colab": {
          "base_uri": "https://localhost:8080/"
        },
        "outputId": "fe63745a-1c20-4e4e-a247-e07c7d7ed291"
      },
      "execution_count": null,
      "outputs": [
        {
          "output_type": "stream",
          "name": "stdout",
          "text": [
            "Index(['Occupation', 'Born', 'Died', 'Age'], dtype='object')\n",
            "Occupation\n",
            "Occupation\n"
          ]
        }
      ]
    },
    {
      "cell_type": "code",
      "source": [
        "ages = scientists['Age']\n",
        "print(ages)"
      ],
      "metadata": {
        "colab": {
          "base_uri": "https://localhost:8080/"
        },
        "id": "O0GyqBTRCgKr",
        "outputId": "1e7daa2d-6418-4e42-9bf4-992704af082f"
      },
      "execution_count": null,
      "outputs": [
        {
          "output_type": "stream",
          "name": "stdout",
          "text": [
            "Rosaline Franklin    37\n",
            "William Gosset       61\n",
            "Name: Age, dtype: int64\n"
          ]
        }
      ]
    },
    {
      "cell_type": "code",
      "source": [
        "print(ages.mean())\n",
        "print(ages.min())\n",
        "print(ages.max())\n",
        "print(ages.std()) #시리즈의 자료구조는 넘파이의 ndarray와 매우 닮았다. nddray에서 사용할 수 있는 메서드와 함수는 시리즈에도 사용가능"
      ],
      "metadata": {
        "colab": {
          "base_uri": "https://localhost:8080/"
        },
        "id": "iizcjejlDDn2",
        "outputId": "862d72a0-61bb-4081-9668-fe5ee4704d41"
      },
      "execution_count": null,
      "outputs": [
        {
          "output_type": "stream",
          "name": "stdout",
          "text": [
            "49.0\n",
            "37\n",
            "61\n",
            "16.97056274847714\n"
          ]
        }
      ]
    },
    {
      "cell_type": "markdown",
      "source": [
        "시리즈와 불리언"
      ],
      "metadata": {
        "id": "0ZDE4MQSTvlR"
      }
    },
    {
      "cell_type": "code",
      "source": [
        "scientists = pd.read_csv('scientists.csv')\n",
        "print(scientists)"
      ],
      "metadata": {
        "colab": {
          "base_uri": "https://localhost:8080/"
        },
        "id": "84I0cvjfTzRR",
        "outputId": "42d317b6-62ab-4cc3-8a47-18f5746e921d"
      },
      "execution_count": null,
      "outputs": [
        {
          "output_type": "stream",
          "name": "stdout",
          "text": [
            "                   Name        Born        Died  Age          Occupation\n",
            "0     Rosaline Franklin  1920-07-25  1958-04-16   37             Chemist\n",
            "1        William Gosset  1876-06-13  1937-10-16   61        Statistician\n",
            "2  Florence Nightingale  1820-05-12  1910-08-13   90               Nurse\n",
            "3           Marie Curie  1867-11-07  1934-07-04   66             Chemist\n",
            "4         Rachel Carson  1907-05-27  1964-04-14   56           Biologist\n",
            "5             John Snow  1813-03-15  1858-06-16   45           Physician\n",
            "6           Alan Turing  1912-06-23  1954-06-07   41  Computer Scientist\n",
            "7          Johann Gauss  1777-04-30  1855-02-23   77       Mathematician\n"
          ]
        }
      ]
    },
    {
      "cell_type": "code",
      "source": [
        "ages = scientists['Age']\n",
        "print(ages)"
      ],
      "metadata": {
        "colab": {
          "base_uri": "https://localhost:8080/"
        },
        "id": "qReZCx5dVDQD",
        "outputId": "ca5f73e3-9ad1-461c-f619-ac1c08460a16"
      },
      "execution_count": null,
      "outputs": [
        {
          "output_type": "stream",
          "name": "stdout",
          "text": [
            "0    37\n",
            "1    61\n",
            "2    90\n",
            "3    66\n",
            "4    56\n",
            "5    45\n",
            "6    41\n",
            "7    77\n",
            "Name: Age, dtype: int64\n"
          ]
        }
      ]
    },
    {
      "cell_type": "code",
      "source": [
        "print(ages.describe()) #describe() 메서드를 이용하면 다양한 기술 통계량을 계산할 수 있다"
      ],
      "metadata": {
        "colab": {
          "base_uri": "https://localhost:8080/"
        },
        "id": "ZIZSY0J4VV-6",
        "outputId": "a26b38aa-a216-4289-ceea-983a0c445447"
      },
      "execution_count": null,
      "outputs": [
        {
          "output_type": "stream",
          "name": "stdout",
          "text": [
            "count     8.000000\n",
            "mean     59.125000\n",
            "std      18.325918\n",
            "min      37.000000\n",
            "25%      44.000000\n",
            "50%      58.500000\n",
            "75%      68.750000\n",
            "max      90.000000\n",
            "Name: Age, dtype: float64\n"
          ]
        }
      ]
    },
    {
      "cell_type": "code",
      "source": [
        "print(ages[ages > ages.mean()]) #대괄호 안에 조건을 지정하여 조건에 맞는 데이터만 추출가능"
      ],
      "metadata": {
        "colab": {
          "base_uri": "https://localhost:8080/"
        },
        "id": "i9FzXlRMVxEG",
        "outputId": "0a49535e-2f98-4c5e-9ae8-7bd10f7b06fb"
      },
      "execution_count": null,
      "outputs": [
        {
          "output_type": "stream",
          "name": "stdout",
          "text": [
            "1    61\n",
            "2    90\n",
            "3    66\n",
            "7    77\n",
            "Name: Age, dtype: int64\n"
          ]
        }
      ]
    },
    {
      "cell_type": "code",
      "source": [
        "print(ages > ages.mean()) #평균보다 큰 ages를 구하는 것을 이렇게 표현할 수 있다"
      ],
      "metadata": {
        "colab": {
          "base_uri": "https://localhost:8080/"
        },
        "id": "hcb91R0uWgd4",
        "outputId": "a0fd0ba9-a1bc-434b-9a1f-f40d286cdd1a"
      },
      "execution_count": null,
      "outputs": [
        {
          "output_type": "stream",
          "name": "stdout",
          "text": [
            "0    False\n",
            "1     True\n",
            "2     True\n",
            "3     True\n",
            "4    False\n",
            "5    False\n",
            "6    False\n",
            "7     True\n",
            "Name: Age, dtype: bool\n"
          ]
        }
      ]
    },
    {
      "cell_type": "code",
      "source": [
        "print(type(ages > ages.mean())) #불리언 값으로 구성된 시리즈로도 데이터를 추출할 수 있다"
      ],
      "metadata": {
        "colab": {
          "base_uri": "https://localhost:8080/"
        },
        "id": "2MqazU76Woam",
        "outputId": "7176566b-d29b-4203-d6e8-4ecbbaf9d9f8"
      },
      "execution_count": null,
      "outputs": [
        {
          "output_type": "stream",
          "name": "stdout",
          "text": [
            "<class 'pandas.core.series.Series'>\n"
          ]
        }
      ]
    },
    {
      "cell_type": "code",
      "source": [
        "manual_bool_values = [\n",
        "    True,\n",
        "    True,\n",
        "    False,\n",
        "    False,\n",
        "    True,\n",
        "    True,\n",
        "    False,\n",
        "    True\n",
        "]\n",
        "print(ages[manual_bool_values]) #True로 지정한 0,1,4,5,7행만 출력된다"
      ],
      "metadata": {
        "colab": {
          "base_uri": "https://localhost:8080/"
        },
        "id": "DJoUJndRW9CQ",
        "outputId": "b2309d4a-79ec-4b44-abb9-29ec22b0ff4c"
      },
      "execution_count": null,
      "outputs": [
        {
          "output_type": "stream",
          "name": "stdout",
          "text": [
            "0    37\n",
            "1    61\n",
            "4    56\n",
            "5    45\n",
            "7    77\n",
            "Name: Age, dtype: int64\n"
          ]
        }
      ]
    },
    {
      "cell_type": "markdown",
      "source": [
        "시리즈와 브로드캐스팅"
      ],
      "metadata": {
        "id": "ZnJFL1fiYMg8"
      }
    },
    {
      "cell_type": "code",
      "source": [
        "print(ages + ages)\n",
        "print(ages * ages) # 길이가 같은 두 개의 시리즈를 대상으로 연산하면 각 요소가 서로 대응하여 계산"
      ],
      "metadata": {
        "colab": {
          "base_uri": "https://localhost:8080/"
        },
        "id": "-cuCgVQPYJ6N",
        "outputId": "372611fc-3d9c-4b33-be95-846acee92a57"
      },
      "execution_count": null,
      "outputs": [
        {
          "output_type": "stream",
          "name": "stdout",
          "text": [
            "0     74\n",
            "1    122\n",
            "2    180\n",
            "3    132\n",
            "4    112\n",
            "5     90\n",
            "6     82\n",
            "7    154\n",
            "Name: Age, dtype: int64\n",
            "0    1369\n",
            "1    3721\n",
            "2    8100\n",
            "3    4356\n",
            "4    3136\n",
            "5    2025\n",
            "6    1681\n",
            "7    5929\n",
            "Name: Age, dtype: int64\n"
          ]
        }
      ]
    },
    {
      "cell_type": "code",
      "source": [
        "print(ages + 100)\n",
        "print(ages * 2) #스칼라와 벡터를 연산하면 같은 스칼라 값이  벡터의 모든 요소에 적용됨"
      ],
      "metadata": {
        "colab": {
          "base_uri": "https://localhost:8080/"
        },
        "id": "TFDi4BFCY2ZD",
        "outputId": "cc345784-d8ed-44f0-9ab9-1ce086099e4e"
      },
      "execution_count": null,
      "outputs": [
        {
          "output_type": "stream",
          "name": "stdout",
          "text": [
            "0    137\n",
            "1    161\n",
            "2    190\n",
            "3    166\n",
            "4    156\n",
            "5    145\n",
            "6    141\n",
            "7    177\n",
            "Name: Age, dtype: int64\n",
            "0     74\n",
            "1    122\n",
            "2    180\n",
            "3    132\n",
            "4    112\n",
            "5     90\n",
            "6     82\n",
            "7    154\n",
            "Name: Age, dtype: int64\n"
          ]
        }
      ]
    },
    {
      "cell_type": "code",
      "source": [
        "print(ages + pd.Series([1,100])) # 길이가 다른 벡터를 계산하면 인덱스를 계산할 수 없는 값은 NaN으로 처리합니다."
      ],
      "metadata": {
        "colab": {
          "base_uri": "https://localhost:8080/"
        },
        "id": "sO896yhNZqB2",
        "outputId": "c4115d53-4ffb-4a13-c5d0-31e3a9444fdc"
      },
      "execution_count": null,
      "outputs": [
        {
          "output_type": "stream",
          "name": "stdout",
          "text": [
            "0     38.0\n",
            "1    161.0\n",
            "2      NaN\n",
            "3      NaN\n",
            "4      NaN\n",
            "5      NaN\n",
            "6      NaN\n",
            "7      NaN\n",
            "dtype: float64\n"
          ]
        }
      ]
    },
    {
      "cell_type": "code",
      "source": [
        "rev_ages = ages.sort_index(ascending=False) #sort_index() 메서드에 매개변수 ascending을 False로 지정하면 내림차순으로 정렬됩니다\n",
        "print(rev_ages)"
      ],
      "metadata": {
        "colab": {
          "base_uri": "https://localhost:8080/"
        },
        "id": "MtG-vaJTaoHx",
        "outputId": "28d87e36-069a-4356-b532-989116b17e7e"
      },
      "execution_count": null,
      "outputs": [
        {
          "output_type": "stream",
          "name": "stdout",
          "text": [
            "7    77\n",
            "6    41\n",
            "5    45\n",
            "4    56\n",
            "3    66\n",
            "2    90\n",
            "1    61\n",
            "0    37\n",
            "Name: Age, dtype: int64\n"
          ]
        }
      ]
    },
    {
      "cell_type": "code",
      "source": [
        "print(ages + rev_ages) # rev_ages의 인덱스가 내림차순으로 정렬되어있었으나 오름차순으로 자동으로 정렬됨"
      ],
      "metadata": {
        "id": "Y6K0QUBhniNa",
        "colab": {
          "base_uri": "https://localhost:8080/"
        },
        "outputId": "400cde11-4b65-4b44-925d-5304f3a3525d"
      },
      "execution_count": null,
      "outputs": [
        {
          "output_type": "stream",
          "name": "stdout",
          "text": [
            "0     74\n",
            "1    122\n",
            "2    180\n",
            "3    132\n",
            "4    112\n",
            "5     90\n",
            "6     82\n",
            "7    154\n",
            "Name: Age, dtype: int64\n"
          ]
        }
      ]
    },
    {
      "cell_type": "markdown",
      "source": [
        "# **03-3 데이터프레임 다루기**"
      ],
      "metadata": {
        "id": "LnPIEJiLguJz"
      }
    },
    {
      "cell_type": "code",
      "source": [
        "scientists.index #행 이름을 나타냄"
      ],
      "metadata": {
        "colab": {
          "base_uri": "https://localhost:8080/"
        },
        "id": "yuqBV7brgxaS",
        "outputId": "ff41fdfb-e677-4883-9d93-be99c7485506"
      },
      "execution_count": null,
      "outputs": [
        {
          "output_type": "execute_result",
          "data": {
            "text/plain": [
              "RangeIndex(start=0, stop=8, step=1)"
            ]
          },
          "metadata": {},
          "execution_count": 37
        }
      ]
    },
    {
      "cell_type": "code",
      "source": [
        "scientists.columns #열 이름을 나타냄"
      ],
      "metadata": {
        "colab": {
          "base_uri": "https://localhost:8080/"
        },
        "id": "UWulYYqbhQRK",
        "outputId": "dfd2ba0a-d42c-43bd-ee05-323a60f7fce8"
      },
      "execution_count": null,
      "outputs": [
        {
          "output_type": "execute_result",
          "data": {
            "text/plain": [
              "Index(['Name', 'Born', 'Died', 'Age', 'Occupation'], dtype='object')"
            ]
          },
          "metadata": {},
          "execution_count": 38
        }
      ]
    },
    {
      "cell_type": "code",
      "source": [
        "scientists.values #데이터를 나타냄, numpy 표현법으로 간단하게 데이털르 살펴볼 때 유용"
      ],
      "metadata": {
        "colab": {
          "base_uri": "https://localhost:8080/"
        },
        "id": "HH5zzqtGhU_E",
        "outputId": "cbf6098a-570c-413f-fb4e-cff89634ac18"
      },
      "execution_count": null,
      "outputs": [
        {
          "output_type": "execute_result",
          "data": {
            "text/plain": [
              "array([['Rosaline Franklin', '1920-07-25', '1958-04-16', 37, 'Chemist'],\n",
              "       ['William Gosset', '1876-06-13', '1937-10-16', 61, 'Statistician'],\n",
              "       ['Florence Nightingale', '1820-05-12', '1910-08-13', 90, 'Nurse'],\n",
              "       ['Marie Curie', '1867-11-07', '1934-07-04', 66, 'Chemist'],\n",
              "       ['Rachel Carson', '1907-05-27', '1964-04-14', 56, 'Biologist'],\n",
              "       ['John Snow', '1813-03-15', '1858-06-16', 45, 'Physician'],\n",
              "       ['Alan Turing', '1912-06-23', '1954-06-07', 41,\n",
              "        'Computer Scientist'],\n",
              "       ['Johann Gauss', '1777-04-30', '1855-02-23', 77, 'Mathematician']],\n",
              "      dtype=object)"
            ]
          },
          "metadata": {},
          "execution_count": 39
        }
      ]
    },
    {
      "cell_type": "markdown",
      "source": [
        "데이터프레임과 불리언 추출"
      ],
      "metadata": {
        "id": "TTxjB1Poht7Z"
      }
    },
    {
      "cell_type": "code",
      "source": [
        "print(scientists.loc[scientists['Age'] > scientists['Age'].mean()]) #'Age' 열의 값이 평균값보다 큰 데이터만 추출"
      ],
      "metadata": {
        "colab": {
          "base_uri": "https://localhost:8080/"
        },
        "id": "eoUStTKVhwls",
        "outputId": "111bc578-9323-4aa7-c926-eca3bfce76da"
      },
      "execution_count": null,
      "outputs": [
        {
          "output_type": "stream",
          "name": "stdout",
          "text": [
            "                   Name        Born        Died  Age     Occupation\n",
            "1        William Gosset  1876-06-13  1937-10-16   61   Statistician\n",
            "2  Florence Nightingale  1820-05-12  1910-08-13   90          Nurse\n",
            "3           Marie Curie  1867-11-07  1934-07-04   66        Chemist\n",
            "7          Johann Gauss  1777-04-30  1855-02-23   77  Mathematician\n"
          ]
        }
      ]
    },
    {
      "cell_type": "code",
      "source": [
        "first_half = scientists[:4]\n",
        "second_half = scientists[4:]\n",
        "print(first_half) #데이터프레임을 반 씩 나누어 추출"
      ],
      "metadata": {
        "colab": {
          "base_uri": "https://localhost:8080/"
        },
        "id": "doJ0iFhXihZp",
        "outputId": "8b1c9149-e28c-4a63-ef6e-4c6ec234ae13"
      },
      "execution_count": null,
      "outputs": [
        {
          "output_type": "stream",
          "name": "stdout",
          "text": [
            "                   Name        Born        Died  Age    Occupation\n",
            "0     Rosaline Franklin  1920-07-25  1958-04-16   37       Chemist\n",
            "1        William Gosset  1876-06-13  1937-10-16   61  Statistician\n",
            "2  Florence Nightingale  1820-05-12  1910-08-13   90         Nurse\n",
            "3           Marie Curie  1867-11-07  1934-07-04   66       Chemist\n"
          ]
        }
      ]
    },
    {
      "cell_type": "code",
      "source": [
        "print(second_half)"
      ],
      "metadata": {
        "colab": {
          "base_uri": "https://localhost:8080/"
        },
        "id": "mM4Kuhj9jGZv",
        "outputId": "aa8a3cc9-6591-467b-85fe-db90a8648b91"
      },
      "execution_count": null,
      "outputs": [
        {
          "output_type": "stream",
          "name": "stdout",
          "text": [
            "            Name        Born        Died  Age          Occupation\n",
            "4  Rachel Carson  1907-05-27  1964-04-14   56           Biologist\n",
            "5      John Snow  1813-03-15  1858-06-16   45           Physician\n",
            "6    Alan Turing  1912-06-23  1954-06-07   41  Computer Scientist\n",
            "7   Johann Gauss  1777-04-30  1855-02-23   77       Mathematician\n"
          ]
        }
      ]
    },
    {
      "cell_type": "code",
      "source": [
        "print(scientists * 2) #문자열의 경우 2번 출력되었고 숫자는 2배가 되었다"
      ],
      "metadata": {
        "colab": {
          "base_uri": "https://localhost:8080/"
        },
        "id": "csUJxoYnjedj",
        "outputId": "20bb81b2-62c8-463e-e6e7-b79e49fc845f"
      },
      "execution_count": null,
      "outputs": [
        {
          "output_type": "stream",
          "name": "stdout",
          "text": [
            "                                       Name                  Born  \\\n",
            "0        Rosaline FranklinRosaline Franklin  1920-07-251920-07-25   \n",
            "1              William GossetWilliam Gosset  1876-06-131876-06-13   \n",
            "2  Florence NightingaleFlorence Nightingale  1820-05-121820-05-12   \n",
            "3                    Marie CurieMarie Curie  1867-11-071867-11-07   \n",
            "4                Rachel CarsonRachel Carson  1907-05-271907-05-27   \n",
            "5                        John SnowJohn Snow  1813-03-151813-03-15   \n",
            "6                    Alan TuringAlan Turing  1912-06-231912-06-23   \n",
            "7                  Johann GaussJohann Gauss  1777-04-301777-04-30   \n",
            "\n",
            "                   Died  Age                            Occupation  \n",
            "0  1958-04-161958-04-16   74                        ChemistChemist  \n",
            "1  1937-10-161937-10-16  122              StatisticianStatistician  \n",
            "2  1910-08-131910-08-13  180                            NurseNurse  \n",
            "3  1934-07-041934-07-04  132                        ChemistChemist  \n",
            "4  1964-04-141964-04-14  112                    BiologistBiologist  \n",
            "5  1858-06-161858-06-16   90                    PhysicianPhysician  \n",
            "6  1954-06-071954-06-07   82  Computer ScientistComputer Scientist  \n",
            "7  1855-02-231855-02-23  154            MathematicianMathematician  \n"
          ]
        }
      ]
    },
    {
      "cell_type": "code",
      "source": [
        "df1= df2= pd.DataFrame(data=[[1,2,3], [4,5,6], [7,8,9]])\n",
        "df_added = df1.add(df2)\n",
        "print(df_added) #데이터프레임의 모든 값이 숫자이고 같은 셀끼리 값을 더하고 싶다면 add() 메서드를 사용하면됨"
      ],
      "metadata": {
        "colab": {
          "base_uri": "https://localhost:8080/"
        },
        "id": "7JWeGb9JkAXb",
        "outputId": "d1e1bf0d-0d0a-482d-9673-4dee08d5c424"
      },
      "execution_count": null,
      "outputs": [
        {
          "output_type": "stream",
          "name": "stdout",
          "text": [
            "    0   1   2\n",
            "0   2   4   6\n",
            "1   8  10  12\n",
            "2  14  16  18\n"
          ]
        }
      ]
    },
    {
      "cell_type": "markdown",
      "source": [
        "# **03-4. 시리즈와 데이터프레임 데이터 변환하기**"
      ],
      "metadata": {
        "id": "XwmLJpD9keki"
      }
    },
    {
      "cell_type": "code",
      "source": [
        "print(scientists.dtypes)"
      ],
      "metadata": {
        "colab": {
          "base_uri": "https://localhost:8080/"
        },
        "id": "MS-w38wgktWL",
        "outputId": "64973590-d5e0-44e3-e263-84488275cd21"
      },
      "execution_count": null,
      "outputs": [
        {
          "output_type": "stream",
          "name": "stdout",
          "text": [
            "Name          object\n",
            "Born          object\n",
            "Died          object\n",
            "Age            int64\n",
            "Occupation    object\n",
            "dtype: object\n"
          ]
        }
      ]
    },
    {
      "cell_type": "code",
      "source": [
        "born_datetime = pd.to_datetime(scientists['Born'], format = '%Y-%m-%d') #날짜는 datetime형으로 변환하는게 좋다. 형식은 format = '%Y-%m-%d' 매개변수로 지정가능\n",
        "print(born_datetime)"
      ],
      "metadata": {
        "colab": {
          "base_uri": "https://localhost:8080/"
        },
        "id": "8mF7gws_k4gq",
        "outputId": "43c00634-5868-4bb7-cf35-9d5cfa7c7d03"
      },
      "execution_count": null,
      "outputs": [
        {
          "output_type": "stream",
          "name": "stdout",
          "text": [
            "0   1920-07-25\n",
            "1   1876-06-13\n",
            "2   1820-05-12\n",
            "3   1867-11-07\n",
            "4   1907-05-27\n",
            "5   1813-03-15\n",
            "6   1912-06-23\n",
            "7   1777-04-30\n",
            "Name: Born, dtype: datetime64[ns]\n"
          ]
        }
      ]
    },
    {
      "cell_type": "code",
      "source": [
        "died_datetime = pd.to_datetime(scientists['Died'], format = '%Y-%m-%d')"
      ],
      "metadata": {
        "id": "Lh9p3I4MlIqy"
      },
      "execution_count": null,
      "outputs": []
    },
    {
      "cell_type": "code",
      "source": [
        "scientists['born_dt'], scientists['died_dt'] = (born_datetime, died_datetime) #datetime형 열 추가"
      ],
      "metadata": {
        "id": "17AsS6Amla65"
      },
      "execution_count": null,
      "outputs": []
    },
    {
      "cell_type": "code",
      "source": [
        "print(scientists.head()) #추가된 것이 확인됨"
      ],
      "metadata": {
        "colab": {
          "base_uri": "https://localhost:8080/"
        },
        "id": "AU3PEjNtlwdT",
        "outputId": "6aa1b34f-2902-44ab-9bda-437298b0eacd"
      },
      "execution_count": null,
      "outputs": [
        {
          "output_type": "stream",
          "name": "stdout",
          "text": [
            "                   Name        Born        Died  Age    Occupation    born_dt  \\\n",
            "0     Rosaline Franklin  1920-07-25  1958-04-16   37       Chemist 1920-07-25   \n",
            "1        William Gosset  1876-06-13  1937-10-16   61  Statistician 1876-06-13   \n",
            "2  Florence Nightingale  1820-05-12  1910-08-13   90         Nurse 1820-05-12   \n",
            "3           Marie Curie  1867-11-07  1934-07-04   66       Chemist 1867-11-07   \n",
            "4         Rachel Carson  1907-05-27  1964-04-14   56     Biologist 1907-05-27   \n",
            "\n",
            "     died_dt  \n",
            "0 1958-04-16  \n",
            "1 1937-10-16  \n",
            "2 1910-08-13  \n",
            "3 1934-07-04  \n",
            "4 1964-04-14  \n"
          ]
        }
      ]
    },
    {
      "cell_type": "code",
      "source": [
        "print(scientists.shape)"
      ],
      "metadata": {
        "colab": {
          "base_uri": "https://localhost:8080/"
        },
        "id": "X81T6g3Ll7iu",
        "outputId": "e7eafe81-381a-4ab6-87b7-839e29d51cb3"
      },
      "execution_count": null,
      "outputs": [
        {
          "output_type": "stream",
          "name": "stdout",
          "text": [
            "(8, 7)\n"
          ]
        }
      ]
    },
    {
      "cell_type": "code",
      "source": [
        "print(scientists.dtypes)"
      ],
      "metadata": {
        "colab": {
          "base_uri": "https://localhost:8080/"
        },
        "id": "DuVa0g50l_EP",
        "outputId": "9f468543-6156-4640-cde4-a2a457d6da6a"
      },
      "execution_count": null,
      "outputs": [
        {
          "output_type": "stream",
          "name": "stdout",
          "text": [
            "Name                  object\n",
            "Born                  object\n",
            "Died                  object\n",
            "Age                    int64\n",
            "Occupation            object\n",
            "born_dt       datetime64[ns]\n",
            "died_dt       datetime64[ns]\n",
            "dtype: object\n"
          ]
        }
      ]
    },
    {
      "cell_type": "code",
      "source": [
        "print(scientists['Age'])"
      ],
      "metadata": {
        "colab": {
          "base_uri": "https://localhost:8080/"
        },
        "id": "RCS7zDL4m3Rb",
        "outputId": "4070c05d-1b01-4fe4-e23b-275f9b060481"
      },
      "execution_count": null,
      "outputs": [
        {
          "output_type": "stream",
          "name": "stdout",
          "text": [
            "0    37\n",
            "1    61\n",
            "2    90\n",
            "3    66\n",
            "4    56\n",
            "5    45\n",
            "6    41\n",
            "7    77\n",
            "Name: Age, dtype: int64\n"
          ]
        }
      ]
    },
    {
      "cell_type": "code",
      "source": [
        "print(scientists[\"Age\"].sample(frac=1, random_state=42)) #sample() 메서드는 열을 무작위로 섞어줌, 매개변수 frac로 추출비율을 설정할 수 있음, random_state 매개변수로 난수값 설정가능"
      ],
      "metadata": {
        "colab": {
          "base_uri": "https://localhost:8080/"
        },
        "id": "dDTGnfYCm-sB",
        "outputId": "13657566-b665-4725-ca9d-c16a39e12724"
      },
      "execution_count": null,
      "outputs": [
        {
          "output_type": "stream",
          "name": "stdout",
          "text": [
            "1    61\n",
            "5    45\n",
            "0    37\n",
            "7    77\n",
            "2    90\n",
            "4    56\n",
            "3    66\n",
            "6    41\n",
            "Name: Age, dtype: int64\n"
          ]
        }
      ]
    },
    {
      "cell_type": "code",
      "source": [
        "scientists[\"Age\"] = scientists[\"Age\"].sample(frac = 1, random_state = 42)\n",
        "print(scientists['Age']) #sample() 메서드를 이용하여 섞은 것을 Age열에 할당하려고 했지만 판다스가 대부분의 연산에서 index를 기준으로 자동병합하기 때문에 제자리로 돌아감"
      ],
      "metadata": {
        "colab": {
          "base_uri": "https://localhost:8080/"
        },
        "id": "crSzbrMboOXK",
        "outputId": "e966fb34-5eeb-4252-d47a-634b8a17e0ff"
      },
      "execution_count": null,
      "outputs": [
        {
          "output_type": "stream",
          "name": "stdout",
          "text": [
            "0    37\n",
            "1    61\n",
            "2    90\n",
            "3    66\n",
            "4    56\n",
            "5    45\n",
            "6    41\n",
            "7    77\n",
            "Name: Age, dtype: int64\n"
          ]
        }
      ]
    },
    {
      "cell_type": "code",
      "source": [
        "scientists[\"Age\"] = scientists[\"Age\"].sample(frac= 1, random_state=42).values\n",
        "print(scientists['Age']) #values를 사용하면 인덱스 정보 없이 값만 반환한다."
      ],
      "metadata": {
        "colab": {
          "base_uri": "https://localhost:8080/"
        },
        "id": "KrvRZX3upPxs",
        "outputId": "e560160d-b62e-48bd-e3cc-a54ed09c84ca"
      },
      "execution_count": null,
      "outputs": [
        {
          "output_type": "stream",
          "name": "stdout",
          "text": [
            "0    61\n",
            "1    45\n",
            "2    37\n",
            "3    77\n",
            "4    90\n",
            "5    56\n",
            "6    66\n",
            "7    41\n",
            "Name: Age, dtype: int64\n"
          ]
        }
      ]
    },
    {
      "cell_type": "code",
      "source": [
        "scientists[\"age_days\"] = (scientists['died_dt'] - scientists['born_dt'])\n",
        "print(scientists) #뒤죽박죽이 된 Age를 다시 구하기 위해서 born_dt 와 died_dt 열의 날짜 차이를 계산하고 이를 age_days에 저장"
      ],
      "metadata": {
        "colab": {
          "base_uri": "https://localhost:8080/"
        },
        "id": "Hsngvzdbp0Kf",
        "outputId": "4ad4fcd8-ba1e-410c-b073-01518cf0f171"
      },
      "execution_count": null,
      "outputs": [
        {
          "output_type": "stream",
          "name": "stdout",
          "text": [
            "                   Name        Born        Died  Age          Occupation  \\\n",
            "0     Rosaline Franklin  1920-07-25  1958-04-16   61             Chemist   \n",
            "1        William Gosset  1876-06-13  1937-10-16   45        Statistician   \n",
            "2  Florence Nightingale  1820-05-12  1910-08-13   37               Nurse   \n",
            "3           Marie Curie  1867-11-07  1934-07-04   77             Chemist   \n",
            "4         Rachel Carson  1907-05-27  1964-04-14   90           Biologist   \n",
            "5             John Snow  1813-03-15  1858-06-16   56           Physician   \n",
            "6           Alan Turing  1912-06-23  1954-06-07   66  Computer Scientist   \n",
            "7          Johann Gauss  1777-04-30  1855-02-23   41       Mathematician   \n",
            "\n",
            "     born_dt    died_dt   age_days  \n",
            "0 1920-07-25 1958-04-16 13779 days  \n",
            "1 1876-06-13 1937-10-16 22404 days  \n",
            "2 1820-05-12 1910-08-13 32964 days  \n",
            "3 1867-11-07 1934-07-04 24345 days  \n",
            "4 1907-05-27 1964-04-14 20777 days  \n",
            "5 1813-03-15 1858-06-16 16529 days  \n",
            "6 1912-06-23 1954-06-07 15324 days  \n",
            "7 1777-04-30 1855-02-23 28422 days  \n"
          ]
        }
      ]
    },
    {
      "cell_type": "code",
      "source": [
        "import numpy as np\n",
        "\n",
        "scientists['age_days'] = (scientists['age_days'].dt.days / 365).apply(np.floor) #dt.days를 통해서 age_days의  '일'수치만 뽑아낸 후 365로 나눠 줍니다. 그리고 apply(np.floor)은 넘파이의 반내림 함수이다.\n",
        "print(scientists)"
      ],
      "metadata": {
        "id": "p3a33xq1qSw7",
        "colab": {
          "base_uri": "https://localhost:8080/"
        },
        "outputId": "99e393f3-8413-4a3e-f7c1-525a4335eadb"
      },
      "execution_count": null,
      "outputs": [
        {
          "output_type": "stream",
          "name": "stdout",
          "text": [
            "                   Name        Born        Died  Age          Occupation  \\\n",
            "0     Rosaline Franklin  1920-07-25  1958-04-16   61             Chemist   \n",
            "1        William Gosset  1876-06-13  1937-10-16   45        Statistician   \n",
            "2  Florence Nightingale  1820-05-12  1910-08-13   37               Nurse   \n",
            "3           Marie Curie  1867-11-07  1934-07-04   77             Chemist   \n",
            "4         Rachel Carson  1907-05-27  1964-04-14   90           Biologist   \n",
            "5             John Snow  1813-03-15  1858-06-16   56           Physician   \n",
            "6           Alan Turing  1912-06-23  1954-06-07   66  Computer Scientist   \n",
            "7          Johann Gauss  1777-04-30  1855-02-23   41       Mathematician   \n",
            "\n",
            "     born_dt    died_dt  age_days  \n",
            "0 1920-07-25 1958-04-16      37.0  \n",
            "1 1876-06-13 1937-10-16      61.0  \n",
            "2 1820-05-12 1910-08-13      90.0  \n",
            "3 1867-11-07 1934-07-04      66.0  \n",
            "4 1907-05-27 1964-04-14      56.0  \n",
            "5 1813-03-15 1858-06-16      45.0  \n",
            "6 1912-06-23 1954-06-07      41.0  \n",
            "7 1777-04-30 1855-02-23      77.0  \n"
          ]
        }
      ]
    },
    {
      "cell_type": "code",
      "source": [
        "scientists[\"age_days\"] = (scientists['died_dt'] - scientists['born_dt'])"
      ],
      "metadata": {
        "id": "xwHLtFesv0z4"
      },
      "execution_count": null,
      "outputs": []
    },
    {
      "cell_type": "code",
      "source": [
        "scientists = scientists.assign(\n",
        "    age_days_assign = scientists['died_dt'] - scientists['born_dt'],\n",
        "    age_year_assign = (scientists['age_days'].dt.days/365)\n",
        "                      .apply(np.floor)\n",
        ")\n",
        "print(scientists) #assign 메서드를 활용해서도 열을 할당하고 수정할 수 있다"
      ],
      "metadata": {
        "colab": {
          "base_uri": "https://localhost:8080/"
        },
        "id": "Jvu3lQuEsvef",
        "outputId": "1be1fdbe-445a-4337-8d04-e58ab76dd4fe"
      },
      "execution_count": null,
      "outputs": [
        {
          "output_type": "stream",
          "name": "stdout",
          "text": [
            "                   Name        Born        Died  Age          Occupation  \\\n",
            "0     Rosaline Franklin  1920-07-25  1958-04-16   61             Chemist   \n",
            "1        William Gosset  1876-06-13  1937-10-16   45        Statistician   \n",
            "2  Florence Nightingale  1820-05-12  1910-08-13   37               Nurse   \n",
            "3           Marie Curie  1867-11-07  1934-07-04   77             Chemist   \n",
            "4         Rachel Carson  1907-05-27  1964-04-14   90           Biologist   \n",
            "5             John Snow  1813-03-15  1858-06-16   56           Physician   \n",
            "6           Alan Turing  1912-06-23  1954-06-07   66  Computer Scientist   \n",
            "7          Johann Gauss  1777-04-30  1855-02-23   41       Mathematician   \n",
            "\n",
            "     born_dt    died_dt   age_days age_days_assign  age_year_assign  \n",
            "0 1920-07-25 1958-04-16 13779 days      13779 days             37.0  \n",
            "1 1876-06-13 1937-10-16 22404 days      22404 days             61.0  \n",
            "2 1820-05-12 1910-08-13 32964 days      32964 days             90.0  \n",
            "3 1867-11-07 1934-07-04 24345 days      24345 days             66.0  \n",
            "4 1907-05-27 1964-04-14 20777 days      20777 days             56.0  \n",
            "5 1813-03-15 1858-06-16 16529 days      16529 days             45.0  \n",
            "6 1912-06-23 1954-06-07 15324 days      15324 days             41.0  \n",
            "7 1777-04-30 1855-02-23 28422 days      28422 days             77.0  \n"
          ]
        }
      ]
    },
    {
      "cell_type": "code",
      "source": [
        "print(scientists.columns)"
      ],
      "metadata": {
        "colab": {
          "base_uri": "https://localhost:8080/"
        },
        "id": "AGLUnEPGwFtA",
        "outputId": "1d1f1784-97ba-4701-c772-22c7b148a42e"
      },
      "execution_count": null,
      "outputs": [
        {
          "output_type": "stream",
          "name": "stdout",
          "text": [
            "Index(['Name', 'Born', 'Died', 'Age', 'Occupation', 'born_dt', 'died_dt',\n",
            "       'age_days', 'age_days_assign', 'age_year_assign'],\n",
            "      dtype='object')\n"
          ]
        }
      ]
    },
    {
      "cell_type": "code",
      "source": [
        "scientists_dropped = scientists.drop(['Age'], axis= \"columns\") #drop()메서드의 매개변수 axis에 1또는 'columns'를 전달하여 열 축의 'Age' 데이터를 삭제하도록 지정 후 scientists_dropped에 저장"
      ],
      "metadata": {
        "id": "o2yie6FnwJuR"
      },
      "execution_count": null,
      "outputs": []
    },
    {
      "cell_type": "code",
      "source": [
        "print(scientists_dropped.columns)"
      ],
      "metadata": {
        "colab": {
          "base_uri": "https://localhost:8080/"
        },
        "id": "UJAMMe82wYir",
        "outputId": "9b190b42-eff6-4114-b2ad-06f25fcb3d06"
      },
      "execution_count": null,
      "outputs": [
        {
          "output_type": "stream",
          "name": "stdout",
          "text": [
            "Index(['Name', 'Born', 'Died', 'Occupation', 'born_dt', 'died_dt', 'age_days',\n",
            "       'age_days_assign', 'age_year_assign'],\n",
            "      dtype='object')\n"
          ]
        }
      ]
    },
    {
      "cell_type": "markdown",
      "source": [
        "# **03-5. 데이터를 저장하고 불러오기**"
      ],
      "metadata": {
        "id": "aRmMIIPBz3qg"
      }
    },
    {
      "cell_type": "markdown",
      "source": [
        "피클로 저장하고 불러오기"
      ],
      "metadata": {
        "id": "39ydhGRZ0Nj8"
      }
    },
    {
      "cell_type": "code",
      "source": [
        "names = scientists['Name']\n",
        "print(names)"
      ],
      "metadata": {
        "colab": {
          "base_uri": "https://localhost:8080/"
        },
        "id": "zltvssAq0MZT",
        "outputId": "c5ff4a10-6837-40ae-d3ad-897e54573198"
      },
      "execution_count": null,
      "outputs": [
        {
          "output_type": "stream",
          "name": "stdout",
          "text": [
            "0       Rosaline Franklin\n",
            "1          William Gosset\n",
            "2    Florence Nightingale\n",
            "3             Marie Curie\n",
            "4           Rachel Carson\n",
            "5               John Snow\n",
            "6             Alan Turing\n",
            "7            Johann Gauss\n",
            "Name: Name, dtype: object\n"
          ]
        }
      ]
    },
    {
      "cell_type": "code",
      "source": [
        "names.to_pickle('../scientists_names_series.pickle') # 피클형은 이진 형식으로 직렬화된 데이터를 저장하는 방법으로, 디스크 저장 공간에 최적화된 상태로 데이터를 저장할 수 있다.\n",
        "#to_pickle()메서드로 호출하여 피클로 저장할 수 있다"
      ],
      "metadata": {
        "id": "nJWWZd_9z2H1"
      },
      "execution_count": null,
      "outputs": []
    },
    {
      "cell_type": "code",
      "source": [
        "series_pickle = pd.read_pickle('../scientists_names_series.pickle') #pd.read_pickle() 메서드로 파클 파일을 다시 읽어올 수 있다.\n",
        "print(series_pickle)"
      ],
      "metadata": {
        "colab": {
          "base_uri": "https://localhost:8080/"
        },
        "id": "KRfsnLU41TvE",
        "outputId": "38c6504f-6a87-4535-d3f1-16a79ee30106"
      },
      "execution_count": null,
      "outputs": [
        {
          "output_type": "stream",
          "name": "stdout",
          "text": [
            "0       Rosaline Franklin\n",
            "1          William Gosset\n",
            "2    Florence Nightingale\n",
            "3             Marie Curie\n",
            "4           Rachel Carson\n",
            "5               John Snow\n",
            "6             Alan Turing\n",
            "7            Johann Gauss\n",
            "Name: Name, dtype: object\n"
          ]
        }
      ]
    },
    {
      "cell_type": "markdown",
      "source": [
        "CSV와 TSV로 저장하고 불러오기"
      ],
      "metadata": {
        "id": "FGcYlsct2g-m"
      }
    },
    {
      "cell_type": "code",
      "source": [
        "# C(comma)SV(tab으로 구분하면 TSV) 파일은 데이터를 쉼표로 구분한 파일로, 가장 유연한 데이터 저장 형식이다(범용성이 크다). 하지만 속도가 느리고 디스크 공간을 많이 차지함\n",
        "scientists.to_csv('../scientists_df_no_index.csv', index = False) #CSV는 데이터프레임의 행 번호(index)를 저장하기 때문에 첫번째 열에 열 이름 없이 행 번호만 나열됨. 이는 다시 판다스로 읽을 때 문제가 되므로 index = False 매개변수로 지정해줘야함"
      ],
      "metadata": {
        "id": "lGBzTC652mme"
      },
      "execution_count": null,
      "outputs": []
    },
    {
      "cell_type": "markdown",
      "source": [
        "엑셀로 저장하기"
      ],
      "metadata": {
        "id": "ID3KJbnl4sPc"
      }
    },
    {
      "cell_type": "code",
      "source": [
        "#엑셀은 색상과 기타 불필요한 정보가 많으므로 데이터 과학 분야에서는 잘 사용하지는 않음. 다만, 엑셀은 인기도가 정말 높으므로 작업해야한다면 해당 스크립트 언어를 배우는 것을 추천"
      ],
      "metadata": {
        "id": "bSIkCFKo4q3h"
      },
      "execution_count": null,
      "outputs": []
    },
    {
      "cell_type": "code",
      "source": [
        "names = scientists[\"Name\"] #to_excel 메서드는 시리즈에 제공되지 않으므로 열이 하나인 데이터프레임으로 변환해야함\n",
        "print(names)"
      ],
      "metadata": {
        "colab": {
          "base_uri": "https://localhost:8080/"
        },
        "id": "IH6a4zMy4hxK",
        "outputId": "a9b98813-8ee3-4d9d-9a57-0a9bda905419"
      },
      "execution_count": null,
      "outputs": [
        {
          "output_type": "stream",
          "name": "stdout",
          "text": [
            "0       Rosaline Franklin\n",
            "1          William Gosset\n",
            "2    Florence Nightingale\n",
            "3             Marie Curie\n",
            "4           Rachel Carson\n",
            "5               John Snow\n",
            "6             Alan Turing\n",
            "7            Johann Gauss\n",
            "Name: Name, dtype: object\n"
          ]
        }
      ]
    },
    {
      "cell_type": "code",
      "source": [
        "names_df = names.to_frame() #to_frame 메서드로 시리즈를 데이터프레임으로 변환"
      ],
      "metadata": {
        "id": "lWpS5OUp529e"
      },
      "execution_count": null,
      "outputs": []
    },
    {
      "cell_type": "code",
      "source": [
        "names_df.to_excel('../scientists_names_series_df.xls', engine = 'openpyxl') #openpyxl 엔진으로 오류없이 데이터프레임을 xls형으로 저장할 수 있음"
      ],
      "metadata": {
        "id": "LgjFGQeY6UOS"
      },
      "execution_count": null,
      "outputs": []
    },
    {
      "cell_type": "code",
      "source": [
        "scientists.to_excel(\"/scientists_df.xlsx\", sheet_name = \"scientists\", index = False) #sheet_name 매개변수로 엑셀파일의 특정 시트에 결과를 저장 할 수 있다."
      ],
      "metadata": {
        "id": "azNtar6j8Ccy"
      },
      "execution_count": null,
      "outputs": []
    },
    {
      "cell_type": "markdown",
      "source": [
        "다양한 형식으로 저장하기"
      ],
      "metadata": {
        "id": "SCalJZpD8bZG"
      }
    },
    {
      "cell_type": "code",
      "source": [
        "scientists.to_feather('/scientists.feather') #feather 파일은 데이터프레임을 R과 같은 다른 언어에서 읽을 수 있는 이진 객체로 저장할 때 사용하며 CSV보다 읽고 쓰는 속도 빠르다"
      ],
      "metadata": {
        "id": "NtwV2gGG8bMO"
      },
      "execution_count": null,
      "outputs": []
    },
    {
      "cell_type": "code",
      "source": [
        "sci_feather = pd.read_feather('/scientists.feather')\n",
        "print(sci_feather)"
      ],
      "metadata": {
        "colab": {
          "base_uri": "https://localhost:8080/"
        },
        "id": "0W32ZzcA6ygn",
        "outputId": "672c8c1a-8128-43c1-9f50-da6b8256d5de"
      },
      "execution_count": null,
      "outputs": [
        {
          "output_type": "stream",
          "name": "stdout",
          "text": [
            "                   Name        Born        Died  Age          Occupation  \\\n",
            "0     Rosaline Franklin  1920-07-25  1958-04-16   61             Chemist   \n",
            "1        William Gosset  1876-06-13  1937-10-16   45        Statistician   \n",
            "2  Florence Nightingale  1820-05-12  1910-08-13   37               Nurse   \n",
            "3           Marie Curie  1867-11-07  1934-07-04   77             Chemist   \n",
            "4         Rachel Carson  1907-05-27  1964-04-14   90           Biologist   \n",
            "5             John Snow  1813-03-15  1858-06-16   56           Physician   \n",
            "6           Alan Turing  1912-06-23  1954-06-07   66  Computer Scientist   \n",
            "7          Johann Gauss  1777-04-30  1855-02-23   41       Mathematician   \n",
            "\n",
            "     born_dt    died_dt   age_days age_days_assign  age_year_assign  \n",
            "0 1920-07-25 1958-04-16 13779 days      13779 days             37.0  \n",
            "1 1876-06-13 1937-10-16 22404 days      22404 days             61.0  \n",
            "2 1820-05-12 1910-08-13 32964 days      32964 days             90.0  \n",
            "3 1867-11-07 1934-07-04 24345 days      24345 days             66.0  \n",
            "4 1907-05-27 1964-04-14 20777 days      20777 days             56.0  \n",
            "5 1813-03-15 1858-06-16 16529 days      16529 days             45.0  \n",
            "6 1912-06-23 1954-06-07 15324 days      15324 days             41.0  \n",
            "7 1777-04-30 1855-02-23 28422 days      28422 days             77.0  \n"
          ]
        }
      ]
    },
    {
      "cell_type": "code",
      "source": [
        "# 파이썬의 딕셔너리 객체로 변환이 가능하다. 판다스 없이 시리즈나 df의 데이터를 사용해야 할 때 유용하다.\n",
        "sci_sub_dict = scientists.head(2)\n",
        "sci_dict = sci_sub_dict.to_dict() #to_dict() 메서드를 이용하여 딕셔너리로 변환가능\n",
        "\n",
        "import pprint #데이터를 보기 좋은 형식으로 출력하는 pprint 라이브러리\n",
        "pprint.pprint(sci_dict)"
      ],
      "metadata": {
        "colab": {
          "base_uri": "https://localhost:8080/"
        },
        "id": "MUnOc81X9Y56",
        "outputId": "784b5a48-0bb3-4651-f244-b38a7c6a8124"
      },
      "execution_count": null,
      "outputs": [
        {
          "output_type": "stream",
          "name": "stdout",
          "text": [
            "{'Age': {0: 61, 1: 45},\n",
            " 'Born': {0: '1920-07-25', 1: '1876-06-13'},\n",
            " 'Died': {0: '1958-04-16', 1: '1937-10-16'},\n",
            " 'Name': {0: 'Rosaline Franklin', 1: 'William Gosset'},\n",
            " 'Occupation': {0: 'Chemist', 1: 'Statistician'},\n",
            " 'age_days': {0: Timedelta('13779 days 00:00:00'),\n",
            "              1: Timedelta('22404 days 00:00:00')},\n",
            " 'age_days_assign': {0: Timedelta('13779 days 00:00:00'),\n",
            "                     1: Timedelta('22404 days 00:00:00')},\n",
            " 'age_year_assign': {0: 37.0, 1: 61.0},\n",
            " 'born_dt': {0: Timestamp('1920-07-25 00:00:00'),\n",
            "             1: Timestamp('1876-06-13 00:00:00')},\n",
            " 'died_dt': {0: Timestamp('1958-04-16 00:00:00'),\n",
            "             1: Timestamp('1937-10-16 00:00:00')}}\n"
          ]
        }
      ]
    },
    {
      "cell_type": "code",
      "source": [
        "sci_dict_df = pd.DataFrame.from_dict(sci_dict) #변환한 딕셔너리는 다시 판다스 데이터프레임으로 읽어올 수 있다.\n",
        "print(sci_dict_df) #날짜와 시간 정보를 변환할 때는 주의해야함. 단순히 딕셔너리를 복사, 붙여넣기 한다면 기존 데이터프레임과 같은 결과를 반환하지 않을 수 있음. 날짜를 처리해야 한다면 object와 같은 일반적인 형식으로 벼환하고 그 값을 다시 날짜로 변환해야 한다"
      ],
      "metadata": {
        "colab": {
          "base_uri": "https://localhost:8080/"
        },
        "id": "8yztbkBP-hZi",
        "outputId": "1e07ac54-b4c4-4c83-b846-f19d998b862f"
      },
      "execution_count": null,
      "outputs": [
        {
          "output_type": "stream",
          "name": "stdout",
          "text": [
            "                Name        Born        Died  Age    Occupation    born_dt  \\\n",
            "0  Rosaline Franklin  1920-07-25  1958-04-16   61       Chemist 1920-07-25   \n",
            "1     William Gosset  1876-06-13  1937-10-16   45  Statistician 1876-06-13   \n",
            "\n",
            "     died_dt   age_days age_days_assign  age_year_assign  \n",
            "0 1958-04-16 13779 days      13779 days             37.0  \n",
            "1 1937-10-16 22404 days      22404 days             61.0  \n"
          ]
        }
      ]
    },
    {
      "cell_type": "code",
      "source": [
        "# JSON 데이터는 날짜와 시간을 다시 읽을 수 있다는 장점이 있습니다. 매개변수 orient에 'records'를 인수로 전달하면 변수를 전달하거나 출력결과를 복사하고 붙여넣어 판다스로 다시 불러올 수 있다\n",
        "sci_json = sci_sub_dict.to_json(orient = 'records', indent = 2, date_format = \"iso\")\n",
        "pprint.pprint(sci_json)"
      ],
      "metadata": {
        "colab": {
          "base_uri": "https://localhost:8080/"
        },
        "id": "jxzvLaNkAuME",
        "outputId": "e4821fd9-03c0-4a4d-c4c0-9c5d47f7ac45"
      },
      "execution_count": null,
      "outputs": [
        {
          "output_type": "stream",
          "name": "stdout",
          "text": [
            "('[\\n'\n",
            " '  {\\n'\n",
            " '    \"Name\":\"Rosaline Franklin\",\\n'\n",
            " '    \"Born\":\"1920-07-25\",\\n'\n",
            " '    \"Died\":\"1958-04-16\",\\n'\n",
            " '    \"Age\":61,\\n'\n",
            " '    \"Occupation\":\"Chemist\",\\n'\n",
            " '    \"born_dt\":\"1920-07-25T00:00:00.000\",\\n'\n",
            " '    \"died_dt\":\"1958-04-16T00:00:00.000\",\\n'\n",
            " '    \"age_days\":\"P13779DT0H0M0S\",\\n'\n",
            " '    \"age_days_assign\":\"P13779DT0H0M0S\",\\n'\n",
            " '    \"age_year_assign\":37.0\\n'\n",
            " '  },\\n'\n",
            " '  {\\n'\n",
            " '    \"Name\":\"William Gosset\",\\n'\n",
            " '    \"Born\":\"1876-06-13\",\\n'\n",
            " '    \"Died\":\"1937-10-16\",\\n'\n",
            " '    \"Age\":45,\\n'\n",
            " '    \"Occupation\":\"Statistician\",\\n'\n",
            " '    \"born_dt\":\"1876-06-13T00:00:00.000\",\\n'\n",
            " '    \"died_dt\":\"1937-10-16T00:00:00.000\",\\n'\n",
            " '    \"age_days\":\"P22404DT0H0M0S\",\\n'\n",
            " '    \"age_days_assign\":\"P22404DT0H0M0S\",\\n'\n",
            " '    \"age_year_assign\":61.0\\n'\n",
            " '  }\\n'\n",
            " ']')\n"
          ]
        }
      ]
    },
    {
      "cell_type": "code",
      "source": [
        "sci_json_df = pd.read_json(\n",
        " '[\\n'\n",
        " '  {\\n'\n",
        " '    \"Name\":\"Rosaline Franklin\",\\n'\n",
        " '    \"Born\":\"1920-07-25\",\\n'\n",
        " '    \"Died\":\"1958-04-16\",\\n'\n",
        " '    \"Age\":61,\\n'\n",
        " '    \"Occupation\":\"Chemist\",\\n'\n",
        " '    \"born_dt\":\"1920-07-25T00:00:00.000\",\\n'\n",
        " '    \"died_dt\":\"1958-04-16T00:00:00.000\",\\n'\n",
        " '    \"age_days\":\"P13779DT0H0M0S\",\\n'\n",
        " '    \"age_days_assign\":\"P13779DT0H0M0S\",\\n'\n",
        " '    \"age_year_assign\":37.0\\n'\n",
        " '  },\\n'\n",
        " '  {\\n'\n",
        " '    \"Name\":\"William Gosset\",\\n'\n",
        " '    \"Born\":\"1876-06-13\",\\n'\n",
        " '    \"Died\":\"1937-10-16\",\\n'\n",
        " '    \"Age\":45,\\n'\n",
        " '    \"Occupation\":\"Statistician\",\\n'\n",
        " '    \"born_dt\":\"1876-06-13T00:00:00.000\",\\n'\n",
        " '    \"died_dt\":\"1937-10-16T00:00:00.000\",\\n'\n",
        " '    \"age_days\":\"P22404DT0H0M0S\",\\n'\n",
        " '    \"age_days_assign\":\"P22404DT0H0M0S\",\\n'\n",
        " '    \"age_year_assign\":61.0\\n'\n",
        " '  }\\n'\n",
        " ']', orient = \"records\"\n",
        " )\n",
        "print(sci_json_df)"
      ],
      "metadata": {
        "colab": {
          "base_uri": "https://localhost:8080/"
        },
        "id": "UYuIDE4nBv4C",
        "outputId": "e0ea0d8b-5072-420e-ebf8-2d2d649c8a1d"
      },
      "execution_count": null,
      "outputs": [
        {
          "output_type": "stream",
          "name": "stdout",
          "text": [
            "                Name        Born        Died  Age    Occupation  \\\n",
            "0  Rosaline Franklin  1920-07-25  1958-04-16   61       Chemist   \n",
            "1     William Gosset  1876-06-13  1937-10-16   45  Statistician   \n",
            "\n",
            "                   born_dt                  died_dt        age_days  \\\n",
            "0  1920-07-25T00:00:00.000  1958-04-16T00:00:00.000  P13779DT0H0M0S   \n",
            "1  1876-06-13T00:00:00.000  1937-10-16T00:00:00.000  P22404DT0H0M0S   \n",
            "\n",
            "  age_days_assign  age_year_assign  \n",
            "0  P13779DT0H0M0S               37  \n",
            "1  P22404DT0H0M0S               61  \n"
          ]
        },
        {
          "output_type": "stream",
          "name": "stderr",
          "text": [
            "/tmp/ipython-input-90-145429224.py:1: FutureWarning: Passing literal json to 'read_json' is deprecated and will be removed in a future version. To read from a literal string, wrap it in a 'StringIO' object.\n",
            "  sci_json_df = pd.read_json('[\\n'\n"
          ]
        }
      ]
    },
    {
      "cell_type": "code",
      "source": [
        "print(sci_json_df.dtypes) #날짜를 ISO 8601 문자열 형식으로 변환했기 때문에 born_dt, died_dt 등 날짜와 시간 형식이 원본데이터와 다름"
      ],
      "metadata": {
        "colab": {
          "base_uri": "https://localhost:8080/"
        },
        "id": "It5UfZXTCOLA",
        "outputId": "dbedaf02-2a6d-4293-bc40-a50c910fd295"
      },
      "execution_count": null,
      "outputs": [
        {
          "output_type": "stream",
          "name": "stdout",
          "text": [
            "Name               object\n",
            "Born               object\n",
            "Died               object\n",
            "Age                 int64\n",
            "Occupation         object\n",
            "born_dt            object\n",
            "died_dt            object\n",
            "age_days           object\n",
            "age_days_assign    object\n",
            "age_year_assign     int64\n",
            "dtype: object\n"
          ]
        }
      ]
    },
    {
      "cell_type": "code",
      "source": [
        "sci_json_df['died_at_json']= pd.to_datetime(sci_json_dt[\"died_at\"])\n",
        "print(sci_json_df)"
      ],
      "metadata": {
        "colab": {
          "base_uri": "https://localhost:8080/",
          "height": 166
        },
        "id": "qa9OxUJtCifZ",
        "outputId": "f75fdeab-42f8-4637-a8d6-814c621e9315"
      },
      "execution_count": null,
      "outputs": [
        {
          "output_type": "error",
          "ename": "NameError",
          "evalue": "name 'sci_json_dt' is not defined",
          "traceback": [
            "\u001b[0;31m---------------------------------------------------------------------------\u001b[0m",
            "\u001b[0;31mNameError\u001b[0m                                 Traceback (most recent call last)",
            "\u001b[0;32m/tmp/ipython-input-92-3773979129.py\u001b[0m in \u001b[0;36m<cell line: 0>\u001b[0;34m()\u001b[0m\n\u001b[0;32m----> 1\u001b[0;31m \u001b[0msci_json_df\u001b[0m\u001b[0;34m[\u001b[0m\u001b[0;34m'died_at_json'\u001b[0m\u001b[0;34m]\u001b[0m\u001b[0;34m=\u001b[0m \u001b[0mpd\u001b[0m\u001b[0;34m.\u001b[0m\u001b[0mto_datetime\u001b[0m\u001b[0;34m(\u001b[0m\u001b[0msci_json_dt\u001b[0m\u001b[0;34m[\u001b[0m\u001b[0;34m\"died_at\"\u001b[0m\u001b[0;34m]\u001b[0m\u001b[0;34m)\u001b[0m\u001b[0;34m\u001b[0m\u001b[0;34m\u001b[0m\u001b[0m\n\u001b[0m\u001b[1;32m      2\u001b[0m \u001b[0mprint\u001b[0m\u001b[0;34m(\u001b[0m\u001b[0msci_json_df\u001b[0m\u001b[0;34m)\u001b[0m\u001b[0;34m\u001b[0m\u001b[0;34m\u001b[0m\u001b[0m\n",
            "\u001b[0;31mNameError\u001b[0m: name 'sci_json_dt' is not defined"
          ]
        }
      ]
    }
  ]
}
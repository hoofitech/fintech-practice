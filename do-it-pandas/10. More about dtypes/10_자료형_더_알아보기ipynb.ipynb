{
  "nbformat": 4,
  "nbformat_minor": 0,
  "metadata": {
    "colab": {
      "provenance": [],
      "authorship_tag": "ABX9TyNmoLR+1eqm8tItMum/1WMT",
      "include_colab_link": true
    },
    "kernelspec": {
      "name": "python3",
      "display_name": "Python 3"
    },
    "language_info": {
      "name": "python"
    }
  },
  "cells": [
    {
      "cell_type": "markdown",
      "metadata": {
        "id": "view-in-github",
        "colab_type": "text"
      },
      "source": [
        "<a href=\"https://colab.research.google.com/github/hoofitech/fintech-practice/blob/main/do-it-pandas/10.%20More%20about%20dtypes/10_%EC%9E%90%EB%A3%8C%ED%98%95_%EB%8D%94_%EC%95%8C%EC%95%84%EB%B3%B4%EA%B8%B0ipynb.ipynb\" target=\"_parent\"><img src=\"https://colab.research.google.com/assets/colab-badge.svg\" alt=\"Open In Colab\"/></a>"
      ]
    },
    {
      "cell_type": "markdown",
      "source": [
        "# 10-1 자료형 살펴보기"
      ],
      "metadata": {
        "id": "JHue3HhEbA4K"
      }
    },
    {
      "cell_type": "code",
      "execution_count": null,
      "metadata": {
        "id": "n4VdPSy4azL2"
      },
      "outputs": [],
      "source": [
        "#1. tips 데이터셋을 사용한다\n",
        "import pandas as pd\n",
        "import seaborn as sns\n",
        "\n",
        "tips = sns.load_dataset(\"tips\")"
      ]
    },
    {
      "cell_type": "code",
      "source": [
        "#2. dtypes 속성으로 각 열 데이터의 자료형을 알아보기\n",
        "print(tips.dtypes)"
      ],
      "metadata": {
        "colab": {
          "base_uri": "https://localhost:8080/"
        },
        "id": "bmWQuwVjb6q2",
        "outputId": "0a35aa9f-eada-4e69-92c5-afa60e44c81a"
      },
      "execution_count": null,
      "outputs": [
        {
          "output_type": "stream",
          "name": "stdout",
          "text": [
            "total_bill     float64\n",
            "tip            float64\n",
            "sex           category\n",
            "smoker        category\n",
            "day           category\n",
            "time          category\n",
            "size             int64\n",
            "dtype: object\n"
          ]
        }
      ]
    },
    {
      "cell_type": "markdown",
      "source": [
        "* int64 : 소수점이 없는 숫자\n",
        "* float64 : 소수점이 있는 숫자\n",
        "* category : 범주형 번수"
      ],
      "metadata": {
        "id": "ZhXQ213-cicH"
      }
    },
    {
      "cell_type": "markdown",
      "source": [
        "# 10-2. 자료형 변환하기\n"
      ],
      "metadata": {
        "id": "yS3ZZ0fHc6R3"
      }
    },
    {
      "cell_type": "markdown",
      "source": [
        "### 문자열로 변환하기"
      ],
      "metadata": {
        "id": "hflbCut7dK_w"
      }
    },
    {
      "cell_type": "markdown",
      "source": [
        "* 변수가 숫자여도 문자열로 처리하는 것이 유리할 때가 있음\n",
        "* id열은 평균을 계산하는 등 산술 연산을 적용하는 것이 무의미함\n",
        "* 열(시리즈)에서 astype() 메서드를 호출 후 str, float, int, complex, bool 매개변수 dtype에 전달"
      ],
      "metadata": {
        "id": "hG_UIB2MdYM_"
      }
    },
    {
      "cell_type": "code",
      "source": [
        "#1. astype() 메서드에 'str'을 전달하여 자료형을 변환한 결과 열을 새로운 열 sex_str로 저장\n",
        "tips['sex_str'] = tips['sex'].astype('str')\n",
        "print(tips.dtypes)"
      ],
      "metadata": {
        "colab": {
          "base_uri": "https://localhost:8080/"
        },
        "id": "Z1_IQxRidHun",
        "outputId": "c9eb659f-78d9-434b-e89a-1427c31a00db"
      },
      "execution_count": null,
      "outputs": [
        {
          "output_type": "stream",
          "name": "stdout",
          "text": [
            "total_bill     float64\n",
            "tip            float64\n",
            "sex           category\n",
            "smoker        category\n",
            "day           category\n",
            "time          category\n",
            "size             int64\n",
            "sex_str         object\n",
            "dtype: object\n"
          ]
        }
      ]
    },
    {
      "cell_type": "markdown",
      "source": [
        "### 숫자로 변환하기"
      ],
      "metadata": {
        "id": "FPTu_euSeyuL"
      }
    },
    {
      "cell_type": "code",
      "source": [
        "#1. float64형으로 변환할 때는 'float'를 astype() 메서드에 전달\n",
        "tips['total_bill'] = tips['total_bill'].astype('float')\n",
        "print(tips.dtypes)"
      ],
      "metadata": {
        "colab": {
          "base_uri": "https://localhost:8080/"
        },
        "id": "oW8m4JDsew6J",
        "outputId": "61eb49e0-9d9f-42e2-d989-a1887e7ae0e8"
      },
      "execution_count": null,
      "outputs": [
        {
          "output_type": "stream",
          "name": "stdout",
          "text": [
            "total_bill     float64\n",
            "tip            float64\n",
            "sex           category\n",
            "smoker        category\n",
            "day           category\n",
            "time          category\n",
            "size             int64\n",
            "sex_str         object\n",
            "dtype: object\n"
          ]
        }
      ]
    },
    {
      "cell_type": "markdown",
      "source": [
        "### 숫자형으로 변환하는 to_numeric() 함수 사용하기"
      ],
      "metadata": {
        "id": "8EzO7V8If1bS"
      }
    },
    {
      "cell_type": "markdown",
      "source": [
        "* 변수를 int나 float와 같은 숫자형으로 변환할 때는 판다스의 to_numeric() 함수를 사용\n",
        "* 데이터프레임의 각 열은 dtype이 모두 같아야함\n",
        "* 숫자인 열에 문자열이 일부 있다면 전체 열의 자료형은 숫자형이 아닌 문자열이 된다.\n",
        "* 숫자 열에 NaN이 아닌 'missing' 또는 'null'로 결측값이 표현되어있다면 자료형은 object가 됨"
      ],
      "metadata": {
        "id": "ptUE5cWUgDBa"
      }
    },
    {
      "cell_type": "code",
      "source": [
        "#1. tips 데이터셋의 첫 10개 행을 추출하고 total_bill 열의 몇 개 값을 'missing'으로 바꾼다\n",
        "tips_sub_miss = tips.head(10).copy() # 새로운 데이터프레임으로 복사\n",
        "tips_sub_miss.loc[[1,3,5,7], 'total_bill'] = 'missing'\n",
        "\n",
        "print(tips_sub_miss)"
      ],
      "metadata": {
        "colab": {
          "base_uri": "https://localhost:8080/"
        },
        "id": "iBIwBGdLf96F",
        "outputId": "96c7ce5b-2caf-4936-fa23-e7097bc47e6c"
      },
      "execution_count": null,
      "outputs": [
        {
          "output_type": "stream",
          "name": "stdout",
          "text": [
            "  total_bill   tip     sex smoker  day    time  size sex_str\n",
            "0      16.99  1.01  Female     No  Sun  Dinner     2  Female\n",
            "1    missing  1.66    Male     No  Sun  Dinner     3    Male\n",
            "2      21.01  3.50    Male     No  Sun  Dinner     3    Male\n",
            "3    missing  3.31    Male     No  Sun  Dinner     2    Male\n",
            "4      24.59  3.61  Female     No  Sun  Dinner     4  Female\n",
            "5    missing  4.71    Male     No  Sun  Dinner     4    Male\n",
            "6       8.77  2.00    Male     No  Sun  Dinner     2    Male\n",
            "7    missing  3.12    Male     No  Sun  Dinner     4    Male\n",
            "8      15.04  1.96    Male     No  Sun  Dinner     2    Male\n",
            "9      14.78  3.23    Male     No  Sun  Dinner     2    Male\n"
          ]
        },
        {
          "output_type": "stream",
          "name": "stderr",
          "text": [
            "/tmp/ipython-input-8-3509031109.py:3: FutureWarning: Setting an item of incompatible dtype is deprecated and will raise an error in a future version of pandas. Value 'missing' has dtype incompatible with float64, please explicitly cast to a compatible dtype first.\n",
            "  tips_sub_miss.loc[[1,3,5,7], 'total_bill'] = 'missing'\n"
          ]
        }
      ]
    },
    {
      "cell_type": "code",
      "source": [
        "#2. dtypes를 출력하면 total_bill 열이 float64형에서 object형으로 변경됨\n",
        "print(tips_sub_miss.dtypes)"
      ],
      "metadata": {
        "colab": {
          "base_uri": "https://localhost:8080/"
        },
        "id": "DbJiqsv-fxZA",
        "outputId": "8921f938-2069-461b-fa9b-79a6fbfdd689"
      },
      "execution_count": null,
      "outputs": [
        {
          "output_type": "stream",
          "name": "stdout",
          "text": [
            "total_bill      object\n",
            "tip            float64\n",
            "sex           category\n",
            "smoker        category\n",
            "day           category\n",
            "time          category\n",
            "size             int64\n",
            "sex_str         object\n",
            "dtype: object\n"
          ]
        }
      ]
    },
    {
      "cell_type": "code",
      "source": [
        "# to_numeric 메서드를 사용하여 total_bill 열을 다시 float64형으로 변환하려고 하면 오류가 발생함\n",
        "# 판다스는 'missing'이라는 문자열을 부동 소수점으로 변환하는 방법을 모르기 때문\n",
        "'''pd.to_numeric(tips_sub_miss['total_bill'])\n",
        "\n",
        "ValueError: Unable to parse string \"missing\" at position\n",
        "'''"
      ],
      "metadata": {
        "colab": {
          "base_uri": "https://localhost:8080/",
          "height": 35
        },
        "id": "BemvBrrxlAoV",
        "outputId": "800f3c3c-1169-4b99-8780-54781120aefb"
      },
      "execution_count": null,
      "outputs": [
        {
          "output_type": "execute_result",
          "data": {
            "text/plain": [
              "'pd.to_numeric(tips_sub_miss[\\'total_bill\\'])\\n\\nValueError: Unable to parse string \"missing\" at position \\n'"
            ],
            "application/vnd.google.colaboratory.intrinsic+json": {
              "type": "string"
            }
          },
          "metadata": {},
          "execution_count": 13
        }
      ]
    },
    {
      "cell_type": "markdown",
      "source": [
        "3. to_numeric() 함수에는 숫자로 변환할 수 없는 값이 있을 때 쓰는 매개변수 errors가 있다\n",
        "* raise : 숫자로 변환할 수 없는 값을 발견하면 오류가 발생, 기본값이다\n",
        "* coerce : 변환할 수 없는 값이 있을 때 NaN으로 값을 설정\n",
        "* ignore : 변환할 수 없는 값이 있을 때 해당 값을 그대로 사용"
      ],
      "metadata": {
        "id": "DIgXhc4XlsEs"
      }
    },
    {
      "cell_type": "code",
      "source": [
        "# 'ignore' 부터 실습. 오류가 발생하지는 않지만 열의 자료형도 변하지 않는다\n",
        "tips_sub_missing['total_bill'] = pd.to_numeric(tips_sub_miss['total_bill'],\n",
        "                                               errors = 'ignore')\n",
        "print(tips_sub_miss)"
      ],
      "metadata": {
        "colab": {
          "base_uri": "https://localhost:8080/"
        },
        "id": "dlA9XNGOk2dp",
        "outputId": "30531a54-6b40-4ab2-a5fe-52f5c54bb206"
      },
      "execution_count": null,
      "outputs": [
        {
          "output_type": "stream",
          "name": "stdout",
          "text": [
            "  total_bill   tip     sex smoker  day    time  size sex_str\n",
            "0      16.99  1.01  Female     No  Sun  Dinner     2  Female\n",
            "1    missing  1.66    Male     No  Sun  Dinner     3    Male\n",
            "2      21.01  3.50    Male     No  Sun  Dinner     3    Male\n",
            "3    missing  3.31    Male     No  Sun  Dinner     2    Male\n",
            "4      24.59  3.61  Female     No  Sun  Dinner     4  Female\n",
            "5    missing  4.71    Male     No  Sun  Dinner     4    Male\n",
            "6       8.77  2.00    Male     No  Sun  Dinner     2    Male\n",
            "7    missing  3.12    Male     No  Sun  Dinner     4    Male\n",
            "8      15.04  1.96    Male     No  Sun  Dinner     2    Male\n",
            "9      14.78  3.23    Male     No  Sun  Dinner     2    Male\n"
          ]
        },
        {
          "output_type": "stream",
          "name": "stderr",
          "text": [
            "/tmp/ipython-input-15-966224978.py:2: FutureWarning: errors='ignore' is deprecated and will raise in a future version. Use to_numeric without passing `errors` and catch exceptions explicitly instead\n",
            "  tips_sub_missing['total_bill'] = pd.to_numeric(tips_sub_miss['total_bill'],\n"
          ]
        }
      ]
    },
    {
      "cell_type": "code",
      "source": [
        "print(tips_sub_missing.dtypes) #여전히 자료형은 문자열이다."
      ],
      "metadata": {
        "colab": {
          "base_uri": "https://localhost:8080/"
        },
        "id": "TF73lN6Zm4Pu",
        "outputId": "17008577-2f25-4515-9d27-6d4394b57ae5"
      },
      "execution_count": null,
      "outputs": [
        {
          "output_type": "stream",
          "name": "stdout",
          "text": [
            "total_bill      object\n",
            "tip            float64\n",
            "sex           category\n",
            "smoker        category\n",
            "day           category\n",
            "time          category\n",
            "size             int64\n",
            "sex_str         object\n",
            "dtype: object\n"
          ]
        }
      ]
    },
    {
      "cell_type": "code",
      "source": [
        "#4. 'coerce'를 인수로 전달. 'missing' 문자열이 모두 NaN으로 대체되고 total_bill 자료형이 float4형으로 바뀜\n",
        "tips_sub_miss['total_bill'] = pd.to_numeric(tips_sub_miss['total_bill'],\n",
        "                                            errors = 'coerce')\n",
        "print(tips_sub_miss)"
      ],
      "metadata": {
        "colab": {
          "base_uri": "https://localhost:8080/"
        },
        "id": "MKD-H9Jgnd5p",
        "outputId": "4b0d1272-d6de-4112-ee7b-caab8afe7c87"
      },
      "execution_count": null,
      "outputs": [
        {
          "output_type": "stream",
          "name": "stdout",
          "text": [
            "   total_bill   tip     sex smoker  day    time  size sex_str\n",
            "0       16.99  1.01  Female     No  Sun  Dinner     2  Female\n",
            "1         NaN  1.66    Male     No  Sun  Dinner     3    Male\n",
            "2       21.01  3.50    Male     No  Sun  Dinner     3    Male\n",
            "3         NaN  3.31    Male     No  Sun  Dinner     2    Male\n",
            "4       24.59  3.61  Female     No  Sun  Dinner     4  Female\n",
            "5         NaN  4.71    Male     No  Sun  Dinner     4    Male\n",
            "6        8.77  2.00    Male     No  Sun  Dinner     2    Male\n",
            "7         NaN  3.12    Male     No  Sun  Dinner     4    Male\n",
            "8       15.04  1.96    Male     No  Sun  Dinner     2    Male\n",
            "9       14.78  3.23    Male     No  Sun  Dinner     2    Male\n"
          ]
        }
      ]
    },
    {
      "cell_type": "code",
      "source": [
        "print(tips_sub_miss.dtypes)"
      ],
      "metadata": {
        "colab": {
          "base_uri": "https://localhost:8080/"
        },
        "id": "Evpd70zWn8d4",
        "outputId": "f6bf04be-4057-4d24-bb96-4cf46c2b5a6d"
      },
      "execution_count": null,
      "outputs": [
        {
          "output_type": "stream",
          "name": "stdout",
          "text": [
            "total_bill     float64\n",
            "tip            float64\n",
            "sex           category\n",
            "smoker        category\n",
            "day           category\n",
            "time          category\n",
            "size             int64\n",
            "sex_str         object\n",
            "dtype: object\n"
          ]
        }
      ]
    },
    {
      "cell_type": "markdown",
      "source": [
        "# 10-3. 범주형 데이터 알아보기"
      ],
      "metadata": {
        "id": "ZlrqrD_HoMGA"
      }
    },
    {
      "cell_type": "markdown",
      "source": [
        "* 같은 문자열이 반복되어 데이터를 구성할 때는 category형을 사용하면 메모리를 효율적으로 관리하고 데이터를 빠르게 처리할 수 있다\n",
        "* 열의 값에 순서가 있다면 category형이 적합\n",
        "* 통계 모델을 사용하는 등 범주형 데이터를 활용할 때 category 형이 적합하다"
      ],
      "metadata": {
        "id": "WB1N0ZFroVyR"
      }
    },
    {
      "cell_type": "markdown",
      "source": [
        "### 범주형으로 변환하기"
      ],
      "metadata": {
        "id": "wtqbv3pgosAG"
      }
    },
    {
      "cell_type": "code",
      "source": [
        "#1. 범주형으로 변환하려면 'category'를 astype() 메서드에 인수로 전달하면 된다.\n",
        "# tips 데이터셋의 sex열을 문자열로 변환했다가 다시 범주형으로 변환. 메모리 사용량도 확인\n",
        "tips['sex'] = tips['sex'].astype('str')\n",
        "print(tips.info())"
      ],
      "metadata": {
        "colab": {
          "base_uri": "https://localhost:8080/"
        },
        "id": "Bd7UYzJ2oK_C",
        "outputId": "d13bdfc6-43ea-4e5d-ee27-167e494c7b2a"
      },
      "execution_count": null,
      "outputs": [
        {
          "output_type": "stream",
          "name": "stdout",
          "text": [
            "<class 'pandas.core.frame.DataFrame'>\n",
            "RangeIndex: 244 entries, 0 to 243\n",
            "Data columns (total 8 columns):\n",
            " #   Column      Non-Null Count  Dtype   \n",
            "---  ------      --------------  -----   \n",
            " 0   total_bill  244 non-null    float64 \n",
            " 1   tip         244 non-null    float64 \n",
            " 2   sex         244 non-null    object  \n",
            " 3   smoker      244 non-null    category\n",
            " 4   day         244 non-null    category\n",
            " 5   time        244 non-null    category\n",
            " 6   size        244 non-null    int64   \n",
            " 7   sex_str     244 non-null    object  \n",
            "dtypes: category(3), float64(2), int64(1), object(2)\n",
            "memory usage: 10.8+ KB\n",
            "None\n"
          ]
        }
      ]
    },
    {
      "cell_type": "code",
      "source": [
        "#2. astype()에 'category'를 전달하여 sex열의 자료형을 범주형으로 변환\n",
        "tips['sex'] = tips['sex'].astype('category')\n",
        "print(tips.info()) #메모리 효율성도 좋은 것을 확인"
      ],
      "metadata": {
        "colab": {
          "base_uri": "https://localhost:8080/"
        },
        "id": "jf7mnHtFpXLD",
        "outputId": "63e85229-e65a-4705-f3ad-e3da6846e29e"
      },
      "execution_count": null,
      "outputs": [
        {
          "output_type": "stream",
          "name": "stdout",
          "text": [
            "<class 'pandas.core.frame.DataFrame'>\n",
            "RangeIndex: 244 entries, 0 to 243\n",
            "Data columns (total 8 columns):\n",
            " #   Column      Non-Null Count  Dtype   \n",
            "---  ------      --------------  -----   \n",
            " 0   total_bill  244 non-null    float64 \n",
            " 1   tip         244 non-null    float64 \n",
            " 2   sex         244 non-null    category\n",
            " 3   smoker      244 non-null    category\n",
            " 4   day         244 non-null    category\n",
            " 5   time        244 non-null    category\n",
            " 6   size        244 non-null    int64   \n",
            " 7   sex_str     244 non-null    object  \n",
            "dtypes: category(4), float64(2), int64(1), object(1)\n",
            "memory usage: 9.3+ KB\n",
            "None\n"
          ]
        }
      ]
    },
    {
      "cell_type": "markdown",
      "source": [
        "## 범주형 데이터 다루기"
      ],
      "metadata": {
        "id": "Hgo-_LWOqQK8"
      }
    },
    {
      "cell_type": "markdown",
      "source": [
        "| 번호 | 메서드 (API)                                | 설명                      |\n",
        "| -- | ---------------------------------------- | ----------------------- |\n",
        "| 1  | `.cat.ordered`                           | 범주의 정렬 여부           |\n",
        "| 2  | `.cat.categories`                        | 범주형 시리즈의 모든 카테고리 목록 반환  |\n",
        "| 3  | `.cat.codes`                             | 각 값이 속한 카테고리의 정수 코드 반환  |\n",
        "| 4  | `.cat.rename_categories(new_categories)` | 카테고리 이름 변경              |\n",
        "| 5  | `.cat.reorder_categories(new_order)`     | 카테고리 순서 재지정             |\n",
        "| 6  | `.cat.add_categories(new_categories)`    | 새 카테고리 추가               |\n",
        "| 7  | `.cat.remove_categories(removals)`       | 지정한 카테고리 제거             |\n",
        "| 8  | `.cat.remove_unused_categories()`        | 사용되지 않는 카테고리 제거         |\n",
        "| 9  | `.cat.set_categories(new_categories)`    | 카테고리 목록을 새로운 것으로 완전히 설정 |\n",
        "| 10 | `.cat.as_ordered()`                      | 범주형을 순서형으로 변환           |\n",
        "| 11 | `.cat.as_unordered()`                    | 순서형 범주를 비순서형으로 변환       |\n"
      ],
      "metadata": {
        "id": "pyUjWTszqT07"
      }
    }
  ]
}
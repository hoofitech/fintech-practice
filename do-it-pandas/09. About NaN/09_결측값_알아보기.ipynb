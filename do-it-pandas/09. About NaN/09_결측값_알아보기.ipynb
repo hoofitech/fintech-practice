{
  "nbformat": 4,
  "nbformat_minor": 0,
  "metadata": {
    "colab": {
      "provenance": [],
      "authorship_tag": "ABX9TyM/GBAL7Z/DE8XFbJ8VhQka",
      "include_colab_link": true
    },
    "kernelspec": {
      "name": "python3",
      "display_name": "Python 3"
    },
    "language_info": {
      "name": "python"
    }
  },
  "cells": [
    {
      "cell_type": "markdown",
      "metadata": {
        "id": "view-in-github",
        "colab_type": "text"
      },
      "source": [
        "<a href=\"https://colab.research.google.com/github/hoofitech/fintech-practice/blob/main/do-it-pandas/09.%20About%20NaN/09_%EA%B2%B0%EC%B8%A1%EA%B0%92_%EC%95%8C%EC%95%84%EB%B3%B4%EA%B8%B0.ipynb\" target=\"_parent\"><img src=\"https://colab.research.google.com/assets/colab-badge.svg\" alt=\"Open In Colab\"/></a>"
      ]
    },
    {
      "cell_type": "markdown",
      "source": [
        "#09-1. 결측값이란?"
      ],
      "metadata": {
        "id": "ABPao3w6iXlb"
      }
    },
    {
      "cell_type": "markdown",
      "source": [
        "* 판다스의 NaN는 넘파이의 결측값에서 유래했다\n",
        "* NaN, NAN, nan과 같이 표시할 수 있다."
      ],
      "metadata": {
        "id": "nFmYwz0miz2N"
      }
    },
    {
      "cell_type": "code",
      "source": [
        "#결측값은 0,''과는 다른 개념. '같다'라는 개념도 없다.\n",
        "import numpy as np\n",
        "'''print(NaN == True)\n",
        "print(NaN == 0)\n",
        "print(NaN == '')\n",
        "print(NaN == NaN)\n",
        "print(NaN == NAN)\n",
        "print(NaN == nan)\n",
        "print(nan == NAN)'''\n",
        "#np.nan을 가장 흔히 사용함"
      ],
      "metadata": {
        "id": "Ysr-aBhSjY23",
        "colab": {
          "base_uri": "https://localhost:8080/",
          "height": 35
        },
        "outputId": "ea7ac727-72e0-4768-8df3-cdf317aabdca"
      },
      "execution_count": null,
      "outputs": [
        {
          "output_type": "execute_result",
          "data": {
            "text/plain": [
              "\"print(NaN == True)\\nprint(NaN == 0)\\nprint(NaN == '')\\nprint(NaN == NaN)\\nprint(NaN == NAN)\\nprint(NaN == nan)\\nprint(nan == NAN)\""
            ],
            "application/vnd.google.colaboratory.intrinsic+json": {
              "type": "string"
            }
          },
          "metadata": {},
          "execution_count": 5
        }
      ]
    },
    {
      "cell_type": "code",
      "source": [
        "# 판다스의 isnull() 메서드로 결측값을 확인할 수 있다.\n",
        "import pandas as pd\n",
        "\n",
        "print(pd.isnull(np.nan))"
      ],
      "metadata": {
        "colab": {
          "base_uri": "https://localhost:8080/"
        },
        "id": "dNIfWgy5khhG",
        "outputId": "bec4bca9-97ee-430a-9dad-ea438bb064bf"
      },
      "execution_count": null,
      "outputs": [
        {
          "output_type": "stream",
          "name": "stdout",
          "text": [
            "True\n"
          ]
        }
      ]
    },
    {
      "cell_type": "code",
      "source": [
        "# 결측값이 아닌지 검사하는 notnull() 메서드도 있다.\n",
        "print(pd.notnull(np.nan))\n",
        "print(pd.notnull(42))\n",
        "print(pd.notnull('missing'))"
      ],
      "metadata": {
        "colab": {
          "base_uri": "https://localhost:8080/"
        },
        "id": "-AZzn1J3kyFw",
        "outputId": "76490f2e-281f-46e4-ad75-2de737543124"
      },
      "execution_count": null,
      "outputs": [
        {
          "output_type": "stream",
          "name": "stdout",
          "text": [
            "False\n",
            "True\n",
            "True\n"
          ]
        }
      ]
    },
    {
      "cell_type": "markdown",
      "source": [
        "# 09-2. 결측값은 왜 생길까?"
      ],
      "metadata": {
        "id": "F1uE8d7rlHKH"
      }
    },
    {
      "cell_type": "markdown",
      "source": [
        "* 판다스는 데이터를 불러올 때 자동으로 빠진 데이터를 NaN으로 대체하여 데이터프레임을 반환\n",
        "* read_csv() 함수로 불러올 때 3가지 매개변수가 있다.\n",
        "* 매개변수 na_values: 데이터의 특정 값을 결측값 또는 NaN값으로 처리할 수 있다. na_values =[99]와 같이 사용\n",
        "* 매개변수 keep_default_na : 결측값으로 처리해야 하는 값(na_values로 지정한 값, 빈 문자열)의 종류에 기본 결측값을 포함할지 True, False로 설정. 기본값은 True. False로 설정하면 na_values에 지정한 값만 결측값으로 처리\n",
        "* 매개변수 na_filter : 결측값을 처리할지 결정하는 매개변수. 기본값은 True이며 결측값을 NaN으로 대체하겠다는 뜻. na_filter를 False로 성정하면 어떤 값도 결측값으로 처리하지 않는다."
      ],
      "metadata": {
        "id": "BRIE79uHlKmn"
      }
    },
    {
      "cell_type": "code",
      "source": [
        "# read_csv()에 데이터 파일 위치를 전달하고 나머지 매개변수는 설정하지 않고 기본값을 사용하여 데이터를 불러옴\n",
        "visited_file = 'survey_visited.csv'\n",
        "print(pd.read_csv(visited_file))"
      ],
      "metadata": {
        "colab": {
          "base_uri": "https://localhost:8080/"
        },
        "id": "cQ1if2sx80lU",
        "outputId": "1ded24d4-5419-44a1-d85c-b208f7ee4427"
      },
      "execution_count": null,
      "outputs": [
        {
          "output_type": "stream",
          "name": "stdout",
          "text": [
            "   ident   site       dated\n",
            "0    619   DR-1  1927-02-08\n",
            "1    622   DR-1  1927-02-10\n",
            "2    734   DR-3  1939-01-07\n",
            "3    735   DR-3  1930-01-12\n",
            "4    751   DR-3  1930-02-26\n",
            "5    752   DR-3         NaN\n",
            "6    837  MSK-4  1932-01-14\n",
            "7    844   DR-1  1932-03-22\n"
          ]
        }
      ]
    },
    {
      "cell_type": "code",
      "source": [
        "# keep_default_na를 False로 설정하여 기본적으로 결측값으로 보는 값을 처리하지 않도록 설정\n",
        "print(pd.read_csv(visited_file, keep_default_na = False))"
      ],
      "metadata": {
        "colab": {
          "base_uri": "https://localhost:8080/"
        },
        "id": "I_sML6XQ9biV",
        "outputId": "533afbd8-7921-4409-a6dd-72eb644a32b7"
      },
      "execution_count": null,
      "outputs": [
        {
          "output_type": "stream",
          "name": "stdout",
          "text": [
            "   ident   site       dated\n",
            "0    619   DR-1  1927-02-08\n",
            "1    622   DR-1  1927-02-10\n",
            "2    734   DR-3  1939-01-07\n",
            "3    735   DR-3  1930-01-12\n",
            "4    751   DR-3  1930-02-26\n",
            "5    752   DR-3            \n",
            "6    837  MSK-4  1932-01-14\n",
            "7    844   DR-1  1932-03-22\n"
          ]
        }
      ]
    },
    {
      "cell_type": "code",
      "source": [
        "# na_values=[\"\"]를 매개변수로 지정하여, 빈 문자열은 결측값으로 처리한다.\n",
        "print(\n",
        "    pd.read_csv(visited_file, na_values=[\"\"], keep_default_na=False)\n",
        ")"
      ],
      "metadata": {
        "colab": {
          "base_uri": "https://localhost:8080/"
        },
        "id": "cMQvSP769wN0",
        "outputId": "0b8247d5-ffe1-410c-ebc7-c0c87c11582a"
      },
      "execution_count": null,
      "outputs": [
        {
          "output_type": "stream",
          "name": "stdout",
          "text": [
            "   ident   site       dated\n",
            "0    619   DR-1  1927-02-08\n",
            "1    622   DR-1  1927-02-10\n",
            "2    734   DR-3  1939-01-07\n",
            "3    735   DR-3  1930-01-12\n",
            "4    751   DR-3  1930-02-26\n",
            "5    752   DR-3         NaN\n",
            "6    837  MSK-4  1932-01-14\n",
            "7    844   DR-1  1932-03-22\n"
          ]
        }
      ]
    },
    {
      "cell_type": "markdown",
      "source": [
        "## 데이터를 연결할 때 생기는 결측값"
      ],
      "metadata": {
        "id": "CIJut6x3-EgX"
      }
    },
    {
      "cell_type": "code",
      "source": [
        "visited = pd.read_csv('survey_visited.csv')\n",
        "survey = pd.read_csv('survey_survey.csv')\n",
        "print(visited)\n",
        "print(survey)"
      ],
      "metadata": {
        "colab": {
          "base_uri": "https://localhost:8080/"
        },
        "id": "BWyftAWJ-DEc",
        "outputId": "f57dd1f0-6ec9-4dad-f544-4baa7bd14a8b"
      },
      "execution_count": null,
      "outputs": [
        {
          "output_type": "stream",
          "name": "stdout",
          "text": [
            "   ident   site       dated\n",
            "0    619   DR-1  1927-02-08\n",
            "1    622   DR-1  1927-02-10\n",
            "2    734   DR-3  1939-01-07\n",
            "3    735   DR-3  1930-01-12\n",
            "4    751   DR-3  1930-02-26\n",
            "5    752   DR-3         NaN\n",
            "6    837  MSK-4  1932-01-14\n",
            "7    844   DR-1  1932-03-22\n",
            "    taken person quant  reading\n",
            "0     619   dyer   rad     9.82\n",
            "1     619   dyer   sal     0.13\n",
            "2     622   dyer   rad     7.80\n",
            "3     622   dyer   sal     0.09\n",
            "4     734     pb   rad     8.41\n",
            "5     734   lake   sal     0.05\n",
            "6     734     pb  temp   -21.50\n",
            "7     735     pb   rad     7.22\n",
            "8     735    NaN   sal     0.06\n",
            "9     735    NaN  temp   -26.00\n",
            "10    751     pb   rad     4.35\n",
            "11    751     pb  temp   -18.50\n",
            "12    751   lake   sal     0.10\n",
            "13    752   lake   rad     2.19\n",
            "14    752   lake   sal     0.09\n",
            "15    752   lake  temp   -16.00\n",
            "16    752    roe   sal    41.60\n",
            "17    837   lake   rad     1.46\n",
            "18    837   lake   sal     0.21\n",
            "19    837    roe   sal    22.50\n",
            "20    844    roe   rad    11.25\n"
          ]
        }
      ]
    },
    {
      "cell_type": "code",
      "source": [
        "#왼쪽 visited 데이터프레임의 indent 열과 survey 데이터프레임의 taken 열을 기준으로 결합\n",
        "#NaN이 생겼다\n",
        "vs = visited.merge(survey, left_on = 'ident', right_on = 'taken')\n",
        "print(vs)"
      ],
      "metadata": {
        "colab": {
          "base_uri": "https://localhost:8080/"
        },
        "id": "QwyaGQ1q7HHG",
        "outputId": "e2b2cb44-69a1-4a66-9fa3-a0de44b78c6a"
      },
      "execution_count": null,
      "outputs": [
        {
          "output_type": "stream",
          "name": "stdout",
          "text": [
            "    ident   site       dated  taken person quant  reading\n",
            "0     619   DR-1  1927-02-08    619   dyer   rad     9.82\n",
            "1     619   DR-1  1927-02-08    619   dyer   sal     0.13\n",
            "2     622   DR-1  1927-02-10    622   dyer   rad     7.80\n",
            "3     622   DR-1  1927-02-10    622   dyer   sal     0.09\n",
            "4     734   DR-3  1939-01-07    734     pb   rad     8.41\n",
            "5     734   DR-3  1939-01-07    734   lake   sal     0.05\n",
            "6     734   DR-3  1939-01-07    734     pb  temp   -21.50\n",
            "7     735   DR-3  1930-01-12    735     pb   rad     7.22\n",
            "8     735   DR-3  1930-01-12    735    NaN   sal     0.06\n",
            "9     735   DR-3  1930-01-12    735    NaN  temp   -26.00\n",
            "10    751   DR-3  1930-02-26    751     pb   rad     4.35\n",
            "11    751   DR-3  1930-02-26    751     pb  temp   -18.50\n",
            "12    751   DR-3  1930-02-26    751   lake   sal     0.10\n",
            "13    752   DR-3         NaN    752   lake   rad     2.19\n",
            "14    752   DR-3         NaN    752   lake   sal     0.09\n",
            "15    752   DR-3         NaN    752   lake  temp   -16.00\n",
            "16    752   DR-3         NaN    752    roe   sal    41.60\n",
            "17    837  MSK-4  1932-01-14    837   lake   rad     1.46\n",
            "18    837  MSK-4  1932-01-14    837   lake   sal     0.21\n",
            "19    837  MSK-4  1932-01-14    837    roe   sal    22.50\n",
            "20    844   DR-1  1932-03-22    844    roe   rad    11.25\n"
          ]
        }
      ]
    },
    {
      "cell_type": "markdown",
      "source": [
        "## 직접 입력한 결측값"
      ],
      "metadata": {
        "id": "vMNhHJeV7-ee"
      }
    },
    {
      "cell_type": "code",
      "source": [
        "# 결측값을 포함한 시리즈 만들기\n",
        "num_legs = pd.Series({'goat' : 4, 'amoeba' : np.nan})\n",
        "print(num_legs)"
      ],
      "metadata": {
        "colab": {
          "base_uri": "https://localhost:8080/"
        },
        "id": "z4qU9wEl8A-W",
        "outputId": "55370349-ee98-4da6-ec6a-94aac47ee8f8"
      },
      "execution_count": null,
      "outputs": [
        {
          "output_type": "stream",
          "name": "stdout",
          "text": [
            "goat      4.0\n",
            "amoeba    NaN\n",
            "dtype: float64\n"
          ]
        }
      ]
    },
    {
      "cell_type": "code",
      "source": [
        "# 결측값을 포함한 데이터프레임 만들기\n",
        "scientists = pd.DataFrame(\n",
        "    {\n",
        "        \"Name\" : [\"Rosaline Franklin\", \"William Gosset\"],\n",
        "        \"Occupation\" : [\"Chemist\", \"Statistician\"],\n",
        "        \"Born\" : [\"1920-07-25\", \"1876-06-13\"],\n",
        "        \"Died\" : [\"1958-04-16\", \"1937-10-16\"],\n",
        "        \"missing\" : [np.nan, np.nan],\n",
        "    }\n",
        ")\n",
        "\n",
        "print(scientists)"
      ],
      "metadata": {
        "colab": {
          "base_uri": "https://localhost:8080/"
        },
        "id": "oBpGBCLH8YKi",
        "outputId": "1a82b16d-e2d1-467c-f2d1-ca84942e86f1"
      },
      "execution_count": null,
      "outputs": [
        {
          "output_type": "stream",
          "name": "stdout",
          "text": [
            "                Name    Occupation        Born        Died  missing\n",
            "0  Rosaline Franklin       Chemist  1920-07-25  1958-04-16      NaN\n",
            "1     William Gosset  Statistician  1876-06-13  1937-10-16      NaN\n"
          ]
        }
      ]
    },
    {
      "cell_type": "code",
      "source": [
        "# missing열의 데이터형이 float64이다. 넘파이의 NaN 결측값이 부동 소수점이기 때문이다.\n",
        "print(scientists.dtypes)"
      ],
      "metadata": {
        "colab": {
          "base_uri": "https://localhost:8080/"
        },
        "id": "5RQdRXzr9ebV",
        "outputId": "9e835dc6-3739-4f2f-8f97-517c64d688f6"
      },
      "execution_count": null,
      "outputs": [
        {
          "output_type": "stream",
          "name": "stdout",
          "text": [
            "Name           object\n",
            "Occupation     object\n",
            "Born           object\n",
            "Died           object\n",
            "missing       float64\n",
            "dtype: object\n"
          ]
        }
      ]
    },
    {
      "cell_type": "code",
      "source": [
        "# 모든 값이 nan인 열을 할당할 수도 있다.\n",
        "scientists = pd.DataFrame(\n",
        "    {\n",
        "        \"Name\" : [\"Rosaline Franklin\", \"William Gosset\"],\n",
        "        \"Occupation\" : [\"Chemist\", \"Statistician\"],\n",
        "        \"Born\" : [\"1920-07-25\", \"1876-06-13\"],\n",
        "        \"Died\" : [\"1958-04-16\", \"1937-10-16\"],\n",
        "    }\n",
        ")\n",
        "\n",
        "scientists[\"missing\"] = np.nan\n",
        "print(scientists)"
      ],
      "metadata": {
        "colab": {
          "base_uri": "https://localhost:8080/"
        },
        "id": "oB4JuolN91qy",
        "outputId": "715f88fd-a68c-4bdb-c772-3113f0938482"
      },
      "execution_count": null,
      "outputs": [
        {
          "output_type": "stream",
          "name": "stdout",
          "text": [
            "                Name    Occupation        Born        Died  missing\n",
            "0  Rosaline Franklin       Chemist  1920-07-25  1958-04-16      NaN\n",
            "1     William Gosset  Statistician  1876-06-13  1937-10-16      NaN\n"
          ]
        }
      ]
    },
    {
      "cell_type": "markdown",
      "source": [
        "## 인덱스를 다시 설정할 때 생기는 결측값"
      ],
      "metadata": {
        "id": "d4H4iGCt-Llu"
      }
    },
    {
      "cell_type": "code",
      "source": [
        "#갭마인더 데이터셋의 연도별 평균 기대 수명 구하기\n",
        "gapminder = pd.read_csv('gapminder.tsv', sep='\\t')\n",
        "\n",
        "life_exp = gapminder.groupby('year')['lifeExp'].mean()\n",
        "print(life_exp)"
      ],
      "metadata": {
        "colab": {
          "base_uri": "https://localhost:8080/"
        },
        "id": "51c7P7dX-O22",
        "outputId": "39bb6a2f-0c58-4873-fcc7-b05d15bce26b"
      },
      "execution_count": null,
      "outputs": [
        {
          "output_type": "stream",
          "name": "stdout",
          "text": [
            "year\n",
            "1952    49.057620\n",
            "1957    51.507401\n",
            "1962    53.609249\n",
            "1967    55.678290\n",
            "1972    57.647386\n",
            "1977    59.570157\n",
            "1982    61.533197\n",
            "1987    63.212613\n",
            "1992    64.160338\n",
            "1997    65.014676\n",
            "2002    65.694923\n",
            "2007    67.007423\n",
            "Name: lifeExp, dtype: float64\n"
          ]
        }
      ]
    },
    {
      "cell_type": "code",
      "source": [
        "#2000년 이후의 데이터만 추출\n",
        "y2000 = life_exp[life_exp.index > 2000]\n",
        "print(y2000)"
      ],
      "metadata": {
        "colab": {
          "base_uri": "https://localhost:8080/"
        },
        "id": "3jm7neO8Bi2v",
        "outputId": "169f1cfa-8dcf-4d45-f86f-8c1b79e4cc6f"
      },
      "execution_count": null,
      "outputs": [
        {
          "output_type": "stream",
          "name": "stdout",
          "text": [
            "year\n",
            "2002    65.694923\n",
            "2007    67.007423\n",
            "Name: lifeExp, dtype: float64\n"
          ]
        }
      ]
    },
    {
      "cell_type": "code",
      "source": [
        "# 2002년과 2007년 데이터만 있는데 이를 2000년부터 2010년 데이터로 표현하고 싶으므로 reindex() 메서드를 사용하여 다시 인덱싱\n",
        "print(y2000.reindex(range(2000,2010)))\n",
        "#2002년 2007년 이외에는 결측값으로 채워짐"
      ],
      "metadata": {
        "colab": {
          "base_uri": "https://localhost:8080/"
        },
        "id": "ZlEzFmoUB3Au",
        "outputId": "5d5bc15e-68aa-4c29-986e-d19d570ebdff"
      },
      "execution_count": null,
      "outputs": [
        {
          "output_type": "stream",
          "name": "stdout",
          "text": [
            "year\n",
            "2000          NaN\n",
            "2001          NaN\n",
            "2002    65.694923\n",
            "2003          NaN\n",
            "2004          NaN\n",
            "2005          NaN\n",
            "2006          NaN\n",
            "2007    67.007423\n",
            "2008          NaN\n",
            "2009          NaN\n",
            "Name: lifeExp, dtype: float64\n"
          ]
        }
      ]
    },
    {
      "cell_type": "markdown",
      "source": [
        "# 09-3. 결측값 다루기"
      ],
      "metadata": {
        "id": "1M1bIkK72WGe"
      }
    },
    {
      "cell_type": "code",
      "source": [
        "import pandas as pd"
      ],
      "metadata": {
        "id": "9jfd5a1N2TYV"
      },
      "execution_count": null,
      "outputs": []
    },
    {
      "cell_type": "markdown",
      "source": [
        "## 결측값 처리하기"
      ],
      "metadata": {
        "id": "pAm8KpdfD-ne"
      }
    },
    {
      "cell_type": "code",
      "source": [
        "#1. 결측값을 개수를 구하기 위해 결측값이 아닌 값 개수를 구하기\n",
        "ebola = pd.read_csv('country_timeseries.csv')\n",
        "\n",
        "print(ebola.count())"
      ],
      "metadata": {
        "colab": {
          "base_uri": "https://localhost:8080/"
        },
        "id": "p0XA_gMWD9fC",
        "outputId": "a06309d6-4868-4289-8c3c-914e3bb2a786"
      },
      "execution_count": null,
      "outputs": [
        {
          "output_type": "stream",
          "name": "stdout",
          "text": [
            "Date                   122\n",
            "Day                    122\n",
            "Cases_Guinea            93\n",
            "Cases_Liberia           83\n",
            "Cases_SierraLeone       87\n",
            "Cases_Nigeria           38\n",
            "Cases_Senegal           25\n",
            "Cases_UnitedStates      18\n",
            "Cases_Spain             16\n",
            "Cases_Mali              12\n",
            "Deaths_Guinea           92\n",
            "Deaths_Liberia          81\n",
            "Deaths_SierraLeone      87\n",
            "Deaths_Nigeria          38\n",
            "Deaths_Senegal          22\n",
            "Deaths_UnitedStates     18\n",
            "Deaths_Spain            16\n",
            "Deaths_Mali             12\n",
            "dtype: int64\n"
          ]
        }
      ]
    },
    {
      "cell_type": "code",
      "source": [
        "# 2.전체 행 개수에서 count() 값을 빼서 열별 결측값 개수를 구할 수 있다.\n",
        "# shape의 첫 번째 값이 행 개수이므로 shape[0]에서 count()를 뺀다.\n",
        "num_rows = ebola.shape[0]\n",
        "num_missing = num_rows - ebola.count()\n",
        "print(num_missing)"
      ],
      "metadata": {
        "colab": {
          "base_uri": "https://localhost:8080/"
        },
        "id": "-YtOYFzwEexF",
        "outputId": "7f792453-c9bc-424c-c4cd-a6e35b279757"
      },
      "execution_count": null,
      "outputs": [
        {
          "output_type": "stream",
          "name": "stdout",
          "text": [
            "Date                     0\n",
            "Day                      0\n",
            "Cases_Guinea            29\n",
            "Cases_Liberia           39\n",
            "Cases_SierraLeone       35\n",
            "Cases_Nigeria           84\n",
            "Cases_Senegal           97\n",
            "Cases_UnitedStates     104\n",
            "Cases_Spain            106\n",
            "Cases_Mali             110\n",
            "Deaths_Guinea           30\n",
            "Deaths_Liberia          41\n",
            "Deaths_SierraLeone      35\n",
            "Deaths_Nigeria          84\n",
            "Deaths_Senegal         100\n",
            "Deaths_UnitedStates    104\n",
            "Deaths_Spain           106\n",
            "Deaths_Mali            110\n",
            "dtype: int64\n"
          ]
        }
      ]
    },
    {
      "cell_type": "code",
      "source": [
        "#3. 모든 결측값 개수를 구하거나 특정 열의 결측값 개수 구하기\n",
        "# isnull() 메서드와 numpy의 count_nonzero() 함수를 조합\n",
        "import numpy as np\n",
        "\n",
        "\n",
        "print(np.count_nonzero(ebola.isnull())) #count_nonzero로 0(False)이 아닌 값을 센다\n",
        "print(np.count_nonzero(ebola['Cases_Guinea'].isnull()))"
      ],
      "metadata": {
        "colab": {
          "base_uri": "https://localhost:8080/"
        },
        "id": "18wYaip4E_NT",
        "outputId": "aa38a4e9-7035-4d46-f876-99b843fc923f"
      },
      "execution_count": null,
      "outputs": [
        {
          "output_type": "stream",
          "name": "stdout",
          "text": [
            "1214\n",
            "29\n"
          ]
        }
      ]
    },
    {
      "cell_type": "code",
      "source": [
        "#4. 시리즈의 value_counts() 메서드를 이용. 각 값의 빈도수를 반환한다. 매개변수 dropna=False로 설정하면 결측값 NaN의 개수도 확인할 수 있다.\n",
        "cnts = ebola.Cases_Guinea.value_counts(dropna = False)\n",
        "print(cnts)"
      ],
      "metadata": {
        "colab": {
          "base_uri": "https://localhost:8080/"
        },
        "id": "leLbZATiGTUo",
        "outputId": "15b604a8-89cb-42a0-d1aa-cb47e5f8cc17"
      },
      "execution_count": null,
      "outputs": [
        {
          "output_type": "stream",
          "name": "stdout",
          "text": [
            "Cases_Guinea\n",
            "NaN      29\n",
            "86.0      3\n",
            "112.0     2\n",
            "495.0     2\n",
            "390.0     2\n",
            "         ..\n",
            "143.0     1\n",
            "122.0     1\n",
            "127.0     1\n",
            "103.0     1\n",
            "49.0      1\n",
            "Name: count, Length: 89, dtype: int64\n"
          ]
        }
      ]
    },
    {
      "cell_type": "code",
      "source": [
        "#5. value_counts()가 반환하는 결과 시리즈는 각 값이 인덱스이므로 판다스의 isnull() 함수와 loc를 사용하여 NaN의 개수만 확인할 수 있다.\n",
        "print(cnts.loc[pd.isnull(cnts.index)])"
      ],
      "metadata": {
        "colab": {
          "base_uri": "https://localhost:8080/"
        },
        "id": "ZDVTXskVG7Yg",
        "outputId": "6bd7762c-6cc4-4965-8c12-bf5b0117cbe8"
      },
      "execution_count": null,
      "outputs": [
        {
          "output_type": "stream",
          "name": "stdout",
          "text": [
            "Cases_Guinea\n",
            "NaN    29\n",
            "Name: count, dtype: int64\n"
          ]
        }
      ]
    },
    {
      "cell_type": "code",
      "source": [
        "#6. 파이썬의 True는 정수 1과 같고 False는 정수 0과 같다. 이 특징을 이용하여 isnull()의 결과 불리언 벡터와 sum() 메서드를 조합하여 결측값의 개수를 구할 수 있다.\n",
        "print(ebola.Cases_Guinea.isnull().sum())"
      ],
      "metadata": {
        "colab": {
          "base_uri": "https://localhost:8080/"
        },
        "id": "BCJzELg9HU_A",
        "outputId": "7964c6bb-1235-4c80-cb95-384e14a41404"
      },
      "execution_count": null,
      "outputs": [
        {
          "output_type": "stream",
          "name": "stdout",
          "text": [
            "29\n"
          ]
        }
      ]
    },
    {
      "cell_type": "markdown",
      "source": [
        "### 결측값 대체하기"
      ],
      "metadata": {
        "id": "uf4FioVfJ9A9"
      }
    },
    {
      "cell_type": "code",
      "source": [
        "#fillna() 메서드를 사용하여 결측값을 다른 값으로 대체할 수 있다. 결측값을 0으로 기록\n",
        "print(ebola.fillna(0).iloc[:, 0:5])"
      ],
      "metadata": {
        "colab": {
          "base_uri": "https://localhost:8080/"
        },
        "id": "QyocESl8J8Ar",
        "outputId": "fbf8a44f-a155-4e1a-a505-0a1c8e0166cf"
      },
      "execution_count": null,
      "outputs": [
        {
          "output_type": "stream",
          "name": "stdout",
          "text": [
            "           Date  Day  Cases_Guinea  Cases_Liberia  Cases_SierraLeone\n",
            "0      1/5/2015  289        2776.0            0.0            10030.0\n",
            "1      1/4/2015  288        2775.0            0.0             9780.0\n",
            "2      1/3/2015  287        2769.0         8166.0             9722.0\n",
            "3      1/2/2015  286           0.0         8157.0                0.0\n",
            "4    12/31/2014  284        2730.0         8115.0             9633.0\n",
            "..          ...  ...           ...            ...                ...\n",
            "117   3/27/2014    5         103.0            8.0                6.0\n",
            "118   3/26/2014    4          86.0            0.0                0.0\n",
            "119   3/25/2014    3          86.0            0.0                0.0\n",
            "120   3/24/2014    2          86.0            0.0                0.0\n",
            "121   3/22/2014    0          49.0            0.0                0.0\n",
            "\n",
            "[122 rows x 5 columns]\n"
          ]
        }
      ]
    },
    {
      "cell_type": "markdown",
      "source": [
        "### 정방향 채우기"
      ],
      "metadata": {
        "id": "WkVAXZazKYHI"
      }
    },
    {
      "cell_type": "code",
      "source": [
        "# 데이터를 위에서 아래로 훑으면서 결측값 직전에 찾은 값으로 결측값을 대체하는 방식\n",
        "# fillna() 메서드의 매개변수 method에 'ffill'을 전달하여 정방향 채우기를 적용\n",
        "print(ebola.fillna(method='ffill').iloc[:,0:5])\n",
        "# 첫 행이 결측값이면 채울 값이 없으므로 해당 데이터는 결측값으로 유지"
      ],
      "metadata": {
        "colab": {
          "base_uri": "https://localhost:8080/"
        },
        "id": "Vj5bl9_BKOjy",
        "outputId": "a1a45d0b-b190-43f3-d8ef-d40b125543ef"
      },
      "execution_count": null,
      "outputs": [
        {
          "output_type": "stream",
          "name": "stdout",
          "text": [
            "           Date  Day  Cases_Guinea  Cases_Liberia  Cases_SierraLeone\n",
            "0      1/5/2015  289        2776.0            NaN            10030.0\n",
            "1      1/4/2015  288        2775.0            NaN             9780.0\n",
            "2      1/3/2015  287        2769.0         8166.0             9722.0\n",
            "3      1/2/2015  286        2769.0         8157.0             9722.0\n",
            "4    12/31/2014  284        2730.0         8115.0             9633.0\n",
            "..          ...  ...           ...            ...                ...\n",
            "117   3/27/2014    5         103.0            8.0                6.0\n",
            "118   3/26/2014    4          86.0            8.0                6.0\n",
            "119   3/25/2014    3          86.0            8.0                6.0\n",
            "120   3/24/2014    2          86.0            8.0                6.0\n",
            "121   3/22/2014    0          49.0            8.0                6.0\n",
            "\n",
            "[122 rows x 5 columns]\n"
          ]
        },
        {
          "output_type": "stream",
          "name": "stderr",
          "text": [
            "/tmp/ipython-input-24-1302405308.py:3: FutureWarning: DataFrame.fillna with 'method' is deprecated and will raise in a future version. Use obj.ffill() or obj.bfill() instead.\n",
            "  print(ebola.fillna(method='ffill').iloc[:,0:5])\n"
          ]
        }
      ]
    },
    {
      "cell_type": "markdown",
      "source": [
        "### 역방향 채우기"
      ],
      "metadata": {
        "id": "nMLhOwR6OS4n"
      }
    },
    {
      "cell_type": "code",
      "source": [
        "# 반대로 데이터를 아래에서 위로 훑으면서 결측값 직전에 찾은 값으로 결측값을 대체하는 방식을 역방향 채우기라고 함.\n",
        "#매개변수 method에 bfill을 전달함\n",
        "print(ebola.fillna(method='bfill').iloc[:,0:5])"
      ],
      "metadata": {
        "colab": {
          "base_uri": "https://localhost:8080/"
        },
        "id": "Yrs_4qWBLI3M",
        "outputId": "a032db05-6d92-4592-b700-89d835026ecb"
      },
      "execution_count": null,
      "outputs": [
        {
          "output_type": "stream",
          "name": "stdout",
          "text": [
            "           Date  Day  Cases_Guinea  Cases_Liberia  Cases_SierraLeone\n",
            "0      1/5/2015  289        2776.0         8166.0            10030.0\n",
            "1      1/4/2015  288        2775.0         8166.0             9780.0\n",
            "2      1/3/2015  287        2769.0         8166.0             9722.0\n",
            "3      1/2/2015  286        2730.0         8157.0             9633.0\n",
            "4    12/31/2014  284        2730.0         8115.0             9633.0\n",
            "..          ...  ...           ...            ...                ...\n",
            "117   3/27/2014    5         103.0            8.0                6.0\n",
            "118   3/26/2014    4          86.0            NaN                NaN\n",
            "119   3/25/2014    3          86.0            NaN                NaN\n",
            "120   3/24/2014    2          86.0            NaN                NaN\n",
            "121   3/22/2014    0          49.0            NaN                NaN\n",
            "\n",
            "[122 rows x 5 columns]\n"
          ]
        },
        {
          "output_type": "stream",
          "name": "stderr",
          "text": [
            "/tmp/ipython-input-25-1052649762.py:2: FutureWarning: DataFrame.fillna with 'method' is deprecated and will raise in a future version. Use obj.ffill() or obj.bfill() instead.\n",
            "  print(ebola.fillna(method='bfill').iloc[:,0:5])\n"
          ]
        }
      ]
    },
    {
      "cell_type": "markdown",
      "source": [
        "### 보간법으로 채우기"
      ],
      "metadata": {
        "id": "E8tmLMCdOVee"
      }
    },
    {
      "cell_type": "code",
      "source": [
        "# 기존 값을 사용하여 가본적으로 결측값의 양쪽값의 중간값으로 채운다.\n",
        "print(ebola.interpolate().iloc[:,0:5])"
      ],
      "metadata": {
        "colab": {
          "base_uri": "https://localhost:8080/"
        },
        "id": "U6XCOQU4OKo2",
        "outputId": "50c3ddca-0195-4d11-e0ab-4abe874315fa"
      },
      "execution_count": null,
      "outputs": [
        {
          "output_type": "stream",
          "name": "stdout",
          "text": [
            "           Date  Day  Cases_Guinea  Cases_Liberia  Cases_SierraLeone\n",
            "0      1/5/2015  289        2776.0            NaN            10030.0\n",
            "1      1/4/2015  288        2775.0            NaN             9780.0\n",
            "2      1/3/2015  287        2769.0         8166.0             9722.0\n",
            "3      1/2/2015  286        2749.5         8157.0             9677.5\n",
            "4    12/31/2014  284        2730.0         8115.0             9633.0\n",
            "..          ...  ...           ...            ...                ...\n",
            "117   3/27/2014    5         103.0            8.0                6.0\n",
            "118   3/26/2014    4          86.0            8.0                6.0\n",
            "119   3/25/2014    3          86.0            8.0                6.0\n",
            "120   3/24/2014    2          86.0            8.0                6.0\n",
            "121   3/22/2014    0          49.0            8.0                6.0\n",
            "\n",
            "[122 rows x 5 columns]\n"
          ]
        },
        {
          "output_type": "stream",
          "name": "stderr",
          "text": [
            "/tmp/ipython-input-28-3698520355.py:2: FutureWarning: DataFrame.interpolate with object dtype is deprecated and will raise in a future version. Call obj.infer_objects(copy=False) before interpolating instead.\n",
            "  print(ebola.interpolate().iloc[:,0:5])\n"
          ]
        }
      ]
    },
    {
      "cell_type": "markdown",
      "source": [
        "### 결측값 삭제하기"
      ],
      "metadata": {
        "id": "08a1CHKYPB-z"
      }
    },
    {
      "cell_type": "markdown",
      "source": [
        "* 필요없다면 결측값은 삭제해도 됨. 하지만 무작정 삭제하면 데이터가 편향될 수 있음\n",
        "* dropna() 메서드를 사용하여 결측값을 삭제할 수 있다.\n",
        "* 매개변수 how의 행 또는 열 데이터 중 하나라도 결측값일 때 삭제하려면 any로, 모든 값이 결측값일 때만 삭제하려면 all을 지정"
      ],
      "metadata": {
        "id": "Djt8FdY9PaQ5"
      }
    },
    {
      "cell_type": "code",
      "source": [
        "print(ebola.shape)"
      ],
      "metadata": {
        "colab": {
          "base_uri": "https://localhost:8080/"
        },
        "id": "vWy4_54gOzMC",
        "outputId": "4d6f32d0-8c0e-473c-b515-7aa8d7145c14"
      },
      "execution_count": null,
      "outputs": [
        {
          "output_type": "stream",
          "name": "stdout",
          "text": [
            "(122, 18)\n"
          ]
        }
      ]
    },
    {
      "cell_type": "code",
      "source": [
        "ebola_dropna = ebola.dropna() #dropna() 메서드로 결측값이 하나도 없는 행만 남김\n",
        "print(ebola_dropna.shape)"
      ],
      "metadata": {
        "colab": {
          "base_uri": "https://localhost:8080/"
        },
        "id": "A8k1F4ENQAPD",
        "outputId": "3d8551dc-8df7-43ce-cb37-7792dfe56af4"
      },
      "execution_count": null,
      "outputs": [
        {
          "output_type": "stream",
          "name": "stdout",
          "text": [
            "(1, 18)\n"
          ]
        }
      ]
    },
    {
      "cell_type": "code",
      "source": [
        "print(ebola_dropna) #데이터가 딱 한 행 남았다"
      ],
      "metadata": {
        "colab": {
          "base_uri": "https://localhost:8080/"
        },
        "id": "j7lX3o-yQNuF",
        "outputId": "47c26736-6323-4d11-e1d7-4f3f9e5a2aa6"
      },
      "execution_count": null,
      "outputs": [
        {
          "output_type": "stream",
          "name": "stdout",
          "text": [
            "          Date  Day  Cases_Guinea  Cases_Liberia  Cases_SierraLeone  \\\n",
            "19  11/18/2014  241        2047.0         7082.0             6190.0   \n",
            "\n",
            "    Cases_Nigeria  Cases_Senegal  Cases_UnitedStates  Cases_Spain  Cases_Mali  \\\n",
            "19           20.0            1.0                 4.0          1.0         6.0   \n",
            "\n",
            "    Deaths_Guinea  Deaths_Liberia  Deaths_SierraLeone  Deaths_Nigeria  \\\n",
            "19         1214.0          2963.0              1267.0             8.0   \n",
            "\n",
            "    Deaths_Senegal  Deaths_UnitedStates  Deaths_Spain  Deaths_Mali  \n",
            "19             0.0                  1.0           0.0          6.0  \n"
          ]
        }
      ]
    },
    {
      "cell_type": "markdown",
      "source": [
        "## 결측값이 있는 데이터 계산하기"
      ],
      "metadata": {
        "id": "6Wp00Sz2PFLD"
      }
    },
    {
      "cell_type": "code",
      "source": [
        "# 데이터에 결측값이 있을 때 계산하면 나오는 결과 알아보기\n",
        "# 세 지역의 확진자수를 합한 새로운 열 Cases_multiple 생성\n",
        "ebola[\"Cases_multiple\"] = (\n",
        "    ebola[\"Cases_Guinea\"]\n",
        "    + ebola[\"Cases_Liberia\"]\n",
        "    + ebola[\"Cases_SierraLeone\"]\n",
        ")"
      ],
      "metadata": {
        "id": "BqGXVT9POw0K"
      },
      "execution_count": null,
      "outputs": []
    },
    {
      "cell_type": "code",
      "source": [
        "# 세 지역과 새로 계산한 열의 처음 10개 행을 보며 계산 결과 비교\n",
        "ebola_subset = ebola.loc[\n",
        "    :,\n",
        "    [\n",
        "        \"Cases_Guinea\",\n",
        "        \"Cases_Liberia\",\n",
        "        \"Cases_SierraLeone\",\n",
        "        \"Cases_multiple\",\n",
        "    ],\n",
        "]\n",
        "\n",
        "print(ebola_subset.head(n=10))\n",
        "# 세 지역의 열 중 하나라도 결측값이 있으면 NaN으로 기록."
      ],
      "metadata": {
        "colab": {
          "base_uri": "https://localhost:8080/"
        },
        "id": "C7mA6-3xT4fH",
        "outputId": "31be7234-3bdd-4948-bbcf-c0e2a56628fc"
      },
      "execution_count": null,
      "outputs": [
        {
          "output_type": "stream",
          "name": "stdout",
          "text": [
            "   Cases_Guinea  Cases_Liberia  Cases_SierraLeone  Cases_multiple\n",
            "0        2776.0            NaN            10030.0             NaN\n",
            "1        2775.0            NaN             9780.0             NaN\n",
            "2        2769.0         8166.0             9722.0         20657.0\n",
            "3           NaN         8157.0                NaN             NaN\n",
            "4        2730.0         8115.0             9633.0         20478.0\n",
            "5        2706.0         8018.0             9446.0         20170.0\n",
            "6        2695.0            NaN             9409.0             NaN\n",
            "7        2630.0         7977.0             9203.0         19810.0\n",
            "8        2597.0            NaN             9004.0             NaN\n",
            "9        2571.0         7862.0             8939.0         19372.0\n"
          ]
        }
      ]
    },
    {
      "cell_type": "code",
      "source": [
        "# mean()과 sum()의 메서드로 결측값을 무시하도록 설정할 수 있다.\n",
        "# 매개변수 skipna로 결측값을 건너뛰고 값을 계산하게 할 수 있다.\n",
        "\n",
        "print(ebola.Cases_Guinea.sum(skipna = True))\n",
        "print(ebola.Cases_Guinea.sum(skipna = False))"
      ],
      "metadata": {
        "colab": {
          "base_uri": "https://localhost:8080/"
        },
        "id": "e-Pe3_JmU4rW",
        "outputId": "05e0b125-26b6-4ee1-e700-e6d4e1dc36de"
      },
      "execution_count": null,
      "outputs": [
        {
          "output_type": "stream",
          "name": "stdout",
          "text": [
            "84729.0\n",
            "nan\n"
          ]
        }
      ]
    },
    {
      "cell_type": "markdown",
      "source": [
        "# 09-4 판다스 내장 NA 결측값 살펴보기"
      ],
      "metadata": {
        "id": "3lIVakKRVfxS"
      }
    },
    {
      "cell_type": "code",
      "source": [
        "#내장 NA값인 pd.NA가 추가되었다\n",
        "# scintists 데이터프레임을 만들고 dtypes로 데이터형을 살펴보기\n",
        "scientists = pd.DataFrame(\n",
        "    {\n",
        "        \"Name\" : [\"Rodaline Franklin\", \"William Gosset\"],\n",
        "        \"Occupation\" : [\"Chemist\", \"Statistician\"],\n",
        "        \"Born\" : [\"1920-07-25\", \"1876-06-13\"],\n",
        "        \"Died\" : [\"1958-04-16\", \"1937-10-16\"],\n",
        "        \"Age\" : [37, 61]\n",
        "    }\n",
        ")\n",
        "\n",
        "print(scientists)"
      ],
      "metadata": {
        "colab": {
          "base_uri": "https://localhost:8080/"
        },
        "id": "WR2u5BqAVe8G",
        "outputId": "122b45b2-4750-4011-a281-14004ad3cf12"
      },
      "execution_count": null,
      "outputs": [
        {
          "output_type": "stream",
          "name": "stdout",
          "text": [
            "                Name    Occupation        Born        Died  Age\n",
            "0  Rodaline Franklin       Chemist  1920-07-25  1958-04-16   37\n",
            "1     William Gosset  Statistician  1876-06-13  1937-10-16   61\n"
          ]
        }
      ]
    },
    {
      "cell_type": "code",
      "source": [
        "print(scientists.dtypes)"
      ],
      "metadata": {
        "colab": {
          "base_uri": "https://localhost:8080/"
        },
        "id": "M7rVQoojWfJN",
        "outputId": "a38362a6-6ef3-47fe-cc04-7ddaeebd0d51"
      },
      "execution_count": null,
      "outputs": [
        {
          "output_type": "stream",
          "name": "stdout",
          "text": [
            "Name          object\n",
            "Occupation    object\n",
            "Born          object\n",
            "Died          object\n",
            "Age            int64\n",
            "dtype: object\n"
          ]
        }
      ]
    },
    {
      "cell_type": "code",
      "source": [
        "# 데이터형이 int64인 Age와 object인 Name 열의 1번 행을 pd.NA로 변경\n",
        "# Age의 데이터형이 float64로 변경\n",
        "scientists.loc[1, \"Name\"] = pd.NA\n",
        "scientists.loc[1, \"Age\"] = pd.NA\n",
        "print(scientists)"
      ],
      "metadata": {
        "colab": {
          "base_uri": "https://localhost:8080/"
        },
        "id": "jzc2mBblWoo_",
        "outputId": "8afde841-a12f-489d-b5ae-0b64c9da7a54"
      },
      "execution_count": null,
      "outputs": [
        {
          "output_type": "stream",
          "name": "stdout",
          "text": [
            "                Name    Occupation        Born        Died   Age\n",
            "0  Rodaline Franklin       Chemist  1920-07-25  1958-04-16  37.0\n",
            "1               <NA>  Statistician  1876-06-13  1937-10-16   NaN\n"
          ]
        }
      ]
    },
    {
      "cell_type": "code",
      "source": [
        "print(scientists.dtypes)"
      ],
      "metadata": {
        "colab": {
          "base_uri": "https://localhost:8080/"
        },
        "id": "riee0m8FXG9Q",
        "outputId": "e056f894-be27-4ab3-8827-e2b7d0066fd8"
      },
      "execution_count": null,
      "outputs": [
        {
          "output_type": "stream",
          "name": "stdout",
          "text": [
            "Name           object\n",
            "Occupation     object\n",
            "Born           object\n",
            "Died           object\n",
            "Age           float64\n",
            "dtype: object\n"
          ]
        }
      ]
    },
    {
      "cell_type": "code",
      "source": [
        "# 넘파이의 np.NaN으로 설정해도 똑같이 float64 형으로 바뀐다.\n",
        "scientists = pd.DataFrame(\n",
        "    {\n",
        "        \"Name\" : [\"Rodaline Franklin\", \"William Gosset\"],\n",
        "        \"Occupation\" : [\"Chemist\", \"Statistician\"],\n",
        "        \"Born\" : [\"1920-07-25\", \"1876-06-13\"],\n",
        "        \"Died\" : [\"1958-04-16\", \"1937-10-16\"],\n",
        "        \"Age\" : [37, 61]\n",
        "    }\n",
        ")\n",
        "\n",
        "scientists.loc[1,\"Name\"] = np.nan\n",
        "scientists.loc[1, \"Age\"] = np.nan\n",
        "\n",
        "print(scientists.dtypes)"
      ],
      "metadata": {
        "colab": {
          "base_uri": "https://localhost:8080/"
        },
        "id": "c_9JS1dOXOXl",
        "outputId": "0a2ff3d5-2402-455b-ed61-ecdd7a1ec061"
      },
      "execution_count": null,
      "outputs": [
        {
          "output_type": "stream",
          "name": "stdout",
          "text": [
            "Name           object\n",
            "Occupation     object\n",
            "Born           object\n",
            "Died           object\n",
            "Age           float64\n",
            "dtype: object\n"
          ]
        }
      ]
    }
  ]
}
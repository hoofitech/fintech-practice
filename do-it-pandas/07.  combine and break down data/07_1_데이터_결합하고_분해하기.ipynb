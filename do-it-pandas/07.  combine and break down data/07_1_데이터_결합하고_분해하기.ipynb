{
  "nbformat": 4,
  "nbformat_minor": 0,
  "metadata": {
    "colab": {
      "provenance": [],
      "authorship_tag": "ABX9TyN/w9PQ0DexZ9MzzsWj0Gfl",
      "include_colab_link": true
    },
    "kernelspec": {
      "name": "python3",
      "display_name": "Python 3"
    },
    "language_info": {
      "name": "python"
    }
  },
  "cells": [
    {
      "cell_type": "markdown",
      "metadata": {
        "id": "view-in-github",
        "colab_type": "text"
      },
      "source": [
        "<a href=\"https://colab.research.google.com/github/hoofitech/fintech-practice/blob/main/do-it-pandas/07.%20%20combine%20and%20break%20down%20data/07_1_%EB%8D%B0%EC%9D%B4%ED%84%B0_%EA%B2%B0%ED%95%A9%ED%95%98%EA%B3%A0_%EB%B6%84%ED%95%B4%ED%95%98%EA%B8%B0.ipynb\" target=\"_parent\"><img src=\"https://colab.research.google.com/assets/colab-badge.svg\" alt=\"Open In Colab\"/></a>"
      ]
    },
    {
      "cell_type": "markdown",
      "source": [
        "# **07-1. 데이터 묶어 계산하기**"
      ],
      "metadata": {
        "id": "wcwElalr5aBo"
      }
    },
    {
      "cell_type": "markdown",
      "source": [
        "* 관측 단위별로 정리한 다양한 표를 결합하여 데이터셋을 만들고 분석을 진행합니다.\n",
        "* 연관이 깊은 데이터끼리 모아서 표를 구성하므로 데이터를 묶어 필요한 데이터를 만드는 과정이 필요하다\n",
        "* 하나의 데이터셋을 여러부분으로 분할하여 관리할 때도 있다."
      ],
      "metadata": {
        "id": "pXpDCzfL52JJ"
      }
    },
    {
      "cell_type": "markdown",
      "source": [
        "# **07-2 데이터 연결하기**"
      ],
      "metadata": {
        "id": "gOL9Vm9w6XnN"
      }
    },
    {
      "cell_type": "code",
      "execution_count": null,
      "metadata": {
        "colab": {
          "base_uri": "https://localhost:8080/"
        },
        "id": "O6b6G2nb41gr",
        "outputId": "93953119-d077-4804-c639-8a244de94861"
      },
      "outputs": [
        {
          "output_type": "stream",
          "name": "stdout",
          "text": [
            "    A   B   C   D\n",
            "0  a0  b0  c0  d0\n",
            "1  a1  b1  c1  d1\n",
            "2  a2  b2  c2  d2\n",
            "3  a3  b3  c3  d3\n",
            "    A   B   C   D\n",
            "0  a4  b4  c4  d4\n",
            "1  a5  b5  c5  d5\n",
            "2  a6  b6  c6  d6\n",
            "3  a7  b7  c7  d7\n",
            "     A    B    C    D\n",
            "0   a8   b8   c8   d8\n",
            "1   a9   b9   c9   d9\n",
            "2  a10  b10  c10  d10\n",
            "3  a11  b11  c11  d11\n"
          ]
        }
      ],
      "source": [
        "# 데이터를 결합하는 가장 쉬운 방법은 데이터를 연결하는 것\n",
        "# 1. 예제 데이터 연결하기\n",
        "import pandas as pd\n",
        "\n",
        "df1 = pd.read_csv('concat_1.csv')\n",
        "df2 = pd.read_csv('concat_2.csv')\n",
        "df3 = pd.read_csv('concat_3.csv')\n",
        "print(df1)\n",
        "print(df2)\n",
        "print(df3)"
      ]
    },
    {
      "cell_type": "markdown",
      "source": [
        "## **데이터프레임 살펴보기**\n"
      ],
      "metadata": {
        "id": "tYxbLGgn7alO"
      }
    },
    {
      "cell_type": "code",
      "source": [
        "#index로 데이터프레임 왼쪽에 있는 행 번호를 참조\n",
        "print(df1.index)"
      ],
      "metadata": {
        "colab": {
          "base_uri": "https://localhost:8080/"
        },
        "id": "-IWf0bc97lgO",
        "outputId": "630a598c-cd27-4f77-a331-d67ea4a19c5f"
      },
      "execution_count": null,
      "outputs": [
        {
          "output_type": "stream",
          "name": "stdout",
          "text": [
            "RangeIndex(start=0, stop=4, step=1)\n"
          ]
        }
      ]
    },
    {
      "cell_type": "code",
      "source": [
        "# columns로 열의 이름 알아보기\n",
        "print(df1.columns)"
      ],
      "metadata": {
        "colab": {
          "base_uri": "https://localhost:8080/"
        },
        "id": "nrH6Jk2n8GiC",
        "outputId": "2795ebf7-1ed3-4556-bc9f-f54eb3afbc33"
      },
      "execution_count": null,
      "outputs": [
        {
          "output_type": "stream",
          "name": "stdout",
          "text": [
            "Index(['A', 'B', 'C', 'D'], dtype='object')\n"
          ]
        }
      ]
    },
    {
      "cell_type": "code",
      "source": [
        "# values로 값으로 구성된 넘파이 배열 반환\n",
        "print(df1.values)"
      ],
      "metadata": {
        "colab": {
          "base_uri": "https://localhost:8080/"
        },
        "id": "63xU5Hns8ypf",
        "outputId": "c5e08874-f36f-4e7f-b0ac-bd3e8e266b07"
      },
      "execution_count": null,
      "outputs": [
        {
          "output_type": "stream",
          "name": "stdout",
          "text": [
            "[['a0' 'b0' 'c0' 'd0']\n",
            " ['a1' 'b1' 'c1' 'd1']\n",
            " ['a2' 'b2' 'c2' 'd2']\n",
            " ['a3' 'b3' 'c3' 'd3']]\n"
          ]
        }
      ]
    },
    {
      "cell_type": "markdown",
      "source": [
        "## **행 연결하기**"
      ],
      "metadata": {
        "id": "GnfiEUEV8-HX"
      }
    },
    {
      "cell_type": "markdown",
      "source": [
        "### 행 방향 연결하기"
      ],
      "metadata": {
        "id": "CyrK796x9DKv"
      }
    },
    {
      "cell_type": "code",
      "source": [
        "#1. 연결할 모든 데이터프레임을 concat() 함수에 리스트로 전달\n",
        "row_concat = pd.concat([df1, df2, df3])\n",
        "print(row_concat)"
      ],
      "metadata": {
        "colab": {
          "base_uri": "https://localhost:8080/"
        },
        "id": "-yV7nvIp9C8v",
        "outputId": "19466801-d658-4995-fa22-5031b9793e27"
      },
      "execution_count": null,
      "outputs": [
        {
          "output_type": "stream",
          "name": "stdout",
          "text": [
            "     A    B    C    D\n",
            "0   a0   b0   c0   d0\n",
            "1   a1   b1   c1   d1\n",
            "2   a2   b2   c2   d2\n",
            "3   a3   b3   c3   d3\n",
            "0   a4   b4   c4   d4\n",
            "1   a5   b5   c5   d5\n",
            "2   a6   b6   c6   d6\n",
            "3   a7   b7   c7   d7\n",
            "0   a8   b8   c8   d8\n",
            "1   a9   b9   c9   d9\n",
            "2  a10  b10  c10  d10\n",
            "3  a11  b11  c11  d11\n"
          ]
        }
      ]
    },
    {
      "cell_type": "code",
      "source": [
        "#2. 연결한 데이터프레임의 원하는 데이터를 추출하기\n",
        "print(row_concat.iloc[3,:]) #네 번째 행 추출하기"
      ],
      "metadata": {
        "colab": {
          "base_uri": "https://localhost:8080/"
        },
        "id": "3VoRc8FO9A8f",
        "outputId": "ca1bf15b-187a-40fb-9900-2078a7e1ac23"
      },
      "execution_count": null,
      "outputs": [
        {
          "output_type": "stream",
          "name": "stdout",
          "text": [
            "A    a3\n",
            "B    b3\n",
            "C    c3\n",
            "D    d3\n",
            "Name: 3, dtype: object\n"
          ]
        }
      ]
    },
    {
      "cell_type": "code",
      "source": [
        "#3. 시리즈를 생성하여 데이터 프레임에 연결해보기\n",
        "new_row_series = pd.Series(['n1', 'n2', 'n3', 'n4'])\n",
        "print(new_row_series)"
      ],
      "metadata": {
        "colab": {
          "base_uri": "https://localhost:8080/"
        },
        "id": "uSkrYQj690dA",
        "outputId": "03d8981a-eab5-457f-bc05-13261e52dcef"
      },
      "execution_count": null,
      "outputs": [
        {
          "output_type": "stream",
          "name": "stdout",
          "text": [
            "0    n1\n",
            "1    n2\n",
            "2    n3\n",
            "3    n4\n",
            "dtype: object\n"
          ]
        }
      ]
    },
    {
      "cell_type": "code",
      "source": [
        "#4. 새로운 행으로 df1에 추가하려고 concat()을 사용하면 의도와 다른 데이터프레임이 생성됨\n",
        "print(pd.concat([df1, new_row_series]))\n",
        "# 새로운 열에 데이터가 추가되고 결측값으로 나타남\n",
        "# 시리즈에 데이터프레임과 일치하는 열이 없으므로 시리즈가 새로운 열로 추가됨"
      ],
      "metadata": {
        "colab": {
          "base_uri": "https://localhost:8080/"
        },
        "id": "zUqE4ZOq-KLw",
        "outputId": "a8cd36a5-513b-4dfa-e1b4-fc3a5a320073"
      },
      "execution_count": null,
      "outputs": [
        {
          "output_type": "stream",
          "name": "stdout",
          "text": [
            "     A    B    C    D    0\n",
            "0   a0   b0   c0   d0  NaN\n",
            "1   a1   b1   c1   d1  NaN\n",
            "2   a2   b2   c2   d2  NaN\n",
            "3   a3   b3   c3   d3  NaN\n",
            "0  NaN  NaN  NaN  NaN   n1\n",
            "1  NaN  NaN  NaN  NaN   n2\n",
            "2  NaN  NaN  NaN  NaN   n3\n",
            "3  NaN  NaN  NaN  NaN   n4\n"
          ]
        }
      ]
    },
    {
      "cell_type": "code",
      "source": [
        "#5. 이 문제를 해결하려면 시리즈를 데이터프레임으로 바꿔야함\n",
        "new_row_df = pd.DataFrame(\n",
        "    data = [[\"n1\", \"n2\", \"n3\", \"n4\"]],\n",
        "    columns = [\"A\", \"B\", \"C\", \"D\"],\n",
        ")\n",
        "print(new_row_df)"
      ],
      "metadata": {
        "colab": {
          "base_uri": "https://localhost:8080/"
        },
        "id": "fgL40eKH-9ay",
        "outputId": "9cbfca8c-27a6-485d-b61f-86cc31792175"
      },
      "execution_count": null,
      "outputs": [
        {
          "output_type": "stream",
          "name": "stdout",
          "text": [
            "    A   B   C   D\n",
            "0  n1  n2  n3  n4\n"
          ]
        }
      ]
    },
    {
      "cell_type": "code",
      "source": [
        "print(pd.concat([df1, new_row_df]))"
      ],
      "metadata": {
        "colab": {
          "base_uri": "https://localhost:8080/"
        },
        "id": "cEiAYyNl_kdy",
        "outputId": "ef524f1a-9cc1-4618-826e-21f1249a5183"
      },
      "execution_count": null,
      "outputs": [
        {
          "output_type": "stream",
          "name": "stdout",
          "text": [
            "    A   B   C   D\n",
            "0  a0  b0  c0  d0\n",
            "1  a1  b1  c1  d1\n",
            "2  a2  b2  c2  d2\n",
            "3  a3  b3  c3  d3\n",
            "0  n1  n2  n3  n4\n"
          ]
        }
      ]
    },
    {
      "cell_type": "markdown",
      "source": [
        "새로운 인덱스 설정하기"
      ],
      "metadata": {
        "id": "162S-q2k_48x"
      }
    },
    {
      "cell_type": "code",
      "source": [
        "# ignore_index를 사용하면 인덱스 중복 값을 없앨 수 있다\n",
        "row_concat_i = pd.concat([df1,df2,df3], ignore_index = True)\n",
        "print(row_concat_i)"
      ],
      "metadata": {
        "colab": {
          "base_uri": "https://localhost:8080/"
        },
        "id": "rGV_YaZx_3_B",
        "outputId": "8a74a399-a5ef-474d-ca11-79a3912d975c"
      },
      "execution_count": null,
      "outputs": [
        {
          "output_type": "stream",
          "name": "stdout",
          "text": [
            "      A    B    C    D\n",
            "0    a0   b0   c0   d0\n",
            "1    a1   b1   c1   d1\n",
            "2    a2   b2   c2   d2\n",
            "3    a3   b3   c3   d3\n",
            "4    a4   b4   c4   d4\n",
            "5    a5   b5   c5   d5\n",
            "6    a6   b6   c6   d6\n",
            "7    a7   b7   c7   d7\n",
            "8    a8   b8   c8   d8\n",
            "9    a9   b9   c9   d9\n",
            "10  a10  b10  c10  d10\n",
            "11  a11  b11  c11  d11\n"
          ]
        }
      ]
    },
    {
      "cell_type": "markdown",
      "source": [
        "## **열 연결하기**"
      ],
      "metadata": {
        "id": "U9TRfYQ3AmGH"
      }
    },
    {
      "cell_type": "markdown",
      "source": [
        "### 열 방향 연결하기"
      ],
      "metadata": {
        "id": "4HOFfcRXA6ZS"
      }
    },
    {
      "cell_type": "code",
      "source": [
        "#1. df1, df2, df3를 열 방향으로 연결\n",
        "# 매개변수 axis에 1또는 columns를 지정해주면 됨\n",
        "col_concat = pd.concat([df1, df2, df3], axis = \"columns\")\n",
        "print(col_concat)"
      ],
      "metadata": {
        "colab": {
          "base_uri": "https://localhost:8080/"
        },
        "id": "6o7BXJkeA1sT",
        "outputId": "0311e808-7a81-470f-b836-f6c691f35936"
      },
      "execution_count": null,
      "outputs": [
        {
          "output_type": "stream",
          "name": "stdout",
          "text": [
            "    A   B   C   D   A   B   C   D    A    B    C    D\n",
            "0  a0  b0  c0  d0  a4  b4  c4  d4   a8   b8   c8   d8\n",
            "1  a1  b1  c1  d1  a5  b5  c5  d5   a9   b9   c9   d9\n",
            "2  a2  b2  c2  d2  a6  b6  c6  d6  a10  b10  c10  d10\n",
            "3  a3  b3  c3  d3  a7  b7  c7  d7  a11  b11  c11  d11\n"
          ]
        }
      ]
    },
    {
      "cell_type": "code",
      "source": [
        "# 단순히 행 인덱스가 그대로 덧붙여짐, 같은 이름의 모든 열을 추출함\n",
        "print(col_concat[\"A\"])"
      ],
      "metadata": {
        "colab": {
          "base_uri": "https://localhost:8080/"
        },
        "id": "T-B0lwTWBlIE",
        "outputId": "69e5a488-4baf-4e1e-fe1e-36029ef1b293"
      },
      "execution_count": null,
      "outputs": [
        {
          "output_type": "stream",
          "name": "stdout",
          "text": [
            "    A   A    A\n",
            "0  a0  a4   a8\n",
            "1  a1  a5   a9\n",
            "2  a2  a6  a10\n",
            "3  a3  a7  a11\n"
          ]
        }
      ]
    },
    {
      "cell_type": "code",
      "source": [
        "#2. 데이터프레임에 열을 추가하려면 새 열 이름을 대괄호 사이에 넣어 리스트를 할당해주면 된다\n",
        "col_concat['new_col_list'] = ['n1', 'n2', 'n3', 'n4']\n",
        "print(col_concat)"
      ],
      "metadata": {
        "colab": {
          "base_uri": "https://localhost:8080/"
        },
        "id": "j0o2E5O6Bxmk",
        "outputId": "f94ec777-d405-4c66-b793-67cfbe8ecf0e"
      },
      "execution_count": null,
      "outputs": [
        {
          "output_type": "stream",
          "name": "stdout",
          "text": [
            "    A   B   C   D   A   B   C   D    A    B    C    D new_col_list\n",
            "0  a0  b0  c0  d0  a4  b4  c4  d4   a8   b8   c8   d8           n1\n",
            "1  a1  b1  c1  d1  a5  b5  c5  d5   a9   b9   c9   d9           n2\n",
            "2  a2  b2  c2  d2  a6  b6  c6  d6  a10  b10  c10  d10           n3\n",
            "3  a3  b3  c3  d3  a7  b7  c7  d7  a11  b11  c11  d11           n4\n"
          ]
        }
      ]
    },
    {
      "cell_type": "code",
      "source": [
        "#3. 비슷한 방법으로 시리즈를 추가할 수도 있다"
      ],
      "metadata": {
        "id": "yl4rfa-kCQCb"
      },
      "execution_count": null,
      "outputs": []
    },
    {
      "cell_type": "code",
      "source": [
        "col_concat['new_col_series'] = pd.Series(['n1', 'n2', 'n3', 'n4'])\n",
        "print(col_concat)"
      ],
      "metadata": {
        "colab": {
          "base_uri": "https://localhost:8080/"
        },
        "id": "Pv94XU8gCXor",
        "outputId": "5c8a4e45-1ce1-42a7-9702-8e06ccc1499b"
      },
      "execution_count": null,
      "outputs": [
        {
          "output_type": "stream",
          "name": "stdout",
          "text": [
            "    A   B   C   D   A   B   C   D    A    B    C    D new_col_list  \\\n",
            "0  a0  b0  c0  d0  a4  b4  c4  d4   a8   b8   c8   d8           n1   \n",
            "1  a1  b1  c1  d1  a5  b5  c5  d5   a9   b9   c9   d9           n2   \n",
            "2  a2  b2  c2  d2  a6  b6  c6  d6  a10  b10  c10  d10           n3   \n",
            "3  a3  b3  c3  d3  a7  b7  c7  d7  a11  b11  c11  d11           n4   \n",
            "\n",
            "  new_col_series  \n",
            "0             n1  \n",
            "1             n2  \n",
            "2             n3  \n",
            "3             n4  \n"
          ]
        }
      ]
    },
    {
      "cell_type": "code",
      "source": [
        "#4. ignore_index를 True로 설정하면 열 이름이 중복되지 않도록 설정할 수 있다\n",
        "print(pd.concat([df1, df2, df3], axis = \"columns\", ignore_index=True))"
      ],
      "metadata": {
        "colab": {
          "base_uri": "https://localhost:8080/"
        },
        "id": "vywSHtNFCkP0",
        "outputId": "ce6249a3-eb78-41aa-a784-a5a8cdfc699d"
      },
      "execution_count": null,
      "outputs": [
        {
          "output_type": "stream",
          "name": "stdout",
          "text": [
            "   0   1   2   3   4   5   6   7    8    9    10   11\n",
            "0  a0  b0  c0  d0  a4  b4  c4  d4   a8   b8   c8   d8\n",
            "1  a1  b1  c1  d1  a5  b5  c5  d5   a9   b9   c9   d9\n",
            "2  a2  b2  c2  d2  a6  b6  c6  d6  a10  b10  c10  d10\n",
            "3  a3  b3  c3  d3  a7  b7  c7  d7  a11  b11  c11  d11\n"
          ]
        }
      ]
    },
    {
      "cell_type": "markdown",
      "source": [
        "## **인덱스나 열 이름이 다른 데이터 연결하기**"
      ],
      "metadata": {
        "id": "st2UK0UNDLlG"
      }
    },
    {
      "cell_type": "markdown",
      "source": [
        "### 열 이름이 다른 데이터 행 방향 연결하기"
      ],
      "metadata": {
        "id": "Q3DrsT_ODVd-"
      }
    },
    {
      "cell_type": "code",
      "source": [
        "#1. 데이터의 열 이름이 서로 다르도록 데이터 열 이름 바꾸기\n",
        "df1.columns = ['A', 'B', 'C', 'D']\n",
        "df2.columns = ['E', 'F', 'G', 'H']\n",
        "df3.columns = ['A', 'C', 'F', 'H']\n",
        "print(df1)"
      ],
      "metadata": {
        "colab": {
          "base_uri": "https://localhost:8080/"
        },
        "id": "_UFGPGKBDZue",
        "outputId": "f6348682-450d-4e4f-de2d-5583d17adf20"
      },
      "execution_count": null,
      "outputs": [
        {
          "output_type": "stream",
          "name": "stdout",
          "text": [
            "    A   B   C   D\n",
            "0  a0  b0  c0  d0\n",
            "1  a1  b1  c1  d1\n",
            "2  a2  b2  c2  d2\n",
            "3  a3  b3  c3  d3\n"
          ]
        }
      ]
    },
    {
      "cell_type": "code",
      "source": [
        "print(df2)"
      ],
      "metadata": {
        "colab": {
          "base_uri": "https://localhost:8080/"
        },
        "id": "aiWetkF1D5d_",
        "outputId": "540c4e93-2474-4f02-aeac-c768cefc4377"
      },
      "execution_count": null,
      "outputs": [
        {
          "output_type": "stream",
          "name": "stdout",
          "text": [
            "    E   F   G   H\n",
            "0  a4  b4  c4  d4\n",
            "1  a5  b5  c5  d5\n",
            "2  a6  b6  c6  d6\n",
            "3  a7  b7  c7  d7\n"
          ]
        }
      ]
    },
    {
      "cell_type": "code",
      "source": [
        "print(df3)"
      ],
      "metadata": {
        "colab": {
          "base_uri": "https://localhost:8080/"
        },
        "id": "5NE6e-jSD61a",
        "outputId": "c0eb16c3-6baf-4897-8da2-689567f9ef6f"
      },
      "execution_count": null,
      "outputs": [
        {
          "output_type": "stream",
          "name": "stdout",
          "text": [
            "     A    C    F    H\n",
            "0   a8   b8   c8   d8\n",
            "1   a9   b9   c9   d9\n",
            "2  a10  b10  c10  d10\n",
            "3  a11  b11  c11  d11\n"
          ]
        }
      ]
    },
    {
      "cell_type": "code",
      "source": [
        "#2. concat() 함수를 사용하여 열을 자동으로 정렬하고 결측값은 NaN으로 채우기\n",
        "row_concat = pd.concat([df1, df2, df3])\n",
        "print(row_concat)"
      ],
      "metadata": {
        "colab": {
          "base_uri": "https://localhost:8080/"
        },
        "id": "L9L6qgX6D8uQ",
        "outputId": "55a414d4-d2ac-4918-b4a5-6a30c5400c3c"
      },
      "execution_count": null,
      "outputs": [
        {
          "output_type": "stream",
          "name": "stdout",
          "text": [
            "     A    B    C    D    E    F    G    H\n",
            "0   a0   b0   c0   d0  NaN  NaN  NaN  NaN\n",
            "1   a1   b1   c1   d1  NaN  NaN  NaN  NaN\n",
            "2   a2   b2   c2   d2  NaN  NaN  NaN  NaN\n",
            "3   a3   b3   c3   d3  NaN  NaN  NaN  NaN\n",
            "0  NaN  NaN  NaN  NaN   a4   b4   c4   d4\n",
            "1  NaN  NaN  NaN  NaN   a5   b5   c5   d5\n",
            "2  NaN  NaN  NaN  NaN   a6   b6   c6   d6\n",
            "3  NaN  NaN  NaN  NaN   a7   b7   c7   d7\n",
            "0   a8  NaN   b8  NaN  NaN   c8  NaN   d8\n",
            "1   a9  NaN   b9  NaN  NaN   c9  NaN   d9\n",
            "2  a10  NaN  b10  NaN  NaN  c10  NaN  d10\n",
            "3  a11  NaN  b11  NaN  NaN  c11  NaN  d11\n"
          ]
        }
      ]
    },
    {
      "cell_type": "code",
      "source": [
        "#3. NaN값을 포함하지 않는 한 가지 방법은 연결할 객체 사이에 공통인 열만 유지하는 것\n",
        "# 매개변수 join에 inner를 설정하면 데이터셋 사이에 공통인 열만 유지됨\n",
        "# 이번 예에서 공통인 열은 없으므로 'inner'로 설정하면 빈데이터프레임만 남음\n",
        "print(pd.concat([df1, df2, df3], join = 'inner'))"
      ],
      "metadata": {
        "colab": {
          "base_uri": "https://localhost:8080/"
        },
        "id": "-vXuJLhzEVdW",
        "outputId": "75ac4bb0-a15b-4542-c352-3f4506db27a2"
      },
      "execution_count": null,
      "outputs": [
        {
          "output_type": "stream",
          "name": "stdout",
          "text": [
            "Empty DataFrame\n",
            "Columns: []\n",
            "Index: [0, 1, 2, 3, 0, 1, 2, 3, 0, 1, 2, 3]\n"
          ]
        }
      ]
    },
    {
      "cell_type": "code",
      "source": [
        "#4. df1과 df3의 A,C열이 공통이므로 두 데이터프레임을 join = 'inner'로 연결하면 공통된 열만 나타남\n",
        "print(pd.concat([df1, df3], ignore_index=False, join='inner'))"
      ],
      "metadata": {
        "colab": {
          "base_uri": "https://localhost:8080/"
        },
        "id": "8e-yxkDOE6GZ",
        "outputId": "b0d919aa-c8df-4e9e-eea7-edd57e21f96f"
      },
      "execution_count": null,
      "outputs": [
        {
          "output_type": "stream",
          "name": "stdout",
          "text": [
            "     A    C\n",
            "0   a0   c0\n",
            "1   a1   c1\n",
            "2   a2   c2\n",
            "3   a3   c3\n",
            "0   a8   b8\n",
            "1   a9   b9\n",
            "2  a10  b10\n",
            "3  a11  b11\n"
          ]
        }
      ]
    },
    {
      "cell_type": "markdown",
      "source": [
        "### 인덱스가 다른 데이터 열 방향 연결하기"
      ],
      "metadata": {
        "id": "htPeuFqBFqsc"
      }
    },
    {
      "cell_type": "code",
      "source": [
        "#1. 3개의 데이터프레임이 서로 다른 인덱스\n",
        "df1.index = [0,1,2,3]\n",
        "df2.index = [4,5,6,7]\n",
        "df3.index = [0,2,5,7]\n",
        "print(df1)"
      ],
      "metadata": {
        "colab": {
          "base_uri": "https://localhost:8080/"
        },
        "id": "FVveyU8MFufr",
        "outputId": "c9bf2cce-c580-447d-a61e-d5c894626f19"
      },
      "execution_count": null,
      "outputs": [
        {
          "output_type": "stream",
          "name": "stdout",
          "text": [
            "    A   B   C   D\n",
            "0  a0  b0  c0  d0\n",
            "1  a1  b1  c1  d1\n",
            "2  a2  b2  c2  d2\n",
            "3  a3  b3  c3  d3\n"
          ]
        }
      ]
    },
    {
      "cell_type": "code",
      "source": [
        "print(df2)"
      ],
      "metadata": {
        "colab": {
          "base_uri": "https://localhost:8080/"
        },
        "id": "f5Xvdw0fF_SE",
        "outputId": "767f20a3-6e93-4ac2-b369-03d4d67effd9"
      },
      "execution_count": null,
      "outputs": [
        {
          "output_type": "stream",
          "name": "stdout",
          "text": [
            "    E   F   G   H\n",
            "4  a4  b4  c4  d4\n",
            "5  a5  b5  c5  d5\n",
            "6  a6  b6  c6  d6\n",
            "7  a7  b7  c7  d7\n"
          ]
        }
      ]
    },
    {
      "cell_type": "code",
      "source": [
        "print(df3)"
      ],
      "metadata": {
        "colab": {
          "base_uri": "https://localhost:8080/"
        },
        "id": "OO5IY3CNGAxI",
        "outputId": "d8834192-1850-4850-cdfb-095f8769103a"
      },
      "execution_count": null,
      "outputs": [
        {
          "output_type": "stream",
          "name": "stdout",
          "text": [
            "     A    C    F    H\n",
            "0   a8   b8   c8   d8\n",
            "2   a9   b9   c9   d9\n",
            "5  a10  b10  c10  d10\n",
            "7  a11  b11  c11  d11\n"
          ]
        }
      ]
    },
    {
      "cell_type": "code",
      "source": [
        "#2. axis = 1 또는 axis =\"columns\"로 연결하면 새로운 데이터프레임을 열 방향으로 연결하고 인덱스가 같은 행끼리 연결한다.\n",
        "col_concat = pd.concat([df1, df2, df3], axis='columns')\n",
        "print(col_concat)"
      ],
      "metadata": {
        "colab": {
          "base_uri": "https://localhost:8080/"
        },
        "id": "d3N_GTFOGCrG",
        "outputId": "a61e1e13-bf75-46ee-c42b-6c9cc3672724"
      },
      "execution_count": null,
      "outputs": [
        {
          "output_type": "stream",
          "name": "stdout",
          "text": [
            "     A    B    C    D    E    F    G    H    A    C    F    H\n",
            "0   a0   b0   c0   d0  NaN  NaN  NaN  NaN   a8   b8   c8   d8\n",
            "1   a1   b1   c1   d1  NaN  NaN  NaN  NaN  NaN  NaN  NaN  NaN\n",
            "2   a2   b2   c2   d2  NaN  NaN  NaN  NaN   a9   b9   c9   d9\n",
            "3   a3   b3   c3   d3  NaN  NaN  NaN  NaN  NaN  NaN  NaN  NaN\n",
            "4  NaN  NaN  NaN  NaN   a4   b4   c4   d4  NaN  NaN  NaN  NaN\n",
            "5  NaN  NaN  NaN  NaN   a5   b5   c5   d5  a10  b10  c10  d10\n",
            "6  NaN  NaN  NaN  NaN   a6   b6   c6   d6  NaN  NaN  NaN  NaN\n",
            "7  NaN  NaN  NaN  NaN   a7   b7   c7   d7  a11  b11  c11  d11\n"
          ]
        }
      ]
    },
    {
      "cell_type": "code",
      "source": [
        "#3. 마찬가지로 join = \"inner\"로 지정하면 인덱스가 공통인 데이터만 연결한다\n",
        "print(pd.concat([df1,df3], axis=\"columns\", join='inner'))"
      ],
      "metadata": {
        "colab": {
          "base_uri": "https://localhost:8080/"
        },
        "id": "LIL4RTbLGcCQ",
        "outputId": "fb7c469b-952d-4aa4-eb42-1219ba339bbc"
      },
      "execution_count": null,
      "outputs": [
        {
          "output_type": "stream",
          "name": "stdout",
          "text": [
            "    A   B   C   D   A   C   F   H\n",
            "0  a0  b0  c0  d0  a8  b8  c8  d8\n",
            "2  a2  b2  c2  d2  a9  b9  c9  d9\n"
          ]
        }
      ]
    },
    {
      "cell_type": "markdown",
      "source": [
        "# **07-3. 분할된 데이터 연결하기**"
      ],
      "metadata": {
        "id": "FRwh9bdTW6zC"
      }
    },
    {
      "cell_type": "markdown",
      "source": [
        "### 여러 개의 파일로 분할된 데이터 연결하기"
      ],
      "metadata": {
        "id": "j6XLQx41XICJ"
      }
    },
    {
      "cell_type": "code",
      "source": [
        "#1. 파이썬 내장 pathlib 모듈을 사용하여 특정 파일 이름 규칙의 모든 파일을 불러오기\n",
        "import pandas as pd\n",
        "from pathlib import Path\n",
        "\n",
        "billboard_data_files = (\n",
        "    Path(\".\")\n",
        "    .glob(\"billboard-*.csv\")\n",
        ")\n",
        "\n",
        "billboard_data_files = sorted(list(billboard_data_files))\n",
        "print(billboard_data_files)"
      ],
      "metadata": {
        "colab": {
          "base_uri": "https://localhost:8080/"
        },
        "id": "ysa3mISSXAhC",
        "outputId": "6b30ef8c-b10c-4d78-9bcf-cc3914be9543"
      },
      "execution_count": null,
      "outputs": [
        {
          "output_type": "stream",
          "name": "stdout",
          "text": [
            "[PosixPath('billboard-01.csv'), PosixPath('billboard-02.csv'), PosixPath('billboard-03.csv'), PosixPath('billboard-04.csv'), PosixPath('billboard-05.csv'), PosixPath('billboard-06.csv'), PosixPath('billboard-07.csv'), PosixPath('billboard-08.csv'), PosixPath('billboard-09.csv'), PosixPath('billboard-10.csv'), PosixPath('billboard-11.csv'), PosixPath('billboard-12.csv'), PosixPath('billboard-13.csv'), PosixPath('billboard-14.csv'), PosixPath('billboard-15.csv'), PosixPath('billboard-16.csv'), PosixPath('billboard-17.csv'), PosixPath('billboard-18.csv'), PosixPath('billboard-19.csv'), PosixPath('billboard-20.csv'), PosixPath('billboard-21.csv'), PosixPath('billboard-22.csv'), PosixPath('billboard-23.csv'), PosixPath('billboard-24.csv'), PosixPath('billboard-25.csv'), PosixPath('billboard-26.csv'), PosixPath('billboard-27.csv'), PosixPath('billboard-28.csv'), PosixPath('billboard-29.csv'), PosixPath('billboard-30.csv'), PosixPath('billboard-31.csv'), PosixPath('billboard-32.csv'), PosixPath('billboard-33.csv'), PosixPath('billboard-34.csv'), PosixPath('billboard-35.csv'), PosixPath('billboard-36.csv'), PosixPath('billboard-37.csv'), PosixPath('billboard-38.csv'), PosixPath('billboard-39.csv'), PosixPath('billboard-40.csv'), PosixPath('billboard-41.csv'), PosixPath('billboard-42.csv'), PosixPath('billboard-43.csv'), PosixPath('billboard-44.csv'), PosixPath('billboard-45.csv'), PosixPath('billboard-46.csv'), PosixPath('billboard-47.csv'), PosixPath('billboard-48.csv'), PosixPath('billboard-49.csv'), PosixPath('billboard-50.csv'), PosixPath('billboard-51.csv'), PosixPath('billboard-52.csv'), PosixPath('billboard-53.csv'), PosixPath('billboard-54.csv'), PosixPath('billboard-55.csv'), PosixPath('billboard-56.csv'), PosixPath('billboard-57.csv'), PosixPath('billboard-58.csv'), PosixPath('billboard-59.csv'), PosixPath('billboard-60.csv'), PosixPath('billboard-61.csv'), PosixPath('billboard-62.csv'), PosixPath('billboard-63.csv'), PosixPath('billboard-64.csv'), PosixPath('billboard-65.csv'), PosixPath('billboard-66.csv'), PosixPath('billboard-67.csv'), PosixPath('billboard-68.csv'), PosixPath('billboard-69.csv'), PosixPath('billboard-70.csv'), PosixPath('billboard-71.csv'), PosixPath('billboard-72.csv'), PosixPath('billboard-73.csv'), PosixPath('billboard-74.csv'), PosixPath('billboard-75.csv'), PosixPath('billboard-76.csv')]\n"
          ]
        }
      ]
    },
    {
      "cell_type": "code",
      "source": [
        "#2. billboard_data_files는 제너레이터이다. 한 번 사용하면 내용이 사라진다. 그러므로 전체 파일 목록을 확인하고 싶으면 리스트로 변환해야함\n",
        "billboard_data_files = list(billboard_data_files)"
      ],
      "metadata": {
        "id": "12MURTlZZpEU"
      },
      "execution_count": null,
      "outputs": []
    },
    {
      "cell_type": "code",
      "source": [
        "#3. 파일 이름 리스트를 구했으므로 각 파일을 데이터프레임으로 불러오기\n",
        "billboard01 = pd.read_csv(billboard_data_files[0])\n",
        "billboard02 = pd.read_csv(billboard_data_files[1])\n",
        "billboard03 = pd.read_csv(billboard_data_files[2])\n",
        "\n",
        "print(billboard01)"
      ],
      "metadata": {
        "colab": {
          "base_uri": "https://localhost:8080/"
        },
        "id": "-7JXV71paBI7",
        "outputId": "8e5c4149-5b16-48b8-a118-9f4a1e4afa09"
      },
      "execution_count": null,
      "outputs": [
        {
          "output_type": "stream",
          "name": "stdout",
          "text": [
            "     year            artist                    track  time date.entered week  \\\n",
            "0    2000             2 Pac  Baby Don't Cry (Keep...  4:22   2000-02-26  wk1   \n",
            "1    2000           2Ge+her  The Hardest Part Of ...  3:15   2000-09-02  wk1   \n",
            "2    2000      3 Doors Down               Kryptonite  3:53   2000-04-08  wk1   \n",
            "3    2000      3 Doors Down                    Loser  4:24   2000-10-21  wk1   \n",
            "4    2000          504 Boyz            Wobble Wobble  3:35   2000-04-15  wk1   \n",
            "..    ...               ...                      ...   ...          ...  ...   \n",
            "312  2000       Yankee Grey     Another Nine Minutes  3:10   2000-04-29  wk1   \n",
            "313  2000  Yearwood, Trisha          Real Live Woman  3:55   2000-04-01  wk1   \n",
            "314  2000   Ying Yang Twins  Whistle While You Tw...  4:19   2000-03-18  wk1   \n",
            "315  2000     Zombie Nation            Kernkraft 400  3:30   2000-09-02  wk1   \n",
            "316  2000   matchbox twenty                     Bent  4:12   2000-04-29  wk1   \n",
            "\n",
            "     rating  \n",
            "0      87.0  \n",
            "1      91.0  \n",
            "2      81.0  \n",
            "3      76.0  \n",
            "4      57.0  \n",
            "..      ...  \n",
            "312    86.0  \n",
            "313    85.0  \n",
            "314    95.0  \n",
            "315    99.0  \n",
            "316    60.0  \n",
            "\n",
            "[317 rows x 7 columns]\n"
          ]
        }
      ]
    },
    {
      "cell_type": "code",
      "source": [
        "#4. 데이터 연결하기. 이전에 데이터 확인\n",
        "print(billboard01.shape)\n",
        "print(billboard02.shape)\n",
        "print(billboard03.shape)\n",
        "#concat() 함수로 불러온 데이터 연결\n",
        "billboard = pd.concat([billboard01, billboard02, billboard03])\n",
        "print(billboard.shape)"
      ],
      "metadata": {
        "colab": {
          "base_uri": "https://localhost:8080/"
        },
        "id": "MybtRi6pa3zD",
        "outputId": "841f29e5-5f24-4f50-d105-5aee54773db4"
      },
      "execution_count": null,
      "outputs": [
        {
          "output_type": "stream",
          "name": "stdout",
          "text": [
            "(317, 7)\n",
            "(317, 7)\n",
            "(317, 7)\n",
            "(951, 7)\n"
          ]
        }
      ]
    },
    {
      "cell_type": "markdown",
      "source": [
        "### 루프 구문으로 여러개의 파일 불러오기"
      ],
      "metadata": {
        "id": "MtlZ9zvLbvCu"
      }
    },
    {
      "cell_type": "code",
      "source": [
        "#1. 빈 리스트를 만들고 루프를 사용하여 각 CSV 파일을 순회하면서 판다스 데이터프레임으로 불러오고 마지막으로 데이터프레임을 리스트에 추가\n",
        "from pathlib import Path\n",
        "\n",
        "billboard_data_files = (\n",
        "    Path(\".\")\n",
        "    .glob(\"billboard-*.csv\")\n",
        ")\n",
        "\n",
        "# 빈 리스트를 생성\n",
        "list_billboard_df = []\n",
        "\n",
        "# CSV 파일명 리스트를 순회합니다.\n",
        "for csv_filename in billboard_data_files:\n",
        "  df = pd.read_csv(csv_filename)\n",
        "  list_billboard_df.append(df)\n",
        "\n",
        "print(len(list_billboard_df))"
      ],
      "metadata": {
        "colab": {
          "base_uri": "https://localhost:8080/"
        },
        "id": "KGb5M9N-b1TO",
        "outputId": "5aa093bd-eb36-4a21-f427-cdeed9dccee0"
      },
      "execution_count": null,
      "outputs": [
        {
          "output_type": "stream",
          "name": "stdout",
          "text": [
            "76\n"
          ]
        }
      ]
    },
    {
      "cell_type": "code",
      "source": [
        "#2. list_billboard_df의 첫 번쨰 요소의 유형은 DataFrame이다\n",
        "print(type(list_billboard_df[0]))"
      ],
      "metadata": {
        "colab": {
          "base_uri": "https://localhost:8080/"
        },
        "id": "wdM83pESdrsV",
        "outputId": "505f64a0-c208-40cf-8ca8-301f87b1a7ea"
      },
      "execution_count": null,
      "outputs": [
        {
          "output_type": "stream",
          "name": "stdout",
          "text": [
            "<class 'pandas.core.frame.DataFrame'>\n"
          ]
        }
      ]
    },
    {
      "cell_type": "code",
      "source": [
        "#3. concat() 함수로 데이터프레임 리스트 연결하기\n",
        "billboard_loop_concat = pd.concat(list_billboard_df)\n",
        "print(billboard_loop_concat.shape)"
      ],
      "metadata": {
        "colab": {
          "base_uri": "https://localhost:8080/"
        },
        "id": "VWXKPF5Md_P1",
        "outputId": "b50b2012-c4fd-426a-acdb-62c1792ec1b3"
      },
      "execution_count": null,
      "outputs": [
        {
          "output_type": "stream",
          "name": "stdout",
          "text": [
            "(24092, 7)\n"
          ]
        }
      ]
    },
    {
      "cell_type": "markdown",
      "source": [
        "### 리스트 컴프리헨션으로 여러 개 파일 불러오기"
      ],
      "metadata": {
        "id": "Nfnj7M1DfB1x"
      }
    },
    {
      "cell_type": "code",
      "source": [
        "#1.CSV 파일을 데이터프레임으로 저장하는 것은 리스트 컴프리헨션으로도 가능하다.\n",
        "billboard_data_files = (\n",
        "    Path(\".\")\n",
        "    .glob(\"billboard-*.csv\")\n",
        ")\n",
        "# for문으로 데이터프레임을 리스트로 저장하기\n",
        "list_billboard_df = []\n",
        "for csv_filname in billboard_data_files:\n",
        "  df = pd.read_csv(csv_filname)\n",
        "  list_billboard_df.append(df)\n",
        "\n",
        "billboard_data_files = (\n",
        "    Path(\".\")\n",
        "    .glob(\"billboard-*.csv\")\n",
        ")\n",
        "# 리스트 컴프리헨션으로 데이터프레임을 리스트로 저장하기\n",
        "billboard_dfs = [pd.read_csv(data) for data in billboard_data_files]"
      ],
      "metadata": {
        "id": "UZuZC2JcfHer"
      },
      "execution_count": null,
      "outputs": []
    },
    {
      "cell_type": "code",
      "source": [
        "#2. concat()을 호출하면 데이터를 연결할 수 있다\n",
        "billboard_concat_comp = pd.concat(billboard_dfs)\n",
        "print(billboard_concat_comp)"
      ],
      "metadata": {
        "colab": {
          "base_uri": "https://localhost:8080/"
        },
        "id": "7nFjP2PsgtkV",
        "outputId": "c78351b9-5ece-4852-ad17-15d6ccfbc09b"
      },
      "execution_count": null,
      "outputs": [
        {
          "output_type": "stream",
          "name": "stdout",
          "text": [
            "     year            artist                    track  time date.entered  week  \\\n",
            "0    2000             2 Pac  Baby Don't Cry (Keep...  4:22   2000-02-26  wk60   \n",
            "1    2000           2Ge+her  The Hardest Part Of ...  3:15   2000-09-02  wk60   \n",
            "2    2000      3 Doors Down               Kryptonite  3:53   2000-04-08  wk60   \n",
            "3    2000      3 Doors Down                    Loser  4:24   2000-10-21  wk60   \n",
            "4    2000          504 Boyz            Wobble Wobble  3:35   2000-04-15  wk60   \n",
            "..    ...               ...                      ...   ...          ...   ...   \n",
            "312  2000       Yankee Grey     Another Nine Minutes  3:10   2000-04-29  wk47   \n",
            "313  2000  Yearwood, Trisha          Real Live Woman  3:55   2000-04-01  wk47   \n",
            "314  2000   Ying Yang Twins  Whistle While You Tw...  4:19   2000-03-18  wk47   \n",
            "315  2000     Zombie Nation            Kernkraft 400  3:30   2000-09-02  wk47   \n",
            "316  2000   matchbox twenty                     Bent  4:12   2000-04-29  wk47   \n",
            "\n",
            "     rating  \n",
            "0       NaN  \n",
            "1       NaN  \n",
            "2       NaN  \n",
            "3       NaN  \n",
            "4       NaN  \n",
            "..      ...  \n",
            "312     NaN  \n",
            "313     NaN  \n",
            "314     NaN  \n",
            "315     NaN  \n",
            "316     NaN  \n",
            "\n",
            "[24092 rows x 7 columns]\n"
          ]
        }
      ]
    },
    {
      "cell_type": "markdown",
      "source": [
        "# 07-4. 여러 데이터셋 병합하기"
      ],
      "metadata": {
        "id": "uLHG-RinhPJI"
      }
    },
    {
      "cell_type": "markdown",
      "source": [
        "2개 이상의 데이터프레임에서 공통된 데이터를 기준으로 연결하고 싶을 때, 이러한 작업을 데이터베이스 분야에서는 병합(merge) 또는 조인(join)이라고 한다. join은 인덱스를 기준으로 데이터프레임 객체를 병합하지만 merge() 메서드는 훨씬 더 명시적이고 유연한 병합이 가능하다."
      ],
      "metadata": {
        "id": "yObkWCrChsEY"
      }
    },
    {
      "cell_type": "code",
      "source": [
        "#1. 관측 데이터셋 불러오기\n",
        "person = pd.read_csv('survey_person.csv')\n",
        "site = pd.read_csv('survey_site.csv')\n",
        "survey = pd.read_csv('survey_survey.csv')\n",
        "visited = pd.read_csv('survey_visited.csv')\n",
        "print(person)"
      ],
      "metadata": {
        "colab": {
          "base_uri": "https://localhost:8080/"
        },
        "id": "1TItLz_shT8i",
        "outputId": "9d8f6f10-4dfb-4872-f19b-f8ec964ed306"
      },
      "execution_count": null,
      "outputs": [
        {
          "output_type": "stream",
          "name": "stdout",
          "text": [
            "      ident   personal    family\n",
            "0      dyer    William      Dyer\n",
            "1        pb      Frank   Pabodie\n",
            "2      lake   Anderson      Lake\n",
            "3       roe  Valentina   Roerich\n",
            "4  danforth      Frank  Danforth\n"
          ]
        }
      ]
    },
    {
      "cell_type": "code",
      "source": [
        "print(site) #visited 데이터프레임의 site열과 공통이다"
      ],
      "metadata": {
        "colab": {
          "base_uri": "https://localhost:8080/"
        },
        "id": "V0FAgz-ojHur",
        "outputId": "9facf0ea-06ec-4660-8b9c-bf5e18a5c2c9"
      },
      "execution_count": null,
      "outputs": [
        {
          "output_type": "stream",
          "name": "stdout",
          "text": [
            "    name    lat    long\n",
            "0   DR-1 -49.85 -128.57\n",
            "1   DR-3 -47.15 -126.72\n",
            "2  MSK-4 -48.87 -123.40\n"
          ]
        }
      ]
    },
    {
      "cell_type": "code",
      "source": [
        "print(visited) #site 데이터프레임의 name 열과 공통이다"
      ],
      "metadata": {
        "colab": {
          "base_uri": "https://localhost:8080/"
        },
        "id": "QEtjXgjdjUU7",
        "outputId": "3fe6e882-54e7-4382-fe1b-2a4898498085"
      },
      "execution_count": null,
      "outputs": [
        {
          "output_type": "stream",
          "name": "stdout",
          "text": [
            "   ident   site       dated\n",
            "0    619   DR-1  1927-02-08\n",
            "1    622   DR-1  1927-02-10\n",
            "2    734   DR-3  1939-01-07\n",
            "3    735   DR-3  1930-01-12\n",
            "4    751   DR-3  1930-02-26\n",
            "5    752   DR-3         NaN\n",
            "6    837  MSK-4  1932-01-14\n",
            "7    844   DR-1  1932-03-22\n"
          ]
        }
      ]
    },
    {
      "cell_type": "code",
      "source": [
        "print(survey)"
      ],
      "metadata": {
        "colab": {
          "base_uri": "https://localhost:8080/"
        },
        "id": "Lz8QdFoXjc3D",
        "outputId": "d1dd928b-47c9-400e-d791-74cc702b9edf"
      },
      "execution_count": null,
      "outputs": [
        {
          "output_type": "stream",
          "name": "stdout",
          "text": [
            "    taken person quant  reading\n",
            "0     619   dyer   rad     9.82\n",
            "1     619   dyer   sal     0.13\n",
            "2     622   dyer   rad     7.80\n",
            "3     622   dyer   sal     0.09\n",
            "4     734     pb   rad     8.41\n",
            "5     734   lake   sal     0.05\n",
            "6     734     pb  temp   -21.50\n",
            "7     735     pb   rad     7.22\n",
            "8     735    NaN   sal     0.06\n",
            "9     735    NaN  temp   -26.00\n",
            "10    751     pb   rad     4.35\n",
            "11    751     pb  temp   -18.50\n",
            "12    751   lake   sal     0.10\n",
            "13    752   lake   rad     2.19\n",
            "14    752   lake   sal     0.09\n",
            "15    752   lake  temp   -16.00\n",
            "16    752    roe   sal    41.60\n",
            "17    837   lake   rad     1.46\n",
            "18    837   lake   sal     0.21\n",
            "19    837    roe   sal    22.50\n",
            "20    844    roe   rad    11.25\n"
          ]
        }
      ]
    },
    {
      "cell_type": "markdown",
      "source": [
        "* 위 데이터셋은 각 부분이 관측 단위인 여러 개의 부분으로 분할되었다.\n",
        "* 만약 해당 위치의 위도, 경도 정보와 함께 날짜를 확인하고 싶다면 여러 데이터프레임을 결합해야한다.  \n"
      ],
      "metadata": {
        "id": "06bu6bAuj1xf"
      }
    },
    {
      "cell_type": "markdown",
      "source": [
        "* 판다스의 merge() 메서드를 사용하면 이 작업을 수행할 수 있다.\n",
        "* merge()를 호출한 데이터프레임은 왼쪽에 있는 데이터 프레임이 된다\n",
        "* merge() 첫 번째 매개변수는 오른쪽에 있는 데이터프레임을 나타낸다\n",
        "* 따라서 left.merge(right)와 같이 메서드를 호출할 수 있다."
      ],
      "metadata": {
        "id": "3Ltw0EXWlObm"
      }
    },
    {
      "cell_type": "markdown",
      "source": [
        "**매개변수 how**는 최종 병합된 결과의 형태를 결정한다\n",
        "* left : 왼쪽 테이블의 모든 키를 유지한다\n",
        "* right : 오른쪽 테이블의 모든 키를 유지한다\n",
        "* outer : 왼쪽과 오른쪽 테이블의 모든 키를 유지한다\n",
        "* inner : 왼쪽과 오른쪽 테이블의 공통 키를 유지한다"
      ],
      "metadata": {
        "id": "yTF8zGtqlPqP"
      }
    },
    {
      "cell_type": "markdown",
      "source": [
        "**매개변수 on**은 병합 기분이 되는 열을 지정\n",
        "* 왼쪽과 오른쪽 데이터프레임의 열 이름이 서로 다르다면 on 대신 매개변수 left_on과 right_on을 사용한다."
      ],
      "metadata": {
        "id": "w7lF8dcQm7wm"
      }
    },
    {
      "cell_type": "markdown",
      "source": [
        "### 일대일 병합하기"
      ],
      "metadata": {
        "id": "f1hZuS2pnhCk"
      }
    },
    {
      "cell_type": "code",
      "source": [
        "#1. 데이터프레임의 site 열에 중복값이 중복값이 없도록 일부 데이터만 떼어 실습\n",
        "visited_subset = visited.loc[[0,2,6],:]\n",
        "print(visited_subset)"
      ],
      "metadata": {
        "colab": {
          "base_uri": "https://localhost:8080/"
        },
        "id": "ywKBcNY4nfe-",
        "outputId": "c8b7b9d3-ae67-4d21-b71d-70d99618bf1c"
      },
      "execution_count": null,
      "outputs": [
        {
          "output_type": "stream",
          "name": "stdout",
          "text": [
            "   ident   site       dated\n",
            "0    619   DR-1  1927-02-08\n",
            "2    734   DR-3  1939-01-07\n",
            "6    837  MSK-4  1932-01-14\n"
          ]
        }
      ]
    },
    {
      "cell_type": "code",
      "source": [
        "#2. merge()메서드의 매개변수 how의 기본값은 'inner'이므로 내부 조인을 실행, 데이터프레임 site를 왼쪽으로, 인수로 전달한 visited_subset을 오른쪽으로 지정\n",
        "o2o_merge = site.merge(visited_subset, left_on = \"name\", right_on = \"site\")\n",
        "print(o2o_merge)"
      ],
      "metadata": {
        "colab": {
          "base_uri": "https://localhost:8080/"
        },
        "id": "GzcMn3fkoHQh",
        "outputId": "34abe9a4-84aa-479c-e80f-2841dae1d15e"
      },
      "execution_count": null,
      "outputs": [
        {
          "output_type": "stream",
          "name": "stdout",
          "text": [
            "    name    lat    long  ident   site       dated\n",
            "0   DR-1 -49.85 -128.57    619   DR-1  1927-02-08\n",
            "1   DR-3 -47.15 -126.72    734   DR-3  1939-01-07\n",
            "2  MSK-4 -48.87 -123.40    837  MSK-4  1932-01-14\n"
          ]
        }
      ]
    },
    {
      "cell_type": "markdown",
      "source": [
        "### 다대일 병합하기"
      ],
      "metadata": {
        "id": "w6z_OttXo4NV"
      }
    },
    {
      "cell_type": "markdown",
      "source": [
        "* visited 데이터프레임의 일부가 아닌 전체를 대상으로 병합\n",
        "* 왼쪽 데이터프레임에 중복된 site값이 있으므로 다대일 병합이 발생\n",
        "* 다대일 병합에서는 한쪽 데이터프레임의 키를 여러번 사용합니다."
      ],
      "metadata": {
        "id": "jmt6y5d5pGFZ"
      }
    },
    {
      "cell_type": "code",
      "source": [
        "#1. visited의 site 열에 있는 중복값의 개수 살펴보기\n",
        "print(visited[\"site\"].value_counts())"
      ],
      "metadata": {
        "colab": {
          "base_uri": "https://localhost:8080/"
        },
        "id": "wolP2DtZo82h",
        "outputId": "d84b81a1-ca65-4eb6-93b5-4bc77f7764c8"
      },
      "execution_count": null,
      "outputs": [
        {
          "output_type": "stream",
          "name": "stdout",
          "text": [
            "site\n",
            "DR-3     4\n",
            "DR-1     3\n",
            "MSK-4    1\n",
            "Name: count, dtype: int64\n"
          ]
        }
      ]
    },
    {
      "cell_type": "code",
      "source": [
        "#2. site 열에 중복값이 있는 visited 데이터프레임과 병합할 때 값을 여러 번 반복합니다\n",
        "m2o_merge = site.merge(visited, left_on = 'name', right_on = 'site')\n",
        "print(m2o_merge)"
      ],
      "metadata": {
        "colab": {
          "base_uri": "https://localhost:8080/"
        },
        "id": "VWtt0r5Ppvfi",
        "outputId": "d22b4d32-3f5f-424f-f91c-81bbaad4e86b"
      },
      "execution_count": null,
      "outputs": [
        {
          "output_type": "stream",
          "name": "stdout",
          "text": [
            "    name    lat    long  ident   site       dated\n",
            "0   DR-1 -49.85 -128.57    619   DR-1  1927-02-08\n",
            "1   DR-1 -49.85 -128.57    622   DR-1  1927-02-10\n",
            "2   DR-1 -49.85 -128.57    844   DR-1  1932-03-22\n",
            "3   DR-3 -47.15 -126.72    734   DR-3  1939-01-07\n",
            "4   DR-3 -47.15 -126.72    735   DR-3  1930-01-12\n",
            "5   DR-3 -47.15 -126.72    751   DR-3  1930-02-26\n",
            "6   DR-3 -47.15 -126.72    752   DR-3         NaN\n",
            "7  MSK-4 -48.87 -123.40    837  MSK-4  1932-01-14\n"
          ]
        }
      ]
    },
    {
      "cell_type": "markdown",
      "source": [
        "### 다대다 병합하기"
      ],
      "metadata": {
        "id": "CMqMoxXyqagw"
      }
    },
    {
      "cell_type": "code",
      "source": [
        "#1. person의 ident 열과 survey의 person 열의 값을 기준으로 두 데이터프레임을 병합하고, visited의 ident 열과 survey의 taken 열의 값을 기준으로 두 데이터프레임을 병합\n",
        "ps = person.merge(survey, left_on = 'ident', right_on = 'person')\n",
        "vs = visited.merge(survey, left_on='ident', right_on = 'taken')\n",
        "print(ps)"
      ],
      "metadata": {
        "colab": {
          "base_uri": "https://localhost:8080/"
        },
        "id": "WwvMd_vgAOqP",
        "outputId": "4a142dd8-b695-4d2d-b0f5-fc82f7a17c73"
      },
      "execution_count": null,
      "outputs": [
        {
          "output_type": "stream",
          "name": "stdout",
          "text": [
            "   ident   personal   family  taken person quant  reading\n",
            "0   dyer    William     Dyer    619   dyer   rad     9.82\n",
            "1   dyer    William     Dyer    619   dyer   sal     0.13\n",
            "2   dyer    William     Dyer    622   dyer   rad     7.80\n",
            "3   dyer    William     Dyer    622   dyer   sal     0.09\n",
            "4     pb      Frank  Pabodie    734     pb   rad     8.41\n",
            "5     pb      Frank  Pabodie    734     pb  temp   -21.50\n",
            "6     pb      Frank  Pabodie    735     pb   rad     7.22\n",
            "7     pb      Frank  Pabodie    751     pb   rad     4.35\n",
            "8     pb      Frank  Pabodie    751     pb  temp   -18.50\n",
            "9   lake   Anderson     Lake    734   lake   sal     0.05\n",
            "10  lake   Anderson     Lake    751   lake   sal     0.10\n",
            "11  lake   Anderson     Lake    752   lake   rad     2.19\n",
            "12  lake   Anderson     Lake    752   lake   sal     0.09\n",
            "13  lake   Anderson     Lake    752   lake  temp   -16.00\n",
            "14  lake   Anderson     Lake    837   lake   rad     1.46\n",
            "15  lake   Anderson     Lake    837   lake   sal     0.21\n",
            "16   roe  Valentina  Roerich    752    roe   sal    41.60\n",
            "17   roe  Valentina  Roerich    837    roe   sal    22.50\n",
            "18   roe  Valentina  Roerich    844    roe   rad    11.25\n"
          ]
        }
      ]
    },
    {
      "cell_type": "code",
      "source": [
        "print(vs)"
      ],
      "metadata": {
        "colab": {
          "base_uri": "https://localhost:8080/"
        },
        "id": "z0gcV9FECZME",
        "outputId": "4fd6833d-8905-41e4-ad5d-15e8720ba12c"
      },
      "execution_count": null,
      "outputs": [
        {
          "output_type": "stream",
          "name": "stdout",
          "text": [
            "    ident   site       dated  taken person quant  reading\n",
            "0     619   DR-1  1927-02-08    619   dyer   rad     9.82\n",
            "1     619   DR-1  1927-02-08    619   dyer   sal     0.13\n",
            "2     622   DR-1  1927-02-10    622   dyer   rad     7.80\n",
            "3     622   DR-1  1927-02-10    622   dyer   sal     0.09\n",
            "4     734   DR-3  1939-01-07    734     pb   rad     8.41\n",
            "5     734   DR-3  1939-01-07    734   lake   sal     0.05\n",
            "6     734   DR-3  1939-01-07    734     pb  temp   -21.50\n",
            "7     735   DR-3  1930-01-12    735     pb   rad     7.22\n",
            "8     735   DR-3  1930-01-12    735    NaN   sal     0.06\n",
            "9     735   DR-3  1930-01-12    735    NaN  temp   -26.00\n",
            "10    751   DR-3  1930-02-26    751     pb   rad     4.35\n",
            "11    751   DR-3  1930-02-26    751     pb  temp   -18.50\n",
            "12    751   DR-3  1930-02-26    751   lake   sal     0.10\n",
            "13    752   DR-3         NaN    752   lake   rad     2.19\n",
            "14    752   DR-3         NaN    752   lake   sal     0.09\n",
            "15    752   DR-3         NaN    752   lake  temp   -16.00\n",
            "16    752   DR-3         NaN    752    roe   sal    41.60\n",
            "17    837  MSK-4  1932-01-14    837   lake   rad     1.46\n",
            "18    837  MSK-4  1932-01-14    837   lake   sal     0.21\n",
            "19    837  MSK-4  1932-01-14    837    roe   sal    22.50\n",
            "20    844   DR-1  1932-03-22    844    roe   rad    11.25\n"
          ]
        }
      ]
    },
    {
      "cell_type": "code",
      "source": [
        "#2. ps를 왼쪽 데이터프레임, vs를 오른쪽 데이터프레임으로 하여 quant 열을 기준으로 병합한다면?, 양쪽 데이터프레임 모두 quant 열에 중복값이 있으므로 다대다 병합이 일어난다.\n",
        "# 각 데이터프레임의 quant 열에 중복값이 얼마나 있는지 살펴보기\n",
        "print(ps[\"quant\"].value_counts())\n",
        "print(vs[\"quant\"].value_counts())"
      ],
      "metadata": {
        "colab": {
          "base_uri": "https://localhost:8080/"
        },
        "id": "EC-o-bZPCmPM",
        "outputId": "c01e06fb-ddbf-49ba-f585-f6da1d934e6a"
      },
      "execution_count": null,
      "outputs": [
        {
          "output_type": "stream",
          "name": "stdout",
          "text": [
            "quant\n",
            "rad     8\n",
            "sal     8\n",
            "temp    3\n",
            "Name: count, dtype: int64\n",
            "quant\n",
            "sal     9\n",
            "rad     8\n",
            "temp    4\n",
            "Name: count, dtype: int64\n"
          ]
        }
      ]
    },
    {
      "cell_type": "code",
      "source": [
        "#3. 다대다 병합을 수행\n",
        "ps_vs = ps.merge(\n",
        "    vs,\n",
        "    left_on=[\"quant\"],\n",
        "    right_on=[\"quant\"],\n",
        ")\n",
        "\n",
        "print(ps_vs.loc[0,:])\n",
        "#판다스는 병합한 데이터에 중복된 열 이름이 생기면 자동으로 접미사를 추가한다. _x, _y와 같이 추가됨\n",
        "#일반적으로 실무에서는 다대다 병합은 하지 않으려고 한다. 모든 키의 곱집합만큼 병합이 일어나기 때문"
      ],
      "metadata": {
        "colab": {
          "base_uri": "https://localhost:8080/"
        },
        "id": "0Rkexr4-DU_2",
        "outputId": "66adda37-ac83-4025-f312-25eb2c43b7fd"
      },
      "execution_count": null,
      "outputs": [
        {
          "output_type": "stream",
          "name": "stdout",
          "text": [
            "ident_x            dyer\n",
            "personal        William\n",
            "family             Dyer\n",
            "taken_x             619\n",
            "person_x           dyer\n",
            "quant               rad\n",
            "reading_x          9.82\n",
            "ident_y             619\n",
            "site               DR-1\n",
            "dated        1927-02-08\n",
            "taken_y             619\n",
            "person_y           dyer\n",
            "reading_y          9.82\n",
            "Name: 0, dtype: object\n"
          ]
        }
      ]
    },
    {
      "cell_type": "markdown",
      "source": [
        "### assert 문으로 병합 결과 확인하기"
      ],
      "metadata": {
        "id": "BkgIWimNEPA9"
      }
    },
    {
      "cell_type": "markdown",
      "source": [
        "* 병합 전후의 결과를 확인하는 방법은 데이터 행의 개수를 확인하는 것이다.\n",
        "* 다대다 결합: 병합한 데이터프레임의 모든 행 개수 < 결과 데이터프레임의 행 개수 * 보통은 바람직하지 않은 상황이다."
      ],
      "metadata": {
        "id": "zRAr891sEaPf"
      }
    },
    {
      "cell_type": "code",
      "source": [
        "#1. ps와 vs와 ps_vs의 shape 살펴보기\n",
        "print(ps.shape)\n",
        "print(vs.shape)\n",
        "print(ps_vs.shape)"
      ],
      "metadata": {
        "colab": {
          "base_uri": "https://localhost:8080/"
        },
        "id": "h44PqcE8ETiq",
        "outputId": "5af401c8-d4e7-4178-851c-6fc90ca74039"
      },
      "execution_count": null,
      "outputs": [
        {
          "output_type": "stream",
          "name": "stdout",
          "text": [
            "(19, 7)\n",
            "(21, 7)\n",
            "(148, 13)\n"
          ]
        }
      ]
    },
    {
      "cell_type": "code",
      "source": [
        "#2. 의도대로 잘 실행되었는지 확인하는 방법은 원하는 결과가 아닐 때 오류를 발생시키는 것\n",
        "# assert문으로 조건을 검사할 수 있다.\n",
        "assert vs.shape[0] == 21\n",
        "''' assert ps_vs.shape[0] <= vs.shape[0] AssertionError 오류 발생'''\n",
        "#assert 문은 결과를 직접 보지 않아도 코드를 수행하면서 자동으로 검수하는 좋은 방법"
      ],
      "metadata": {
        "colab": {
          "base_uri": "https://localhost:8080/",
          "height": 35
        },
        "id": "UNj3XNVjFH71",
        "outputId": "293d1e44-4762-4e56-e2d9-f2ad1b74cdd1"
      },
      "execution_count": null,
      "outputs": [
        {
          "output_type": "execute_result",
          "data": {
            "text/plain": [
              "' assert ps_vs.shape[0] <= vs.shape[0] AssertionError 오류 발생'"
            ],
            "application/vnd.google.colaboratory.intrinsic+json": {
              "type": "string"
            }
          },
          "metadata": {},
          "execution_count": 42
        }
      ]
    },
    {
      "cell_type": "markdown",
      "source": [
        "# **07-5. 데이터 정규화하기**"
      ],
      "metadata": {
        "id": "pLVMuvOEF8Ee"
      }
    },
    {
      "cell_type": "markdown",
      "source": [
        "정규화: 중복과 불필요한 데이터를 없애 정보를 재구성하는 과정"
      ],
      "metadata": {
        "id": "sL1XNEPdGLuC"
      }
    },
    {
      "cell_type": "markdown",
      "source": [
        "### 표 분할하여 데이터 정규화하기"
      ],
      "metadata": {
        "id": "KCVokjdrGETt"
      }
    },
    {
      "cell_type": "code",
      "source": [
        "#1. 피벗 되돌리기하여 긴 데이터로 만든 빙보드 데이터셋 확인\n",
        "import pandas as pd\n",
        "\n",
        "billboard = pd.read_csv('billboard.csv')\n",
        "\n",
        "billboard_long = billboard.melt(\n",
        "    id_vars=[\"year\", \"artist\", \"track\", \"time\", \"date.entered\"],\n",
        "    var_name = \"week\",\n",
        "    value_name = \"rating\",\n",
        ")\n",
        "print(billboard_long)"
      ],
      "metadata": {
        "colab": {
          "base_uri": "https://localhost:8080/"
        },
        "id": "JbP04S0sGUfh",
        "outputId": "54e2ca4c-9582-46cb-eaa6-02062dad4248"
      },
      "execution_count": null,
      "outputs": [
        {
          "output_type": "stream",
          "name": "stdout",
          "text": [
            "       year            artist                    track  time date.entered  \\\n",
            "0      2000             2 Pac  Baby Don't Cry (Keep...  4:22   2000-02-26   \n",
            "1      2000           2Ge+her  The Hardest Part Of ...  3:15   2000-09-02   \n",
            "2      2000      3 Doors Down               Kryptonite  3:53   2000-04-08   \n",
            "3      2000      3 Doors Down                    Loser  4:24   2000-10-21   \n",
            "4      2000          504 Boyz            Wobble Wobble  3:35   2000-04-15   \n",
            "...     ...               ...                      ...   ...          ...   \n",
            "24087  2000       Yankee Grey     Another Nine Minutes  3:10   2000-04-29   \n",
            "24088  2000  Yearwood, Trisha          Real Live Woman  3:55   2000-04-01   \n",
            "24089  2000   Ying Yang Twins  Whistle While You Tw...  4:19   2000-03-18   \n",
            "24090  2000     Zombie Nation            Kernkraft 400  3:30   2000-09-02   \n",
            "24091  2000   matchbox twenty                     Bent  4:12   2000-04-29   \n",
            "\n",
            "       week  rating  \n",
            "0       wk1    87.0  \n",
            "1       wk1    91.0  \n",
            "2       wk1    81.0  \n",
            "3       wk1    76.0  \n",
            "4       wk1    57.0  \n",
            "...     ...     ...  \n",
            "24087  wk76     NaN  \n",
            "24088  wk76     NaN  \n",
            "24089  wk76     NaN  \n",
            "24090  wk76     NaN  \n",
            "24091  wk76     NaN  \n",
            "\n",
            "[24092 rows x 7 columns]\n"
          ]
        }
      ]
    },
    {
      "cell_type": "code",
      "source": [
        "#2. 'Loser'라는 특정 곡 데이터만 추출해 살펴보기\n",
        "print(billboard_long.loc[billboard_long.track == \"Loser\"])"
      ],
      "metadata": {
        "colab": {
          "base_uri": "https://localhost:8080/"
        },
        "id": "bQ5KBjcWHMqb",
        "outputId": "87706821-fbeb-460b-b512-13e588582523"
      },
      "execution_count": null,
      "outputs": [
        {
          "output_type": "stream",
          "name": "stdout",
          "text": [
            "       year        artist  track  time date.entered  week  rating\n",
            "3      2000  3 Doors Down  Loser  4:24   2000-10-21   wk1    76.0\n",
            "320    2000  3 Doors Down  Loser  4:24   2000-10-21   wk2    76.0\n",
            "637    2000  3 Doors Down  Loser  4:24   2000-10-21   wk3    72.0\n",
            "954    2000  3 Doors Down  Loser  4:24   2000-10-21   wk4    69.0\n",
            "1271   2000  3 Doors Down  Loser  4:24   2000-10-21   wk5    67.0\n",
            "...     ...           ...    ...   ...          ...   ...     ...\n",
            "22510  2000  3 Doors Down  Loser  4:24   2000-10-21  wk72     NaN\n",
            "22827  2000  3 Doors Down  Loser  4:24   2000-10-21  wk73     NaN\n",
            "23144  2000  3 Doors Down  Loser  4:24   2000-10-21  wk74     NaN\n",
            "23461  2000  3 Doors Down  Loser  4:24   2000-10-21  wk75     NaN\n",
            "23778  2000  3 Doors Down  Loser  4:24   2000-10-21  wk76     NaN\n",
            "\n",
            "[76 rows x 7 columns]\n"
          ]
        }
      ]
    },
    {
      "cell_type": "markdown",
      "source": [
        "곡 정보만 모아 별도의 데이터 표로 분리하기\n",
        "* 연도, 가수, 곡 , 재생 시간, 발표일이 중복되지 않을 수 있다\n",
        "* 새로운 데이터프레임으로 연도, 가수, 곡, 재생 시간, 발표일을 옮기고 각 곡에 고유한 ID를 할당"
      ],
      "metadata": {
        "id": "EwW1sTylILVc"
      }
    },
    {
      "cell_type": "code",
      "source": [
        "#3. 새로운 데이터프레임으로 옮길 4개의 열 데이터를 추출. shape로 데이터의 크기 살펴보기\n",
        "billboard_songs = billboard_long[\n",
        "    [\"year\", \"artist\", \"track\", \"time\", \"date.entered\"]\n",
        "]\n",
        "print(billboard_songs.shape)"
      ],
      "metadata": {
        "colab": {
          "base_uri": "https://localhost:8080/"
        },
        "id": "RuNQAz4SItEQ",
        "outputId": "96fe97de-f49b-4d9b-abb3-476b9d9ee068"
      },
      "execution_count": null,
      "outputs": [
        {
          "output_type": "stream",
          "name": "stdout",
          "text": [
            "(24092, 5)\n"
          ]
        }
      ]
    },
    {
      "cell_type": "code",
      "source": [
        "#4. drop_duplicates() 메서드로 중복된 값을 제거하기\n",
        "billboard_songs = billboard_songs.drop_duplicates()\n",
        "print(billboard_songs.shape)"
      ],
      "metadata": {
        "colab": {
          "base_uri": "https://localhost:8080/"
        },
        "id": "gAIja3T0JJ95",
        "outputId": "865dd10f-33c7-4821-b043-540e80d969d1"
      },
      "execution_count": null,
      "outputs": [
        {
          "output_type": "stream",
          "name": "stdout",
          "text": [
            "(317, 5)\n"
          ]
        }
      ]
    },
    {
      "cell_type": "code",
      "source": [
        "#5. 각 데이터 행에 고유한 값을 할당한다\n",
        "billboard_songs['id'] = billboard_songs.index +1\n",
        "print(billboard_songs)"
      ],
      "metadata": {
        "colab": {
          "base_uri": "https://localhost:8080/"
        },
        "id": "kODNLtkYJoQy",
        "outputId": "a4fb62aa-1e50-4445-e063-8c86b3962b47"
      },
      "execution_count": null,
      "outputs": [
        {
          "output_type": "stream",
          "name": "stdout",
          "text": [
            "     year            artist                    track  time date.entered   id\n",
            "0    2000             2 Pac  Baby Don't Cry (Keep...  4:22   2000-02-26    1\n",
            "1    2000           2Ge+her  The Hardest Part Of ...  3:15   2000-09-02    2\n",
            "2    2000      3 Doors Down               Kryptonite  3:53   2000-04-08    3\n",
            "3    2000      3 Doors Down                    Loser  4:24   2000-10-21    4\n",
            "4    2000          504 Boyz            Wobble Wobble  3:35   2000-04-15    5\n",
            "..    ...               ...                      ...   ...          ...  ...\n",
            "312  2000       Yankee Grey     Another Nine Minutes  3:10   2000-04-29  313\n",
            "313  2000  Yearwood, Trisha          Real Live Woman  3:55   2000-04-01  314\n",
            "314  2000   Ying Yang Twins  Whistle While You Tw...  4:19   2000-03-18  315\n",
            "315  2000     Zombie Nation            Kernkraft 400  3:30   2000-09-02  316\n",
            "316  2000   matchbox twenty                     Bent  4:12   2000-04-29  317\n",
            "\n",
            "[317 rows x 6 columns]\n"
          ]
        }
      ]
    },
    {
      "cell_type": "code",
      "source": [
        "#6. 데이프레임의 id열을 사용하여 곡을 주별 순위 정보에 표시한다. merge()를 사용하여 곡 정보와 관련된 4개 열을 기준으로 두 데이터프레임을 병합하면 된다\n",
        "billboard_ratings = billboard_long.merge(\n",
        "    billboard_songs, on = [\"year\", \"artist\", \"track\", \"time\", \"date.entered\"]\n",
        ")\n",
        "print(billboard_ratings.shape)"
      ],
      "metadata": {
        "colab": {
          "base_uri": "https://localhost:8080/"
        },
        "id": "daCKRacQJ68_",
        "outputId": "3780ab79-f75e-41b5-c0d1-0bed9cd95dd9"
      },
      "execution_count": null,
      "outputs": [
        {
          "output_type": "stream",
          "name": "stdout",
          "text": [
            "(24092, 8)\n"
          ]
        }
      ]
    },
    {
      "cell_type": "code",
      "source": [
        "print(billboard_ratings)"
      ],
      "metadata": {
        "colab": {
          "base_uri": "https://localhost:8080/"
        },
        "id": "-qJ089A2KjPV",
        "outputId": "d5b61b52-a71b-42c2-b868-eea77d2a3fb8"
      },
      "execution_count": null,
      "outputs": [
        {
          "output_type": "stream",
          "name": "stdout",
          "text": [
            "       year            artist                    track  time date.entered  \\\n",
            "0      2000             2 Pac  Baby Don't Cry (Keep...  4:22   2000-02-26   \n",
            "1      2000           2Ge+her  The Hardest Part Of ...  3:15   2000-09-02   \n",
            "2      2000      3 Doors Down               Kryptonite  3:53   2000-04-08   \n",
            "3      2000      3 Doors Down                    Loser  4:24   2000-10-21   \n",
            "4      2000          504 Boyz            Wobble Wobble  3:35   2000-04-15   \n",
            "...     ...               ...                      ...   ...          ...   \n",
            "24087  2000       Yankee Grey     Another Nine Minutes  3:10   2000-04-29   \n",
            "24088  2000  Yearwood, Trisha          Real Live Woman  3:55   2000-04-01   \n",
            "24089  2000   Ying Yang Twins  Whistle While You Tw...  4:19   2000-03-18   \n",
            "24090  2000     Zombie Nation            Kernkraft 400  3:30   2000-09-02   \n",
            "24091  2000   matchbox twenty                     Bent  4:12   2000-04-29   \n",
            "\n",
            "       week  rating   id  \n",
            "0       wk1    87.0    1  \n",
            "1       wk1    91.0    2  \n",
            "2       wk1    81.0    3  \n",
            "3       wk1    76.0    4  \n",
            "4       wk1    57.0    5  \n",
            "...     ...     ...  ...  \n",
            "24087  wk76     NaN  313  \n",
            "24088  wk76     NaN  314  \n",
            "24089  wk76     NaN  315  \n",
            "24090  wk76     NaN  316  \n",
            "24091  wk76     NaN  317  \n",
            "\n",
            "[24092 rows x 8 columns]\n"
          ]
        }
      ]
    },
    {
      "cell_type": "code",
      "source": [
        "billboard_ratings = billboard_ratings[\n",
        "    [\"id\", \"week\", \"rating\"]\n",
        "]\n",
        "print(billboard_ratings)"
      ],
      "metadata": {
        "colab": {
          "base_uri": "https://localhost:8080/"
        },
        "id": "SNXxo5P2KoB8",
        "outputId": "e309c78d-d2d3-4f92-cdb1-21fcc1760b70"
      },
      "execution_count": null,
      "outputs": [
        {
          "output_type": "stream",
          "name": "stdout",
          "text": [
            "        id  week  rating\n",
            "0        1   wk1    87.0\n",
            "1        2   wk1    91.0\n",
            "2        3   wk1    81.0\n",
            "3        4   wk1    76.0\n",
            "4        5   wk1    57.0\n",
            "...    ...   ...     ...\n",
            "24087  313  wk76     NaN\n",
            "24088  314  wk76     NaN\n",
            "24089  315  wk76     NaN\n",
            "24090  316  wk76     NaN\n",
            "24091  317  wk76     NaN\n",
            "\n",
            "[24092 rows x 3 columns]\n"
          ]
        }
      ]
    }
  ]
}
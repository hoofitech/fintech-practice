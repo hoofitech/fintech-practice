{
  "nbformat": 4,
  "nbformat_minor": 0,
  "metadata": {
    "colab": {
      "provenance": [],
      "authorship_tag": "ABX9TyMgyVyNghdXFcRW6Wyw1K1d",
      "include_colab_link": true
    },
    "kernelspec": {
      "name": "python3",
      "display_name": "Python 3"
    },
    "language_info": {
      "name": "python"
    }
  },
  "cells": [
    {
      "cell_type": "markdown",
      "metadata": {
        "id": "view-in-github",
        "colab_type": "text"
      },
      "source": [
        "<a href=\"https://colab.research.google.com/github/hoofitech/fintech-practice/blob/main/do-it-pandas/12.%20%20About%20timeseries%20data/12_%EC%8B%9C%EA%B3%84%EC%97%B4_%EB%8D%B0%EC%9D%B4%ED%84%B0_%EC%95%8C%EC%95%84%EB%B3%B4%EA%B8%B0.ipynb\" target=\"_parent\"><img src=\"https://colab.research.google.com/assets/colab-badge.svg\" alt=\"Open In Colab\"/></a>"
      ]
    },
    {
      "cell_type": "markdown",
      "source": [
        "# 12-1. datetime 객체 활용하기\n",
        "\n"
      ],
      "metadata": {
        "id": "tSm-rxuM2Wcx"
      }
    },
    {
      "cell_type": "code",
      "source": [
        "from datetime import datetime"
      ],
      "metadata": {
        "id": "hElq5p3g2eXg"
      },
      "execution_count": 9,
      "outputs": []
    },
    {
      "cell_type": "code",
      "source": [
        "#1. now()메서드를 사용하여 현재 날짜와 시간 정보를 확인\n",
        "now = datetime.now()\n",
        "print(now)"
      ],
      "metadata": {
        "colab": {
          "base_uri": "https://localhost:8080/"
        },
        "id": "jRl2ElhJ2_my",
        "outputId": "267a8290-804c-4bab-bc25-bed8e5826db4"
      },
      "execution_count": 10,
      "outputs": [
        {
          "output_type": "stream",
          "name": "stdout",
          "text": [
            "2025-07-27 01:38:12.848396\n"
          ]
        }
      ]
    },
    {
      "cell_type": "code",
      "source": [
        "#2. 원하는 날짜와 시간으로 datetime 객체를 생성할 수도 있다.\n",
        "t1 = datetime.now()\n",
        "t2 = datetime(1970, 1, 1)\n",
        "print(t1)\n",
        "print(t2)"
      ],
      "metadata": {
        "colab": {
          "base_uri": "https://localhost:8080/"
        },
        "id": "Px-NSOZ83WrE",
        "outputId": "6d17cc26-9c0e-42ea-9045-ae4adb0c3c0a"
      },
      "execution_count": 11,
      "outputs": [
        {
          "output_type": "stream",
          "name": "stdout",
          "text": [
            "2025-07-27 01:38:12.871356\n",
            "1970-01-01 00:00:00\n"
          ]
        }
      ]
    },
    {
      "cell_type": "code",
      "source": [
        "#3. datetime 객체는 수학 연산자로 시간 차이를 계산할 수 있는 기능을 제공\n",
        "diff = t1-t2\n",
        "print(diff)"
      ],
      "metadata": {
        "colab": {
          "base_uri": "https://localhost:8080/"
        },
        "id": "ZGaVCqRD4AqU",
        "outputId": "9156943e-48f4-4447-c53c-9e7a1b15c94c"
      },
      "execution_count": 12,
      "outputs": [
        {
          "output_type": "stream",
          "name": "stdout",
          "text": [
            "20296 days, 1:38:12.871356\n"
          ]
        }
      ]
    },
    {
      "cell_type": "code",
      "source": [
        "#4. datetime 객체를 사용하여 계산한 시간의 차이는 timedelta 객체로 표현\n",
        "print(type(diff))"
      ],
      "metadata": {
        "colab": {
          "base_uri": "https://localhost:8080/"
        },
        "id": "uRe6bin05ZXq",
        "outputId": "8d0353b4-8b8c-40df-88a8-b722f52509f9"
      },
      "execution_count": 13,
      "outputs": [
        {
          "output_type": "stream",
          "name": "stdout",
          "text": [
            "<class 'datetime.timedelta'>\n"
          ]
        }
      ]
    },
    {
      "cell_type": "markdown",
      "source": [
        "# 12-2. datetime으로 변환하기"
      ],
      "metadata": {
        "id": "bsH-j1d15we1"
      }
    },
    {
      "cell_type": "code",
      "source": [
        "#1. 에볼라 데이터셋 불러오기\n",
        "import pandas as pd\n",
        "\n",
        "ebola = pd.read_csv('country_timeseries.csv')\n",
        "print(ebola.iloc[:5,:5])"
      ],
      "metadata": {
        "colab": {
          "base_uri": "https://localhost:8080/"
        },
        "id": "lWzQnaem5uo9",
        "outputId": "804ae678-d357-4f60-cb0c-a2f97c849571"
      },
      "execution_count": 14,
      "outputs": [
        {
          "output_type": "stream",
          "name": "stdout",
          "text": [
            "         Date  Day  Cases_Guinea  Cases_Liberia  Cases_SierraLeone\n",
            "0    1/5/2015  289        2776.0            NaN            10030.0\n",
            "1    1/4/2015  288        2775.0            NaN             9780.0\n",
            "2    1/3/2015  287        2769.0         8166.0             9722.0\n",
            "3    1/2/2015  286           NaN         8157.0                NaN\n",
            "4  12/31/2014  284        2730.0         8115.0             9633.0\n"
          ]
        }
      ]
    },
    {
      "cell_type": "code",
      "source": [
        "#2. Date 열의 자료형이 object인 것을 확인\n",
        "print(ebola.info())"
      ],
      "metadata": {
        "id": "bLpy4grQ6oji",
        "colab": {
          "base_uri": "https://localhost:8080/"
        },
        "outputId": "b65a208b-eed8-4d7a-e6bd-50eb5576f769"
      },
      "execution_count": 15,
      "outputs": [
        {
          "output_type": "stream",
          "name": "stdout",
          "text": [
            "<class 'pandas.core.frame.DataFrame'>\n",
            "RangeIndex: 122 entries, 0 to 121\n",
            "Data columns (total 18 columns):\n",
            " #   Column               Non-Null Count  Dtype  \n",
            "---  ------               --------------  -----  \n",
            " 0   Date                 122 non-null    object \n",
            " 1   Day                  122 non-null    int64  \n",
            " 2   Cases_Guinea         93 non-null     float64\n",
            " 3   Cases_Liberia        83 non-null     float64\n",
            " 4   Cases_SierraLeone    87 non-null     float64\n",
            " 5   Cases_Nigeria        38 non-null     float64\n",
            " 6   Cases_Senegal        25 non-null     float64\n",
            " 7   Cases_UnitedStates   18 non-null     float64\n",
            " 8   Cases_Spain          16 non-null     float64\n",
            " 9   Cases_Mali           12 non-null     float64\n",
            " 10  Deaths_Guinea        92 non-null     float64\n",
            " 11  Deaths_Liberia       81 non-null     float64\n",
            " 12  Deaths_SierraLeone   87 non-null     float64\n",
            " 13  Deaths_Nigeria       38 non-null     float64\n",
            " 14  Deaths_Senegal       22 non-null     float64\n",
            " 15  Deaths_UnitedStates  18 non-null     float64\n",
            " 16  Deaths_Spain         16 non-null     float64\n",
            " 17  Deaths_Mali          12 non-null     float64\n",
            "dtypes: float64(16), int64(1), object(1)\n",
            "memory usage: 17.3+ KB\n",
            "None\n"
          ]
        }
      ]
    },
    {
      "cell_type": "code",
      "source": [
        "#3. to_datetime() 함수를 사용하려 Date열의 값을 datetime형으로 변환한 것을 새로운 열에 저장\n",
        "ebola['date_dt'] = pd.to_datetime(ebola['Date'])"
      ],
      "metadata": {
        "id": "Oq4CBT-A64WO"
      },
      "execution_count": 16,
      "outputs": []
    },
    {
      "cell_type": "code",
      "source": [
        "#4. 매개변수 format으로 데이터를 datetime 객체로 변환하는 방법을 좀 더 명확하게 지정할 수 있다.\n",
        "ebola['date_dt'] = pd.to_datetime(ebola['Date'], format = '%m/%d/%Y')"
      ],
      "metadata": {
        "id": "ModNmtD07TUD"
      },
      "execution_count": 17,
      "outputs": []
    },
    {
      "cell_type": "code",
      "source": [
        "#5. 객체가 datetime으로 변화한 것을 확인\n",
        "print(ebola.info())"
      ],
      "metadata": {
        "id": "Bpu6-qNZ7vpY",
        "colab": {
          "base_uri": "https://localhost:8080/"
        },
        "outputId": "e7fb1ca6-4bfd-4ab6-9dad-68b57ab7d251"
      },
      "execution_count": 18,
      "outputs": [
        {
          "output_type": "stream",
          "name": "stdout",
          "text": [
            "<class 'pandas.core.frame.DataFrame'>\n",
            "RangeIndex: 122 entries, 0 to 121\n",
            "Data columns (total 19 columns):\n",
            " #   Column               Non-Null Count  Dtype         \n",
            "---  ------               --------------  -----         \n",
            " 0   Date                 122 non-null    object        \n",
            " 1   Day                  122 non-null    int64         \n",
            " 2   Cases_Guinea         93 non-null     float64       \n",
            " 3   Cases_Liberia        83 non-null     float64       \n",
            " 4   Cases_SierraLeone    87 non-null     float64       \n",
            " 5   Cases_Nigeria        38 non-null     float64       \n",
            " 6   Cases_Senegal        25 non-null     float64       \n",
            " 7   Cases_UnitedStates   18 non-null     float64       \n",
            " 8   Cases_Spain          16 non-null     float64       \n",
            " 9   Cases_Mali           12 non-null     float64       \n",
            " 10  Deaths_Guinea        92 non-null     float64       \n",
            " 11  Deaths_Liberia       81 non-null     float64       \n",
            " 12  Deaths_SierraLeone   87 non-null     float64       \n",
            " 13  Deaths_Nigeria       38 non-null     float64       \n",
            " 14  Deaths_Senegal       22 non-null     float64       \n",
            " 15  Deaths_UnitedStates  18 non-null     float64       \n",
            " 16  Deaths_Spain         16 non-null     float64       \n",
            " 17  Deaths_Mali          12 non-null     float64       \n",
            " 18  date_dt              122 non-null    datetime64[ns]\n",
            "dtypes: datetime64[ns](1), float64(16), int64(1), object(1)\n",
            "memory usage: 18.2+ KB\n",
            "None\n"
          ]
        }
      ]
    },
    {
      "cell_type": "markdown",
      "source": [
        "* 31-03-2014와 같이 일이 가장 먼저 나오는 형식은 매개변수 dayfirst를 True로 설정\n",
        "* 2014-03-31과 같이 연도가 가장 앞에 나오는 형식은 매개변수 yearfirst를 True로 설정"
      ],
      "metadata": {
        "id": "i5Y6uBtV8A58"
      }
    },
    {
      "cell_type": "markdown",
      "source": [
        "# 12-3. 시계열 데이터 불러오기"
      ],
      "metadata": {
        "id": "haobzHuu9yWy"
      }
    },
    {
      "cell_type": "markdown",
      "source": [
        "* read_csv() 함수는 parse_dates, inher_datetime_format, keep_date_col, date_praser, dayfirst, cache_dates처럼 시계열 데이터를 처리하는 다양한 매개변수를 제공"
      ],
      "metadata": {
        "id": "BSw4zK-n9_W2"
      }
    },
    {
      "cell_type": "code",
      "source": [
        "#1. 데이터의 Date 열을 매개변수 Parse_dates에 전달하여 바로 datetime으로 변환\n",
        "ebola = pd.read_csv('country_timeseries.csv', parse_dates = [\"Date\"])\n",
        "print(ebola.info())"
      ],
      "metadata": {
        "id": "Sqfwu6fv8tsg",
        "colab": {
          "base_uri": "https://localhost:8080/"
        },
        "outputId": "0df84b53-1503-4487-a62b-48d8ee6e49a7"
      },
      "execution_count": 19,
      "outputs": [
        {
          "output_type": "stream",
          "name": "stdout",
          "text": [
            "<class 'pandas.core.frame.DataFrame'>\n",
            "RangeIndex: 122 entries, 0 to 121\n",
            "Data columns (total 18 columns):\n",
            " #   Column               Non-Null Count  Dtype         \n",
            "---  ------               --------------  -----         \n",
            " 0   Date                 122 non-null    datetime64[ns]\n",
            " 1   Day                  122 non-null    int64         \n",
            " 2   Cases_Guinea         93 non-null     float64       \n",
            " 3   Cases_Liberia        83 non-null     float64       \n",
            " 4   Cases_SierraLeone    87 non-null     float64       \n",
            " 5   Cases_Nigeria        38 non-null     float64       \n",
            " 6   Cases_Senegal        25 non-null     float64       \n",
            " 7   Cases_UnitedStates   18 non-null     float64       \n",
            " 8   Cases_Spain          16 non-null     float64       \n",
            " 9   Cases_Mali           12 non-null     float64       \n",
            " 10  Deaths_Guinea        92 non-null     float64       \n",
            " 11  Deaths_Liberia       81 non-null     float64       \n",
            " 12  Deaths_SierraLeone   87 non-null     float64       \n",
            " 13  Deaths_Nigeria       38 non-null     float64       \n",
            " 14  Deaths_Senegal       22 non-null     float64       \n",
            " 15  Deaths_UnitedStates  18 non-null     float64       \n",
            " 16  Deaths_Spain         16 non-null     float64       \n",
            " 17  Deaths_Mali          12 non-null     float64       \n",
            "dtypes: datetime64[ns](1), float64(16), int64(1)\n",
            "memory usage: 17.3 KB\n",
            "None\n"
          ]
        }
      ]
    },
    {
      "cell_type": "markdown",
      "source": [
        "# 12-4. 시간 정보 추출하기"
      ],
      "metadata": {
        "id": "venKfpMH_11g"
      }
    },
    {
      "cell_type": "markdown",
      "source": [
        "* datetime 객체에서 연,월,일과 같은 시간 정보 요소를 따로 추출할 수 있다.\n",
        "* to_datetime()에 일시를 나타내는 문자열을 전달하면 Timestamp 객체를 반환한다"
      ],
      "metadata": {
        "id": "b4gUDQV5_8Po"
      }
    },
    {
      "cell_type": "code",
      "source": [
        "#1. '2021-12-14'를 to_datetime()에 전달하여 Timestamp 객체를 생성하고 연, 월, 일을 추출\n",
        "d = pd.to_datetime('2021-12-14')\n",
        "print(d)\n",
        "print(type(d))"
      ],
      "metadata": {
        "id": "Ij2kT1_b77RO",
        "colab": {
          "base_uri": "https://localhost:8080/"
        },
        "outputId": "f8364e22-a7de-476f-d4d8-6e3b65f77c20"
      },
      "execution_count": 20,
      "outputs": [
        {
          "output_type": "stream",
          "name": "stdout",
          "text": [
            "2021-12-14 00:00:00\n",
            "<class 'pandas._libs.tslibs.timestamps.Timestamp'>\n"
          ]
        }
      ]
    },
    {
      "cell_type": "code",
      "source": [
        "print(d.year)\n",
        "print(d.month)\n",
        "print(d.day)"
      ],
      "metadata": {
        "id": "eEKHXgmTA34l",
        "colab": {
          "base_uri": "https://localhost:8080/"
        },
        "outputId": "0182c0d3-52c5-4b00-9e56-fab0e84b1e7e"
      },
      "execution_count": 21,
      "outputs": [
        {
          "output_type": "stream",
          "name": "stdout",
          "text": [
            "2021\n",
            "12\n",
            "14\n"
          ]
        }
      ]
    },
    {
      "cell_type": "code",
      "source": [
        "#2. 에볼라 데이터셋의 Date 열을 datetime으로 변환하여 date_dt 열에 저장\n",
        "ebola['date_dt'] = pd.to_datetime(ebola['Date'])\n",
        "print(ebola[['Date', 'date_dt']])"
      ],
      "metadata": {
        "id": "vHxYyIRwA_PV",
        "colab": {
          "base_uri": "https://localhost:8080/"
        },
        "outputId": "20dbdc38-ddcc-40df-dfdc-cca07ebd7593"
      },
      "execution_count": 22,
      "outputs": [
        {
          "output_type": "stream",
          "name": "stdout",
          "text": [
            "          Date    date_dt\n",
            "0   2015-01-05 2015-01-05\n",
            "1   2015-01-04 2015-01-04\n",
            "2   2015-01-03 2015-01-03\n",
            "3   2015-01-02 2015-01-02\n",
            "4   2014-12-31 2014-12-31\n",
            "..         ...        ...\n",
            "117 2014-03-27 2014-03-27\n",
            "118 2014-03-26 2014-03-26\n",
            "119 2014-03-25 2014-03-25\n",
            "120 2014-03-24 2014-03-24\n",
            "121 2014-03-22 2014-03-22\n",
            "\n",
            "[122 rows x 2 columns]\n"
          ]
        }
      ]
    },
    {
      "cell_type": "code",
      "source": [
        "#3. dt 속성을 사용하면 전체 열을 대상으로 datetime 객체의 메서드를 적용할 수 있다. year로 연도 추출\n",
        "ebola['year'] = ebola['date_dt'].dt.year\n",
        "print(ebola[['Date', 'date_dt', 'year']])"
      ],
      "metadata": {
        "id": "aXM7R1oqCBBt",
        "colab": {
          "base_uri": "https://localhost:8080/"
        },
        "outputId": "de6e269b-c443-4db0-a603-4a49df5bcc70"
      },
      "execution_count": 23,
      "outputs": [
        {
          "output_type": "stream",
          "name": "stdout",
          "text": [
            "          Date    date_dt  year\n",
            "0   2015-01-05 2015-01-05  2015\n",
            "1   2015-01-04 2015-01-04  2015\n",
            "2   2015-01-03 2015-01-03  2015\n",
            "3   2015-01-02 2015-01-02  2015\n",
            "4   2014-12-31 2014-12-31  2014\n",
            "..         ...        ...   ...\n",
            "117 2014-03-27 2014-03-27  2014\n",
            "118 2014-03-26 2014-03-26  2014\n",
            "119 2014-03-25 2014-03-25  2014\n",
            "120 2014-03-24 2014-03-24  2014\n",
            "121 2014-03-22 2014-03-22  2014\n",
            "\n",
            "[122 rows x 3 columns]\n"
          ]
        }
      ]
    },
    {
      "cell_type": "code",
      "source": [
        "#4. 마찬가지의 방법으로 월과 일도 추출하여 month, day 열에 저장\n",
        "ebola = ebola.assign(\n",
        "    month=ebola[\"date_dt\"].dt.month,\n",
        "    day=ebola[\"date_dt\"].dt.day\n",
        ")\n",
        "print(ebola[['Date', 'date_dt', 'year', 'month', 'day']])"
      ],
      "metadata": {
        "id": "F1wq05kGEMgr",
        "colab": {
          "base_uri": "https://localhost:8080/"
        },
        "outputId": "e00ad42c-f620-4cf5-b6ff-12eeefaa3334"
      },
      "execution_count": 24,
      "outputs": [
        {
          "output_type": "stream",
          "name": "stdout",
          "text": [
            "          Date    date_dt  year  month  day\n",
            "0   2015-01-05 2015-01-05  2015      1    5\n",
            "1   2015-01-04 2015-01-04  2015      1    4\n",
            "2   2015-01-03 2015-01-03  2015      1    3\n",
            "3   2015-01-02 2015-01-02  2015      1    2\n",
            "4   2014-12-31 2014-12-31  2014     12   31\n",
            "..         ...        ...   ...    ...  ...\n",
            "117 2014-03-27 2014-03-27  2014      3   27\n",
            "118 2014-03-26 2014-03-26  2014      3   26\n",
            "119 2014-03-25 2014-03-25  2014      3   25\n",
            "120 2014-03-24 2014-03-24  2014      3   24\n",
            "121 2014-03-22 2014-03-22  2014      3   22\n",
            "\n",
            "[122 rows x 5 columns]\n"
          ]
        }
      ]
    },
    {
      "cell_type": "code",
      "source": [
        "# 추출한 요소는 datetime형이 아닌 int32 형이다.\n",
        "print(ebola.info())"
      ],
      "metadata": {
        "id": "BMY0uJSIE74g",
        "colab": {
          "base_uri": "https://localhost:8080/"
        },
        "outputId": "e91c7be6-d357-43f4-858d-d3616afba725"
      },
      "execution_count": 25,
      "outputs": [
        {
          "output_type": "stream",
          "name": "stdout",
          "text": [
            "<class 'pandas.core.frame.DataFrame'>\n",
            "RangeIndex: 122 entries, 0 to 121\n",
            "Data columns (total 22 columns):\n",
            " #   Column               Non-Null Count  Dtype         \n",
            "---  ------               --------------  -----         \n",
            " 0   Date                 122 non-null    datetime64[ns]\n",
            " 1   Day                  122 non-null    int64         \n",
            " 2   Cases_Guinea         93 non-null     float64       \n",
            " 3   Cases_Liberia        83 non-null     float64       \n",
            " 4   Cases_SierraLeone    87 non-null     float64       \n",
            " 5   Cases_Nigeria        38 non-null     float64       \n",
            " 6   Cases_Senegal        25 non-null     float64       \n",
            " 7   Cases_UnitedStates   18 non-null     float64       \n",
            " 8   Cases_Spain          16 non-null     float64       \n",
            " 9   Cases_Mali           12 non-null     float64       \n",
            " 10  Deaths_Guinea        92 non-null     float64       \n",
            " 11  Deaths_Liberia       81 non-null     float64       \n",
            " 12  Deaths_SierraLeone   87 non-null     float64       \n",
            " 13  Deaths_Nigeria       38 non-null     float64       \n",
            " 14  Deaths_Senegal       22 non-null     float64       \n",
            " 15  Deaths_UnitedStates  18 non-null     float64       \n",
            " 16  Deaths_Spain         16 non-null     float64       \n",
            " 17  Deaths_Mali          12 non-null     float64       \n",
            " 18  date_dt              122 non-null    datetime64[ns]\n",
            " 19  year                 122 non-null    int32         \n",
            " 20  month                122 non-null    int32         \n",
            " 21  day                  122 non-null    int32         \n",
            "dtypes: datetime64[ns](2), float64(16), int32(3), int64(1)\n",
            "memory usage: 19.7 KB\n",
            "None\n"
          ]
        }
      ]
    },
    {
      "cell_type": "markdown",
      "source": [
        "#12-5. 시간 간격 계산하기"
      ],
      "metadata": {
        "id": "dgzVcGLMJAT7"
      }
    },
    {
      "cell_type": "code",
      "source": [
        "#1. 데이터셋의 왼쪽 아래에 있는 5개의 행, 열 데이터 살펴보기\n",
        "print(ebola.iloc[-5:,:5])"
      ],
      "metadata": {
        "id": "Hp7VmQzmHOkm",
        "colab": {
          "base_uri": "https://localhost:8080/"
        },
        "outputId": "53031638-8358-4334-d0ff-e349ee0393ce"
      },
      "execution_count": 26,
      "outputs": [
        {
          "output_type": "stream",
          "name": "stdout",
          "text": [
            "          Date  Day  Cases_Guinea  Cases_Liberia  Cases_SierraLeone\n",
            "117 2014-03-27    5         103.0            8.0                6.0\n",
            "118 2014-03-26    4          86.0            NaN                NaN\n",
            "119 2014-03-25    3          86.0            NaN                NaN\n",
            "120 2014-03-24    2          86.0            NaN                NaN\n",
            "121 2014-03-22    0          49.0            NaN                NaN\n"
          ]
        }
      ]
    },
    {
      "cell_type": "code",
      "source": [
        "#2. date_dt 열에서 min() 메서드를 호출하여 가장 오래된 날짜를 구해본다.\n",
        "print(ebola['date_dt'].min())"
      ],
      "metadata": {
        "id": "v-vMx9soIvtZ",
        "colab": {
          "base_uri": "https://localhost:8080/"
        },
        "outputId": "63c7f991-7cf3-432e-a42f-e0c2070582d8"
      },
      "execution_count": 27,
      "outputs": [
        {
          "output_type": "stream",
          "name": "stdout",
          "text": [
            "2014-03-22 00:00:00\n"
          ]
        }
      ]
    },
    {
      "cell_type": "code",
      "source": [
        "#3. date_dt 열에서 이 값을 빼면 며칠이 지난 데이터인지 계산하여 새로운 열에 계산한 값을 넣는다.\n",
        "ebola['outbreak_d'] = ebola['date_dt'] - ebola['date_dt'].min()\n",
        "print(ebola[['Date', 'Day', 'outbreak_d']]) # Day와 outbreak_d 열이 같다."
      ],
      "metadata": {
        "id": "o9iH1Ml2KJbq",
        "colab": {
          "base_uri": "https://localhost:8080/"
        },
        "outputId": "4eef3ced-6897-4213-b85b-f86c65076d6f"
      },
      "execution_count": 28,
      "outputs": [
        {
          "output_type": "stream",
          "name": "stdout",
          "text": [
            "          Date  Day outbreak_d\n",
            "0   2015-01-05  289   289 days\n",
            "1   2015-01-04  288   288 days\n",
            "2   2015-01-03  287   287 days\n",
            "3   2015-01-02  286   286 days\n",
            "4   2014-12-31  284   284 days\n",
            "..         ...  ...        ...\n",
            "117 2014-03-27    5     5 days\n",
            "118 2014-03-26    4     4 days\n",
            "119 2014-03-25    3     3 days\n",
            "120 2014-03-24    2     2 days\n",
            "121 2014-03-22    0     0 days\n",
            "\n",
            "[122 rows x 3 columns]\n"
          ]
        }
      ]
    },
    {
      "cell_type": "code",
      "source": [
        "#4. info() 로 oubreak_d 열의 자료형을 확인한 결과 timedelta형이다.\n",
        "print(ebola.info())"
      ],
      "metadata": {
        "id": "I67DeRMrLwRr",
        "colab": {
          "base_uri": "https://localhost:8080/"
        },
        "outputId": "eadd906a-3e01-433c-ad62-7fc47683a04f"
      },
      "execution_count": 29,
      "outputs": [
        {
          "output_type": "stream",
          "name": "stdout",
          "text": [
            "<class 'pandas.core.frame.DataFrame'>\n",
            "RangeIndex: 122 entries, 0 to 121\n",
            "Data columns (total 23 columns):\n",
            " #   Column               Non-Null Count  Dtype          \n",
            "---  ------               --------------  -----          \n",
            " 0   Date                 122 non-null    datetime64[ns] \n",
            " 1   Day                  122 non-null    int64          \n",
            " 2   Cases_Guinea         93 non-null     float64        \n",
            " 3   Cases_Liberia        83 non-null     float64        \n",
            " 4   Cases_SierraLeone    87 non-null     float64        \n",
            " 5   Cases_Nigeria        38 non-null     float64        \n",
            " 6   Cases_Senegal        25 non-null     float64        \n",
            " 7   Cases_UnitedStates   18 non-null     float64        \n",
            " 8   Cases_Spain          16 non-null     float64        \n",
            " 9   Cases_Mali           12 non-null     float64        \n",
            " 10  Deaths_Guinea        92 non-null     float64        \n",
            " 11  Deaths_Liberia       81 non-null     float64        \n",
            " 12  Deaths_SierraLeone   87 non-null     float64        \n",
            " 13  Deaths_Nigeria       38 non-null     float64        \n",
            " 14  Deaths_Senegal       22 non-null     float64        \n",
            " 15  Deaths_UnitedStates  18 non-null     float64        \n",
            " 16  Deaths_Spain         16 non-null     float64        \n",
            " 17  Deaths_Mali          12 non-null     float64        \n",
            " 18  date_dt              122 non-null    datetime64[ns] \n",
            " 19  year                 122 non-null    int32          \n",
            " 20  month                122 non-null    int32          \n",
            " 21  day                  122 non-null    int32          \n",
            " 22  outbreak_d           122 non-null    timedelta64[ns]\n",
            "dtypes: datetime64[ns](2), float64(16), int32(3), int64(1), timedelta64[ns](1)\n",
            "memory usage: 20.6 KB\n",
            "None\n"
          ]
        }
      ]
    },
    {
      "cell_type": "markdown",
      "source": [
        "# 12-6. datetime 객체의 메서드 활용하기"
      ],
      "metadata": {
        "id": "z6nTq8oDMJu_"
      }
    },
    {
      "cell_type": "code",
      "source": [
        "#1. 파산한 은행 정보의 banklist 데이터셋을 사용\n",
        "banks = pd.read_csv('banklist.csv')\n",
        "print(banks.head())"
      ],
      "metadata": {
        "id": "Pf2cbyHMMcDN",
        "colab": {
          "base_uri": "https://localhost:8080/"
        },
        "outputId": "13cb0743-9ec7-4350-a4f0-4f9da011fc41"
      },
      "execution_count": 30,
      "outputs": [
        {
          "output_type": "stream",
          "name": "stdout",
          "text": [
            "                                           Bank Name                City  ST  \\\n",
            "0                                Fayette County Bank          Saint Elmo  IL   \n",
            "1  Guaranty Bank, (d/b/a BestBank in Georgia & Mi...           Milwaukee  WI   \n",
            "2                                     First NBC Bank         New Orleans  LA   \n",
            "3                                      Proficio Bank  Cottonwood Heights  UT   \n",
            "4                      Seaway Bank and Trust Company             Chicago  IL   \n",
            "\n",
            "    CERT                Acquiring Institution Closing Date Updated Date  \n",
            "0   1802            United Fidelity Bank, fsb    26-May-17    26-Jul-17  \n",
            "1  30003  First-Citizens Bank & Trust Company     5-May-17    26-Jul-17  \n",
            "2  58302                         Whitney Bank    28-Apr-17    26-Jul-17  \n",
            "3  35495                    Cache Valley Bank     3-Mar-17    18-May-17  \n",
            "4  19328                  State Bank of Texas    27-Jan-17    18-May-17  \n"
          ]
        }
      ]
    },
    {
      "cell_type": "code",
      "source": [
        "#2. read_csv()의 매개변수 parse_dates에 날짜 정보가 담긴 Closing Date, Updated Date 열을 전달하면 두 열을 datetime형으로 불러올 수 있다\n",
        "banks = pd.read_csv(\n",
        "    'banklist.csv', parse_dates=[\"Closing Date\", \"Updated Date\"]\n",
        ")\n",
        "print(banks.info())"
      ],
      "metadata": {
        "id": "9UKGMuSoM5sW",
        "colab": {
          "base_uri": "https://localhost:8080/"
        },
        "outputId": "28be9859-1c54-4916-88bf-b4f080e06185"
      },
      "execution_count": 31,
      "outputs": [
        {
          "output_type": "stream",
          "name": "stdout",
          "text": [
            "<class 'pandas.core.frame.DataFrame'>\n",
            "RangeIndex: 553 entries, 0 to 552\n",
            "Data columns (total 7 columns):\n",
            " #   Column                 Non-Null Count  Dtype         \n",
            "---  ------                 --------------  -----         \n",
            " 0   Bank Name              553 non-null    object        \n",
            " 1   City                   553 non-null    object        \n",
            " 2   ST                     553 non-null    object        \n",
            " 3   CERT                   553 non-null    int64         \n",
            " 4   Acquiring Institution  553 non-null    object        \n",
            " 5   Closing Date           553 non-null    datetime64[ns]\n",
            " 6   Updated Date           553 non-null    datetime64[ns]\n",
            "dtypes: datetime64[ns](2), int64(1), object(4)\n",
            "memory usage: 30.4+ KB\n",
            "None\n"
          ]
        },
        {
          "output_type": "stream",
          "name": "stderr",
          "text": [
            "/tmp/ipython-input-31-701451505.py:2: UserWarning: Could not infer format, so each element will be parsed individually, falling back to `dateutil`. To ensure parsing is consistent and as-expected, please specify a format.\n",
            "  banks = pd.read_csv(\n",
            "/tmp/ipython-input-31-701451505.py:2: UserWarning: Could not infer format, so each element will be parsed individually, falling back to `dateutil`. To ensure parsing is consistent and as-expected, please specify a format.\n",
            "  banks = pd.read_csv(\n"
          ]
        }
      ]
    },
    {
      "cell_type": "code",
      "source": [
        "#3. 은행이 파산한 분기와 연도를 기반으로 데이터를 분석.\n",
        "banks = banks.assign(\n",
        "    closing_quarter=banks['Closing Date'].dt.quarter,\n",
        "    closing_year = banks['Closing Date'].dt.year\n",
        ")"
      ],
      "metadata": {
        "id": "KMZtCWJGNlbc"
      },
      "execution_count": 32,
      "outputs": []
    },
    {
      "cell_type": "code",
      "source": [
        "#4. 파산한 연도를 나타내는 closing_year 열을 기준으로 그룹화하고 연도별 파산 은행 개수를 size()로 계산한 시리즈를 저장\n",
        "closing_year = banks.groupby(['closing_year']).size()\n",
        "print(closing_year)"
      ],
      "metadata": {
        "id": "ttaLVEi0P41S",
        "colab": {
          "base_uri": "https://localhost:8080/"
        },
        "outputId": "7521fc87-4ca1-4e28-95e2-31336e0b4c2b"
      },
      "execution_count": 33,
      "outputs": [
        {
          "output_type": "stream",
          "name": "stdout",
          "text": [
            "closing_year\n",
            "2000      2\n",
            "2001      4\n",
            "2002     11\n",
            "2003      3\n",
            "2004      4\n",
            "2007      3\n",
            "2008     25\n",
            "2009    140\n",
            "2010    157\n",
            "2011     92\n",
            "2012     51\n",
            "2013     24\n",
            "2014     18\n",
            "2015      8\n",
            "2016      5\n",
            "2017      6\n",
            "dtype: int64\n"
          ]
        }
      ]
    },
    {
      "cell_type": "code",
      "source": [
        "#5. 매년 각 분기에 파산한 은행이 궁금하다면 closing_year와 closing_quarter를 기준으로 데이터셋을 그룹화하고 size()로 해당하는 은행 개수를 구함\n",
        "closing_year_q = (\n",
        "    banks\n",
        "    .groupby(['closing_year', 'closing_quarter'])\n",
        "    .size()\n",
        ")\n",
        "\n",
        "print(closing_year_q)"
      ],
      "metadata": {
        "id": "jCteBz1xQRzk",
        "colab": {
          "base_uri": "https://localhost:8080/"
        },
        "outputId": "241897a2-4d05-4ad5-f42b-e1d71bd68dbc"
      },
      "execution_count": 34,
      "outputs": [
        {
          "output_type": "stream",
          "name": "stdout",
          "text": [
            "closing_year  closing_quarter\n",
            "2000          4                   2\n",
            "2001          1                   1\n",
            "              2                   1\n",
            "              3                   2\n",
            "2002          1                   6\n",
            "              2                   2\n",
            "              3                   1\n",
            "              4                   2\n",
            "2003          1                   1\n",
            "              2                   1\n",
            "              4                   1\n",
            "2004          1                   3\n",
            "              2                   1\n",
            "2007          1                   1\n",
            "              3                   1\n",
            "              4                   1\n",
            "2008          1                   2\n",
            "              2                   2\n",
            "              3                   9\n",
            "              4                  12\n",
            "2009          1                  21\n",
            "              2                  24\n",
            "              3                  50\n",
            "              4                  45\n",
            "2010          1                  41\n",
            "              2                  45\n",
            "              3                  41\n",
            "              4                  30\n",
            "2011          1                  26\n",
            "              2                  22\n",
            "              3                  26\n",
            "              4                  18\n",
            "2012          1                  16\n",
            "              2                  15\n",
            "              3                  12\n",
            "              4                   8\n",
            "2013          1                   4\n",
            "              2                  12\n",
            "              3                   6\n",
            "              4                   2\n",
            "2014          1                   5\n",
            "              2                   7\n",
            "              3                   2\n",
            "              4                   4\n",
            "2015          1                   4\n",
            "              2                   1\n",
            "              3                   1\n",
            "              4                   2\n",
            "2016          1                   1\n",
            "              2                   2\n",
            "              3                   2\n",
            "2017          1                   3\n",
            "              2                   3\n",
            "dtype: int64\n"
          ]
        }
      ]
    },
    {
      "cell_type": "code",
      "source": [
        "# 연도별 분기별 파산 은행 개수를 시각화할 수 있다.\n",
        "import matplotlib.pyplot as plt\n",
        "\n",
        "fig, ax = plt.subplots()\n",
        "ax = closing_year.plot()\n",
        "\n",
        "plt.savefig('closing_year.png')\n",
        "plt.show()"
      ],
      "metadata": {
        "id": "eB7fWXsyQxBs",
        "colab": {
          "base_uri": "https://localhost:8080/",
          "height": 450
        },
        "outputId": "17aa4f9e-71e2-4bda-98df-ddbeaa63338a"
      },
      "execution_count": 35,
      "outputs": [
        {
          "output_type": "display_data",
          "data": {
            "text/plain": [
              "<Figure size 640x480 with 1 Axes>"
            ],
            "image/png": "[encoded data removed]"
          },
          "metadata": {}
        }
      ]
    },
    {
      "cell_type": "code",
      "source": [
        "fig, ax = plt.subplots()\n",
        "ax = closing_year_q.plot()\n",
        "\n",
        "plt.savefig('closing_year_q.png')\n",
        "plt.show()"
      ],
      "metadata": {
        "id": "W6l0pmM6RALq",
        "colab": {
          "base_uri": "https://localhost:8080/",
          "height": 450
        },
        "outputId": "8ef6dcb1-ab64-4429-8c54-47cbea77a100"
      },
      "execution_count": 36,
      "outputs": [
        {
          "output_type": "display_data",
          "data": {
            "text/plain": [
              "<Figure size 640x480 with 1 Axes>"
            ],
            "image/png": "[encoded data removed]"
          },
          "metadata": {}
        }
      ]
    },
    {
      "cell_type": "markdown",
      "source": [
        "# 12-7. 주식 데이터 다루기"
      ],
      "metadata": {
        "id": "zuSMMyCgqixl"
      }
    },
    {
      "cell_type": "code",
      "source": [
        "!pip install pandas-datareader"
      ],
      "metadata": {
        "id": "VYYZDYPXqh62",
        "colab": {
          "base_uri": "https://localhost:8080/"
        },
        "outputId": "f556f265-e57b-460a-a920-f0488008632f"
      },
      "execution_count": 37,
      "outputs": [
        {
          "output_type": "stream",
          "name": "stdout",
          "text": [
            "Requirement already satisfied: pandas-datareader in /usr/local/lib/python3.11/dist-packages (0.10.0)\n",
            "Requirement already satisfied: lxml in /usr/local/lib/python3.11/dist-packages (from pandas-datareader) (5.4.0)\n",
            "Requirement already satisfied: pandas>=0.23 in /usr/local/lib/python3.11/dist-packages (from pandas-datareader) (2.2.2)\n",
            "Requirement already satisfied: requests>=2.19.0 in /usr/local/lib/python3.11/dist-packages (from pandas-datareader) (2.32.3)\n",
            "Requirement already satisfied: numpy>=1.23.2 in /usr/local/lib/python3.11/dist-packages (from pandas>=0.23->pandas-datareader) (2.0.2)\n",
            "Requirement already satisfied: python-dateutil>=2.8.2 in /usr/local/lib/python3.11/dist-packages (from pandas>=0.23->pandas-datareader) (2.9.0.post0)\n",
            "Requirement already satisfied: pytz>=2020.1 in /usr/local/lib/python3.11/dist-packages (from pandas>=0.23->pandas-datareader) (2025.2)\n",
            "Requirement already satisfied: tzdata>=2022.7 in /usr/local/lib/python3.11/dist-packages (from pandas>=0.23->pandas-datareader) (2025.2)\n",
            "Requirement already satisfied: charset-normalizer<4,>=2 in /usr/local/lib/python3.11/dist-packages (from requests>=2.19.0->pandas-datareader) (3.4.2)\n",
            "Requirement already satisfied: idna<4,>=2.5 in /usr/local/lib/python3.11/dist-packages (from requests>=2.19.0->pandas-datareader) (3.10)\n",
            "Requirement already satisfied: urllib3<3,>=1.21.1 in /usr/local/lib/python3.11/dist-packages (from requests>=2.19.0->pandas-datareader) (2.5.0)\n",
            "Requirement already satisfied: certifi>=2017.4.17 in /usr/local/lib/python3.11/dist-packages (from requests>=2.19.0->pandas-datareader) (2025.7.14)\n",
            "Requirement already satisfied: six>=1.5 in /usr/local/lib/python3.11/dist-packages (from python-dateutil>=2.8.2->pandas>=0.23->pandas-datareader) (1.17.0)\n"
          ]
        }
      ]
    },
    {
      "cell_type": "code",
      "source": [
        "# 1. 테슬라 주식 데이터 불러오기\n",
        "import pandas_datareader.data as web\n",
        "\n",
        "tesla = web.DataReader('TSLA', 'stooq')\n",
        "print(tesla)"
      ],
      "metadata": {
        "id": "t01dW_LyroZS",
        "colab": {
          "base_uri": "https://localhost:8080/"
        },
        "outputId": "4515d591-2dab-4f6a-caa8-63e1865676da"
      },
      "execution_count": 38,
      "outputs": [
        {
          "output_type": "stream",
          "name": "stdout",
          "text": [
            "                Open      High       Low     Close     Volume\n",
            "Date                                                         \n",
            "2025-07-25  308.7400  323.6300  308.0100  316.0600  148227027\n",
            "2025-07-24  310.0000  310.1500  300.4100  305.3000  156966023\n",
            "2025-07-23  330.9000  336.2000  328.6700  332.5600   92553756\n",
            "2025-07-22  329.7400  335.4098  321.5500  332.1100   77370371\n",
            "2025-07-21  334.4000  338.0000  326.8800  328.4900   75768797\n",
            "...              ...       ...       ...       ...        ...\n",
            "2020-08-03   96.6133  100.6530   96.2933   99.0000  132140190\n",
            "2020-07-31  101.0000  101.1370   94.7333   95.3833  183704400\n",
            "2020-07-30   99.2000  100.8830   98.0667   99.1667  114315585\n",
            "2020-07-29  100.0670  102.3200   99.1333   99.9400  141403395\n",
            "2020-07-28  100.2670  104.3130   98.2933   98.4333  237130500\n",
            "\n",
            "[1255 rows x 5 columns]\n"
          ]
        }
      ]
    },
    {
      "cell_type": "code",
      "source": [
        "#2. tesla 인덱스 살펴보기\n",
        "tesla.info() #DatatimeIndex이다. datetime 객체를 데이터프레임의 인데스로 설정할 때 사용하는 객체"
      ],
      "metadata": {
        "id": "AqxBaBq8r-XA",
        "colab": {
          "base_uri": "https://localhost:8080/"
        },
        "outputId": "e5dec587-7469-45d6-af09-638f00df3330"
      },
      "execution_count": 39,
      "outputs": [
        {
          "output_type": "stream",
          "name": "stdout",
          "text": [
            "<class 'pandas.core.frame.DataFrame'>\n",
            "DatetimeIndex: 1255 entries, 2025-07-25 to 2020-07-28\n",
            "Data columns (total 5 columns):\n",
            " #   Column  Non-Null Count  Dtype  \n",
            "---  ------  --------------  -----  \n",
            " 0   Open    1255 non-null   float64\n",
            " 1   High    1255 non-null   float64\n",
            " 2   Low     1255 non-null   float64\n",
            " 3   Close   1255 non-null   float64\n",
            " 4   Volume  1255 non-null   int64  \n",
            "dtypes: float64(4), int64(1)\n",
            "memory usage: 58.8 KB\n"
          ]
        }
      ]
    },
    {
      "cell_type": "code",
      "source": [
        "#3. tesla_stock_yahoo 파일 불러오기\n",
        "tesla = pd.read_csv('tesla_stock_yahoo.csv')\n",
        "print(tesla.head())"
      ],
      "metadata": {
        "id": "jcY9W55jsXkk",
        "colab": {
          "base_uri": "https://localhost:8080/"
        },
        "outputId": "0888e259-f9ac-4c06-bc10-adf6977d8824"
      },
      "execution_count": 40,
      "outputs": [
        {
          "output_type": "stream",
          "name": "stdout",
          "text": [
            "         Date       Open   High        Low      Close  Adj Close    Volume\n",
            "0  2010-06-29  19.000000  25.00  17.540001  23.889999  23.889999  18766300\n",
            "1  2010-06-30  25.790001  30.42  23.299999  23.830000  23.830000  17187100\n",
            "2  2010-07-01  25.000000  25.92  20.270000  21.959999  21.959999   8218800\n",
            "3  2010-07-02  23.000000  23.10  18.709999  19.200001  19.200001   5139800\n",
            "4  2010-07-06  20.000000  20.00  15.830000  16.110001  16.110001   6866900\n"
          ]
        }
      ]
    },
    {
      "cell_type": "code",
      "source": [
        "#4. 날짜 형식의 Date열을 datetime형으로 다시 불러오기\n",
        "tesla = pd.read_csv(\n",
        "    'tesla_stock_yahoo.csv', parse_dates=[\"Date\"]\n",
        ")"
      ],
      "metadata": {
        "id": "mqe85zCPtGfd"
      },
      "execution_count": 41,
      "outputs": []
    },
    {
      "cell_type": "code",
      "source": [
        "print(tesla.info()) # Date 열이 datetime형으로 바뀜"
      ],
      "metadata": {
        "id": "lPN2qveYtkoW",
        "colab": {
          "base_uri": "https://localhost:8080/"
        },
        "outputId": "83a257a7-a01e-4989-ade2-95f58fd2bdba"
      },
      "execution_count": 42,
      "outputs": [
        {
          "output_type": "stream",
          "name": "stdout",
          "text": [
            "<class 'pandas.core.frame.DataFrame'>\n",
            "RangeIndex: 1791 entries, 0 to 1790\n",
            "Data columns (total 7 columns):\n",
            " #   Column     Non-Null Count  Dtype         \n",
            "---  ------     --------------  -----         \n",
            " 0   Date       1791 non-null   datetime64[ns]\n",
            " 1   Open       1791 non-null   float64       \n",
            " 2   High       1791 non-null   float64       \n",
            " 3   Low        1791 non-null   float64       \n",
            " 4   Close      1791 non-null   float64       \n",
            " 5   Adj Close  1791 non-null   float64       \n",
            " 6   Volume     1791 non-null   int64         \n",
            "dtypes: datetime64[ns](1), float64(5), int64(1)\n",
            "memory usage: 98.1 KB\n",
            "None\n"
          ]
        }
      ]
    },
    {
      "cell_type": "markdown",
      "source": [
        "# 12-8. 시간별 데이터 추출하기"
      ],
      "metadata": {
        "id": "NA8u8Ry7uAH0"
      }
    },
    {
      "cell_type": "code",
      "source": [
        "# 주식 데이터셋에서 2010년 6월 데이터만 추출하기\n",
        "print(\n",
        "    tesla.loc[\n",
        "        (tesla.Date.dt.year == 2010) % (tesla.Date.dt.month == 6)\n",
        "    ]\n",
        ")"
      ],
      "metadata": {
        "id": "jWSMZb7NtyvN",
        "colab": {
          "base_uri": "https://localhost:8080/"
        },
        "outputId": "b878eccc-d21e-46c0-b650-ede01a506fc4"
      },
      "execution_count": 43,
      "outputs": [
        {
          "output_type": "stream",
          "name": "stdout",
          "text": [
            "         Date  Open  High        Low      Close  Adj Close    Volume\n",
            "0  2010-06-29  19.0  25.0  17.540001  23.889999  23.889999  18766300\n",
            "0  2010-06-29  19.0  25.0  17.540001  23.889999  23.889999  18766300\n",
            "0  2010-06-29  19.0  25.0  17.540001  23.889999  23.889999  18766300\n",
            "0  2010-06-29  19.0  25.0  17.540001  23.889999  23.889999  18766300\n",
            "0  2010-06-29  19.0  25.0  17.540001  23.889999  23.889999  18766300\n",
            "..        ...   ...   ...        ...        ...        ...       ...\n",
            "0  2010-06-29  19.0  25.0  17.540001  23.889999  23.889999  18766300\n",
            "0  2010-06-29  19.0  25.0  17.540001  23.889999  23.889999  18766300\n",
            "0  2010-06-29  19.0  25.0  17.540001  23.889999  23.889999  18766300\n",
            "0  2010-06-29  19.0  25.0  17.540001  23.889999  23.889999  18766300\n",
            "0  2010-06-29  19.0  25.0  17.540001  23.889999  23.889999  18766300\n",
            "\n",
            "[1791 rows x 7 columns]\n"
          ]
        }
      ]
    },
    {
      "cell_type": "markdown",
      "source": [
        "### DatetimeIndex 객체로 추출하기"
      ],
      "metadata": {
        "id": "IhExoigeufxs"
      }
    },
    {
      "cell_type": "code",
      "source": [
        "#1. tesla 데이터셋의 Date열을 인덱스로 설정\n",
        "tesla.index = tesla['Date']\n",
        "print(tesla.index)"
      ],
      "metadata": {
        "id": "tlfI5fFKuaeK",
        "colab": {
          "base_uri": "https://localhost:8080/"
        },
        "outputId": "40774724-9d25-4ced-9b42-1f1d2363cf02"
      },
      "execution_count": 44,
      "outputs": [
        {
          "output_type": "stream",
          "name": "stdout",
          "text": [
            "DatetimeIndex(['2010-06-29', '2010-06-30', '2010-07-01', '2010-07-02',\n",
            "               '2010-07-06', '2010-07-07', '2010-07-08', '2010-07-09',\n",
            "               '2010-07-12', '2010-07-13',\n",
            "               ...\n",
            "               '2017-07-26', '2017-07-27', '2017-07-28', '2017-07-31',\n",
            "               '2017-08-01', '2017-08-02', '2017-08-03', '2017-08-04',\n",
            "               '2017-08-07', '2017-08-08'],\n",
            "              dtype='datetime64[ns]', name='Date', length=1791, freq=None)\n"
          ]
        }
      ]
    },
    {
      "cell_type": "code",
      "source": [
        "#2. datetime 객체를 인덱스로 설정하면 원하는 날짜의 데이터를 쉽게 추출할 수 있다.\n",
        "print(tesla.loc['2015'])"
      ],
      "metadata": {
        "id": "slGaKrmLu4dH",
        "colab": {
          "base_uri": "https://localhost:8080/"
        },
        "outputId": "71c58dcc-3227-42ca-93c1-3215adf34c1f"
      },
      "execution_count": 45,
      "outputs": [
        {
          "output_type": "stream",
          "name": "stdout",
          "text": [
            "                 Date        Open        High         Low       Close  \\\n",
            "Date                                                                    \n",
            "2015-01-02 2015-01-02  222.869995  223.250000  213.259995  219.309998   \n",
            "2015-01-05 2015-01-05  214.550003  216.500000  207.160004  210.089996   \n",
            "2015-01-06 2015-01-06  210.059998  214.199997  204.210007  211.279999   \n",
            "2015-01-07 2015-01-07  213.350006  214.779999  209.779999  210.949997   \n",
            "2015-01-08 2015-01-08  212.809998  213.800003  210.009995  210.619995   \n",
            "...               ...         ...         ...         ...         ...   \n",
            "2015-12-24 2015-12-24  230.559998  231.880005  228.279999  230.570007   \n",
            "2015-12-28 2015-12-28  231.490005  231.979996  225.539993  228.949997   \n",
            "2015-12-29 2015-12-29  230.059998  237.720001  229.550003  237.190002   \n",
            "2015-12-30 2015-12-30  236.600006  243.630005  235.669998  238.089996   \n",
            "2015-12-31 2015-12-31  238.509995  243.449997  238.369995  240.009995   \n",
            "\n",
            "             Adj Close   Volume  \n",
            "Date                             \n",
            "2015-01-02  219.309998  4764400  \n",
            "2015-01-05  210.089996  5368500  \n",
            "2015-01-06  211.279999  6261900  \n",
            "2015-01-07  210.949997  2968400  \n",
            "2015-01-08  210.619995  3442500  \n",
            "...                ...      ...  \n",
            "2015-12-24  230.570007   708000  \n",
            "2015-12-28  228.949997  1901300  \n",
            "2015-12-29  237.190002  2406300  \n",
            "2015-12-30  238.089996  3697900  \n",
            "2015-12-31  240.009995  2683200  \n",
            "\n",
            "[252 rows x 7 columns]\n"
          ]
        }
      ]
    },
    {
      "cell_type": "code",
      "source": [
        "#3. 특정 연과 월을 기준으로 데이터를 추출할 수도 있다\n",
        "print(tesla.loc['2010-06'])"
      ],
      "metadata": {
        "id": "6xHvjBTbvFpR",
        "colab": {
          "base_uri": "https://localhost:8080/"
        },
        "outputId": "d6439c56-5d79-4ef5-a6ff-d32b90031ec6"
      },
      "execution_count": 46,
      "outputs": [
        {
          "output_type": "stream",
          "name": "stdout",
          "text": [
            "                 Date       Open   High        Low      Close  Adj Close  \\\n",
            "Date                                                                       \n",
            "2010-06-29 2010-06-29  19.000000  25.00  17.540001  23.889999  23.889999   \n",
            "2010-06-30 2010-06-30  25.790001  30.42  23.299999  23.830000  23.830000   \n",
            "\n",
            "              Volume  \n",
            "Date                  \n",
            "2010-06-29  18766300  \n",
            "2010-06-30  17187100  \n"
          ]
        }
      ]
    },
    {
      "cell_type": "markdown",
      "source": [
        "### TimedeltaIndex 객체로 추출하기"
      ],
      "metadata": {
        "id": "YB5lfZamvTFF"
      }
    },
    {
      "cell_type": "code",
      "source": [
        "#1. 데이터셋의 가장 오래된 날짜와 Date 열의 값과 차이를 계산하여 ref_date라는 새로운 열을 생성\n",
        "tesla['ref_date'] = tesla['Date'] - tesla['Date'].min()"
      ],
      "metadata": {
        "id": "53PaO_KYvSND"
      },
      "execution_count": 47,
      "outputs": []
    },
    {
      "cell_type": "code",
      "source": [
        "#2. timedelta 형의 ref_date 열을 인덱스로 설정\n",
        "tesla.index = tesla['ref_date']\n",
        "print(tesla.index)"
      ],
      "metadata": {
        "id": "fmAERDcfv0Jd",
        "colab": {
          "base_uri": "https://localhost:8080/"
        },
        "outputId": "c79a191c-b208-4a04-931d-e26afc1b5d30"
      },
      "execution_count": 48,
      "outputs": [
        {
          "output_type": "stream",
          "name": "stdout",
          "text": [
            "TimedeltaIndex([   '0 days',    '1 days',    '2 days',    '3 days',\n",
            "                   '7 days',    '8 days',    '9 days',   '10 days',\n",
            "                  '13 days',   '14 days',\n",
            "                ...\n",
            "                '2584 days', '2585 days', '2586 days', '2589 days',\n",
            "                '2590 days', '2591 days', '2592 days', '2593 days',\n",
            "                '2596 days', '2597 days'],\n",
            "               dtype='timedelta64[ns]', name='ref_date', length=1791, freq=None)\n"
          ]
        }
      ]
    },
    {
      "cell_type": "code",
      "source": [
        "#3. 인덱스가 TimedeltaIndex 객체로 설정되었고 전체 데이터를 살펴보기\n",
        "print(tesla)"
      ],
      "metadata": {
        "id": "ylRERVGywFw9",
        "colab": {
          "base_uri": "https://localhost:8080/"
        },
        "outputId": "225257da-0d87-4365-8d91-c7a578443f80"
      },
      "execution_count": 49,
      "outputs": [
        {
          "output_type": "stream",
          "name": "stdout",
          "text": [
            "                Date        Open        High         Low       Close  \\\n",
            "ref_date                                                               \n",
            "0 days    2010-06-29   19.000000   25.000000   17.540001   23.889999   \n",
            "1 days    2010-06-30   25.790001   30.420000   23.299999   23.830000   \n",
            "2 days    2010-07-01   25.000000   25.920000   20.270000   21.959999   \n",
            "3 days    2010-07-02   23.000000   23.100000   18.709999   19.200001   \n",
            "7 days    2010-07-06   20.000000   20.000000   15.830000   16.110001   \n",
            "...              ...         ...         ...         ...         ...   \n",
            "2591 days 2017-08-02  318.940002  327.119995  311.220001  325.890015   \n",
            "2592 days 2017-08-03  345.329987  350.000000  343.149994  347.089996   \n",
            "2593 days 2017-08-04  347.000000  357.269989  343.299988  356.910004   \n",
            "2596 days 2017-08-07  357.350006  359.480011  352.750000  355.170013   \n",
            "2597 days 2017-08-08  357.529999  368.579987  357.399994  365.220001   \n",
            "\n",
            "            Adj Close    Volume  ref_date  \n",
            "ref_date                                   \n",
            "0 days      23.889999  18766300    0 days  \n",
            "1 days      23.830000  17187100    1 days  \n",
            "2 days      21.959999   8218800    2 days  \n",
            "3 days      19.200001   5139800    3 days  \n",
            "7 days      16.110001   6866900    7 days  \n",
            "...               ...       ...       ...  \n",
            "2591 days  325.890015  13091500 2591 days  \n",
            "2592 days  347.089996  13535000 2592 days  \n",
            "2593 days  356.910004   9198400 2593 days  \n",
            "2596 days  355.170013   6276900 2596 days  \n",
            "2597 days  365.220001   7449837 2597 days  \n",
            "\n",
            "[1791 rows x 8 columns]\n"
          ]
        }
      ]
    },
    {
      "cell_type": "code",
      "source": [
        "#4. 시간 간격이 0일부터 10일까지인 데이터를 추출\n",
        "print(tesla.loc['0 day': '10 day'])"
      ],
      "metadata": {
        "id": "vj8oJIYIweOn",
        "colab": {
          "base_uri": "https://localhost:8080/"
        },
        "outputId": "b09e64bf-cd96-4d05-abb1-10078f0a9723"
      },
      "execution_count": 50,
      "outputs": [
        {
          "output_type": "stream",
          "name": "stdout",
          "text": [
            "               Date       Open       High        Low      Close  Adj Close  \\\n",
            "ref_date                                                                     \n",
            "0 days   2010-06-29  19.000000  25.000000  17.540001  23.889999  23.889999   \n",
            "1 days   2010-06-30  25.790001  30.420000  23.299999  23.830000  23.830000   \n",
            "2 days   2010-07-01  25.000000  25.920000  20.270000  21.959999  21.959999   \n",
            "3 days   2010-07-02  23.000000  23.100000  18.709999  19.200001  19.200001   \n",
            "7 days   2010-07-06  20.000000  20.000000  15.830000  16.110001  16.110001   \n",
            "8 days   2010-07-07  16.400000  16.629999  14.980000  15.800000  15.800000   \n",
            "9 days   2010-07-08  16.139999  17.520000  15.570000  17.459999  17.459999   \n",
            "10 days  2010-07-09  17.580000  17.900000  16.549999  17.400000  17.400000   \n",
            "\n",
            "            Volume ref_date  \n",
            "ref_date                     \n",
            "0 days    18766300   0 days  \n",
            "1 days    17187100   1 days  \n",
            "2 days     8218800   2 days  \n",
            "3 days     5139800   3 days  \n",
            "7 days     6866900   7 days  \n",
            "8 days     6921700   8 days  \n",
            "9 days     7711400   9 days  \n",
            "10 days    4050600  10 days  \n"
          ]
        }
      ]
    },
    {
      "cell_type": "markdown",
      "source": [
        "# 12-9. 시간 범위 다루기"
      ],
      "metadata": {
        "id": "zGS7598RwzHn"
      }
    },
    {
      "cell_type": "code",
      "source": [
        "# 특정일이 빠진 데이터를 보려면 어떻게 해야할까\n",
        "#1. 에볼라 데이터셋을 불러와서 처음 5개 행을 확인\n",
        "ebola = pd.read_csv(\n",
        "    'country_timeseries.csv', parse_dates = [\"Date\"]\n",
        ")\n",
        "print(ebola.iloc[:,:5])"
      ],
      "metadata": {
        "id": "qb8qs7tyw2Nx",
        "colab": {
          "base_uri": "https://localhost:8080/"
        },
        "outputId": "90d32af5-0cac-4789-81e0-2fedc019de06"
      },
      "execution_count": 51,
      "outputs": [
        {
          "output_type": "stream",
          "name": "stdout",
          "text": [
            "          Date  Day  Cases_Guinea  Cases_Liberia  Cases_SierraLeone\n",
            "0   2015-01-05  289        2776.0            NaN            10030.0\n",
            "1   2015-01-04  288        2775.0            NaN             9780.0\n",
            "2   2015-01-03  287        2769.0         8166.0             9722.0\n",
            "3   2015-01-02  286           NaN         8157.0                NaN\n",
            "4   2014-12-31  284        2730.0         8115.0             9633.0\n",
            "..         ...  ...           ...            ...                ...\n",
            "117 2014-03-27    5         103.0            8.0                6.0\n",
            "118 2014-03-26    4          86.0            NaN                NaN\n",
            "119 2014-03-25    3          86.0            NaN                NaN\n",
            "120 2014-03-24    2          86.0            NaN                NaN\n",
            "121 2014-03-22    0          49.0            NaN                NaN\n",
            "\n",
            "[122 rows x 5 columns]\n"
          ]
        }
      ]
    },
    {
      "cell_type": "code",
      "source": [
        "#2. 출력 결과를 보면 날짜가 2015-01-01인 데이터가 없다. date_range() 함수를 사용하려 시작 날짜와 끝 날짜를 지정하면 해당 범위의 모든 날짜를 포함한 DatetimeIndex를 생성할 수 있다.\n",
        "head_range = pd.date_range(start='2014-12-31', end = '2015-01-05')\n",
        "print(head_range)"
      ],
      "metadata": {
        "id": "IB7Vc711xUtX",
        "colab": {
          "base_uri": "https://localhost:8080/"
        },
        "outputId": "9d20da16-8ff3-4625-c94e-26af813986bd"
      },
      "execution_count": 52,
      "outputs": [
        {
          "output_type": "stream",
          "name": "stdout",
          "text": [
            "DatetimeIndex(['2014-12-31', '2015-01-01', '2015-01-02', '2015-01-03',\n",
            "               '2015-01-04', '2015-01-05'],\n",
            "              dtype='datetime64[ns]', freq='D')\n"
          ]
        }
      ]
    },
    {
      "cell_type": "code",
      "source": [
        "#3. 생성한 날짜 범위에 맞게 에볼라 데이터셋의 처음 5개 행을 추출\n",
        "ebola_5 = ebola.head()\n",
        "#4. Date 열을 인덱스로 설정해야 한다\n",
        "ebola_5.index = ebola_5['Date']\n",
        "#5. reindex()에 head_range를 전달하여 새로 생성한 DatetimeIndex로 인덱스를 다시 설정\n",
        "ebola_5 = ebola_5.reindex(head_range)\n",
        "print(ebola_5.iloc[:,:5]) #날짜 2015-01-01 이외 모든 데이터를 NaN으로 설정"
      ],
      "metadata": {
        "id": "QseWaq0gyFeH",
        "colab": {
          "base_uri": "https://localhost:8080/"
        },
        "outputId": "352bc0aa-36cd-49cc-eb24-552fc31bf9c2"
      },
      "execution_count": 53,
      "outputs": [
        {
          "output_type": "stream",
          "name": "stdout",
          "text": [
            "                 Date    Day  Cases_Guinea  Cases_Liberia  Cases_SierraLeone\n",
            "2014-12-31 2014-12-31  284.0        2730.0         8115.0             9633.0\n",
            "2015-01-01        NaT    NaN           NaN            NaN                NaN\n",
            "2015-01-02 2015-01-02  286.0           NaN         8157.0                NaN\n",
            "2015-01-03 2015-01-03  287.0        2769.0         8166.0             9722.0\n",
            "2015-01-04 2015-01-04  288.0        2775.0            NaN             9780.0\n",
            "2015-01-05 2015-01-05  289.0        2776.0            NaN            10030.0\n"
          ]
        }
      ]
    },
    {
      "cell_type": "markdown",
      "source": [
        "## 시간 범위의 주기 설정하기"
      ],
      "metadata": {
        "id": "teQwyz55zkzW"
      }
    },
    {
      "cell_type": "markdown",
      "source": [
        "* freq 라는 매개변수에 여러 변수로 시간 주기를 지정할 수 있다"
      ],
      "metadata": {
        "id": "-rrKyyJuz5rZ"
      }
    },
    {
      "cell_type": "code",
      "source": [
        "#1. 평일 주기로 시간 범위의 날짜를 생성하고 싶다면 freq에 'B'를 전달하면 된다\n",
        "print(pd.date_range('2022-01-01', '2022-01-07', freq='B'))"
      ],
      "metadata": {
        "id": "eISfoJqrzJn7",
        "colab": {
          "base_uri": "https://localhost:8080/"
        },
        "outputId": "af35bd9a-46fc-4246-acde-7dcfb0556785"
      },
      "execution_count": 54,
      "outputs": [
        {
          "output_type": "stream",
          "name": "stdout",
          "text": [
            "DatetimeIndex(['2022-01-03', '2022-01-04', '2022-01-05', '2022-01-06',\n",
            "               '2022-01-07'],\n",
            "              dtype='datetime64[ns]', freq='B')\n"
          ]
        }
      ]
    },
    {
      "cell_type": "markdown",
      "source": [
        "### 시간 범위의 주기 간격 설정하기"
      ],
      "metadata": {
        "id": "l8WxCfjc0YQi"
      }
    },
    {
      "cell_type": "code",
      "source": [
        "#1. freq에 'B'대신 '2B'를 전달하여 두 배 주기를 설정할 수 있음\n",
        "print((pd.date_range('2022-01-01', '2022-01-07', freq='2B')))"
      ],
      "metadata": {
        "id": "ioGm1jmZ0VpI",
        "colab": {
          "base_uri": "https://localhost:8080/"
        },
        "outputId": "2126f9d0-ad66-4ff2-92da-9a900942e16a"
      },
      "execution_count": 55,
      "outputs": [
        {
          "output_type": "stream",
          "name": "stdout",
          "text": [
            "DatetimeIndex(['2022-01-03', '2022-01-05', '2022-01-07'], dtype='datetime64[ns]', freq='2B')\n"
          ]
        }
      ]
    },
    {
      "cell_type": "code",
      "source": [
        "#2. 다양한 주기와 조합하여 주기 간격을 설정할 수도 있다.\n",
        "print(pd.date_range('2022-01-01', '2022-12-31', freq = 'WOM-1THU')) #매월 첫번째 목요일 구하기\n",
        "print(pd.date_range('2022-01-01', '2022-12-31', freq='WOM-3FRI')) #매월 세번째 금요일"
      ],
      "metadata": {
        "id": "hRzkO7x503cH",
        "colab": {
          "base_uri": "https://localhost:8080/"
        },
        "outputId": "1d43ba0e-3334-49f2-c9e6-59d4bcaaa244"
      },
      "execution_count": 56,
      "outputs": [
        {
          "output_type": "stream",
          "name": "stdout",
          "text": [
            "DatetimeIndex(['2022-01-06', '2022-02-03', '2022-03-03', '2022-04-07',\n",
            "               '2022-05-05', '2022-06-02', '2022-07-07', '2022-08-04',\n",
            "               '2022-09-01', '2022-10-06', '2022-11-03', '2022-12-01'],\n",
            "              dtype='datetime64[ns]', freq='WOM-1THU')\n",
            "DatetimeIndex(['2022-01-21', '2022-02-18', '2022-03-18', '2022-04-15',\n",
            "               '2022-05-20', '2022-06-17', '2022-07-15', '2022-08-19',\n",
            "               '2022-09-16', '2022-10-21', '2022-11-18', '2022-12-16'],\n",
            "              dtype='datetime64[ns]', freq='WOM-3FRI')\n"
          ]
        }
      ]
    },
    {
      "cell_type": "markdown",
      "source": [
        "# 12-10. 열 방향으로 값 옮기기\n"
      ],
      "metadata": {
        "id": "sMIbVSed92k_"
      }
    },
    {
      "cell_type": "code",
      "source": [
        "# 에볼라 데이터셋의 Date열을 기준으로 나라별 확산 경향을 그래프로 그리기\n",
        "import matplotlib.pyplot as plt\n",
        "\n",
        "ebola.index = ebola[\"Date\"]\n",
        "\n",
        "fig, ax = plt.subplots()\n",
        "ax = ebola.plot(ax=ax)\n",
        "ax.legend(fontsize=7, loc=2, borderaxespad=0.0)\n",
        "plt.show()\n",
        "plt.savefig('ebola.png')\n",
        "# 나라별로 발병일이 달라 그래프가 그려지기 시작한 날짜가 모두 다르다"
      ],
      "metadata": {
        "id": "2RXxhUfs97Z4",
        "colab": {
          "base_uri": "https://localhost:8080/",
          "height": 451
        },
        "outputId": "6ce20f85-f605-413a-97ed-3608d5062321"
      },
      "execution_count": 58,
      "outputs": [
        {
          "output_type": "display_data",
          "data": {
            "text/plain": [
              "<Figure size 640x480 with 1 Axes>"
            ],
            "image/png": "[encoded data removed]"
          },
          "metadata": {}
        },
        {
          "output_type": "display_data",
          "data": {
            "text/plain": [
              "<Figure size 640x480 with 0 Axes>"
            ]
          },
          "metadata": {}
        }
      ]
    },
    {
      "cell_type": "code",
      "source": [
        "ebola_sub = ebola[['Day', 'Cases_Guinea', 'Cases_Liberia']]\n",
        "print(ebola_sub.tail(10))"
      ],
      "metadata": {
        "id": "KrRYGiXK_iz7",
        "colab": {
          "base_uri": "https://localhost:8080/"
        },
        "outputId": "8cbdc794-f3a9-482d-e7bf-73fded83662b"
      },
      "execution_count": 59,
      "outputs": [
        {
          "output_type": "stream",
          "name": "stdout",
          "text": [
            "            Day  Cases_Guinea  Cases_Liberia\n",
            "Date                                        \n",
            "2014-04-04   13         143.0           18.0\n",
            "2014-04-01   10         127.0            8.0\n",
            "2014-03-31    9         122.0            8.0\n",
            "2014-03-29    7         112.0            7.0\n",
            "2014-03-28    6         112.0            3.0\n",
            "2014-03-27    5         103.0            8.0\n",
            "2014-03-26    4          86.0            NaN\n",
            "2014-03-25    3          86.0            NaN\n",
            "2014-03-24    2          86.0            NaN\n",
            "2014-03-22    0          49.0            NaN\n"
          ]
        }
      ]
    },
    {
      "cell_type": "markdown",
      "source": [
        "* 각 나라의 발병일을 가장 먼저 에볼라가 발병한 Guinea와 같은 위치로 옮겨야 나라별 확산속도를 제대로 비교할 수 있다\n",
        "* 날짜가 결측값일수도 있으므로 시간 범위를 날짜별로 생성하여 인덱스를 다시 설정합니다.\n",
        "* 데이터셋의 가장 오래된 날짜와 각 열의 가장 오래된 유효 되이테의 날짜 차이를 계산\n",
        "* 계산된 차이만큼 각 열을 옮긴다."
      ],
      "metadata": {
        "id": "BZlMm71j_1-I"
      }
    },
    {
      "cell_type": "code",
      "source": [
        "# Date 열을 parse_dates에 전달하여 datetime 객체로 변환하고 이 열을 인덱스로 설정.\n",
        "ebola = pd.read_csv(\n",
        "    'country_timeseries.csv',\n",
        "    parse_dates = [\"Date\"],\n",
        "    index_col = \"Date\"\n",
        ")\n",
        "print(ebola.iloc[:,:4])"
      ],
      "metadata": {
        "id": "B1cZKP4PAX8N",
        "colab": {
          "base_uri": "https://localhost:8080/"
        },
        "outputId": "02f3ab50-ec9a-4652-e76b-cc7ba1d0ce76"
      },
      "execution_count": 60,
      "outputs": [
        {
          "output_type": "stream",
          "name": "stdout",
          "text": [
            "            Day  Cases_Guinea  Cases_Liberia  Cases_SierraLeone\n",
            "Date                                                           \n",
            "2015-01-05  289        2776.0            NaN            10030.0\n",
            "2015-01-04  288        2775.0            NaN             9780.0\n",
            "2015-01-03  287        2769.0         8166.0             9722.0\n",
            "2015-01-02  286           NaN         8157.0                NaN\n",
            "2014-12-31  284        2730.0         8115.0             9633.0\n",
            "...         ...           ...            ...                ...\n",
            "2014-03-27    5         103.0            8.0                6.0\n",
            "2014-03-26    4          86.0            NaN                NaN\n",
            "2014-03-25    3          86.0            NaN                NaN\n",
            "2014-03-24    2          86.0            NaN                NaN\n",
            "2014-03-22    0          49.0            NaN                NaN\n",
            "\n",
            "[122 rows x 4 columns]\n"
          ]
        }
      ]
    },
    {
      "cell_type": "code",
      "source": [
        "# 데이터에 없는 날짜를 모두 채울 수 있도록 시간 범위를 생성.\n",
        "new_idx = pd.date_range(ebola.index.min(), ebola.index.max())\n",
        "print(new_idx)"
      ],
      "metadata": {
        "id": "8dA8a8vgA8uf",
        "colab": {
          "base_uri": "https://localhost:8080/"
        },
        "outputId": "e3525517-1d70-4ee9-80f0-2c35aef92160"
      },
      "execution_count": 68,
      "outputs": [
        {
          "output_type": "stream",
          "name": "stdout",
          "text": [
            "DatetimeIndex(['2014-03-22', '2014-03-23', '2014-03-24', '2014-03-25',\n",
            "               '2014-03-26', '2014-03-27', '2014-03-28', '2014-03-29',\n",
            "               '2014-03-30', '2014-03-31',\n",
            "               ...\n",
            "               '2014-12-27', '2014-12-28', '2014-12-29', '2014-12-30',\n",
            "               '2014-12-31', '2015-01-01', '2015-01-02', '2015-01-03',\n",
            "               '2015-01-04', '2015-01-05'],\n",
            "              dtype='datetime64[ns]', length=290, freq='D')\n"
          ]
        }
      ]
    },
    {
      "cell_type": "code",
      "source": [
        "# 데이터가 오래된 날짜부터 오름차순으로 되어있기 때문에 뒤집어주기\n",
        "new_idx = reversed(new_idx)\n",
        "print(new_idx)"
      ],
      "metadata": {
        "id": "lf532wMbBV1O",
        "colab": {
          "base_uri": "https://localhost:8080/"
        },
        "outputId": "1ae3fdd0-33ce-41ce-bb24-e87f603bfbd3"
      },
      "execution_count": 69,
      "outputs": [
        {
          "output_type": "stream",
          "name": "stdout",
          "text": [
            "<reversed object at 0x78bff089cdc0>\n"
          ]
        }
      ]
    },
    {
      "cell_type": "code",
      "source": [
        "# 데이터의 인덱스를 다시 설정\n",
        "ebola = ebola.reindex(new_idx)"
      ],
      "metadata": {
        "id": "6H3Y_MIoBmzO"
      },
      "execution_count": 70,
      "outputs": []
    },
    {
      "cell_type": "code",
      "source": [
        "# 결과 데이터를 보면 기존에 없던 날짜는 NaN 행으로 데이터에 추가된 것을 확인\n",
        "print(ebola.iloc[:,:4])"
      ],
      "metadata": {
        "id": "dw502_YvBuOl",
        "colab": {
          "base_uri": "https://localhost:8080/"
        },
        "outputId": "fa58eaaf-09e6-416d-f770-9d2c985d607c"
      },
      "execution_count": 71,
      "outputs": [
        {
          "output_type": "stream",
          "name": "stdout",
          "text": [
            "              Day  Cases_Guinea  Cases_Liberia  Cases_SierraLeone\n",
            "2015-01-05  289.0        2776.0            NaN            10030.0\n",
            "2015-01-04  288.0        2775.0            NaN             9780.0\n",
            "2015-01-03  287.0        2769.0         8166.0             9722.0\n",
            "2015-01-02  286.0           NaN         8157.0                NaN\n",
            "2015-01-01    NaN           NaN            NaN                NaN\n",
            "...           ...           ...            ...                ...\n",
            "2014-03-26    4.0          86.0            NaN                NaN\n",
            "2014-03-25    3.0          86.0            NaN                NaN\n",
            "2014-03-24    2.0          86.0            NaN                NaN\n",
            "2014-03-23    NaN           NaN            NaN                NaN\n",
            "2014-03-22    0.0          49.0            NaN                NaN\n",
            "\n",
            "[290 rows x 4 columns]\n"
          ]
        }
      ]
    },
    {
      "cell_type": "code",
      "source": [
        "# last_valid_index() 메서드를 이용하여 결측값이 아니거나 null이 아닌 마지막 값의 인덱스 이름을 반환할 수 있다.\n",
        "# 반대로 결측 값이 아니거나 null이 아닌 첫 번째 값을 반환하는 first_valid_index() 메서드도 있다.\n",
        "last_valid = ebola.apply(pd.Series.last_valid_index)\n",
        "print(last_valid)"
      ],
      "metadata": {
        "id": "ihs9kOmNCAE_",
        "colab": {
          "base_uri": "https://localhost:8080/"
        },
        "outputId": "90cc0a22-7484-40e1-f875-821894b20105"
      },
      "execution_count": 72,
      "outputs": [
        {
          "output_type": "stream",
          "name": "stdout",
          "text": [
            "Day                   2014-03-22\n",
            "Cases_Guinea          2014-03-22\n",
            "Cases_Liberia         2014-03-27\n",
            "Cases_SierraLeone     2014-03-27\n",
            "Cases_Nigeria         2014-07-23\n",
            "Cases_Senegal         2014-08-31\n",
            "Cases_UnitedStates    2014-10-01\n",
            "Cases_Spain           2014-10-08\n",
            "Cases_Mali            2014-10-22\n",
            "Deaths_Guinea         2014-03-22\n",
            "Deaths_Liberia        2014-03-27\n",
            "Deaths_SierraLeone    2014-03-27\n",
            "Deaths_Nigeria        2014-07-23\n",
            "Deaths_Senegal        2014-09-07\n",
            "Deaths_UnitedStates   2014-10-01\n",
            "Deaths_Spain          2014-10-08\n",
            "Deaths_Mali           2014-10-22\n",
            "dtype: datetime64[ns]\n"
          ]
        }
      ]
    },
    {
      "cell_type": "code",
      "source": [
        "# 데이터셋에서 가장 오래된 날짜를 확인\n",
        "earliest_date = ebola.index.min()\n",
        "print(earliest_date)"
      ],
      "metadata": {
        "id": "3QkBskrZCsuV",
        "colab": {
          "base_uri": "https://localhost:8080/"
        },
        "outputId": "52655b89-11f2-4789-d923-bbeafd764f54"
      },
      "execution_count": 73,
      "outputs": [
        {
          "output_type": "stream",
          "name": "stdout",
          "text": [
            "2014-03-22 00:00:00\n"
          ]
        }
      ]
    },
    {
      "cell_type": "code",
      "source": [
        "# 각 열의 가장 오래된 유효 날짜인 last_valid에서 이 날짜를 뺀다.\n",
        "shift_values = last_valid - earliest_date\n",
        "print(shift_values)"
      ],
      "metadata": {
        "id": "sH-VaHhIDBD-",
        "colab": {
          "base_uri": "https://localhost:8080/"
        },
        "outputId": "db5fda7e-e220-48c8-c757-0a3b5e2c9723"
      },
      "execution_count": 74,
      "outputs": [
        {
          "output_type": "stream",
          "name": "stdout",
          "text": [
            "Day                     0 days\n",
            "Cases_Guinea            0 days\n",
            "Cases_Liberia           5 days\n",
            "Cases_SierraLeone       5 days\n",
            "Cases_Nigeria         123 days\n",
            "Cases_Senegal         162 days\n",
            "Cases_UnitedStates    193 days\n",
            "Cases_Spain           200 days\n",
            "Cases_Mali            214 days\n",
            "Deaths_Guinea           0 days\n",
            "Deaths_Liberia          5 days\n",
            "Deaths_SierraLeone      5 days\n",
            "Deaths_Nigeria        123 days\n",
            "Deaths_Senegal        169 days\n",
            "Deaths_UnitedStates   193 days\n",
            "Deaths_Spain          200 days\n",
            "Deaths_Mali           214 days\n",
            "dtype: timedelta64[ns]\n"
          ]
        }
      ]
    },
    {
      "cell_type": "code",
      "source": [
        "# shift() 메서드를 사용하여 각 열을 순회하면서 shift_values 값 만큼 열을 아래로 옮긴다. 옮긴 데이터는 딕셔너리 ebola_dict에 열 이름을 key로 하여 저장\n",
        "ebola_dict ={}\n",
        "\n",
        "for idx,col in enumerate(ebola):\n",
        "  d = shift_values[idx].days\n",
        "  shifted = ebola[col].shift(d)\n",
        "  ebola_dict[col] = shifted\n",
        "\n",
        "print(ebola_dict)"
      ],
      "metadata": {
        "id": "lairm1fRDzqb",
        "colab": {
          "base_uri": "https://localhost:8080/"
        },
        "outputId": "fcdac390-e91c-4412-d461-63a2c0fe4ad1"
      },
      "execution_count": 75,
      "outputs": [
        {
          "output_type": "stream",
          "name": "stdout",
          "text": [
            "{'Day': 2015-01-05    289.0\n",
            "2015-01-04    288.0\n",
            "2015-01-03    287.0\n",
            "2015-01-02    286.0\n",
            "2015-01-01      NaN\n",
            "              ...  \n",
            "2014-03-26      4.0\n",
            "2014-03-25      3.0\n",
            "2014-03-24      2.0\n",
            "2014-03-23      NaN\n",
            "2014-03-22      0.0\n",
            "Name: Day, Length: 290, dtype: float64, 'Cases_Guinea': 2015-01-05    2776.0\n",
            "2015-01-04    2775.0\n",
            "2015-01-03    2769.0\n",
            "2015-01-02       NaN\n",
            "2015-01-01       NaN\n",
            "               ...  \n",
            "2014-03-26      86.0\n",
            "2014-03-25      86.0\n",
            "2014-03-24      86.0\n",
            "2014-03-23       NaN\n",
            "2014-03-22      49.0\n",
            "Name: Cases_Guinea, Length: 290, dtype: float64, 'Cases_Liberia': 2015-01-05    NaN\n",
            "2015-01-04    NaN\n",
            "2015-01-03    NaN\n",
            "2015-01-02    NaN\n",
            "2015-01-01    NaN\n",
            "             ... \n",
            "2014-03-26    8.0\n",
            "2014-03-25    NaN\n",
            "2014-03-24    7.0\n",
            "2014-03-23    3.0\n",
            "2014-03-22    8.0\n",
            "Name: Cases_Liberia, Length: 290, dtype: float64, 'Cases_SierraLeone': 2015-01-05    NaN\n",
            "2015-01-04    NaN\n",
            "2015-01-03    NaN\n",
            "2015-01-02    NaN\n",
            "2015-01-01    NaN\n",
            "             ... \n",
            "2014-03-26    2.0\n",
            "2014-03-25    NaN\n",
            "2014-03-24    NaN\n",
            "2014-03-23    2.0\n",
            "2014-03-22    6.0\n",
            "Name: Cases_SierraLeone, Length: 290, dtype: float64, 'Cases_Nigeria': 2015-01-05    NaN\n",
            "2015-01-04    NaN\n",
            "2015-01-03    NaN\n",
            "2015-01-02    NaN\n",
            "2015-01-01    NaN\n",
            "             ... \n",
            "2014-03-26    1.0\n",
            "2014-03-25    NaN\n",
            "2014-03-24    NaN\n",
            "2014-03-23    NaN\n",
            "2014-03-22    0.0\n",
            "Name: Cases_Nigeria, Length: 290, dtype: float64, 'Cases_Senegal': 2015-01-05    NaN\n",
            "2015-01-04    NaN\n",
            "2015-01-03    NaN\n",
            "2015-01-02    NaN\n",
            "2015-01-01    NaN\n",
            "             ... \n",
            "2014-03-26    NaN\n",
            "2014-03-25    NaN\n",
            "2014-03-24    NaN\n",
            "2014-03-23    NaN\n",
            "2014-03-22    1.0\n",
            "Name: Cases_Senegal, Length: 290, dtype: float64, 'Cases_UnitedStates': 2015-01-05    NaN\n",
            "2015-01-04    NaN\n",
            "2015-01-03    NaN\n",
            "2015-01-02    NaN\n",
            "2015-01-01    NaN\n",
            "             ... \n",
            "2014-03-26    1.0\n",
            "2014-03-25    NaN\n",
            "2014-03-24    NaN\n",
            "2014-03-23    NaN\n",
            "2014-03-22    1.0\n",
            "Name: Cases_UnitedStates, Length: 290, dtype: float64, 'Cases_Spain': 2015-01-05    NaN\n",
            "2015-01-04    NaN\n",
            "2015-01-03    NaN\n",
            "2015-01-02    NaN\n",
            "2015-01-01    NaN\n",
            "             ... \n",
            "2014-03-26    1.0\n",
            "2014-03-25    NaN\n",
            "2014-03-24    NaN\n",
            "2014-03-23    NaN\n",
            "2014-03-22    1.0\n",
            "Name: Cases_Spain, Length: 290, dtype: float64, 'Cases_Mali': 2015-01-05    NaN\n",
            "2015-01-04    NaN\n",
            "2015-01-03    NaN\n",
            "2015-01-02    NaN\n",
            "2015-01-01    NaN\n",
            "             ... \n",
            "2014-03-26    NaN\n",
            "2014-03-25    NaN\n",
            "2014-03-24    NaN\n",
            "2014-03-23    NaN\n",
            "2014-03-22    1.0\n",
            "Name: Cases_Mali, Length: 290, dtype: float64, 'Deaths_Guinea': 2015-01-05    1786.0\n",
            "2015-01-04    1781.0\n",
            "2015-01-03    1767.0\n",
            "2015-01-02       NaN\n",
            "2015-01-01       NaN\n",
            "               ...  \n",
            "2014-03-26      62.0\n",
            "2014-03-25      60.0\n",
            "2014-03-24      59.0\n",
            "2014-03-23       NaN\n",
            "2014-03-22      29.0\n",
            "Name: Deaths_Guinea, Length: 290, dtype: float64, 'Deaths_Liberia': 2015-01-05    NaN\n",
            "2015-01-04    NaN\n",
            "2015-01-03    NaN\n",
            "2015-01-02    NaN\n",
            "2015-01-01    NaN\n",
            "             ... \n",
            "2014-03-26    4.0\n",
            "2014-03-25    NaN\n",
            "2014-03-24    2.0\n",
            "2014-03-23    3.0\n",
            "2014-03-22    6.0\n",
            "Name: Deaths_Liberia, Length: 290, dtype: float64, 'Deaths_SierraLeone': 2015-01-05    NaN\n",
            "2015-01-04    NaN\n",
            "2015-01-03    NaN\n",
            "2015-01-02    NaN\n",
            "2015-01-01    NaN\n",
            "             ... \n",
            "2014-03-26    2.0\n",
            "2014-03-25    NaN\n",
            "2014-03-24    NaN\n",
            "2014-03-23    2.0\n",
            "2014-03-22    5.0\n",
            "Name: Deaths_SierraLeone, Length: 290, dtype: float64, 'Deaths_Nigeria': 2015-01-05    NaN\n",
            "2015-01-04    NaN\n",
            "2015-01-03    NaN\n",
            "2015-01-02    NaN\n",
            "2015-01-01    NaN\n",
            "             ... \n",
            "2014-03-26    1.0\n",
            "2014-03-25    NaN\n",
            "2014-03-24    NaN\n",
            "2014-03-23    NaN\n",
            "2014-03-22    0.0\n",
            "Name: Deaths_Nigeria, Length: 290, dtype: float64, 'Deaths_Senegal': 2015-01-05    NaN\n",
            "2015-01-04    NaN\n",
            "2015-01-03    NaN\n",
            "2015-01-02    NaN\n",
            "2015-01-01    NaN\n",
            "             ... \n",
            "2014-03-26    NaN\n",
            "2014-03-25    NaN\n",
            "2014-03-24    NaN\n",
            "2014-03-23    NaN\n",
            "2014-03-22    0.0\n",
            "Name: Deaths_Senegal, Length: 290, dtype: float64, 'Deaths_UnitedStates': 2015-01-05    NaN\n",
            "2015-01-04    NaN\n",
            "2015-01-03    NaN\n",
            "2015-01-02    NaN\n",
            "2015-01-01    NaN\n",
            "             ... \n",
            "2014-03-26    0.0\n",
            "2014-03-25    NaN\n",
            "2014-03-24    NaN\n",
            "2014-03-23    NaN\n",
            "2014-03-22    0.0\n",
            "Name: Deaths_UnitedStates, Length: 290, dtype: float64, 'Deaths_Spain': 2015-01-05    NaN\n",
            "2015-01-04    NaN\n",
            "2015-01-03    NaN\n",
            "2015-01-02    NaN\n",
            "2015-01-01    NaN\n",
            "             ... \n",
            "2014-03-26    1.0\n",
            "2014-03-25    NaN\n",
            "2014-03-24    NaN\n",
            "2014-03-23    NaN\n",
            "2014-03-22    1.0\n",
            "Name: Deaths_Spain, Length: 290, dtype: float64, 'Deaths_Mali': 2015-01-05    NaN\n",
            "2015-01-04    NaN\n",
            "2015-01-03    NaN\n",
            "2015-01-02    NaN\n",
            "2015-01-01    NaN\n",
            "             ... \n",
            "2014-03-26    NaN\n",
            "2014-03-25    NaN\n",
            "2014-03-24    NaN\n",
            "2014-03-23    NaN\n",
            "2014-03-22    1.0\n",
            "Name: Deaths_Mali, Length: 290, dtype: float64}\n"
          ]
        },
        {
          "output_type": "stream",
          "name": "stderr",
          "text": [
            "/tmp/ipython-input-75-4067322948.py:5: FutureWarning: Series.__getitem__ treating keys as positions is deprecated. In a future version, integer keys will always be treated as labels (consistent with DataFrame behavior). To access a value by position, use `ser.iloc[pos]`\n",
            "  d = shift_values[idx].days\n"
          ]
        }
      ]
    },
    {
      "cell_type": "code",
      "source": [
        "ebola_shift = pd.DataFrame(ebola_dict)\n",
        "print(ebola_shift.tail())"
      ],
      "metadata": {
        "id": "o2O0Ah8LFdJB",
        "colab": {
          "base_uri": "https://localhost:8080/"
        },
        "outputId": "0ae1eb22-072a-42f7-9dd6-e940a037efe6"
      },
      "execution_count": 76,
      "outputs": [
        {
          "output_type": "stream",
          "name": "stdout",
          "text": [
            "            Day  Cases_Guinea  Cases_Liberia  Cases_SierraLeone  \\\n",
            "2014-03-26  4.0          86.0            8.0                2.0   \n",
            "2014-03-25  3.0          86.0            NaN                NaN   \n",
            "2014-03-24  2.0          86.0            7.0                NaN   \n",
            "2014-03-23  NaN           NaN            3.0                2.0   \n",
            "2014-03-22  0.0          49.0            8.0                6.0   \n",
            "\n",
            "            Cases_Nigeria  Cases_Senegal  Cases_UnitedStates  Cases_Spain  \\\n",
            "2014-03-26            1.0            NaN                 1.0          1.0   \n",
            "2014-03-25            NaN            NaN                 NaN          NaN   \n",
            "2014-03-24            NaN            NaN                 NaN          NaN   \n",
            "2014-03-23            NaN            NaN                 NaN          NaN   \n",
            "2014-03-22            0.0            1.0                 1.0          1.0   \n",
            "\n",
            "            Cases_Mali  Deaths_Guinea  Deaths_Liberia  Deaths_SierraLeone  \\\n",
            "2014-03-26         NaN           62.0             4.0                 2.0   \n",
            "2014-03-25         NaN           60.0             NaN                 NaN   \n",
            "2014-03-24         NaN           59.0             2.0                 NaN   \n",
            "2014-03-23         NaN            NaN             3.0                 2.0   \n",
            "2014-03-22         1.0           29.0             6.0                 5.0   \n",
            "\n",
            "            Deaths_Nigeria  Deaths_Senegal  Deaths_UnitedStates  Deaths_Spain  \\\n",
            "2014-03-26             1.0             NaN                  0.0           1.0   \n",
            "2014-03-25             NaN             NaN                  NaN           NaN   \n",
            "2014-03-24             NaN             NaN                  NaN           NaN   \n",
            "2014-03-23             NaN             NaN                  NaN           NaN   \n",
            "2014-03-22             0.0             0.0                  0.0           1.0   \n",
            "\n",
            "            Deaths_Mali  \n",
            "2014-03-26          NaN  \n",
            "2014-03-25          NaN  \n",
            "2014-03-24          NaN  \n",
            "2014-03-23          NaN  \n",
            "2014-03-22          1.0  \n"
          ]
        }
      ]
    },
    {
      "cell_type": "code",
      "source": [
        "# 인덱스였던 날짜는 더는 의미가 없습니다. 인덱스를 제거하고 발병일 기준으로 며칠이 지났는지 인덱스로 다시 설정해야함\n",
        "ebola_shift.index = ebola_shift['Day']\n",
        "ebola_shift = ebola_shift.drop(['Day'], axis=\"columns\") # drop()메서드로 Day열 삭제\n",
        "print(ebola_shift.tail())"
      ],
      "metadata": {
        "id": "nbqU62t7Fpuk",
        "colab": {
          "base_uri": "https://localhost:8080/"
        },
        "outputId": "2d044382-ad3e-4abc-f607-8a84802343a8"
      },
      "execution_count": 77,
      "outputs": [
        {
          "output_type": "stream",
          "name": "stdout",
          "text": [
            "     Cases_Guinea  Cases_Liberia  Cases_SierraLeone  Cases_Nigeria  \\\n",
            "Day                                                                  \n",
            "4.0          86.0            8.0                2.0            1.0   \n",
            "3.0          86.0            NaN                NaN            NaN   \n",
            "2.0          86.0            7.0                NaN            NaN   \n",
            "NaN           NaN            3.0                2.0            NaN   \n",
            "0.0          49.0            8.0                6.0            0.0   \n",
            "\n",
            "     Cases_Senegal  Cases_UnitedStates  Cases_Spain  Cases_Mali  \\\n",
            "Day                                                               \n",
            "4.0            NaN                 1.0          1.0         NaN   \n",
            "3.0            NaN                 NaN          NaN         NaN   \n",
            "2.0            NaN                 NaN          NaN         NaN   \n",
            "NaN            NaN                 NaN          NaN         NaN   \n",
            "0.0            1.0                 1.0          1.0         1.0   \n",
            "\n",
            "     Deaths_Guinea  Deaths_Liberia  Deaths_SierraLeone  Deaths_Nigeria  \\\n",
            "Day                                                                      \n",
            "4.0           62.0             4.0                 2.0             1.0   \n",
            "3.0           60.0             NaN                 NaN             NaN   \n",
            "2.0           59.0             2.0                 NaN             NaN   \n",
            "NaN            NaN             3.0                 2.0             NaN   \n",
            "0.0           29.0             6.0                 5.0             0.0   \n",
            "\n",
            "     Deaths_Senegal  Deaths_UnitedStates  Deaths_Spain  Deaths_Mali  \n",
            "Day                                                                  \n",
            "4.0             NaN                  0.0           1.0          NaN  \n",
            "3.0             NaN                  NaN           NaN          NaN  \n",
            "2.0             NaN                  NaN           NaN          NaN  \n",
            "NaN             NaN                  NaN           NaN          NaN  \n",
            "0.0             0.0                  0.0           1.0          1.0  \n"
          ]
        }
      ]
    },
    {
      "cell_type": "markdown",
      "source": [
        "# 12-11. 시간 주기 변경하기"
      ],
      "metadata": {
        "id": "pqgdxXWnHIOj"
      }
    },
    {
      "cell_type": "markdown",
      "source": [
        "datetime의 시간 주기를 변경하는 것을 리샘플링이라고 한다.\n",
        "* 다운샘플링 : 작은 주기에서 큰 주기로 변경하기(일 기준에서 월 기준으로)\n",
        "* 업샘플링 : 큰 주기에서 작은 주기로 변경하기(월 기준에서 일 기준으로)\n",
        "* 변경 없음 : 주기의 크기는 변경하지 않고 세부 설정만 변경하기(매월 첫 번째 목요일에서 매월 마지막 주 금요일로)"
      ],
      "metadata": {
        "id": "BAfB3oTpHN-k"
      }
    },
    {
      "cell_type": "code",
      "source": [
        "# resample() 메서드에 원하는 시간 주기를 전달하여 인덱스의 시간 주기를 변경할 수 있다.\n",
        "# 일 기준으로 주기가 설정된 ebola데이터프레임의 인덱스를 월 기준으로 변경\n",
        "down= ebola.resample('M').mean() # 일 기준으로 작성된 데이터를 월 단위로 취합하기 위해 mean()으로 평균값을 사용\n",
        "print(down.iloc[:,:5])"
      ],
      "metadata": {
        "id": "9-BI-juZHHej",
        "colab": {
          "base_uri": "https://localhost:8080/"
        },
        "outputId": "411178be-3a10-48b3-9095-5850afd90249"
      },
      "execution_count": 78,
      "outputs": [
        {
          "output_type": "stream",
          "name": "stdout",
          "text": [
            "                   Day  Cases_Guinea  Cases_Liberia  Cases_SierraLeone  \\\n",
            "2014-03-31    4.500000     94.500000       6.500000           3.333333   \n",
            "2014-04-30   24.333333    177.818182      24.555556           2.200000   \n",
            "2014-05-31   51.888889    248.777778      12.555556           7.333333   \n",
            "2014-06-30   84.636364    373.428571      35.500000         125.571429   \n",
            "2014-07-31  115.700000    423.000000     212.300000         420.500000   \n",
            "2014-08-31  145.090909    559.818182     868.818182         844.000000   \n",
            "2014-09-30  177.500000    967.888889    2815.625000        1726.000000   \n",
            "2014-10-31  207.470588   1500.444444    4758.750000        3668.111111   \n",
            "2014-11-30  237.214286   1950.500000    7039.000000        5843.625000   \n",
            "2014-12-31  271.181818   2579.625000    7902.571429        8985.875000   \n",
            "2015-01-31  287.500000   2773.333333    8161.500000        9844.000000   \n",
            "\n",
            "            Cases_Nigeria  \n",
            "2014-03-31            NaN  \n",
            "2014-04-30            NaN  \n",
            "2014-05-31            NaN  \n",
            "2014-06-30            NaN  \n",
            "2014-07-31       1.333333  \n",
            "2014-08-31      13.363636  \n",
            "2014-09-30      20.714286  \n",
            "2014-10-31      20.000000  \n",
            "2014-11-30      20.000000  \n",
            "2014-12-31      20.000000  \n",
            "2015-01-31            NaN  \n"
          ]
        },
        {
          "output_type": "stream",
          "name": "stderr",
          "text": [
            "/tmp/ipython-input-78-2545003569.py:3: FutureWarning: 'M' is deprecated and will be removed in a future version, please use 'ME' instead.\n",
            "  down= ebola.resample('M').mean() # 일 기준으로 작성된 데이터를 월 단위로 취합하기 위해 mean()으로 평균값을 사용\n"
          ]
        }
      ]
    },
    {
      "cell_type": "code",
      "source": [
        "# 다시 일 기준으로 변경. 월별로 작성된 데이터를 일별로 나눌 방법은 없으므로 월별 마지막 날을 제외한 나머지 일자는 모두 NaN으로 채우기\n",
        "up = down.resample('D').mean()\n",
        "print(up.iloc[:,:5])"
      ],
      "metadata": {
        "id": "Zvr9AMdkJ2Jh",
        "colab": {
          "base_uri": "https://localhost:8080/"
        },
        "outputId": "da1aff07-47df-4e60-8e31-619e02cb553c"
      },
      "execution_count": 79,
      "outputs": [
        {
          "output_type": "stream",
          "name": "stdout",
          "text": [
            "              Day  Cases_Guinea  Cases_Liberia  Cases_SierraLeone  \\\n",
            "2014-03-31    4.5     94.500000            6.5           3.333333   \n",
            "2014-04-01    NaN           NaN            NaN                NaN   \n",
            "2014-04-02    NaN           NaN            NaN                NaN   \n",
            "2014-04-03    NaN           NaN            NaN                NaN   \n",
            "2014-04-04    NaN           NaN            NaN                NaN   \n",
            "...           ...           ...            ...                ...   \n",
            "2015-01-27    NaN           NaN            NaN                NaN   \n",
            "2015-01-28    NaN           NaN            NaN                NaN   \n",
            "2015-01-29    NaN           NaN            NaN                NaN   \n",
            "2015-01-30    NaN           NaN            NaN                NaN   \n",
            "2015-01-31  287.5   2773.333333         8161.5        9844.000000   \n",
            "\n",
            "            Cases_Nigeria  \n",
            "2014-03-31            NaN  \n",
            "2014-04-01            NaN  \n",
            "2014-04-02            NaN  \n",
            "2014-04-03            NaN  \n",
            "2014-04-04            NaN  \n",
            "...                   ...  \n",
            "2015-01-27            NaN  \n",
            "2015-01-28            NaN  \n",
            "2015-01-29            NaN  \n",
            "2015-01-30            NaN  \n",
            "2015-01-31            NaN  \n",
            "\n",
            "[307 rows x 5 columns]\n"
          ]
        }
      ]
    },
    {
      "cell_type": "markdown",
      "source": [
        "# 12-12. 시간대 다루기"
      ],
      "metadata": {
        "id": "tfEhVxsJKNHQ"
      }
    },
    {
      "cell_type": "code",
      "source": [
        "# 시간처리에 특화된 pytz 라이브러리\n",
        "import pytz\n",
        "\n",
        "# 596가지 지역별 시간대가 존재한다\n",
        "print(len(pytz.all_timezones))"
      ],
      "metadata": {
        "id": "IwwLpS_kKMiC",
        "colab": {
          "base_uri": "https://localhost:8080/"
        },
        "outputId": "782ac31b-3e7a-424f-9aab-6f9089569bcc"
      },
      "execution_count": 80,
      "outputs": [
        {
          "output_type": "stream",
          "name": "stdout",
          "text": [
            "597\n"
          ]
        }
      ]
    },
    {
      "cell_type": "code",
      "source": [
        "# 미국 시간대를 살펴보기\n",
        "import re\n",
        "regex = re.compile(r'^US')\n",
        "selected_files = filter(regex.search, pytz.common_timezones)\n",
        "print(list(selected_files))"
      ],
      "metadata": {
        "id": "SdzxMrsQKi0v",
        "colab": {
          "base_uri": "https://localhost:8080/"
        },
        "outputId": "66f29261-71ab-4028-d677-38c96527977f"
      },
      "execution_count": 81,
      "outputs": [
        {
          "output_type": "stream",
          "name": "stdout",
          "text": [
            "['US/Alaska', 'US/Arizona', 'US/Central', 'US/Eastern', 'US/Hawaii', 'US/Mountain', 'US/Pacific']\n"
          ]
        }
      ]
    },
    {
      "cell_type": "code",
      "source": [
        "# 뉴욕에서 오전 07:00에 출발하여 LA에 오전 9:57에 도착하는 비행편 표현하기\n",
        "# 뉴욕이 속한 시간대를 나타내는 'US/Eastern'을 매개변수 tx로 전달하여 오전 7:00 타임스탬프를 생성\n",
        "depart = pd.Timestamp('2017-08-29 07:00', tz = 'US/Eastern')\n",
        "print(depart)"
      ],
      "metadata": {
        "id": "sQ4vCrViLLjx",
        "colab": {
          "base_uri": "https://localhost:8080/"
        },
        "outputId": "0fa3d4d8-d661-4c15-86a7-d18d3ea5205f"
      },
      "execution_count": 82,
      "outputs": [
        {
          "output_type": "stream",
          "name": "stdout",
          "text": [
            "2017-08-29 07:00:00-04:00\n"
          ]
        }
      ]
    },
    {
      "cell_type": "code",
      "source": [
        "# -04:00는 판다스이 Timestamp가 협정 세계시를 기준으로 설정하여 tz로 지정한 시간대와 UTC의 차이를 타임스탬프와 함께 기록\n",
        "# tz없이 도착시간을 생성하면?\n",
        "arrive = pd.Timestamp('2017-08-29 09:57')\n",
        "print(arrive)"
      ],
      "metadata": {
        "id": "jqWkBJrTL2H9",
        "colab": {
          "base_uri": "https://localhost:8080/"
        },
        "outputId": "9752d259-564a-4637-85da-b7d944cfbfbf"
      },
      "execution_count": 83,
      "outputs": [
        {
          "output_type": "stream",
          "name": "stdout",
          "text": [
            "2017-08-29 09:57:00\n"
          ]
        }
      ]
    },
    {
      "cell_type": "code",
      "source": [
        "# 지역을 반영하여 시간대를 조절.  Timestamp 객체에 tz_localize() 메서드를 사용하려 시간대를 설정\n",
        "arrive = arrive.tz_localize('US/Pacific')\n",
        "print(arrive)"
      ],
      "metadata": {
        "id": "x8MgUDU0Mfo1",
        "colab": {
          "base_uri": "https://localhost:8080/"
        },
        "outputId": "14ca45f4-b535-40b2-fbae-31d8b8f9798f"
      },
      "execution_count": 84,
      "outputs": [
        {
          "output_type": "stream",
          "name": "stdout",
          "text": [
            "2017-08-29 09:57:00-07:00\n"
          ]
        }
      ]
    },
    {
      "cell_type": "code",
      "source": [
        "# 비행기가 로스앤젤레스에 도착했을 때 뉴욕시간 확인\n",
        "print(arrive.tz_convert('US/Eastern'))"
      ],
      "metadata": {
        "id": "0aqTzfDDMz-h",
        "colab": {
          "base_uri": "https://localhost:8080/"
        },
        "outputId": "2aa28c19-cf0c-4ceb-f99f-2f2b4ebc0c04"
      },
      "execution_count": 85,
      "outputs": [
        {
          "output_type": "stream",
          "name": "stdout",
          "text": [
            "2017-08-29 12:57:00-04:00\n"
          ]
        }
      ]
    },
    {
      "cell_type": "code",
      "source": [
        "# 두 시간대의 차이를 계산\n",
        "duration= arrive-depart\n",
        "print(duration)"
      ],
      "metadata": {
        "id": "Ssp_4l92NEsN",
        "colab": {
          "base_uri": "https://localhost:8080/"
        },
        "outputId": "47d31235-c3f7-4747-8e80-bf8562415781"
      },
      "execution_count": 86,
      "outputs": [
        {
          "output_type": "stream",
          "name": "stdout",
          "text": [
            "0 days 05:57:00\n"
          ]
        }
      ]
    }
  ]
}
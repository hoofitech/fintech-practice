{
  "nbformat": 4,
  "nbformat_minor": 0,
  "metadata": {
    "colab": {
      "provenance": [],
      "authorship_tag": "ABX9TyMUNnD7CaDsYifbcp01byHX",
      "include_colab_link": true
    },
    "kernelspec": {
      "name": "python3",
      "display_name": "Python 3"
    },
    "language_info": {
      "name": "python"
    }
  },
  "cells": [
    {
      "cell_type": "markdown",
      "metadata": {
        "id": "view-in-github",
        "colab_type": "text"
      },
      "source": [
        "<a href=\"https://colab.research.google.com/github/hoofitech/fintech-practice/blob/main/do-it-pandas/08.%20calculate%20by%20grouping/08_%EA%B7%B8%EB%A3%B9%EC%9C%BC%EB%A1%9C_%EB%AC%B6%EC%96%B4_%EA%B3%84%EC%82%B0%ED%95%98%EA%B8%B0.ipynb\" target=\"_parent\"><img src=\"https://colab.research.google.com/assets/colab-badge.svg\" alt=\"Open In Colab\"/></a>"
      ]
    },
    {
      "cell_type": "markdown",
      "source": [
        "# 08-1. 데이터 집계하기"
      ],
      "metadata": {
        "id": "DIzsiR1RgRDL"
      }
    },
    {
      "cell_type": "markdown",
      "source": [
        "### groupby() 메서드로 데이터 집계하기"
      ],
      "metadata": {
        "id": "u0Q2cJhngY3m"
      }
    },
    {
      "cell_type": "code",
      "execution_count": 2,
      "metadata": {
        "id": "GtswnwlGf2F2",
        "colab": {
          "base_uri": "https://localhost:8080/"
        },
        "outputId": "2c5712ad-8442-4103-c4eb-4733b55dbe89"
      },
      "outputs": [
        {
          "output_type": "stream",
          "name": "stdout",
          "text": [
            "          country continent  year  lifeExp       pop   gdpPercap\n",
            "0     Afghanistan      Asia  1952   28.801   8425333  779.445314\n",
            "1     Afghanistan      Asia  1957   30.332   9240934  820.853030\n",
            "2     Afghanistan      Asia  1962   31.997  10267083  853.100710\n",
            "3     Afghanistan      Asia  1967   34.020  11537966  836.197138\n",
            "4     Afghanistan      Asia  1972   36.088  13079460  739.981106\n",
            "...           ...       ...   ...      ...       ...         ...\n",
            "1699     Zimbabwe    Africa  1987   62.351   9216418  706.157306\n",
            "1700     Zimbabwe    Africa  1992   60.377  10704340  693.420786\n",
            "1701     Zimbabwe    Africa  1997   46.809  11404948  792.449960\n",
            "1702     Zimbabwe    Africa  2002   39.989  11926563  672.038623\n",
            "1703     Zimbabwe    Africa  2007   43.487  12311143  469.709298\n",
            "\n",
            "[1704 rows x 6 columns]\n"
          ]
        }
      ],
      "source": [
        "#1. 갭마인더 데이터셋 불러오기\n",
        "import pandas as pd\n",
        "\n",
        "df = pd.read_csv('gapminder.tsv', sep = '\\t')\n",
        "print(df)"
      ]
    },
    {
      "cell_type": "code",
      "source": [
        "#2. groupby() 메서드로 연도를 나타내는 year 열을 기준으로 데이터를 그룹화하고 mean() 메서드로 기대 수명을 나타내는 lifeExp 열의 평균을 구한다.\n",
        "avg_life_exp_by_year = df.groupby('year')[\"lifeExp\"].mean()\n",
        "print(avg_life_exp_by_year)"
      ],
      "metadata": {
        "id": "nDnY95O5h9um",
        "colab": {
          "base_uri": "https://localhost:8080/"
        },
        "outputId": "bdbfa26a-ad03-487f-cb48-6abb7efacddb"
      },
      "execution_count": 3,
      "outputs": [
        {
          "output_type": "stream",
          "name": "stdout",
          "text": [
            "year\n",
            "1952    49.057620\n",
            "1957    51.507401\n",
            "1962    53.609249\n",
            "1967    55.678290\n",
            "1972    57.647386\n",
            "1977    59.570157\n",
            "1982    61.533197\n",
            "1987    63.212613\n",
            "1992    64.160338\n",
            "1997    65.014676\n",
            "2002    65.694923\n",
            "2007    67.007423\n",
            "Name: lifeExp, dtype: float64\n"
          ]
        }
      ]
    },
    {
      "cell_type": "code",
      "source": [
        "#groupby() 메서드는 열의 고윳값 또는 여러 열을 조합한 고윳값의 하위 집합을 생성하는 역할을 한다\n",
        "years = df.year.unique()\n",
        "print(years)\n",
        "#unique() 메서드로 확인한 year열의 고윳값"
      ],
      "metadata": {
        "colab": {
          "base_uri": "https://localhost:8080/"
        },
        "id": "I0NK0WRjj4Mw",
        "outputId": "f4b9e1a7-9bf0-4d43-dd40-6c9ce449f66c"
      },
      "execution_count": 4,
      "outputs": [
        {
          "output_type": "stream",
          "name": "stdout",
          "text": [
            "[1952 1957 1962 1967 1972 1977 1982 1987 1992 1997 2002 2007]\n"
          ]
        }
      ]
    },
    {
      "cell_type": "code",
      "source": [
        "#3. 고윳값별로 데이터의 하위 집합을 추출하기, year 열의 고윳값 하나를 골라 해당 연도의 데이터를 살펴본다.\n",
        "y1952 = df.loc[df.year == 1952, :]\n",
        "print(y1952)"
      ],
      "metadata": {
        "colab": {
          "base_uri": "https://localhost:8080/"
        },
        "id": "OUuyaJcOlNUd",
        "outputId": "875dc505-055a-461b-c86d-2fb917585dc3"
      },
      "execution_count": 5,
      "outputs": [
        {
          "output_type": "stream",
          "name": "stdout",
          "text": [
            "                 country continent  year  lifeExp       pop    gdpPercap\n",
            "0            Afghanistan      Asia  1952   28.801   8425333   779.445314\n",
            "12               Albania    Europe  1952   55.230   1282697  1601.056136\n",
            "24               Algeria    Africa  1952   43.077   9279525  2449.008185\n",
            "36                Angola    Africa  1952   30.015   4232095  3520.610273\n",
            "48             Argentina  Americas  1952   62.485  17876956  5911.315053\n",
            "...                  ...       ...   ...      ...       ...          ...\n",
            "1644             Vietnam      Asia  1952   40.412  26246839   605.066492\n",
            "1656  West Bank and Gaza      Asia  1952   43.160   1030585  1515.592329\n",
            "1668         Yemen, Rep.      Asia  1952   32.548   4963829   781.717576\n",
            "1680              Zambia    Africa  1952   42.038   2672000  1147.388831\n",
            "1692            Zimbabwe    Africa  1952   48.451   3080907   406.884115\n",
            "\n",
            "[142 rows x 6 columns]\n"
          ]
        }
      ]
    },
    {
      "cell_type": "code",
      "source": [
        "#4. 이렇게 추출한 하위 집합에도 메서드를 적용할 수 있다.lifeExp 열의 평균을 구해본다\n",
        "y1952_mean = y1952[\"lifeExp\"].mean()\n",
        "print(y1952_mean)"
      ],
      "metadata": {
        "colab": {
          "base_uri": "https://localhost:8080/"
        },
        "id": "U_39v825l1te",
        "outputId": "55fcd1fe-d643-45ff-92f7-16c189c915bc"
      },
      "execution_count": 6,
      "outputs": [
        {
          "output_type": "stream",
          "name": "stdout",
          "text": [
            "49.057619718309866\n"
          ]
        }
      ]
    },
    {
      "cell_type": "markdown",
      "source": [
        "## groupby() 메서드와 함께 사용하는 집계 메서드"
      ],
      "metadata": {
        "id": "MxeHsjsEj38Z"
      }
    },
    {
      "cell_type": "markdown",
      "source": [
        "describe()를 사용하면 여러 요약 통계를 한 번에 확인할 수 있다."
      ],
      "metadata": {
        "id": "KuyqpC7Fm2yM"
      }
    },
    {
      "cell_type": "code",
      "source": [
        "#continent 열로 그룹화하고 describe() 메서드를 호출하면 대륙별 요약 통계를 확인할 수 있다.\n",
        "continent_describe = df.groupby('continent')[\"lifeExp\"].describe()\n",
        "print(continent_describe)"
      ],
      "metadata": {
        "colab": {
          "base_uri": "https://localhost:8080/"
        },
        "id": "z1AIAgcjm02Z",
        "outputId": "385f4905-7be3-492b-bbd8-da535c0d1c15"
      },
      "execution_count": 7,
      "outputs": [
        {
          "output_type": "stream",
          "name": "stdout",
          "text": [
            "           count       mean        std     min       25%      50%       75%  \\\n",
            "continent                                                                     \n",
            "Africa     624.0  48.865330   9.150210  23.599  42.37250  47.7920  54.41150   \n",
            "Americas   300.0  64.658737   9.345088  37.579  58.41000  67.0480  71.69950   \n",
            "Asia       396.0  60.064903  11.864532  28.801  51.42625  61.7915  69.50525   \n",
            "Europe     360.0  71.903686   5.433178  43.585  69.57000  72.2410  75.45050   \n",
            "Oceania     24.0  74.326208   3.795611  69.120  71.20500  73.6650  77.55250   \n",
            "\n",
            "              max  \n",
            "continent          \n",
            "Africa     76.442  \n",
            "Americas   80.653  \n",
            "Asia       82.603  \n",
            "Europe     81.757  \n",
            "Oceania    81.235  \n"
          ]
        }
      ]
    },
    {
      "cell_type": "markdown",
      "source": [
        "## agg() 메서드와 groupby 메서드 조합하기"
      ],
      "metadata": {
        "id": "ytFkQRziqCYN"
      }
    },
    {
      "cell_type": "markdown",
      "source": [
        "### 다른 라이브러리의 집계 함수 사용하기"
      ],
      "metadata": {
        "id": "yUcXmu3gqKTL"
      }
    },
    {
      "cell_type": "code",
      "source": [
        "#agg() 메서드에 넘파이의 mean() 함수를 전달하여 평균을 구할 수 있다.\n",
        "import numpy as np\n",
        "\n",
        "cont_le_agg = df.groupby('continent')[\"lifeExp\"].agg(np.mean)\n",
        "print(cont_le_agg)"
      ],
      "metadata": {
        "colab": {
          "base_uri": "https://localhost:8080/"
        },
        "id": "smklhscLqTjG",
        "outputId": "fa963fe2-e0fb-4537-d2b8-d6364933ef02"
      },
      "execution_count": 8,
      "outputs": [
        {
          "output_type": "stream",
          "name": "stdout",
          "text": [
            "continent\n",
            "Africa      48.865330\n",
            "Americas    64.658737\n",
            "Asia        60.064903\n",
            "Europe      71.903686\n",
            "Oceania     74.326208\n",
            "Name: lifeExp, dtype: float64\n"
          ]
        },
        {
          "output_type": "stream",
          "name": "stderr",
          "text": [
            "/tmp/ipython-input-8-2000605079.py:4: FutureWarning: The provided callable <function mean at 0x7de8ef1c23e0> is currently using SeriesGroupBy.mean. In a future version of pandas, the provided callable will be used directly. To keep current behavior pass the string \"mean\" instead.\n",
            "  cont_le_agg = df.groupby('continent')[\"lifeExp\"].agg(np.mean)\n"
          ]
        }
      ]
    },
    {
      "cell_type": "markdown",
      "source": [
        "### 사용자 집계 함수 사용하기"
      ],
      "metadata": {
        "id": "6msz8OnMriy5"
      }
    },
    {
      "cell_type": "code",
      "source": [
        "# 라이브러리에서 제공하는 집계 메서드로는 원하는 값을 계산할 수 없다면 직접 함수를 만들어서 agg()에 전달하면 됨\n",
        "#1. 평균을 구하는 함수 직접 만들기\n",
        "def my_mean(values):\n",
        "  n = len(values)\n",
        "  sum=0\n",
        "  for value in values:\n",
        "    sum+= value\n",
        "  return sum / n"
      ],
      "metadata": {
        "id": "klp9dgE7rifa"
      },
      "execution_count": 9,
      "outputs": []
    },
    {
      "cell_type": "code",
      "source": [
        "#2. agg()에 my_mean으로 전달하기\n",
        "agg_my_mean = df.groupby('year')[\"lifeExp\"].agg(my_mean)\n",
        "print(agg_my_mean)"
      ],
      "metadata": {
        "colab": {
          "base_uri": "https://localhost:8080/"
        },
        "id": "kimEGzdhsUke",
        "outputId": "7569f48f-54f5-40d2-e65d-95c89ec917bc"
      },
      "execution_count": 10,
      "outputs": [
        {
          "output_type": "stream",
          "name": "stdout",
          "text": [
            "year\n",
            "1952    49.057620\n",
            "1957    51.507401\n",
            "1962    53.609249\n",
            "1967    55.678290\n",
            "1972    57.647386\n",
            "1977    59.570157\n",
            "1982    61.533197\n",
            "1987    63.212613\n",
            "1992    64.160338\n",
            "1997    65.014676\n",
            "2002    65.694923\n",
            "2007    67.007423\n",
            "Name: lifeExp, dtype: float64\n"
          ]
        }
      ]
    },
    {
      "cell_type": "code",
      "source": [
        "#3. 매개변수가 여러개인 사용자 함수 전달하기\n",
        "# 사용자 함수의 첫 번째 매개변수가 데이터프레임의 시리즈여야 한다\n",
        "#연도나 대륙과 상관없이 전체 기대 수명의 평균 diff_value와 각 그룹 평균 수명의 차이를 계산하는 my_mean_diff() 함수 생성\n",
        "def my_mean_diff(values, diff_value):\n",
        "  n = len(values)\n",
        "  sum = 0\n",
        "  for value in values:\n",
        "    sum += value\n",
        "  mean = sum / n\n",
        "  return(mean - diff_value)"
      ],
      "metadata": {
        "id": "aManTiZ8tQ3G"
      },
      "execution_count": 11,
      "outputs": []
    },
    {
      "cell_type": "code",
      "source": [
        "#4. 모든 기대 수명의 평균\n",
        "global_mean = df[\"lifeExp\"].mean()\n",
        "print(global_mean)"
      ],
      "metadata": {
        "colab": {
          "base_uri": "https://localhost:8080/"
        },
        "id": "Xk3y0mxVvblU",
        "outputId": "a810d3b3-35a0-48a4-9770-39d0fd8fb1e5"
      },
      "execution_count": 12,
      "outputs": [
        {
          "output_type": "stream",
          "name": "stdout",
          "text": [
            "59.474439366197174\n"
          ]
        }
      ]
    },
    {
      "cell_type": "code",
      "source": [
        "#5. my_mean_diff( )함수를 agg() 메서드에 전달\n",
        "agg_mean_diff = (\n",
        "    df\n",
        "    .groupby(\"year\")\n",
        "    [\"lifeExp\"]\n",
        "    .agg(my_mean_diff, diff_value = global_mean) #첫 번째 매개변수는 함수 이름, 두 번째부터는 함수의 매개변수 이름과 함께 전달\n",
        ")\n",
        "\n",
        "print(agg_mean_diff)"
      ],
      "metadata": {
        "colab": {
          "base_uri": "https://localhost:8080/"
        },
        "id": "dddfrythvwKv",
        "outputId": "fb8280d5-68db-426d-9039-f62baf661607"
      },
      "execution_count": 13,
      "outputs": [
        {
          "output_type": "stream",
          "name": "stdout",
          "text": [
            "year\n",
            "1952   -10.416820\n",
            "1957    -7.967038\n",
            "1962    -5.865190\n",
            "1967    -3.796150\n",
            "1972    -1.827053\n",
            "1977     0.095718\n",
            "1982     2.058758\n",
            "1987     3.738173\n",
            "1992     4.685899\n",
            "1997     5.540237\n",
            "2002     6.220483\n",
            "2007     7.532983\n",
            "Name: lifeExp, dtype: float64\n"
          ]
        }
      ]
    },
    {
      "cell_type": "markdown",
      "source": [
        "여러 개의 집계 함수 한 번에 사용하기"
      ],
      "metadata": {
        "id": "XTGTNAXZy8bu"
      }
    },
    {
      "cell_type": "code",
      "source": [
        "#여러개의 집계함수를 한 번에 사용하고 싶다면 집계 함수들을 리스트 형식으로 agg() 또는 aggregate() 메서드에 전달\n",
        "gdf = (\n",
        "    df\n",
        "    .groupby(\"year\")\n",
        "    [\"lifeExp\"]\n",
        "    .agg([np.count_nonzero, np.mean, np.std])\n",
        ")\n",
        "\n",
        "print(gdf)"
      ],
      "metadata": {
        "colab": {
          "base_uri": "https://localhost:8080/"
        },
        "id": "1Ez-0_V3y7vX",
        "outputId": "644a1617-4270-459d-99e5-5eff975b13ae"
      },
      "execution_count": 14,
      "outputs": [
        {
          "output_type": "stream",
          "name": "stdout",
          "text": [
            "      count_nonzero       mean        std\n",
            "year                                     \n",
            "1952            142  49.057620  12.225956\n",
            "1957            142  51.507401  12.231286\n",
            "1962            142  53.609249  12.097245\n",
            "1967            142  55.678290  11.718858\n",
            "1972            142  57.647386  11.381953\n",
            "1977            142  59.570157  11.227229\n",
            "1982            142  61.533197  10.770618\n",
            "1987            142  63.212613  10.556285\n",
            "1992            142  64.160338  11.227380\n",
            "1997            142  65.014676  11.559439\n",
            "2002            142  65.694923  12.279823\n",
            "2007            142  67.007423  12.073021\n"
          ]
        },
        {
          "output_type": "stream",
          "name": "stderr",
          "text": [
            "/tmp/ipython-input-14-278240479.py:6: FutureWarning: The provided callable <function mean at 0x7de8ef1c23e0> is currently using SeriesGroupBy.mean. In a future version of pandas, the provided callable will be used directly. To keep current behavior pass the string \"mean\" instead.\n",
            "  .agg([np.count_nonzero, np.mean, np.std])\n",
            "/tmp/ipython-input-14-278240479.py:6: FutureWarning: The provided callable <function std at 0x7de8ef1c2520> is currently using SeriesGroupBy.std. In a future version of pandas, the provided callable will be used directly. To keep current behavior pass the string \"std\" instead.\n",
            "  .agg([np.count_nonzero, np.mean, np.std])\n"
          ]
        }
      ]
    },
    {
      "cell_type": "markdown",
      "source": [
        "agg()나 aggregate() 메서드에 딕셔너리 사용하기"
      ],
      "metadata": {
        "id": "OKTfKtjW3Whd"
      }
    },
    {
      "cell_type": "code",
      "source": [
        "#1. 데이터프레임에 사용하기\n",
        "# 데이터프레임의 열을 키로, 집계 함수를 값으로 설정\n",
        "# 하나 이상의 변수를 그룹화하고 열별로 서로 다른 집계 함수를 적용할 수 있다\n",
        "gdf_dict = df.groupby(\"year\").agg(\n",
        "    {\n",
        "        \"lifeExp\" : \"mean\",\n",
        "        \"pop\" : \"median\",\n",
        "        \"gdpPercap\" : \"median\"\n",
        "    }\n",
        ")\n",
        "\n",
        "print(gdf_dict)"
      ],
      "metadata": {
        "colab": {
          "base_uri": "https://localhost:8080/"
        },
        "id": "AvdotyTM3dCs",
        "outputId": "7faccf7e-6f37-41bd-b8bd-a972a33fae1f"
      },
      "execution_count": 15,
      "outputs": [
        {
          "output_type": "stream",
          "name": "stdout",
          "text": [
            "        lifeExp         pop    gdpPercap\n",
            "year                                    \n",
            "1952  49.057620   3943953.0  1968.528344\n",
            "1957  51.507401   4282942.0  2173.220291\n",
            "1962  53.609249   4686039.5  2335.439533\n",
            "1967  55.678290   5170175.5  2678.334740\n",
            "1972  57.647386   5877996.5  3339.129407\n",
            "1977  59.570157   6404036.5  3798.609244\n",
            "1982  61.533197   7007320.0  4216.228428\n",
            "1987  63.212613   7774861.5  4280.300366\n",
            "1992  64.160338   8688686.5  4386.085502\n",
            "1997  65.014676   9735063.5  4781.825478\n",
            "2002  65.694923  10372918.5  5319.804524\n",
            "2007  67.007423  10517531.0  6124.371108\n"
          ]
        }
      ]
    },
    {
      "cell_type": "code",
      "source": [
        "#2. 시리즈에 사용하기\n",
        "# 원하는 함수 목록을 agg()에 전달하고나서 rename() 메서드로 결과 열의 이름을 변경\n",
        "gdf = (\n",
        "    df\n",
        "    .groupby(\"year\")\n",
        "    [\"lifeExp\"]\n",
        "    .agg(\n",
        "        [\n",
        "            np.count_nonzero,\n",
        "            np.mean,\n",
        "            np.std\n",
        "        ]\n",
        "    )\n",
        "    .rename(\n",
        "        columns={\n",
        "            \"count_nonzero\" : \"count\",\n",
        "            \"mean\" : \"avg\",\n",
        "            \"std\" : \"std_dev\",\n",
        "        }\n",
        "    )\n",
        "    .reset_index()\n",
        ")\n",
        "\n",
        "print(gdf\n",
        "      )"
      ],
      "metadata": {
        "colab": {
          "base_uri": "https://localhost:8080/"
        },
        "id": "A7PVffg_5V0N",
        "outputId": "6baa138f-65f8-41f2-da82-12b1edfd25fd"
      },
      "execution_count": 16,
      "outputs": [
        {
          "output_type": "stream",
          "name": "stdout",
          "text": [
            "    year  count        avg    std_dev\n",
            "0   1952    142  49.057620  12.225956\n",
            "1   1957    142  51.507401  12.231286\n",
            "2   1962    142  53.609249  12.097245\n",
            "3   1967    142  55.678290  11.718858\n",
            "4   1972    142  57.647386  11.381953\n",
            "5   1977    142  59.570157  11.227229\n",
            "6   1982    142  61.533197  10.770618\n",
            "7   1987    142  63.212613  10.556285\n",
            "8   1992    142  64.160338  11.227380\n",
            "9   1997    142  65.014676  11.559439\n",
            "10  2002    142  65.694923  12.279823\n",
            "11  2007    142  67.007423  12.073021\n"
          ]
        },
        {
          "output_type": "stream",
          "name": "stderr",
          "text": [
            "/tmp/ipython-input-16-2121402306.py:7: FutureWarning: The provided callable <function mean at 0x7de8ef1c23e0> is currently using SeriesGroupBy.mean. In a future version of pandas, the provided callable will be used directly. To keep current behavior pass the string \"mean\" instead.\n",
            "  .agg(\n",
            "/tmp/ipython-input-16-2121402306.py:7: FutureWarning: The provided callable <function std at 0x7de8ef1c2520> is currently using SeriesGroupBy.std. In a future version of pandas, the provided callable will be used directly. To keep current behavior pass the string \"std\" instead.\n",
            "  .agg(\n"
          ]
        }
      ]
    },
    {
      "cell_type": "markdown",
      "source": [
        "## 08-2. 데이터 변환하기"
      ],
      "metadata": {
        "id": "snQnQ_xg83Gm"
      }
    },
    {
      "cell_type": "markdown",
      "source": [
        "## 표준점수 계산하기"
      ],
      "metadata": {
        "id": "USB_IjGZ9CpT"
      }
    },
    {
      "cell_type": "markdown",
      "source": [
        "표준점수 계산 함수 만들기"
      ],
      "metadata": {
        "id": "TDQv8qjC9Xgq"
      }
    },
    {
      "cell_type": "code",
      "source": [
        "#1. 표준점수를 계산하는 사용자 함수를 만든다\n",
        "def my_zscore(x):\n",
        "  return ((x - x.mean()) / x.std())"
      ],
      "metadata": {
        "id": "lCbvXefA6f6l"
      },
      "execution_count": 17,
      "outputs": []
    },
    {
      "cell_type": "code",
      "source": [
        "#2. transfrom( 메서드를 사용하여 my_zscore() 함수로 year 열의 lifeExp를 변환\n",
        "transform_z = df.groupby('year')[\"lifeExp\"].transform(my_zscore)\n",
        "print(transform_z)"
      ],
      "metadata": {
        "colab": {
          "base_uri": "https://localhost:8080/"
        },
        "id": "6eMkUWnm9mbM",
        "outputId": "abacb11e-8bdf-4e3e-97be-25ac7ae8c277"
      },
      "execution_count": 18,
      "outputs": [
        {
          "output_type": "stream",
          "name": "stdout",
          "text": [
            "0      -1.656854\n",
            "1      -1.731249\n",
            "2      -1.786543\n",
            "3      -1.848157\n",
            "4      -1.894173\n",
            "          ...   \n",
            "1699   -0.081621\n",
            "1700   -0.336974\n",
            "1701   -1.574962\n",
            "1702   -2.093346\n",
            "1703   -1.948180\n",
            "Name: lifeExp, Length: 1704, dtype: float64\n"
          ]
        }
      ]
    },
    {
      "cell_type": "code",
      "source": [
        "#3. 원본 데이터프레임 df 크기와 변환한 데이터프레임 transform_z의 크기를 비교\n",
        "print(df.shape)\n",
        "print(transform_z.shape)"
      ],
      "metadata": {
        "colab": {
          "base_uri": "https://localhost:8080/"
        },
        "id": "nS17kGVN-Qdk",
        "outputId": "c3e7440f-b199-4f19-ca70-ba90bcb1e79c"
      },
      "execution_count": 19,
      "outputs": [
        {
          "output_type": "stream",
          "name": "stdout",
          "text": [
            "(1704, 6)\n",
            "(1704,)\n"
          ]
        }
      ]
    },
    {
      "cell_type": "code",
      "source": [
        "#4. spicy 라이브러리의 zscore()함수가 존재한다\n",
        "!pip install scipy\n",
        "\n",
        "from scipy.stats import zscore\n",
        "sp_z_grouped = df.groupby('year')[\"lifeExp\"].transform(zscore)\n",
        "sp_z_nogroup = zscore(df[\"lifeExp\"])\n",
        "\n",
        "print(transform_z.head())\n",
        "print(sp_z_grouped.head()) #다른 이유는 zcore()은 표본수 n으로 나누지만, 판다스의 std()는 n-1로 나눈 비편향 표준편차를 계산합니다.\n",
        " # 전체 lifeExp의 표준점수를 구하기 때문에 다름"
      ],
      "metadata": {
        "colab": {
          "base_uri": "https://localhost:8080/"
        },
        "id": "NloLS68b-ldb",
        "outputId": "339fed77-746a-4c1e-90fa-c26ee95ea2bf"
      },
      "execution_count": 20,
      "outputs": [
        {
          "output_type": "stream",
          "name": "stdout",
          "text": [
            "Requirement already satisfied: scipy in /usr/local/lib/python3.11/dist-packages (1.15.3)\n",
            "Requirement already satisfied: numpy<2.5,>=1.23.5 in /usr/local/lib/python3.11/dist-packages (from scipy) (2.0.2)\n",
            "0   -1.656854\n",
            "1   -1.731249\n",
            "2   -1.786543\n",
            "3   -1.848157\n",
            "4   -1.894173\n",
            "Name: lifeExp, dtype: float64\n",
            "0   -1.662719\n",
            "1   -1.737377\n",
            "2   -1.792867\n",
            "3   -1.854699\n",
            "4   -1.900878\n",
            "Name: lifeExp, dtype: float64\n",
            "[-2.37533395 -2.25677417 -2.1278375  -1.97117751 -1.81103275]\n"
          ]
        }
      ]
    },
    {
      "cell_type": "code",
      "source": [
        "sp_z_nogroup= pd.DataFrame(sp_z_nogroup)\n",
        "print(sp_z_nogroup.head())"
      ],
      "metadata": {
        "colab": {
          "base_uri": "https://localhost:8080/"
        },
        "id": "SDogRVHjjeM6",
        "outputId": "a9d91787-21f9-40cf-f2c5-277dbce34aed"
      },
      "execution_count": 50,
      "outputs": [
        {
          "output_type": "stream",
          "name": "stdout",
          "text": [
            "          0\n",
            "0 -2.375334\n",
            "1 -2.256774\n",
            "2 -2.127837\n",
            "3 -1.971178\n",
            "4 -1.811033\n"
          ]
        }
      ]
    },
    {
      "cell_type": "markdown",
      "source": [
        "## 평균값으로 결측값 채우기"
      ],
      "metadata": {
        "id": "Fc6OGSfdCZ86"
      }
    },
    {
      "cell_type": "markdown",
      "source": [
        "### 평균값으로 결측값 채우기"
      ],
      "metadata": {
        "id": "Fp6wRWKbCi6N"
      }
    },
    {
      "cell_type": "code",
      "source": [
        "#1. seaborn과 numpy 라이브러리를 불러오고 tips에서 10개 행을 추출. sample()을 사용하면 무작위로 데이터를 추출하지만 np.random.seed()를 설정하면 매번 같은 결과를 얻음\n",
        "import seaborn as sns\n",
        "import numpy as np\n",
        "\n",
        "np.random.seed(42)\n",
        "\n",
        "tips_10 = sns.load_dataset(\"tips\").sample(10)"
      ],
      "metadata": {
        "id": "LMRa51_XCB7_"
      },
      "execution_count": 21,
      "outputs": []
    },
    {
      "cell_type": "code",
      "source": [
        "#2. 추출한 10개 행 중 4개의 total_bill값을 결측값으로 변경\n",
        "tips_10.loc[\n",
        "    np.random.permutation(tips_10.index)[:4],\n",
        "    \"total_bill\"\n",
        "] = np.nan\n",
        "\n",
        "print(tips_10) #성별에 따라 지출 습관을 고려하여 결측값 채우기"
      ],
      "metadata": {
        "colab": {
          "base_uri": "https://localhost:8080/"
        },
        "id": "b7-fijgnDO-p",
        "outputId": "b052c640-c649-49c7-802d-e10e5dca123e"
      },
      "execution_count": 22,
      "outputs": [
        {
          "output_type": "stream",
          "name": "stdout",
          "text": [
            "     total_bill   tip     sex smoker   day    time  size\n",
            "24        19.82  3.18    Male     No   Sat  Dinner     2\n",
            "6          8.77  2.00    Male     No   Sun  Dinner     2\n",
            "153         NaN  2.00    Male     No   Sun  Dinner     4\n",
            "211         NaN  5.16    Male    Yes   Sat  Dinner     4\n",
            "198         NaN  2.00  Female    Yes  Thur   Lunch     2\n",
            "176         NaN  2.00    Male    Yes   Sun  Dinner     2\n",
            "192       28.44  2.56    Male    Yes  Thur   Lunch     2\n",
            "124       12.48  2.52  Female     No  Thur   Lunch     2\n",
            "9         14.78  3.23    Male     No   Sun  Dinner     2\n",
            "101       15.38  3.00  Female    Yes   Fri  Dinner     2\n"
          ]
        }
      ]
    },
    {
      "cell_type": "code",
      "source": [
        "#3. groupby() 메서드로 결측값을 채울 통곗값을 구하기.  sex열의 각 값에서 결측값이 아닌 값의 개수를 확인\n",
        "count_sex = tips_10.groupby('sex').count()\n",
        "print(count_sex)"
      ],
      "metadata": {
        "colab": {
          "base_uri": "https://localhost:8080/"
        },
        "id": "XfVITb3tEMp4",
        "outputId": "1118ef44-0ac6-41cc-d885-d77036d9a6f0"
      },
      "execution_count": 23,
      "outputs": [
        {
          "output_type": "stream",
          "name": "stdout",
          "text": [
            "        total_bill  tip  smoker  day  time  size\n",
            "sex                                             \n",
            "Male             4    7       7    7     7     7\n",
            "Female           2    3       3    3     3     3\n"
          ]
        },
        {
          "output_type": "stream",
          "name": "stderr",
          "text": [
            "/tmp/ipython-input-23-2550648257.py:2: FutureWarning: The default of observed=False is deprecated and will be changed to True in a future version of pandas. Pass observed=False to retain current behavior or observed=True to adopt the future default and silence this warning.\n",
            "  count_sex = tips_10.groupby('sex').count()\n"
          ]
        }
      ]
    },
    {
      "cell_type": "code",
      "source": [
        "#4. 그룹화된 평균을 계산하고 이 값으로 결측값 채우기. 결측값은 fillna() 메서드를 사용하여 원하는 값으로 채울 수 있다.\n",
        "def fill_na_mean(x):\n",
        "  avg = x.mean()\n",
        "  return x.fillna(avg)\n",
        "\n",
        "total_bill_group_mean = (\n",
        "    tips_10\n",
        "    .groupby(\"sex\")\n",
        "    .total_bill\n",
        "    .transform(fill_na_mean)\n",
        ")"
      ],
      "metadata": {
        "colab": {
          "base_uri": "https://localhost:8080/"
        },
        "id": "7J9WatsuEqMo",
        "outputId": "919b5c85-39e4-4bd7-d4e1-5bb7056b3a15"
      },
      "execution_count": 24,
      "outputs": [
        {
          "output_type": "stream",
          "name": "stderr",
          "text": [
            "/tmp/ipython-input-24-3452250512.py:8: FutureWarning: The default of observed=False is deprecated and will be changed to True in a future version of pandas. Pass observed=False to retain current behavior or observed=True to adopt the future default and silence this warning.\n",
            "  .groupby(\"sex\")\n"
          ]
        }
      ]
    },
    {
      "cell_type": "code",
      "source": [
        "print(total_bill_group_mean) #성별에 따른 다른 값을 채움"
      ],
      "metadata": {
        "colab": {
          "base_uri": "https://localhost:8080/"
        },
        "id": "m8PuoVWPFiC8",
        "outputId": "f347ae6e-19cf-486a-8b96-6247fed789bf"
      },
      "execution_count": 25,
      "outputs": [
        {
          "output_type": "stream",
          "name": "stdout",
          "text": [
            "24     19.8200\n",
            "6       8.7700\n",
            "153    17.9525\n",
            "211    17.9525\n",
            "198    13.9300\n",
            "176    17.9525\n",
            "192    28.4400\n",
            "124    12.4800\n",
            "9      14.7800\n",
            "101    15.3800\n",
            "Name: total_bill, dtype: float64\n"
          ]
        }
      ]
    },
    {
      "cell_type": "markdown",
      "source": [
        "# 08-3. 원하는 데이터 걸러 내기"
      ],
      "metadata": {
        "id": "SGzhISyYdws8"
      }
    },
    {
      "cell_type": "markdown",
      "source": [
        "### 데이터 필터링하기"
      ],
      "metadata": {
        "id": "9lE13P4xd1Qc"
      }
    },
    {
      "cell_type": "code",
      "source": [
        "#1. tips 데이터셋을 불러와 데이터 크기를 확인\n",
        "tips = sns.load_dataset('tips')\n",
        "print(tips.shape)"
      ],
      "metadata": {
        "colab": {
          "base_uri": "https://localhost:8080/"
        },
        "id": "oLNM5tGZd0KW",
        "outputId": "b6ba10a4-e15f-4fc1-90c6-3a2968ababb7"
      },
      "execution_count": 26,
      "outputs": [
        {
          "output_type": "stream",
          "name": "stdout",
          "text": [
            "(244, 7)\n"
          ]
        }
      ]
    },
    {
      "cell_type": "code",
      "source": [
        "#2. size 열의 각 값의 빈도수\n",
        "print(tips['size'].value_counts())"
      ],
      "metadata": {
        "colab": {
          "base_uri": "https://localhost:8080/"
        },
        "id": "Q6pEsRqQeKI2",
        "outputId": "19948a11-a1ab-491c-b098-bafa45c28a71"
      },
      "execution_count": 27,
      "outputs": [
        {
          "output_type": "stream",
          "name": "stdout",
          "text": [
            "size\n",
            "2    156\n",
            "3     38\n",
            "4     37\n",
            "5      5\n",
            "1      4\n",
            "6      4\n",
            "Name: count, dtype: int64\n"
          ]
        }
      ]
    },
    {
      "cell_type": "code",
      "source": [
        "#3. fitter()메서드로 관측값이 30개 이상인 데이터만 필터링\n",
        "tips_filtered = (\n",
        "    tips\n",
        "    .groupby(\"size\")\n",
        "    .filter(lambda x: x[\"size\"].count() >= 30)\n",
        ")\n",
        "print(tips_filtered.shape) # 13개 데이터 제외된 것을 확인\n",
        "print(tips_filtered['size'].value_counts()) # 1,5,6 명 데이터 제외된 것을 확인"
      ],
      "metadata": {
        "id": "oHvP2OzMeT93",
        "colab": {
          "base_uri": "https://localhost:8080/"
        },
        "outputId": "2e6157e5-8122-48f1-ce8b-608b3b4b7613"
      },
      "execution_count": 28,
      "outputs": [
        {
          "output_type": "stream",
          "name": "stdout",
          "text": [
            "(231, 7)\n",
            "size\n",
            "2    156\n",
            "3     38\n",
            "4     37\n",
            "Name: count, dtype: int64\n"
          ]
        }
      ]
    },
    {
      "cell_type": "markdown",
      "source": [
        "# 08-4 그룹 객체 활용하기"
      ],
      "metadata": {
        "id": "vaV-UAlRfDrf"
      }
    },
    {
      "cell_type": "markdown",
      "source": [
        "# 그룹 객체란?"
      ],
      "metadata": {
        "id": "5u81YPPgfMun"
      }
    },
    {
      "cell_type": "code",
      "source": [
        "# groupby()의 결과를 따로 저장하여 메서드가 무엇을 반환하는지 살펴보기\n",
        "# tips 데이터셋을 불러와서 sample() 함수로 10개 행을 무작위로 추출\n",
        "tips_10 = sns.load_dataset('tips').sample(10, random_state=42)\n",
        "print(tips_10)"
      ],
      "metadata": {
        "colab": {
          "base_uri": "https://localhost:8080/"
        },
        "id": "Xy0xzzbUfCte",
        "outputId": "84bf0a3d-cb92-4149-ac90-2a2c61c8c070"
      },
      "execution_count": 29,
      "outputs": [
        {
          "output_type": "stream",
          "name": "stdout",
          "text": [
            "     total_bill   tip     sex smoker   day    time  size\n",
            "24        19.82  3.18    Male     No   Sat  Dinner     2\n",
            "6          8.77  2.00    Male     No   Sun  Dinner     2\n",
            "153       24.55  2.00    Male     No   Sun  Dinner     4\n",
            "211       25.89  5.16    Male    Yes   Sat  Dinner     4\n",
            "198       13.00  2.00  Female    Yes  Thur   Lunch     2\n",
            "176       17.89  2.00    Male    Yes   Sun  Dinner     2\n",
            "192       28.44  2.56    Male    Yes  Thur   Lunch     2\n",
            "124       12.48  2.52  Female     No  Thur   Lunch     2\n",
            "9         14.78  3.23    Male     No   Sun  Dinner     2\n",
            "101       15.38  3.00  Female    Yes   Fri  Dinner     2\n"
          ]
        }
      ]
    },
    {
      "cell_type": "code",
      "source": [
        "#groupby()메서드만 호출한 결과를 저장\n",
        "grouped = tips_10.groupby('sex')\n",
        "print(grouped)"
      ],
      "metadata": {
        "colab": {
          "base_uri": "https://localhost:8080/"
        },
        "id": "e4v-rrurft8q",
        "outputId": "f585465c-d9d1-49d9-ecda-6f9c25313163"
      },
      "execution_count": 30,
      "outputs": [
        {
          "output_type": "stream",
          "name": "stdout",
          "text": [
            "<pandas.core.groupby.generic.DataFrameGroupBy object at 0x7de897bdf0d0>\n"
          ]
        },
        {
          "output_type": "stream",
          "name": "stderr",
          "text": [
            "/tmp/ipython-input-30-170063170.py:2: FutureWarning: The default of observed=False is deprecated and will be changed to True in a future version of pandas. Pass observed=False to retain current behavior or observed=True to adopt the future default and silence this warning.\n",
            "  grouped = tips_10.groupby('sex')\n"
          ]
        }
      ]
    },
    {
      "cell_type": "code",
      "source": [
        "#groups 속성을 사용하여 각 그룹에 속한 데이터프레임의 인덱스를 확인\n",
        "print(grouped.groups)"
      ],
      "metadata": {
        "colab": {
          "base_uri": "https://localhost:8080/"
        },
        "id": "bM6uLafJgVE8",
        "outputId": "fa6e50db-77c3-4f51-946e-2e2b81f15cc3"
      },
      "execution_count": 31,
      "outputs": [
        {
          "output_type": "stream",
          "name": "stdout",
          "text": [
            "{'Male': [24, 6, 153, 211, 176, 192, 9], 'Female': [198, 124, 101]}\n"
          ]
        }
      ]
    },
    {
      "cell_type": "markdown",
      "source": [
        "### 그룹 객체로 여러 열에 집계 함수 적용하기"
      ],
      "metadata": {
        "id": "OV64niAPgqy1"
      }
    },
    {
      "cell_type": "code",
      "source": [
        "#특정 열을 지정하지 않고 groupby() 뒤에 바로 계산을 수행하면 해당 계산을 적용할 수 있는 열만 계산하고 나머지 열은 건너뛴다.\n",
        "avgs = grouped.mean(numeric_only = True) #숫자인 열만 평균을 구함\n",
        "print(avgs)"
      ],
      "metadata": {
        "colab": {
          "base_uri": "https://localhost:8080/"
        },
        "id": "kG0nBKOBg0ui",
        "outputId": "11e8ea88-be4a-4587-a303-aafce6576c8c"
      },
      "execution_count": 32,
      "outputs": [
        {
          "output_type": "stream",
          "name": "stdout",
          "text": [
            "        total_bill       tip      size\n",
            "sex                                   \n",
            "Male         20.02  2.875714  2.571429\n",
            "Female       13.62  2.506667  2.000000\n"
          ]
        }
      ]
    },
    {
      "cell_type": "markdown",
      "source": [
        "### 그룹 추출하고 순회하기"
      ],
      "metadata": {
        "id": "2C2cPxvrheAe"
      }
    },
    {
      "cell_type": "code",
      "source": [
        "#1. get_group() 메서드를 사용하여 원하는 그룹을 추출할 수 있다.\n",
        "#sex를 기준으로 그룹화한 데이터에서 Female인 값만 추출\n",
        "female = grouped.get_group('Female')\n",
        "print(female)"
      ],
      "metadata": {
        "colab": {
          "base_uri": "https://localhost:8080/"
        },
        "id": "saXA_ASwhhVR",
        "outputId": "98519fcc-e341-451d-913c-38e4fac9c720"
      },
      "execution_count": 33,
      "outputs": [
        {
          "output_type": "stream",
          "name": "stdout",
          "text": [
            "     total_bill   tip     sex smoker   day    time  size\n",
            "198       13.00  2.00  Female    Yes  Thur   Lunch     2\n",
            "124       12.48  2.52  Female     No  Thur   Lunch     2\n",
            "101       15.38  3.00  Female    Yes   Fri  Dinner     2\n"
          ]
        }
      ]
    },
    {
      "cell_type": "code",
      "source": [
        "#2. groupby 객체르르저장하면 그룹을 하나씩 순회할 수 있다. for문으로 순회\n",
        "for sex_group in grouped:\n",
        "  print(sex_group)"
      ],
      "metadata": {
        "colab": {
          "base_uri": "https://localhost:8080/"
        },
        "id": "0hT7JlwVh-Ih",
        "outputId": "f56ebf65-ea62-4ae3-aec7-0e65db86e826"
      },
      "execution_count": 34,
      "outputs": [
        {
          "output_type": "stream",
          "name": "stdout",
          "text": [
            "('Male',      total_bill   tip   sex smoker   day    time  size\n",
            "24        19.82  3.18  Male     No   Sat  Dinner     2\n",
            "6          8.77  2.00  Male     No   Sun  Dinner     2\n",
            "153       24.55  2.00  Male     No   Sun  Dinner     4\n",
            "211       25.89  5.16  Male    Yes   Sat  Dinner     4\n",
            "176       17.89  2.00  Male    Yes   Sun  Dinner     2\n",
            "192       28.44  2.56  Male    Yes  Thur   Lunch     2\n",
            "9         14.78  3.23  Male     No   Sun  Dinner     2)\n",
            "('Female',      total_bill   tip     sex smoker   day    time  size\n",
            "198       13.00  2.00  Female    Yes  Thur   Lunch     2\n",
            "124       12.48  2.52  Female     No  Thur   Lunch     2\n",
            "101       15.38  3.00  Female    Yes   Fri  Dinner     2)\n"
          ]
        }
      ]
    },
    {
      "cell_type": "code",
      "source": [
        "#3. grouped 객체의 첫 번째 인덱스를 추출하려고 인덱싱을 사용하면 오류가 발생한다. grouped는 컨테이너가 아닌 DataFrameGroupBy 객체이기 때문\n",
        "\"\"\"print(grouped[0])\"\"\""
      ],
      "metadata": {
        "colab": {
          "base_uri": "https://localhost:8080/",
          "height": 35
        },
        "id": "PKb6xJa5iSOZ",
        "outputId": "cfe2fc0b-23d7-416b-c3d8-d105dc12568c"
      },
      "execution_count": 35,
      "outputs": [
        {
          "output_type": "execute_result",
          "data": {
            "text/plain": [
              "'print(grouped[0])'"
            ],
            "application/vnd.google.colaboratory.intrinsic+json": {
              "type": "string"
            }
          },
          "metadata": {},
          "execution_count": 35
        }
      ]
    },
    {
      "cell_type": "markdown",
      "source": [
        "### 여러 개의 변수로 그룹화하고 결과 평탄화하기"
      ],
      "metadata": {
        "id": "DPzNqS3vjKS2"
      }
    },
    {
      "cell_type": "code",
      "source": [
        "#1. sex, time 별로 tips 데이터의 평균을 구하고 싶다면 groupby() 메서드에 ['sex', 'time']을 전달\n",
        "bill_sex_time = tips_10.groupby(['sex', 'time'])\n",
        "\n",
        "group_avg = bill_sex_time.mean(numeric_only=True)"
      ],
      "metadata": {
        "colab": {
          "base_uri": "https://localhost:8080/"
        },
        "id": "KLQYuWrai3kE",
        "outputId": "9e76942f-1f85-43ba-df34-172317cd7981"
      },
      "execution_count": 36,
      "outputs": [
        {
          "output_type": "stream",
          "name": "stderr",
          "text": [
            "/tmp/ipython-input-36-2019140718.py:2: FutureWarning: The default of observed=False is deprecated and will be changed to True in a future version of pandas. Pass observed=False to retain current behavior or observed=True to adopt the future default and silence this warning.\n",
            "  bill_sex_time = tips_10.groupby(['sex', 'time'])\n"
          ]
        }
      ]
    },
    {
      "cell_type": "code",
      "source": [
        "#2. sex와 time으로 그룹화한 결과 group_avg을 살펴보기\n",
        "print(type(group_avg)) #자료형은 데이터프레임이다\n",
        "print(group_avg)"
      ],
      "metadata": {
        "colab": {
          "base_uri": "https://localhost:8080/"
        },
        "id": "fkIbWjnZkFUs",
        "outputId": "6f357d2f-fcad-45f2-daa8-48bfda3360db"
      },
      "execution_count": 37,
      "outputs": [
        {
          "output_type": "stream",
          "name": "stdout",
          "text": [
            "<class 'pandas.core.frame.DataFrame'>\n",
            "               total_bill       tip      size\n",
            "sex    time                                  \n",
            "Male   Lunch    28.440000  2.560000  2.000000\n",
            "       Dinner   18.616667  2.928333  2.666667\n",
            "Female Lunch    12.740000  2.260000  2.000000\n",
            "       Dinner   15.380000  3.000000  2.000000\n"
          ]
        }
      ]
    },
    {
      "cell_type": "code",
      "source": [
        "#3. 데이터프레임처럼 평탄화하기\n",
        "group_method = tips_10.groupby(['sex',\n",
        "                                'time']).mean(numeric_only = True).reset_index()\n",
        "print(group_method)"
      ],
      "metadata": {
        "colab": {
          "base_uri": "https://localhost:8080/"
        },
        "id": "l-cP7xzska5l",
        "outputId": "8317bbda-af34-445a-b2a2-5f293bb797f4"
      },
      "execution_count": 38,
      "outputs": [
        {
          "output_type": "stream",
          "name": "stdout",
          "text": [
            "      sex    time  total_bill       tip      size\n",
            "0    Male   Lunch   28.440000  2.560000  2.000000\n",
            "1    Male  Dinner   18.616667  2.928333  2.666667\n",
            "2  Female   Lunch   12.740000  2.260000  2.000000\n",
            "3  Female  Dinner   15.380000  3.000000  2.000000\n"
          ]
        },
        {
          "output_type": "stream",
          "name": "stderr",
          "text": [
            "/tmp/ipython-input-38-2422881612.py:2: FutureWarning: The default of observed=False is deprecated and will be changed to True in a future version of pandas. Pass observed=False to retain current behavior or observed=True to adopt the future default and silence this warning.\n",
            "  group_method = tips_10.groupby(['sex',\n"
          ]
        }
      ]
    },
    {
      "cell_type": "markdown",
      "source": [
        "# 08-5. 다중 인덱스 다루기"
      ],
      "metadata": {
        "id": "HV5b1-S2ogGW"
      }
    },
    {
      "cell_type": "markdown",
      "source": [
        "### 다중 인덱스 다루기"
      ],
      "metadata": {
        "id": "sr-szGW6q2Fl"
      }
    },
    {
      "cell_type": "code",
      "source": [
        "#1. 데이터셋 불러오기\n",
        "intv_df = pd.read_csv('epi_sim.txt')\n",
        "print(intv_df)"
      ],
      "metadata": {
        "colab": {
          "base_uri": "https://localhost:8080/"
        },
        "id": "_WTiKSyjon4v",
        "outputId": "9cdb0c4f-14a6-40a6-ee57-329288c201be"
      },
      "execution_count": 51,
      "outputs": [
        {
          "output_type": "stream",
          "name": "stdout",
          "text": [
            "         ig_type  intervened        pid  rep  sid        tr\n",
            "0              3          40  294524448    1  201  0.000135\n",
            "1              3          40  294571037    1  201  0.000135\n",
            "2              3          40  290699504    1  201  0.000135\n",
            "3              3          40  288354895    1  201  0.000135\n",
            "4              3          40  292271290    1  201  0.000135\n",
            "...          ...         ...        ...  ...  ...       ...\n",
            "9434648        2          87  345636694    2  201  0.000166\n",
            "9434649        3          87  295125214    2  201  0.000166\n",
            "9434650        2          89  292571119    2  201  0.000166\n",
            "9434651        3          89  292528142    2  201  0.000166\n",
            "9434652        2          95  291956763    2  201  0.000166\n",
            "\n",
            "[9434653 rows x 6 columns]\n"
          ]
        }
      ]
    },
    {
      "cell_type": "code",
      "source": [
        "#2. 각 반복 실험(rep), 개입시간(intervened), 전염성수치(tr)의 개입 횟수를 계산해보기. 이때 개입 횟수는 ig_type으로 계산하기\n",
        "count_only = (\n",
        "    intv_df\n",
        "    .groupby([\"rep\", \"intervened\", \"tr\"])\n",
        "    [\"ig_type\"]\n",
        "    .count()\n",
        ")\n",
        "\n",
        "print(count_only)"
      ],
      "metadata": {
        "colab": {
          "base_uri": "https://localhost:8080/"
        },
        "id": "KFYpFEcPs4-f",
        "outputId": "f48b387a-2b2f-4f82-e859-0ef8f2639256"
      },
      "execution_count": 52,
      "outputs": [
        {
          "output_type": "stream",
          "name": "stdout",
          "text": [
            "rep  intervened  tr      \n",
            "0    8           0.000166    1\n",
            "     9           0.000152    3\n",
            "                 0.000166    1\n",
            "     10          0.000152    1\n",
            "                 0.000166    1\n",
            "                            ..\n",
            "2    193         0.000135    1\n",
            "                 0.000152    1\n",
            "     195         0.000135    1\n",
            "     198         0.000166    1\n",
            "     199         0.000135    1\n",
            "Name: ig_type, Length: 1196, dtype: int64\n"
          ]
        }
      ]
    },
    {
      "cell_type": "code",
      "source": [
        "#3. groupby() 메서드를 이용하여 평균 구하기. 그 전에 결과 유형과 인덱스 살펴보기\n",
        "print(type(count_only))\n",
        "print(count_only.index)\n",
        "# MultiIndex로 구성된 시리즈이다."
      ],
      "metadata": {
        "colab": {
          "base_uri": "https://localhost:8080/"
        },
        "id": "j_bnVQR_vWKh",
        "outputId": "fa47699b-e45f-4ed0-a852-d19e841a4627"
      },
      "execution_count": 53,
      "outputs": [
        {
          "output_type": "stream",
          "name": "stdout",
          "text": [
            "<class 'pandas.core.series.Series'>\n",
            "MultiIndex([(0,   8, 0.000166),\n",
            "            (0,   9, 0.000152),\n",
            "            (0,   9, 0.000166),\n",
            "            (0,  10, 0.000152),\n",
            "            (0,  10, 0.000166),\n",
            "            (0,  12, 0.000152),\n",
            "            (0,  12, 0.000166),\n",
            "            (0,  13, 0.000152),\n",
            "            (0,  13, 0.000166),\n",
            "            (0,  14, 0.000152),\n",
            "            ...\n",
            "            (2, 187, 0.000152),\n",
            "            (2, 187, 0.000166),\n",
            "            (2, 189, 0.000135),\n",
            "            (2, 189, 0.000152),\n",
            "            (2, 190, 0.000166),\n",
            "            (2, 193, 0.000135),\n",
            "            (2, 193, 0.000152),\n",
            "            (2, 195, 0.000135),\n",
            "            (2, 198, 0.000166),\n",
            "            (2, 199, 0.000135)],\n",
            "           names=['rep', 'intervened', 'tr'], length=1196)\n"
          ]
        }
      ]
    },
    {
      "cell_type": "code",
      "source": [
        "#4. 다중 인덱스 수준을 참조할 수 있도록 매개변수 level을 전달해야한다. 각각 첫번째, 두번째, 세번째 인덱스 수준을 뜻하는 [0,1,2]를 전달한다.\n",
        "count_mean = count_only.groupby(level=[0,1,2]).mean()\n",
        "print(count_mean.head())"
      ],
      "metadata": {
        "colab": {
          "base_uri": "https://localhost:8080/"
        },
        "id": "dRYqGPfWv8qG",
        "outputId": "ced58e8b-bc32-4aa6-8fcd-ee1e78b66a23"
      },
      "execution_count": 80,
      "outputs": [
        {
          "output_type": "stream",
          "name": "stdout",
          "text": [
            "rep  intervened  tr      \n",
            "0    8           0.000166    1.0\n",
            "     9           0.000152    3.0\n",
            "                 0.000166    1.0\n",
            "     10          0.000152    1.0\n",
            "                 0.000166    1.0\n",
            "Name: ig_type, dtype: float64\n"
          ]
        }
      ]
    },
    {
      "cell_type": "code",
      "source": [
        "#5. 결과를 시각화하기\n",
        "import seaborn as sns\n",
        "import matplotlib.pyplot as plt\n",
        "\n",
        "fig = sns.lmplot(\n",
        "    data = count_mean.reset_index(),\n",
        "    x=\"intervened\",\n",
        "    y=\"ig_type\",\n",
        "    hue = \"rep\",\n",
        "    col=\"tr\",\n",
        "    fit_reg=False,\n",
        "    palette=\"viridis\"\n",
        ")\n",
        "\n",
        "plt.savefig('count_mean_lmplot.png')\n",
        "plt.show()"
      ],
      "metadata": {
        "colab": {
          "base_uri": "https://localhost:8080/",
          "height": 215
        },
        "id": "cYePWEuSwb09",
        "outputId": "e2bbca94-998e-454d-addd-a8691df7e9b7"
      },
      "execution_count": 81,
      "outputs": [
        {
          "output_type": "display_data",
          "data": {
            "text/plain": [
              "<Figure size 1558.88x500 with 3 Axes>"
            ],
            "image/png": "[encoded data removed]"
          },
          "metadata": {}
        }
      ]
    },
    {
      "cell_type": "code",
      "source": [
        "# 6. 평균을 계산하는 mean() 대신 누적 합계를 구하는 cumsum() 구하기.\n",
        "cumulative_count = (\n",
        "    intv_df\n",
        "    .groupby([\"rep\",\"intervened\",\"tr\"])[\"ig_type\"]\n",
        "    .count()\n",
        "    .groupby(level=[\"rep\"])\n",
        "    .cumsum()\n",
        "    .reset_index()\n",
        ")\n",
        "\n",
        "fig = sns.lmplot(\n",
        "    data=cumulative_count,\n",
        "    x=\"intervened\",\n",
        "    y=\"ig_type\",\n",
        "    hue=\"rep\",\n",
        "    col=\"tr\",\n",
        "    fit_reg=False,\n",
        "    palette=\"viridis\"\n",
        ")\n",
        "\n",
        "plt.show()"
      ],
      "metadata": {
        "colab": {
          "base_uri": "https://localhost:8080/",
          "height": 215
        },
        "id": "EIieBJZqxRBQ",
        "outputId": "035ca136-98c3-4743-df52-c66d7cec629c"
      },
      "execution_count": 56,
      "outputs": [
        {
          "output_type": "display_data",
          "data": {
            "text/plain": [
              "<Figure size 1558.88x500 with 3 Axes>"
            ],
            "image/png": "[encoded data removed]"
          },
          "metadata": {}
        }
      ]
    }
  ]
}
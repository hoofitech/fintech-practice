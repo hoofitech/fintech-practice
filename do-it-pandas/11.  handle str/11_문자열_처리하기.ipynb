{
  "nbformat": 4,
  "nbformat_minor": 0,
  "metadata": {
    "colab": {
      "provenance": [],
      "authorship_tag": "ABX9TyPcE/z2/O+nCuiNTNTh7Qiu",
      "include_colab_link": true
    },
    "kernelspec": {
      "name": "python3",
      "display_name": "Python 3"
    },
    "language_info": {
      "name": "python"
    }
  },
  "cells": [
    {
      "cell_type": "markdown",
      "metadata": {
        "id": "view-in-github",
        "colab_type": "text"
      },
      "source": [
        "<a href=\"https://colab.research.google.com/github/hoofitech/fintech-practice/blob/main/do-it-pandas/11.%20%20handle%20str/11_%EB%AC%B8%EC%9E%90%EC%97%B4_%EC%B2%98%EB%A6%AC%ED%95%98%EA%B8%B0.ipynb\" target=\"_parent\"><img src=\"https://colab.research.google.com/assets/colab-badge.svg\" alt=\"Open In Colab\"/></a>"
      ]
    },
    {
      "cell_type": "markdown",
      "source": [
        "11-1~11.3의 내용은 기본 파이썬의 내용에서 배운 내용이니 pass하고 11-4. 문자열 포메팅 알아보기"
      ],
      "metadata": {
        "id": "jhHOmkoGyZxd"
      }
    },
    {
      "cell_type": "markdown",
      "source": [
        "### f-문자열을 이용하여 포메팅하기"
      ],
      "metadata": {
        "id": "GIK6j1ATzWSh"
      }
    },
    {
      "cell_type": "code",
      "execution_count": null,
      "metadata": {
        "id": "uW1koTqkyBIr",
        "colab": {
          "base_uri": "https://localhost:8080/"
        },
        "outputId": "1ed12157-2620-4632-f53f-8fe9c64909cc"
      },
      "outputs": [
        {
          "output_type": "stream",
          "name": "stdout",
          "text": [
            "hello\n"
          ]
        }
      ],
      "source": [
        "#1.f-문자열은 문자열의 따옴표 기호 앞에 f를 덧붙여 만든다\n",
        "s= f\"hello\"\n",
        "print(s)"
      ]
    },
    {
      "cell_type": "code",
      "source": [
        "#2. 문자열 안에서 {}을 사용하여 파이썬 변수를 삽입하거나 계산식을 넣을 수 있다\n",
        "num =7\n",
        "s = f\"I only know {num} digits of pi\"\n",
        "print(s)"
      ],
      "metadata": {
        "colab": {
          "base_uri": "https://localhost:8080/"
        },
        "id": "4LoYQS2WGXCu",
        "outputId": "7e3ba6cb-1440-4ec8-e57e-6c0a9ba2b58f"
      },
      "execution_count": null,
      "outputs": [
        {
          "output_type": "stream",
          "name": "stdout",
          "text": [
            "I only know 7 digits of pi\n"
          ]
        }
      ]
    },
    {
      "cell_type": "code",
      "source": [
        "#3. 숫자 변수 말고도 다양한 변수를 넣을 수 있다\n",
        "const = \"e\"\n",
        "value = 2.718\n",
        "s = f\"Some digits of {const}: {value}\"\n",
        "print(s)"
      ],
      "metadata": {
        "colab": {
          "base_uri": "https://localhost:8080/"
        },
        "id": "2xAsW8XSGsao",
        "outputId": "eacf4348-8e2f-453b-f4e4-db25ae14c8bf"
      },
      "execution_count": null,
      "outputs": [
        {
          "output_type": "stream",
          "name": "stdout",
          "text": [
            "Some digits of e: 2.718\n"
          ]
        }
      ]
    },
    {
      "cell_type": "code",
      "source": [
        "#4. 하나의 f-문자열 안에 같은 변수를 여러 번 삽입할 수도 있다.\n",
        "word = \"scratch\"\n",
        "s = f\"\"\"Black Knight: 'Tis but a {word}.\n",
        "King Authur : A {word}? Your arm's off!\n",
        "\"\"\"\n",
        "\n",
        "print(s)"
      ],
      "metadata": {
        "colab": {
          "base_uri": "https://localhost:8080/"
        },
        "id": "48oPvS4kHGXQ",
        "outputId": "5d48498b-8f51-495c-92f7-4a5cb0cd7acf"
      },
      "execution_count": null,
      "outputs": [
        {
          "output_type": "stream",
          "name": "stdout",
          "text": [
            "Black Knight: 'Tis but a scratch.\n",
            "King Authur : A scratch? Your arm's off!\n",
            "\n"
          ]
        }
      ]
    },
    {
      "cell_type": "markdown",
      "source": [
        "### 숫자 포매팅하기"
      ],
      "metadata": {
        "id": "fuTbGhhVHrHv"
      }
    },
    {
      "cell_type": "code",
      "source": [
        "#1. 숫자 형식도 저장할 수 있다\n",
        "p = 3.14159265359\n",
        "print(f\"Some digits od pi: {p}\")"
      ],
      "metadata": {
        "colab": {
          "base_uri": "https://localhost:8080/"
        },
        "id": "NrugQMxMHpZa",
        "outputId": "6deea9fb-7c38-49ce-f5f7-05ac075cc94d"
      },
      "execution_count": null,
      "outputs": [
        {
          "output_type": "stream",
          "name": "stdout",
          "text": [
            "Some digits od pi: 3.14159265359\n"
          ]
        }
      ]
    },
    {
      "cell_type": "code",
      "source": [
        "#2. 천 단위로 쉼표를 찍어서 숫자를 표현\n",
        "digits = 67890\n",
        "s = f\"In 2005, Lu Chao of China recited {67890:,} digits of pi.\"\n",
        "print(s)"
      ],
      "metadata": {
        "colab": {
          "base_uri": "https://localhost:8080/"
        },
        "id": "750b24uAIBlj",
        "outputId": "6113575c-da64-4c7a-81f0-cf1b51d3827e"
      },
      "execution_count": null,
      "outputs": [
        {
          "output_type": "stream",
          "name": "stdout",
          "text": [
            "In 2005, Lu Chao of China recited 67,890 digits of pi.\n"
          ]
        }
      ]
    },
    {
      "cell_type": "code",
      "source": [
        "#3. 점을 사용하여 표시할 소수 길이를 지정할 수 있으며 % 기호로 백분율을 나타낼 수도 있다\n",
        "prop = 7 / 67890\n",
        "s = f\"I remember {prop:.4} or {prop:.4%} of what Lu chao recited.\"\n",
        "print(s)"
      ],
      "metadata": {
        "colab": {
          "base_uri": "https://localhost:8080/"
        },
        "id": "yXGMA84RIgNt",
        "outputId": "2d601dcd-e259-489e-8996-60cb93733d84"
      },
      "execution_count": null,
      "outputs": [
        {
          "output_type": "stream",
          "name": "stdout",
          "text": [
            "I remember 0.0001031 or 0.0103% of what Lu chao recited.\n"
          ]
        }
      ]
    },
    {
      "cell_type": "code",
      "source": [
        "#4. 숫자와 d 기호를 사용하면 원하는 숫자 자릴수를 지정하고 빈자리는 0으로 채울 수 있다\n",
        "id = 42\n",
        "print(f\"My ID number is {id : 05d}\")"
      ],
      "metadata": {
        "colab": {
          "base_uri": "https://localhost:8080/"
        },
        "id": "eUyp57tvJDrr",
        "outputId": "0b57db57-80ab-4031-f3d5-d020d0ce788c"
      },
      "execution_count": null,
      "outputs": [
        {
          "output_type": "stream",
          "name": "stdout",
          "text": [
            "My ID number is  0042\n"
          ]
        }
      ]
    },
    {
      "cell_type": "code",
      "source": [
        "#5. 중괄호 문법 대신 내장된 문자열 메서드로 형식을 지정할 수도 있다. zfill() 메서드로 미리 00042 형식의 문자열을 만들고 f-문자열에 삽입\n",
        "id_zfill = \"42\".zfill(5)\n",
        "print(f\"My ID number is {id_zfill}\")"
      ],
      "metadata": {
        "colab": {
          "base_uri": "https://localhost:8080/"
        },
        "id": "vFGnn4neJVqa",
        "outputId": "ac46aea8-7837-4620-c213-83997f0e1318"
      },
      "execution_count": null,
      "outputs": [
        {
          "output_type": "stream",
          "name": "stdout",
          "text": [
            "My ID number is 00042\n"
          ]
        }
      ]
    },
    {
      "cell_type": "code",
      "source": [
        "#6. 문자열을 미리 만들어 삽입하지 않고 f-문자열의 중괄호 안에 바로 파이썬 문법을 작성할 수도 있다\n",
        "print(f\"My ID number is  {'42'.zfill(5)}\")"
      ],
      "metadata": {
        "colab": {
          "base_uri": "https://localhost:8080/"
        },
        "id": "l6_BrwAEJ0fs",
        "outputId": "a0b7d1c7-63a3-42a6-cfac-f16c9ee05db1"
      },
      "execution_count": null,
      "outputs": [
        {
          "output_type": "stream",
          "name": "stdout",
          "text": [
            "My ID number is  00042\n"
          ]
        }
      ]
    },
    {
      "cell_type": "markdown",
      "source": [
        "# 11-5. 정규식으로 문자열 처리에 날개 달기"
      ],
      "metadata": {
        "id": "LUz3Qz4fKXkx"
      }
    },
    {
      "cell_type": "markdown",
      "source": [
        "## 정규식이란?"
      ],
      "metadata": {
        "id": "59jYNSZxLqQ4"
      }
    },
    {
      "cell_type": "markdown",
      "source": [
        "### 정규식으로 패턴 찾기"
      ],
      "metadata": {
        "id": "x8_P-EevOHR7"
      }
    },
    {
      "cell_type": "code",
      "source": [
        "#1. 10자리 비밀번호를 찾는 정규식.\n",
        "import re\n",
        "\n",
        "tele_num = '1234567890'"
      ],
      "metadata": {
        "id": "QRYOltUNKWvw"
      },
      "execution_count": null,
      "outputs": []
    },
    {
      "cell_type": "code",
      "source": [
        "#2. \\d 10개를 덧붙인 패턴과 tele_num을 전달한 match() 함수를 호출\n",
        "m = re.match(pattern= '\\d\\d\\d\\d\\d\\d\\d\\d\\d\\d', string = tele_num)\n",
        "print(type(m)) # 함수는 match 객체를 반환한다."
      ],
      "metadata": {
        "colab": {
          "base_uri": "https://localhost:8080/"
        },
        "id": "Z-gcBLajOZBU",
        "outputId": "db42a233-e306-4c01-9545-2bda25586f92"
      },
      "execution_count": null,
      "outputs": [
        {
          "output_type": "stream",
          "name": "stdout",
          "text": [
            "<class 're.Match'>\n"
          ]
        }
      ]
    },
    {
      "cell_type": "code",
      "source": [
        "#3. m에 어떤 값이 들었는지 출력\n",
        "print(m) #Match 객체는 주어진 문자열에 주어진 패턴과 일치하는 부분이 있다면 해당 부분의 처음과 끝 인덱스를 확인하고 일치하는 문자열을 추출]\n",
        "print(bool(m)) # 내장함수 bool()에 Match 객체를 전달하여 True 또는 False라는 값으로 확인 가능"
      ],
      "metadata": {
        "colab": {
          "base_uri": "https://localhost:8080/"
        },
        "id": "MlJyxgkKO2cX",
        "outputId": "15ce6986-b65b-46a0-d32a-f21aabd25720"
      },
      "execution_count": null,
      "outputs": [
        {
          "output_type": "stream",
          "name": "stdout",
          "text": [
            "<re.Match object; span=(0, 10), match='1234567890'>\n",
            "True\n"
          ]
        }
      ]
    },
    {
      "cell_type": "code",
      "source": [
        "#4. 조건문에서 일치한 문자열의 존재 여부를 활용하고 싶다면 굳이 bool() 함수를 사용하여 불형으로 변환할 필요는 없다. Match 객체 그대로 조건문에 사용할 수 있다\n",
        "if m:\n",
        "  print('match')\n",
        "else:\n",
        "  print('no match')"
      ],
      "metadata": {
        "colab": {
          "base_uri": "https://localhost:8080/"
        },
        "id": "-doEez4CPsOX",
        "outputId": "b6e2e106-dd10-4df2-fa05-6bbe7aa3c14e"
      },
      "execution_count": null,
      "outputs": [
        {
          "output_type": "stream",
          "name": "stdout",
          "text": [
            "match\n"
          ]
        }
      ]
    },
    {
      "cell_type": "code",
      "source": [
        "#5. start()와 end()메서드로 첫 번째와 마지막 인덱스를 반환.\n",
        "print(m.start())\n",
        "print(m.end())\n",
        "# span() 메서드는 찾은 패턴의 첫 번째와 마지막 인덱스를 한 번에 반환\n",
        "print(m.span())\n",
        "# group 메서드는 찾은 패턴을 반환한다.\n",
        "print(m.group())"
      ],
      "metadata": {
        "colab": {
          "base_uri": "https://localhost:8080/"
        },
        "id": "JG8YpdNXQahf",
        "outputId": "a4f28ca6-93e6-42f0-9b4c-e0508022aba6"
      },
      "execution_count": null,
      "outputs": [
        {
          "output_type": "stream",
          "name": "stdout",
          "text": [
            "0\n",
            "10\n",
            "(0, 10)\n",
            "1234567890\n"
          ]
        }
      ]
    },
    {
      "cell_type": "code",
      "source": [
        "#6. 띠어쓰기를 포함한 전화번호일 경우에는 앞선 패턴을 사용할 수 없다\n",
        "tele_num_spaces = '123 456 7890'\n",
        "\n",
        "m = re.match(pattern= '\\d{10}', string = tele_num_spaces)\n",
        "print(m)"
      ],
      "metadata": {
        "colab": {
          "base_uri": "https://localhost:8080/"
        },
        "id": "FteaOpGYRFg-",
        "outputId": "80d88d2d-4f38-4005-c79c-a5f1b2dd70b2"
      },
      "execution_count": null,
      "outputs": [
        {
          "output_type": "stream",
          "name": "stdout",
          "text": [
            "None\n"
          ]
        }
      ]
    },
    {
      "cell_type": "code",
      "source": [
        "#7. 새롭게 정의한 정규식은 다음과 같다.\n",
        "p = '\\d{3}\\s?\\d{3}\\s?\\d{4}'\n",
        "m = re.match(pattern=p, string= tele_num_spaces)\n",
        "print(m)"
      ],
      "metadata": {
        "colab": {
          "base_uri": "https://localhost:8080/"
        },
        "id": "JvKTUHd2Rr56",
        "outputId": "7db4f9c9-9f8b-4000-eedf-dc35c72e0909"
      },
      "execution_count": null,
      "outputs": [
        {
          "output_type": "stream",
          "name": "stdout",
          "text": [
            "<re.Match object; span=(0, 12), match='123 456 7890'>\n"
          ]
        }
      ]
    },
    {
      "cell_type": "code",
      "source": [
        "#8. 지역 번호를 괄호로 감싸서 표현하거나 전화번호 사이에 하이픈 기호가 있다면\n",
        "tele_num_space_paren_dash = '(123) 456-7890'\n",
        "p = '\\(?\\d{3}\\)?\\s?\\d{3}-?\\d{4}'\n",
        "m = re.match(pattern = p, string = tele_num_space_paren_dash)\n",
        "print(m)"
      ],
      "metadata": {
        "colab": {
          "base_uri": "https://localhost:8080/"
        },
        "id": "T3eNaNKlSIvU",
        "outputId": "7ceeb95e-2056-4857-f614-f689eaddff6d"
      },
      "execution_count": null,
      "outputs": [
        {
          "output_type": "stream",
          "name": "stdout",
          "text": [
            "<re.Match object; span=(0, 14), match='(123) 456-7890'>\n"
          ]
        }
      ]
    },
    {
      "cell_type": "markdown",
      "source": [
        "### 알기 쉬운 정규식 만들기"
      ],
      "metadata": {
        "id": "ARajXkqEOEzP"
      }
    },
    {
      "cell_type": "code",
      "source": [
        "#1. 파이썬에서는 긴 문자열을 여러 줄로 나누어 표현할 수 있는 기능을 제공. 이를 통해 복잡한 정규식을 보기 쉽게 정리할 수 있음.\n",
        "p = (\n",
        "    '\\+?'\n",
        "    '1'\n",
        "    '\\s?'\n",
        "    '\\(?'\n",
        "    '\\d{3}'\n",
        "    '\\)?'\n",
        "    '\\s?'\n",
        "    '\\d{3}'\n",
        "    '\\s?'\n",
        "    '-?'\n",
        "    '\\d{4}'\n",
        ")\n",
        "print(p)"
      ],
      "metadata": {
        "colab": {
          "base_uri": "https://localhost:8080/"
        },
        "id": "TKBM854jOD4j",
        "outputId": "f33d58bd-6c09-408b-a808-9ca234534f66"
      },
      "execution_count": null,
      "outputs": [
        {
          "output_type": "stream",
          "name": "stdout",
          "text": [
            "\\+?1\\s?\\(?\\d{3}\\)?\\s?\\d{3}\\s?-?\\d{4}\n"
          ]
        }
      ]
    },
    {
      "cell_type": "code",
      "source": [
        "#2. 정의한 패턴 문자열 p를 match() 함수에 전달.\n",
        "cnty_tele_num_space_paren_dash = '+1 (123) 456-7890'\n",
        "m = re.match(pattern = p, string= cnty_tele_num_space_paren_dash)\n",
        "print(m)"
      ],
      "metadata": {
        "colab": {
          "base_uri": "https://localhost:8080/"
        },
        "id": "37BWP23NPr5g",
        "outputId": "b54d441a-eea7-443a-9026-8b024625c8ea"
      },
      "execution_count": null,
      "outputs": [
        {
          "output_type": "stream",
          "name": "stdout",
          "text": [
            "<re.Match object; span=(0, 17), match='+1 (123) 456-7890'>\n"
          ]
        }
      ]
    },
    {
      "cell_type": "markdown",
      "source": [
        "### 패턴과 일치하는 모든 문자열 찾기"
      ],
      "metadata": {
        "id": "nL8ouemSQda2"
      }
    },
    {
      "cell_type": "code",
      "source": [
        "#1. 여러 줄에 걸친 긴 문자열을 하나 선언\n",
        "s = (\n",
        "    \"14 Ncuti Gatwa,\"\n",
        "    \"13 Jodie Whittaker, war John Hurt, 12 Peter Capaldi,\"\n",
        "    \"11 Matt Smith, 10 David Tennant, 9 Christopher Eccleston\"\n",
        ")\n",
        "print(s)"
      ],
      "metadata": {
        "colab": {
          "base_uri": "https://localhost:8080/"
        },
        "id": "Suj1g_PmQcdY",
        "outputId": "bdd9cb04-e386-4461-bd91-5c145c6e2e4d"
      },
      "execution_count": null,
      "outputs": [
        {
          "output_type": "stream",
          "name": "stdout",
          "text": [
            "14 Ncuti Gatwa,13 Jodie Whittaker, war John Hurt, 12 Peter Capaldi,11 Matt Smith, 10 David Tennant, 9 Christopher Eccleston\n"
          ]
        }
      ]
    },
    {
      "cell_type": "code",
      "source": [
        "#2. \\d와 + 기호를 사용한 패턴으로 findall()을 호출하여 문자열에서 숫자가 1개 이상 연속된 모든 부분을 찾기\n",
        "p = \"\\d+\"\n",
        "m = re.findall(pattern = p, string = s)\n",
        "print(m)"
      ],
      "metadata": {
        "colab": {
          "base_uri": "https://localhost:8080/"
        },
        "id": "BU9_4bhhRBEA",
        "outputId": "f0802a60-5261-4248-f6a6-28186001cc9d"
      },
      "execution_count": null,
      "outputs": [
        {
          "output_type": "stream",
          "name": "stdout",
          "text": [
            "['14', '13', '12', '11', '10', '9']\n"
          ]
        }
      ]
    },
    {
      "cell_type": "markdown",
      "source": [
        "### 패턴과 일치하는 문자열 대체하기"
      ],
      "metadata": {
        "id": "L_6Iqs2KRZ4d"
      }
    },
    {
      "cell_type": "code",
      "source": [
        "#1. 정규식을 사용하여 문자열에 있는 모든 인물 정보를 제거\n",
        "multi_str = \"\"\"Guard: What? Ridden on a horse?\n",
        "King Arthur: Yes!\n",
        "Guard: You're using coconuts!\n",
        "King Arthur: What?\n",
        "Guard: You've got ... coconut[s] and you're bangin' 'em togther.\n",
        "\"\"\"\n",
        "p ='\\w+\\s?\\w+:\\s?' # 이름 뒤에 콜론 기호가 포함된다는 규칙\n",
        "s = re.sub(pattern=p, string=multi_str, repl='')\n",
        "print(s)"
      ],
      "metadata": {
        "colab": {
          "base_uri": "https://localhost:8080/"
        },
        "id": "pm3GxycvRZKg",
        "outputId": "b9f031aa-7c74-4546-f4ce-4cfbcbb25605"
      },
      "execution_count": null,
      "outputs": [
        {
          "output_type": "stream",
          "name": "stdout",
          "text": [
            "What? Ridden on a horse?\n",
            "Yes!\n",
            "You're using coconuts!\n",
            "What?\n",
            "You've got ... coconut[s] and you're bangin' 'em togther.\n",
            "\n"
          ]
        }
      ]
    },
    {
      "cell_type": "code",
      "source": [
        "#2. 슬라이싱 구문을 활용하여 Guar와 King Arthur가 한 말을 각각 추출\n",
        "guard = s.splitlines()[::2]\n",
        "kinga = s.splitlines()[1::2]\n",
        "print(guard)\n",
        "print(kinga)"
      ],
      "metadata": {
        "colab": {
          "base_uri": "https://localhost:8080/"
        },
        "id": "0nF_yP6OTC1Y",
        "outputId": "7ec6167e-be4c-4614-d288-66e82a3328ed"
      },
      "execution_count": null,
      "outputs": [
        {
          "output_type": "stream",
          "name": "stdout",
          "text": [
            "['What? Ridden on a horse?', \"You're using coconuts!\", \"You've got ... coconut[s] and you're bangin' 'em togther.\"]\n",
            "['Yes!', 'What?']\n"
          ]
        }
      ]
    },
    {
      "cell_type": "markdown",
      "source": [
        "## compile() 함수"
      ],
      "metadata": {
        "id": "2b2IucwCT5Et"
      }
    },
    {
      "cell_type": "markdown",
      "source": [
        "* 패턴을 반복해서 사용하는 경우에 compile() 함수로 패턴을 재사용할 수 있는 기능"
      ],
      "metadata": {
        "id": "aECiOTu5UIR9"
      }
    },
    {
      "cell_type": "code",
      "source": [
        "#1. match() 함수부터 적용\n",
        "p = re.compile('\\d{10}')\n",
        "s = '1234567890'\n",
        "m = p.match(s)\n",
        "print(m)"
      ],
      "metadata": {
        "colab": {
          "base_uri": "https://localhost:8080/"
        },
        "id": "QL5O3BXYT2Ay",
        "outputId": "481f436d-06be-4eb7-b45c-c5a48d07feca"
      },
      "execution_count": null,
      "outputs": [
        {
          "output_type": "stream",
          "name": "stdout",
          "text": [
            "<re.Match object; span=(0, 10), match='1234567890'>\n"
          ]
        }
      ]
    },
    {
      "cell_type": "code",
      "source": [
        "#2. findall() 함수\n",
        "p = re.compile('\\d+')\n",
        "s = (\n",
        "    \"14 Ncuti Gatwa, \"\n",
        "    \"13 Jodie Whittaker, war John Hurt, 12 Peter Capaldi,\"\n",
        "    \"11 Matt Smith, 10 David Tennant, 9 Christopher Eccleston\"\n",
        ")\n",
        "m = p.findall(s)\n",
        "print(m)"
      ],
      "metadata": {
        "colab": {
          "base_uri": "https://localhost:8080/"
        },
        "id": "tivQcpvrUzle",
        "outputId": "aac67d56-697f-474f-b4d9-09d88d0562d3"
      },
      "execution_count": null,
      "outputs": [
        {
          "output_type": "stream",
          "name": "stdout",
          "text": [
            "['14', '13', '12', '11', '10', '9']\n"
          ]
        }
      ]
    },
    {
      "cell_type": "code",
      "source": [
        "#3. 찾은 문자열을 원하는 문자열로 바꾸는 sub() 함수\n",
        "p = re.compile('\\w+\\s?\\w+:\\s?')\n",
        "s = \"Guard: You're using coconuts!\"\n",
        "m = p.sub(string = s, repl='')\n",
        "print(m)"
      ],
      "metadata": {
        "colab": {
          "base_uri": "https://localhost:8080/"
        },
        "id": "yUsnbgguVTY5",
        "outputId": "a6406123-37ed-4610-f7ac-62b1aecb1681"
      },
      "execution_count": null,
      "outputs": [
        {
          "output_type": "stream",
          "name": "stdout",
          "text": [
            "You're using coconuts!\n"
          ]
        }
      ]
    },
    {
      "cell_type": "markdown",
      "source": [
        "# 11-6. regex 라이브러리 활용하기"
      ],
      "metadata": {
        "id": "vGaycDwSV4ri"
      }
    },
    {
      "cell_type": "code",
      "source": [
        "# regex 라이브러리는 좀 더 심화된 정규식 기능을 활용한다.\n",
        "import regex\n",
        "\n",
        "p = regex.compile('\\d+')\n",
        "s = (\n",
        "    \"14 Ncuti Gatwa, \"\n",
        "    \"13 Jodie Whittaker, war John Hurt, 12 Peter Capaldi,\"\n",
        "    \"11 Matt Smith, 10 David Tennant, 9 Christopher Eccleston\"\n",
        ")\n",
        "m = p.findall(s)\n",
        "print(m)"
      ],
      "metadata": {
        "colab": {
          "base_uri": "https://localhost:8080/"
        },
        "id": "wpqRDgZnV4O1",
        "outputId": "ac286428-c80b-45b4-baad-93d3cf053e07"
      },
      "execution_count": null,
      "outputs": [
        {
          "output_type": "stream",
          "name": "stdout",
          "text": [
            "['14', '13', '12', '11', '10', '9']\n"
          ]
        }
      ]
    },
    {
      "cell_type": "code",
      "source": [],
      "metadata": {
        "id": "Rmhi8TGbV3X0"
      },
      "execution_count": null,
      "outputs": []
    }
  ]
}
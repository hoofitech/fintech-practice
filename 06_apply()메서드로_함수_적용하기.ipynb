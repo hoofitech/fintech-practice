{
  "nbformat": 4,
  "nbformat_minor": 0,
  "metadata": {
    "colab": {
      "provenance": [],
      "authorship_tag": "ABX9TyNtFc/ATUzCq3rUl9eX9Qlg",
      "include_colab_link": true
    },
    "kernelspec": {
      "name": "python3",
      "display_name": "Python 3"
    },
    "language_info": {
      "name": "python"
    }
  },
  "cells": [
    {
      "cell_type": "markdown",
      "metadata": {
        "id": "view-in-github",
        "colab_type": "text"
      },
      "source": [
        "<a href=\"https://colab.research.google.com/github/hoofitech/fintech-practice/blob/main/06_apply()%EB%A9%94%EC%84%9C%EB%93%9C%EB%A1%9C_%ED%95%A8%EC%88%98_%EC%A0%81%EC%9A%A9%ED%95%98%EA%B8%B0.ipynb\" target=\"_parent\"><img src=\"https://colab.research.google.com/assets/colab-badge.svg\" alt=\"Open In Colab\"/></a>"
      ]
    },
    {
      "cell_type": "markdown",
      "source": [
        "# **06-1. 간단한 함수 만들기**"
      ],
      "metadata": {
        "id": "vDZ0cYJz9OwY"
      }
    },
    {
      "cell_type": "markdown",
      "source": [
        "### **사용자 함수 만들기**"
      ],
      "metadata": {
        "id": "QkhMXJDa9Ylw"
      }
    },
    {
      "cell_type": "code",
      "source": [
        "#1. 주어진 숫자의 제곱을 반환하는 함수\n",
        "def my_sq(x):\n",
        "  return x**2\n",
        "#2. 주어진 두 숫자의 평균을 구하는 함수\n",
        "def avg_2(x,y):\n",
        "  return (x+y)/2\n",
        "#3. 함수 도움말을 추가하려면 \"\"\"사이에 도움말을 넣으면 된다\n",
        "def avg_2(x,y):\n",
        "  ''' 두 숫자의 평균을 구하는 함수\n",
        "  '''\n",
        "  return (x+y) / 2\n",
        "#4. 만든 함수 호출\n",
        "my_calc_1 = my_sq(4)\n",
        "print(my_calc_1)\n",
        "my_calc_2 = avg_2(10,20)\n",
        "print(my_calc_2)"
      ],
      "metadata": {
        "colab": {
          "base_uri": "https://localhost:8080/"
        },
        "id": "qcMD1D4I9YZQ",
        "outputId": "a339ee39-03ea-4973-bd36-46fb4dd283b2"
      },
      "execution_count": null,
      "outputs": [
        {
          "output_type": "stream",
          "name": "stdout",
          "text": [
            "16\n",
            "15.0\n"
          ]
        }
      ]
    },
    {
      "cell_type": "markdown",
      "source": [
        "# **06-2. apply() 메서드 사용하기**"
      ],
      "metadata": {
        "id": "n9v00bpw-maO"
      }
    },
    {
      "cell_type": "markdown",
      "source": [
        "데이터프레임에 함수 적용하기"
      ],
      "metadata": {
        "id": "Ct8gtwY2-tnE"
      }
    },
    {
      "cell_type": "code",
      "source": [
        "# 1. 실습에 사용할 간단한 데이터프레임 만들기\n",
        "import pandas as pd\n",
        "\n",
        "df= pd.DataFrame({\"a\":[10,20,30],\n",
        "                  \"b\":[20,30,40]})\n",
        "print(df)"
      ],
      "metadata": {
        "colab": {
          "base_uri": "https://localhost:8080/"
        },
        "id": "5aneKr_-9OdR",
        "outputId": "c3fdde34-726c-40eb-e365-d6cee6e4bdca"
      },
      "execution_count": null,
      "outputs": [
        {
          "output_type": "stream",
          "name": "stdout",
          "text": [
            "    a   b\n",
            "0  10  20\n",
            "1  20  30\n",
            "2  30  40\n"
          ]
        }
      ]
    },
    {
      "cell_type": "code",
      "execution_count": null,
      "metadata": {
        "colab": {
          "base_uri": "https://localhost:8080/"
        },
        "id": "u7He6UAq8szR",
        "outputId": "f9d73854-de67-409f-f93b-83b2d3712dc1"
      },
      "outputs": [
        {
          "output_type": "stream",
          "name": "stdout",
          "text": [
            "0    100\n",
            "1    400\n",
            "2    900\n",
            "Name: a, dtype: int64\n"
          ]
        }
      ],
      "source": [
        "#2. a열에 모든 값에 제곱을 해야한다면?\n",
        "print(df['a']**2)\n",
        "# 간단한 연산자로 구할 수 없는 경우 apply()를 사용하여 시리즈에 함수를 적용할 수 있다."
      ]
    },
    {
      "cell_type": "markdown",
      "source": [
        "## **시리즈에 함수 적용하기**"
      ],
      "metadata": {
        "id": "TDthCM7J_fz2"
      }
    },
    {
      "cell_type": "markdown",
      "source": [
        "### 시리즈에 함수 적용하기"
      ],
      "metadata": {
        "id": "Ld_U3aYD_kTk"
      }
    },
    {
      "cell_type": "code",
      "source": [
        "# 1. 앞서 만든 데이터프레임에서 a열을 추출하여 유형을 살펴보기\n",
        "print(type(df['a'])) #시리즈"
      ],
      "metadata": {
        "colab": {
          "base_uri": "https://localhost:8080/"
        },
        "id": "OzbsN7qh_Osp",
        "outputId": "2e184ee9-68f6-482a-ad91-84edb15742f2"
      },
      "execution_count": null,
      "outputs": [
        {
          "output_type": "stream",
          "name": "stdout",
          "text": [
            "<class 'pandas.core.series.Series'>\n"
          ]
        }
      ]
    },
    {
      "cell_type": "code",
      "source": [
        "#2. 데이터 프레임의 첫 행은 어떤 유형인지\n",
        "print(type(df.iloc[0])) #시리즈"
      ],
      "metadata": {
        "colab": {
          "base_uri": "https://localhost:8080/"
        },
        "id": "MTZo8GPq_8rJ",
        "outputId": "4f2ac679-33c1-4c67-d20e-28a97912b726"
      },
      "execution_count": null,
      "outputs": [
        {
          "output_type": "stream",
          "name": "stdout",
          "text": [
            "<class 'pandas.core.series.Series'>\n"
          ]
        }
      ]
    },
    {
      "cell_type": "code",
      "source": [
        "#3. 시리즈에서는 apply() 메서드를 제공한다. apply()를 활용하면 시리즈의 모든 요소에 지정한 함수를 적용할 수 있다.\n",
        "sq = df['a'].apply(my_sq) #apply()에 함수를 인수로 전달할 때는 함수를 실행하지 않으므로 소괄호를 붙이지 않는다.\n",
        "print(sq)"
      ],
      "metadata": {
        "colab": {
          "base_uri": "https://localhost:8080/"
        },
        "id": "IYUQkuQpAMhY",
        "outputId": "5d3d4d92-87a8-4c42-cfb1-9967eed3901d"
      },
      "execution_count": null,
      "outputs": [
        {
          "output_type": "stream",
          "name": "stdout",
          "text": [
            "0    100\n",
            "1    400\n",
            "2    900\n",
            "Name: a, dtype: int64\n"
          ]
        }
      ]
    },
    {
      "cell_type": "markdown",
      "source": [
        "### 사용자 함수 만들어 데이터프레임에 적용하기"
      ],
      "metadata": {
        "id": "lpi9adbWCA5B"
      }
    },
    {
      "cell_type": "code",
      "source": [
        "# 1. 두개의 매개변수를 제곱하는 my_exp()생성\n",
        "def my_exp(x, e):\n",
        "  return x ** e\n",
        "\n",
        "# 2. 이 함수를 사용하려면 두 개의 매개변수를 전달해야 함, 한 개만 전달 시 오류 발생\n",
        "cubed = my_exp(2,3)\n",
        "print(cubed)"
      ],
      "metadata": {
        "colab": {
          "base_uri": "https://localhost:8080/"
        },
        "id": "0VTJdX9vCHzM",
        "outputId": "b951c46a-e21c-4f8b-cc80-7e4f48d282ff"
      },
      "execution_count": null,
      "outputs": [
        {
          "output_type": "stream",
          "name": "stdout",
          "text": [
            "8\n"
          ]
        }
      ]
    },
    {
      "cell_type": "code",
      "source": [
        "#3. 시리즈의 apply() 메서드에 함수를 전달할 때 키워드 매개변수로써 이름과 값을 명시하여 전달해야함. e=2로 전달해주면 된다.\n",
        "ex = df['a'].apply(my_exp, e=2)\n",
        "print(ex)"
      ],
      "metadata": {
        "colab": {
          "base_uri": "https://localhost:8080/"
        },
        "id": "tc0ekk0uC4In",
        "outputId": "33bdfc0e-aefc-4a15-842c-fccbdc1ddd71"
      },
      "execution_count": null,
      "outputs": [
        {
          "output_type": "stream",
          "name": "stdout",
          "text": [
            "0    100\n",
            "1    400\n",
            "2    900\n",
            "Name: a, dtype: int64\n"
          ]
        }
      ]
    },
    {
      "cell_type": "markdown",
      "source": [
        "## **데이터프레임에 함수 적용하기**"
      ],
      "metadata": {
        "id": "iAAa9v2bEdR9"
      }
    },
    {
      "cell_type": "code",
      "source": [
        "#데이터프레임에 함수를 적용할 때는 열 단위로 적용할지 행 단위로 적용할지 결정해야한다.\n",
        "\n",
        "#하나의 값을 전달받아서 그대로 출력하는 함수 생성\n",
        "def print_me(x):\n",
        "  print(x)\n",
        "\n",
        "# apply() 메서드로 함수를 열 단위로 적용하고 싶다면 axis 매개변수에 0또는 \"index\"를 지정. 행 단위로 적용하고 싶다면 axis=1 또는 axis=\"columns\"를 전달"
      ],
      "metadata": {
        "id": "Ca03AtxsD_zX"
      },
      "execution_count": null,
      "outputs": []
    },
    {
      "cell_type": "markdown",
      "source": [
        "### 열 단위로 함수 적용하기"
      ],
      "metadata": {
        "id": "KEne6PVGHlsV"
      }
    },
    {
      "cell_type": "code",
      "source": [
        "#1. 열단위로 apply()를 호출할 때 axis=0을 전달\n",
        "df.apply(print_me, axis=0) #지정한 전체 축이 함수의 첫 번째 인수로 전달된다"
      ],
      "metadata": {
        "colab": {
          "base_uri": "https://localhost:8080/",
          "height": 294
        },
        "id": "bywfQnjXHpuU",
        "outputId": "4172574f-85d4-420f-e5ca-54bae1c176ed"
      },
      "execution_count": null,
      "outputs": [
        {
          "output_type": "stream",
          "name": "stdout",
          "text": [
            "0    10\n",
            "1    20\n",
            "2    30\n",
            "Name: a, dtype: int64\n",
            "0    20\n",
            "1    30\n",
            "2    40\n",
            "Name: b, dtype: int64\n"
          ]
        },
        {
          "output_type": "execute_result",
          "data": {
            "text/plain": [
              "a    None\n",
              "b    None\n",
              "dtype: object"
            ],
            "text/html": [
              "<div>\n",
              "<style scoped>\n",
              "    .dataframe tbody tr th:only-of-type {\n",
              "        vertical-align: middle;\n",
              "    }\n",
              "\n",
              "    .dataframe tbody tr th {\n",
              "        vertical-align: top;\n",
              "    }\n",
              "\n",
              "    .dataframe thead th {\n",
              "        text-align: right;\n",
              "    }\n",
              "</style>\n",
              "<table border=\"1\" class=\"dataframe\">\n",
              "  <thead>\n",
              "    <tr style=\"text-align: right;\">\n",
              "      <th></th>\n",
              "      <th>0</th>\n",
              "    </tr>\n",
              "  </thead>\n",
              "  <tbody>\n",
              "    <tr>\n",
              "      <th>a</th>\n",
              "      <td>None</td>\n",
              "    </tr>\n",
              "    <tr>\n",
              "      <th>b</th>\n",
              "      <td>None</td>\n",
              "    </tr>\n",
              "  </tbody>\n",
              "</table>\n",
              "</div><br><label><b>dtype:</b> object</label>"
            ]
          },
          "metadata": {},
          "execution_count": 14
        }
      ]
    },
    {
      "cell_type": "code",
      "source": [
        "# 2. 세 숫자의 평균을 구하는 avg_3() 함수 생성\n",
        "def avg3(x,y,z):\n",
        "  return (x+y+z) / 3\n",
        "\n",
        "#print(df.apply(avg_3))로 apply를 적용하려하면 오류 발생, avg3가 3개의 인수가 필요하지만 apply()를 사용하면 함수의 첫 번째 인수로 전체열이 전달되기 때문\n",
        "\n",
        "#3. 다음과 같이 수정\n",
        "def avg_3_apply(col):\n",
        "    x = col[0]\n",
        "    y = col[1]\n",
        "    z = col[2]\n",
        "    return (x+y+z)/3\n",
        "\n",
        "print(df.apply(avg_3_apply))"
      ],
      "metadata": {
        "colab": {
          "base_uri": "https://localhost:8080/"
        },
        "id": "M15cn47vIJ4k",
        "outputId": "b58adeed-03b3-4014-c5e7-499192bf5a4e"
      },
      "execution_count": null,
      "outputs": [
        {
          "output_type": "stream",
          "name": "stdout",
          "text": [
            "a    20.0\n",
            "b    30.0\n",
            "dtype: float64\n"
          ]
        }
      ]
    },
    {
      "cell_type": "markdown",
      "source": [
        "### 행 단위로 함수 적용하기"
      ],
      "metadata": {
        "id": "WOwmf7XvJc2a"
      }
    },
    {
      "cell_type": "code",
      "source": [
        "#1. 행 단위로 apply() 적용하는 법은 axis = 0을 전달하면 됨\n",
        "#2. 행의 전체 값을 받아서 2개의 값을 추출하고 평균을 구해야하므로 앞선 avg_3_apply 함수는 적용이 안됨\n",
        "def avg_2_apply(row):\n",
        "  x = row.iloc[0]\n",
        "  y = row.iloc[1]\n",
        "  return (x+y) / 2\n",
        "#3. apply()로 avg_2_apply() 함수를 행단위로 적용\n",
        "print(df.apply(avg_2_apply, axis =1))"
      ],
      "metadata": {
        "colab": {
          "base_uri": "https://localhost:8080/"
        },
        "id": "soeuK05qJf18",
        "outputId": "cb084035-ff06-450a-fdab-96cf3d86a7ca"
      },
      "execution_count": null,
      "outputs": [
        {
          "output_type": "stream",
          "name": "stdout",
          "text": [
            "0    15.0\n",
            "1    25.0\n",
            "2    35.0\n",
            "dtype: float64\n"
          ]
        }
      ]
    },
    {
      "cell_type": "markdown",
      "source": [
        "# **06-3 람다 함수 사용하기**"
      ],
      "metadata": {
        "id": "qkAh3f9Oaoek"
      }
    },
    {
      "cell_type": "markdown",
      "source": [
        "### 데이터프레임에 람다 함수 적용하기"
      ],
      "metadata": {
        "id": "k1-k9OGLbKMO"
      }
    },
    {
      "cell_type": "code",
      "source": [
        "# 1. 간단한 데이터 프레임 생성\n",
        "df = pd.DataFrame({'a': [10,20,30],\n",
        "                   'b': [20,30,40]})\n",
        "\n",
        "print(df)"
      ],
      "metadata": {
        "colab": {
          "base_uri": "https://localhost:8080/"
        },
        "id": "juqYjnjWajKD",
        "outputId": "218071b3-908c-4d0d-c15b-bf59b94a3b48"
      },
      "execution_count": null,
      "outputs": [
        {
          "output_type": "stream",
          "name": "stdout",
          "text": [
            "    a   b\n",
            "0  10  20\n",
            "1  20  30\n",
            "2  30  40\n"
          ]
        }
      ]
    },
    {
      "cell_type": "code",
      "source": [
        "#2. 앞서 만든 my_sq() 함수를 다시 사용\n",
        "def my_sq(x):\n",
        "  return x ** 2\n",
        "\n",
        "df['a_sq'] = df['a'].apply(my_sq)\n",
        "print(df)"
      ],
      "metadata": {
        "colab": {
          "base_uri": "https://localhost:8080/"
        },
        "id": "_dNClwrEbjM0",
        "outputId": "79bc8ba2-f32b-4308-dbb5-3570d2be1941"
      },
      "execution_count": null,
      "outputs": [
        {
          "output_type": "stream",
          "name": "stdout",
          "text": [
            "    a   b  a_sq\n",
            "0  10  20   100\n",
            "1  20  30   400\n",
            "2  30  40   900\n"
          ]
        }
      ]
    },
    {
      "cell_type": "code",
      "source": [
        "#3. 간단한 함수는 람다 함수로 정의하면 my_sq() 함수를 사용한 코드와 같은 작업을 수행\n",
        "df['a_sq_lamb'] = df['a'].apply(lambda x: x**2)\n",
        "print(df)"
      ],
      "metadata": {
        "colab": {
          "base_uri": "https://localhost:8080/"
        },
        "id": "0f2AEy82b8m7",
        "outputId": "3ebeee4f-cc7a-46d6-a278-c7be9bede70a"
      },
      "execution_count": null,
      "outputs": [
        {
          "output_type": "stream",
          "name": "stdout",
          "text": [
            "    a   b  a_sq  a_sq_lamb\n",
            "0  10  20   100        100\n",
            "1  20  30   400        400\n",
            "2  30  40   900        900\n"
          ]
        }
      ]
    },
    {
      "cell_type": "markdown",
      "source": [
        "## 06-4 벡터화된 함수 사용하기"
      ],
      "metadata": {
        "id": "PZnzj11Eczkw"
      }
    },
    {
      "cell_type": "markdown",
      "source": [
        "* apply()를 사용하면 열 단위 또는 행 단위로 함수를 적용할 수 있다\n",
        "* 다만, 행과 열의 크기에 따라 함수를 따로 작성해야 했음\n",
        "* vectorize() 함수와 데코레이터를 사용하여 벡터화하면 apply() 메서드보다 효율적으로 코드를 작성할 수 있음"
      ],
      "metadata": {
        "id": "CYu2WEgcdQAf"
      }
    },
    {
      "cell_type": "markdown",
      "source": [
        "### 벡터화된 함수 사용하기"
      ],
      "metadata": {
        "id": "QCND1geVdtxt"
      }
    },
    {
      "cell_type": "code",
      "source": [
        "# 1. 데이터프레임 만들기\n",
        "df = pd.DataFrame({\"a\": [10,20,30],\n",
        "                   \"b\": [20, 30,40]})\n",
        "print(df)"
      ],
      "metadata": {
        "colab": {
          "base_uri": "https://localhost:8080/"
        },
        "id": "7WPwh1XGdLno",
        "outputId": "8a239032-962a-44a8-e830-62db4d3a89a4"
      },
      "execution_count": null,
      "outputs": [
        {
          "output_type": "stream",
          "name": "stdout",
          "text": [
            "    a   b\n",
            "0  10  20\n",
            "1  20  30\n",
            "2  30  40\n"
          ]
        }
      ]
    },
    {
      "cell_type": "code",
      "source": [
        "# 2. 각 행은 값이 2개이므로 다음과 같은 평균함수를 만들 수 있음.\n",
        "def avg_2(x,y):\n",
        "    return (x+y)/2\n",
        "# 벡터화된 함수: 입력이 벡터(pandas의 Series)여도 자동으로 각 요소별 계산이 되는 함수\n",
        "# 벡터화된 함수는 x와 y의 값을 각각 벡터로 전달받아 같은 순서로 x와 y의 평균을 반환해야 합니다.\n",
        "print(avg_2(df['a'], df['b']))\n",
        "\n",
        "# 두 개의 숫자 열에 더하기 연산을 적용하면 판다스와 넘파이 라이브러리가 자동으로 요소별 더하기를 수행합니다.\n",
        "# /2에서 2를 스칼라라고 하며 스칼라를 브로드캐스팅하고 각 요소를 스칼라값으로 나누는 방식으로 작동한다."
      ],
      "metadata": {
        "colab": {
          "base_uri": "https://localhost:8080/"
        },
        "id": "vRllYAUPeqWD",
        "outputId": "0105e07b-2253-4570-e713-8ddc0c427563"
      },
      "execution_count": null,
      "outputs": [
        {
          "output_type": "stream",
          "name": "stdout",
          "text": [
            "0    15.0\n",
            "1    25.0\n",
            "2    35.0\n",
            "dtype: float64\n"
          ]
        }
      ]
    },
    {
      "cell_type": "markdown",
      "source": [
        "스칼라의 브로드캐스팅에 대한 이해를 위한 예시 그림  \n",
        "브로드캐스팅한다는 것은 스칼라 혹은 작은 배열을 자동으로 큰 배열에 맞춰 연산한다는 의미\n",
        "\n",
        "벡터:         [ a1, a2, a3, a4 ]  \n",
        "스칼라:        2\n",
        "\n",
        "브로드캐스트: [ 2, 2, 2, 2 ]  \n",
        "연산 결과:    [ a1/2, a2/2, a3/2, a4/2 ]\n"
      ],
      "metadata": {
        "id": "uaL5-H8siwqU"
      }
    },
    {
      "cell_type": "code",
      "source": [
        "#3. 벡터화할 수 없는 계산을 수행하는 함수로 수정\n",
        "# x가 20이면 NaN을 반환하는 함수\n",
        "import numpy as np\n",
        "\n",
        "def avg_2_mod(x,y):\n",
        "    if (x == 20):\n",
        "      return(np.nan)\n",
        "    else:\n",
        "      return (x+y) / 2\n",
        "\n",
        "#print(avg_2_mod(df['a'], df['b']))\n",
        "#위 출력은 if문에 벡터가 전달될 수 없는데 전달되므로 오류가 발생함\n",
        "\"\"\"\n",
        "df['a'] == 20\n",
        "# 결과: [False, True, False] ← 벡터\n",
        "\n",
        "if df['a'] == 20:\n",
        "    # ❌ ValueError: The truth value of a Series is ambiguous\n",
        "파이썬의 if문은 단일 True/False 값만 이용할 수 있는데, 벡터를 넣으면 오류가 발생함\n",
        "\"\"\""
      ],
      "metadata": {
        "colab": {
          "base_uri": "https://localhost:8080/",
          "height": 35
        },
        "id": "ljnT1J0BjRBM",
        "outputId": "629f9265-0ef3-4165-eb15-d9748f134b3d"
      },
      "execution_count": null,
      "outputs": [
        {
          "output_type": "execute_result",
          "data": {
            "text/plain": [
              "\"\\ndf['a'] == 20\\n# 결과: [False, True, False] ← 벡터\\n\\nif df['a'] == 20:\\n    # ❌ ValueError: The truth value of a Series is ambiguous\\n파이썬의 if문은 단일 True/False 값만 이용할 수 있는데, 벡터를 넣으면 오류가 발생함\\n\""
            ],
            "application/vnd.google.colaboratory.intrinsic+json": {
              "type": "string"
            }
          },
          "metadata": {},
          "execution_count": 29
        }
      ]
    },
    {
      "cell_type": "markdown",
      "source": [
        "## **넘파이와 넘바로 벡터화 하기**"
      ],
      "metadata": {
        "id": "Z4PU2SNqlZ53"
      }
    },
    {
      "cell_type": "markdown",
      "source": [
        "넘파이로 벡터화하기"
      ],
      "metadata": {
        "id": "96PyXy4glxS-"
      }
    },
    {
      "cell_type": "code",
      "source": [
        "#1. np.vectorize()에 벡터화하려는 함수를 전달\n",
        "import numpy as np\n",
        "\n",
        "avg_2_mod_vec = np.vectorize(avg_2_mod)"
      ],
      "metadata": {
        "id": "u8uqipAGlxFO"
      },
      "execution_count": null,
      "outputs": []
    },
    {
      "cell_type": "code",
      "source": [
        "#2. 벡터화한 함수에 열 벡터 넣어보기\n",
        "print(avg_2_mod_vec(df['a'], df['b'])) #오류없이 잘 작동"
      ],
      "metadata": {
        "colab": {
          "base_uri": "https://localhost:8080/"
        },
        "id": "XR29oZoqjeQn",
        "outputId": "b56ad252-3225-48bb-dd98-1746ae88d01e"
      },
      "execution_count": null,
      "outputs": [
        {
          "output_type": "stream",
          "name": "stdout",
          "text": [
            "[15. nan 35.]\n"
          ]
        }
      ]
    },
    {
      "cell_type": "code",
      "source": [
        "@np.vectorize #파이썬의 데코레이터로 새 함수를 만들지 않고도 함수를 자동으로 벡터화할 수 있음\n",
        "def v_avg_2_mod(x,y):\n",
        "  if (x==20):\n",
        "    return (np.nan)\n",
        "  else:\n",
        "    return (x+y) / 2\n",
        "\n",
        "print(v_avg_2_mod(df['a'], df['b']))"
      ],
      "metadata": {
        "colab": {
          "base_uri": "https://localhost:8080/"
        },
        "id": "xAUumfxlndfa",
        "outputId": "7e1342be-1ddf-4411-d678-9018f9562fd9"
      },
      "execution_count": null,
      "outputs": [
        {
          "output_type": "stream",
          "name": "stdout",
          "text": [
            "[15. nan 35.]\n"
          ]
        }
      ]
    },
    {
      "cell_type": "markdown",
      "source": [
        "### 넘바로 벡터화하기"
      ],
      "metadata": {
        "id": "5hFJgwQhpU5o"
      }
    },
    {
      "cell_type": "code",
      "source": [
        "#1. 넘바 라이브러리는 배열에 적용하는 수학계산을 최적화하도록 설계되었다.\n",
        "import numba\n",
        "@numba.vectorize\n",
        "def v_avg_2_numba(x,y):\n",
        "  if (int(x) == 20): #자료형 정보를 추가해준다\n",
        "    return (np.nan)\n",
        "  else:\n",
        "    return (x+y) / 2"
      ],
      "metadata": {
        "id": "GmYe_NBfpYfF"
      },
      "execution_count": null,
      "outputs": []
    },
    {
      "cell_type": "code",
      "source": [
        "#2. numba 라이브러리는 계산 최적화에 특화된 라이브러리이므로 판다스 객체를 처리하는 기능은 없음\n",
        "\n",
        "#print(v_avg_2_numba(df['a'], df['b']))\n",
        "#위처럼 함수에 데이터프레임의 열 벡터를 그대로 전달하면 오류가 발생함\n",
        "\n",
        "#3. 시리즈 객체의 values 속성을 사용하여 데이터를 넘파이 배열 형식으로 전달해야한다.\n",
        "print(v_avg_2_numba(df['a'].values, df['b'].values))"
      ],
      "metadata": {
        "colab": {
          "base_uri": "https://localhost:8080/"
        },
        "id": "lDc-8xQcp7I2",
        "outputId": "11b07bae-eac0-4b0d-f7ad-97c88ba78470"
      },
      "execution_count": null,
      "outputs": [
        {
          "output_type": "stream",
          "name": "stdout",
          "text": [
            "[15. nan 35.]\n"
          ]
        }
      ]
    }
  ]
}
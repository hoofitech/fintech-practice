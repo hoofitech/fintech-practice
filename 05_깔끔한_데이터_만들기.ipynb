{
  "nbformat": 4,
  "nbformat_minor": 0,
  "metadata": {
    "colab": {
      "provenance": [],
      "authorship_tag": "ABX9TyMpDBp88BxzZFEGK4BmAg8j",
      "include_colab_link": true
    },
    "kernelspec": {
      "name": "python3",
      "display_name": "Python 3"
    },
    "language_info": {
      "name": "python"
    }
  },
  "cells": [
    {
      "cell_type": "markdown",
      "metadata": {
        "id": "view-in-github",
        "colab_type": "text"
      },
      "source": [
        "<a href=\"https://colab.research.google.com/github/hoofitech/fintech-practice/blob/main/05_%EA%B9%94%EB%81%94%ED%95%9C_%EB%8D%B0%EC%9D%B4%ED%84%B0_%EB%A7%8C%EB%93%A4%EA%B8%B0.ipynb\" target=\"_parent\"><img src=\"https://colab.research.google.com/assets/colab-badge.svg\" alt=\"Open In Colab\"/></a>"
      ]
    },
    {
      "cell_type": "markdown",
      "source": [
        "# **05-1. 깔끔한 데이터란?**"
      ],
      "metadata": {
        "id": "JbTFtJZfUxuL"
      }
    },
    {
      "cell_type": "markdown",
      "source": [
        "깔끔한 데이터는 데이터셋을 구조화하는 프레임워크로써 이 프레임워크를 사용하면 데이터셋을 분석하고 시각화하기 쉽습니다."
      ],
      "metadata": {
        "id": "ZX970gfNVcmj"
      }
    },
    {
      "cell_type": "markdown",
      "source": [
        "깔끔한 데이터의 조건\n",
        "1.  변수는 열로 나타내야 한다\n",
        "2. 관측값은 행으로 나타내야 한다\n",
        "3. 값은 셀로 나타내야 한다."
      ],
      "metadata": {
        "id": "81VxKfOeU-rf"
      }
    },
    {
      "cell_type": "markdown",
      "source": [
        "# **05-2. 열 이름이 값일때**"
      ],
      "metadata": {
        "id": "atFbTjK2VqGT"
      }
    },
    {
      "cell_type": "markdown",
      "source": [
        "## **하나의 열만 남기기**"
      ],
      "metadata": {
        "id": "UXjung_nV5xr"
      }
    },
    {
      "cell_type": "markdown",
      "source": [
        "넓은 데이터 확인하기"
      ],
      "metadata": {
        "id": "X7Bsge3HXNvR"
      }
    },
    {
      "cell_type": "code",
      "execution_count": null,
      "metadata": {
        "id": "ZKjjbHavUoqy"
      },
      "outputs": [],
      "source": [
        "import pandas as pd\n",
        "\n",
        "pew = pd.read_csv('pew.csv')"
      ]
    },
    {
      "cell_type": "code",
      "source": [
        "# 데이터셋을 살펴보면 religion을 제외한 모든 열은 소득 범위를 나타내고 각 소득 범위에 해당하는 사람 수를 값으로 설정함\n",
        "# 변수 하나를 여러 개의 열로 표현한 데이터를 '넓은 데이터(wide data)'라고 부름\n",
        "# 하나의 변수를 한 열로 표현한 긴 데이터(long data) 형식의 깔끔한 데이터로 바꾸려면 피벗 되돌리기(unpivot)이 필요하다\n",
        "# 프로그래밍 언어에 따라 melt 혹은 gather라고 표현\n",
        "print(pew.iloc[:,0:5])"
      ],
      "metadata": {
        "colab": {
          "base_uri": "https://localhost:8080/"
        },
        "id": "h-11VHBgWufy",
        "outputId": "db9ab077-4b1f-4097-d11e-ebbc4c4486a2"
      },
      "execution_count": null,
      "outputs": [
        {
          "output_type": "stream",
          "name": "stdout",
          "text": [
            "                   religion  <$10k  $10-20k  $20-30k  $30-40k\n",
            "0                  Agnostic     27       34       60       81\n",
            "1                   Atheist     12       27       37       52\n",
            "2                  Buddhist     27       21       30       34\n",
            "3                  Catholic    418      617      732      670\n",
            "4        Don’t know/refused     15       14       15       11\n",
            "5          Evangelical Prot    575      869     1064      982\n",
            "6                     Hindu      1        9        7        9\n",
            "7   Historically Black Prot    228      244      236      238\n",
            "8         Jehovah's Witness     20       27       24       24\n",
            "9                    Jewish     19       19       25       25\n",
            "10            Mainline Prot    289      495      619      655\n",
            "11                   Mormon     29       40       48       51\n",
            "12                   Muslim      6        7        9       10\n",
            "13                 Orthodox     13       17       23       32\n",
            "14          Other Christian      9        7       11       13\n",
            "15             Other Faiths     20       33       40       46\n",
            "16    Other World Religions      5        2        3        4\n",
            "17             Unaffiliated    217      299      374      365\n"
          ]
        }
      ]
    },
    {
      "cell_type": "markdown",
      "source": [
        "**melt()메서드의 매개변수**\n",
        "\n",
        "\n",
        "*   id_vars: 그대로 유지할 변수를 나타내는 컨테이너(리스트,튜플,ndarray)이다.\n",
        "*   value_vars: 피벗 되돌리기 할 열을 나타냅니다. 기본적으로 id_vars에 지정하지 않은 모든 열\n",
        "*   var_name: value_vars의 열을 피벗 되돌리기 하여 구성할 새 열의 이름으로 설정할 문자열, 기본값은 variable\n",
        "*   value_name : var_name 열의 값을 나타내는 새로운 열 이름 문자열, 기본값은 value\n",
        "\n",
        "\n",
        "\n"
      ],
      "metadata": {
        "id": "IC5KKXvpYVnY"
      }
    },
    {
      "cell_type": "markdown",
      "source": [
        "긴 데이터로 만들기"
      ],
      "metadata": {
        "id": "PNZIfmatZtoT"
      }
    },
    {
      "cell_type": "code",
      "source": [
        "pew_long = pew.melt(id_vars='religion') #religion 열을 제외한 모든 열을 피벗 되돌리기\n",
        "print(pew_long)"
      ],
      "metadata": {
        "colab": {
          "base_uri": "https://localhost:8080/"
        },
        "id": "NNt1wc5DZvdd",
        "outputId": "ae2b2567-7d49-4288-8e3a-9e83248a8daf"
      },
      "execution_count": null,
      "outputs": [
        {
          "output_type": "stream",
          "name": "stdout",
          "text": [
            "                  religion            variable  value\n",
            "0                 Agnostic               <$10k     27\n",
            "1                  Atheist               <$10k     12\n",
            "2                 Buddhist               <$10k     27\n",
            "3                 Catholic               <$10k    418\n",
            "4       Don’t know/refused               <$10k     15\n",
            "..                     ...                 ...    ...\n",
            "175               Orthodox  Don't know/refused     73\n",
            "176        Other Christian  Don't know/refused     18\n",
            "177           Other Faiths  Don't know/refused     71\n",
            "178  Other World Religions  Don't know/refused      8\n",
            "179           Unaffiliated  Don't know/refused    597\n",
            "\n",
            "[180 rows x 3 columns]\n"
          ]
        }
      ]
    },
    {
      "cell_type": "code",
      "source": [
        "pew_long = pew.melt(id_vars=\"religion\", var_name=\"income\", value_name=\"count\") #피벗 되돌리기 한 열의 이름 설정\n",
        "print(pew_long)"
      ],
      "metadata": {
        "colab": {
          "base_uri": "https://localhost:8080/"
        },
        "id": "xzBPlzm0aK6y",
        "outputId": "1c5d5729-5bce-4937-d0e0-0ba81a62a47e"
      },
      "execution_count": null,
      "outputs": [
        {
          "output_type": "stream",
          "name": "stdout",
          "text": [
            "                  religion              income  count\n",
            "0                 Agnostic               <$10k     27\n",
            "1                  Atheist               <$10k     12\n",
            "2                 Buddhist               <$10k     27\n",
            "3                 Catholic               <$10k    418\n",
            "4       Don’t know/refused               <$10k     15\n",
            "..                     ...                 ...    ...\n",
            "175               Orthodox  Don't know/refused     73\n",
            "176        Other Christian  Don't know/refused     18\n",
            "177           Other Faiths  Don't know/refused     71\n",
            "178  Other World Religions  Don't know/refused      8\n",
            "179           Unaffiliated  Don't know/refused    597\n",
            "\n",
            "[180 rows x 3 columns]\n"
          ]
        }
      ]
    },
    {
      "cell_type": "markdown",
      "source": [
        "## **여러 개의 열 남기기**"
      ],
      "metadata": {
        "id": "2coZloXJafFw"
      }
    },
    {
      "cell_type": "markdown",
      "source": [
        "여러 개 열 유지하기"
      ],
      "metadata": {
        "id": "mCYqv3aDauX8"
      }
    },
    {
      "cell_type": "code",
      "source": [
        "billboard = pd.read_csv('billboard.csv')\n",
        "#wk는 한 주를 뜻함. 각 주를 열로 표현하여 넓은 데이터로 표현\n",
        "print(billboard.iloc[0:5,0:16])"
      ],
      "metadata": {
        "colab": {
          "base_uri": "https://localhost:8080/"
        },
        "id": "SL2Dy_rMadwc",
        "outputId": "464cbf6f-51a0-4e1a-f861-3996e814acc0"
      },
      "execution_count": null,
      "outputs": [
        {
          "output_type": "stream",
          "name": "stdout",
          "text": [
            "   year        artist                    track  time date.entered  wk1   wk2  \\\n",
            "0  2000         2 Pac  Baby Don't Cry (Keep...  4:22   2000-02-26   87  82.0   \n",
            "1  2000       2Ge+her  The Hardest Part Of ...  3:15   2000-09-02   91  87.0   \n",
            "2  2000  3 Doors Down               Kryptonite  3:53   2000-04-08   81  70.0   \n",
            "3  2000  3 Doors Down                    Loser  4:24   2000-10-21   76  76.0   \n",
            "4  2000      504 Boyz            Wobble Wobble  3:35   2000-04-15   57  34.0   \n",
            "\n",
            "    wk3   wk4   wk5   wk6   wk7   wk8   wk9  wk10  wk11  \n",
            "0  72.0  77.0  87.0  94.0  99.0   NaN   NaN   NaN   NaN  \n",
            "1  92.0   NaN   NaN   NaN   NaN   NaN   NaN   NaN   NaN  \n",
            "2  68.0  67.0  66.0  57.0  54.0  53.0  51.0  51.0  51.0  \n",
            "3  72.0  69.0  67.0  65.0  55.0  59.0  62.0  61.0  61.0  \n",
            "4  25.0  17.0  17.0  31.0  36.0  49.0  53.0  57.0  64.0  \n"
          ]
        }
      ]
    },
    {
      "cell_type": "code",
      "source": [
        "billboard_long = billboard.melt(\n",
        "    id_vars=[\"year\", \"artist\", \"track\", \"time\", \"date.entered\"], #유지할 열을 리스트로 지정\n",
        "    var_name=\"week\",\n",
        "    value_name=\"rating\"\n",
        ")\n",
        "print(billboard_long)"
      ],
      "metadata": {
        "colab": {
          "base_uri": "https://localhost:8080/"
        },
        "id": "J-3lJQ1ObQGe",
        "outputId": "61204066-db4a-4993-e4d0-0e76724ce920"
      },
      "execution_count": null,
      "outputs": [
        {
          "output_type": "stream",
          "name": "stdout",
          "text": [
            "       year            artist                    track  time date.entered  \\\n",
            "0      2000             2 Pac  Baby Don't Cry (Keep...  4:22   2000-02-26   \n",
            "1      2000           2Ge+her  The Hardest Part Of ...  3:15   2000-09-02   \n",
            "2      2000      3 Doors Down               Kryptonite  3:53   2000-04-08   \n",
            "3      2000      3 Doors Down                    Loser  4:24   2000-10-21   \n",
            "4      2000          504 Boyz            Wobble Wobble  3:35   2000-04-15   \n",
            "...     ...               ...                      ...   ...          ...   \n",
            "24087  2000       Yankee Grey     Another Nine Minutes  3:10   2000-04-29   \n",
            "24088  2000  Yearwood, Trisha          Real Live Woman  3:55   2000-04-01   \n",
            "24089  2000   Ying Yang Twins  Whistle While You Tw...  4:19   2000-03-18   \n",
            "24090  2000     Zombie Nation            Kernkraft 400  3:30   2000-09-02   \n",
            "24091  2000   matchbox twenty                     Bent  4:12   2000-04-29   \n",
            "\n",
            "       week  rating  \n",
            "0       wk1    87.0  \n",
            "1       wk1    91.0  \n",
            "2       wk1    81.0  \n",
            "3       wk1    76.0  \n",
            "4       wk1    57.0  \n",
            "...     ...     ...  \n",
            "24087  wk76     NaN  \n",
            "24088  wk76     NaN  \n",
            "24089  wk76     NaN  \n",
            "24090  wk76     NaN  \n",
            "24091  wk76     NaN  \n",
            "\n",
            "[24092 rows x 7 columns]\n"
          ]
        }
      ]
    },
    {
      "cell_type": "markdown",
      "source": [
        "# **05-3. 열 이름에 변수가 여러 개일 때**"
      ],
      "metadata": {
        "id": "6L52yQ0YuOaW"
      }
    },
    {
      "cell_type": "markdown",
      "source": [
        "## **열 이름이 여러가지 뜻일 때**"
      ],
      "metadata": {
        "id": "cVud8VPsudRB"
      }
    },
    {
      "cell_type": "markdown",
      "source": [
        "깔끔한 데이터 만들기 ①"
      ],
      "metadata": {
        "id": "pnoSodlVvBJE"
      }
    },
    {
      "cell_type": "code",
      "source": [
        "ebola = pd.read_csv('country_timeseries.csv')\n",
        "print(ebola.columns)"
      ],
      "metadata": {
        "colab": {
          "base_uri": "https://localhost:8080/"
        },
        "id": "5r0YKUfEuNtu",
        "outputId": "55cb32d4-597d-46ba-f8c0-95e66e9151c1"
      },
      "execution_count": null,
      "outputs": [
        {
          "output_type": "stream",
          "name": "stdout",
          "text": [
            "Index(['Date', 'Day', 'Cases_Guinea', 'Cases_Liberia', 'Cases_SierraLeone',\n",
            "       'Cases_Nigeria', 'Cases_Senegal', 'Cases_UnitedStates', 'Cases_Spain',\n",
            "       'Cases_Mali', 'Deaths_Guinea', 'Deaths_Liberia', 'Deaths_SierraLeone',\n",
            "       'Deaths_Nigeria', 'Deaths_Senegal', 'Deaths_UnitedStates',\n",
            "       'Deaths_Spain', 'Deaths_Mali'],\n",
            "      dtype='object')\n"
          ]
        }
      ]
    },
    {
      "cell_type": "code",
      "source": [
        "print(ebola.iloc[:5, [0,1,2,10]])\n",
        "#Cases_Guinea와 Deaths_Guinea는 국가 이름과 (확진, 사망자수)로 두 가지 변수를 포함한다."
      ],
      "metadata": {
        "colab": {
          "base_uri": "https://localhost:8080/"
        },
        "id": "qllulSaPvY0P",
        "outputId": "43f51cf6-91f6-41fc-a43f-1820d9f45c25"
      },
      "execution_count": null,
      "outputs": [
        {
          "output_type": "stream",
          "name": "stdout",
          "text": [
            "         Date  Day  Cases_Guinea  Deaths_Guinea\n",
            "0    1/5/2015  289        2776.0         1786.0\n",
            "1    1/4/2015  288        2775.0         1781.0\n",
            "2    1/3/2015  287        2769.0         1767.0\n",
            "3    1/2/2015  286           NaN            NaN\n",
            "4  12/31/2014  284        2730.0         1739.0\n"
          ]
        }
      ]
    },
    {
      "cell_type": "code",
      "source": [
        "ebola_long = ebola.melt(id_vars=['Date', 'Day']) #Date와 Day만 제외하고 피벗 되돌리기 수행\n",
        "print(ebola_long)\n",
        "# 밑줄을 기준으로 앞은 사례를 나타내는 열, 뒤는 국가를 나타내는 열로 표현할라면 어떻게 해야할까\n",
        "# 각 문자열을 파이썬의 split('_')으로 나눠주면 됨\n",
        "# 문자열 객체의 메서드에 접근하려면 str속성을 사용해야 한다.\n",
        "# 여기서 str은 접근자라고 불리는 특수한 유형의 속성임"
      ],
      "metadata": {
        "colab": {
          "base_uri": "https://localhost:8080/"
        },
        "id": "fH96rerdwGwD",
        "outputId": "4e4c5436-e7a0-4e15-b48c-101081af4440"
      },
      "execution_count": null,
      "outputs": [
        {
          "output_type": "stream",
          "name": "stdout",
          "text": [
            "            Date  Day      variable   value\n",
            "0       1/5/2015  289  Cases_Guinea  2776.0\n",
            "1       1/4/2015  288  Cases_Guinea  2775.0\n",
            "2       1/3/2015  287  Cases_Guinea  2769.0\n",
            "3       1/2/2015  286  Cases_Guinea     NaN\n",
            "4     12/31/2014  284  Cases_Guinea  2730.0\n",
            "...          ...  ...           ...     ...\n",
            "1947   3/27/2014    5   Deaths_Mali     NaN\n",
            "1948   3/26/2014    4   Deaths_Mali     NaN\n",
            "1949   3/25/2014    3   Deaths_Mali     NaN\n",
            "1950   3/24/2014    2   Deaths_Mali     NaN\n",
            "1951   3/22/2014    0   Deaths_Mali     NaN\n",
            "\n",
            "[1952 rows x 4 columns]\n"
          ]
        }
      ]
    },
    {
      "cell_type": "markdown",
      "source": [
        "## **열 이름 분할하고 새로운 열로 할당하기**"
      ],
      "metadata": {
        "id": "I3_5Y7whxynq"
      }
    },
    {
      "cell_type": "code",
      "source": [
        "variable_split = ebola_long.variable.str.split('_') #ebola_long 데이터 프레임의 variable 열에 접근\n",
        "print(variable_split[:5])"
      ],
      "metadata": {
        "colab": {
          "base_uri": "https://localhost:8080/"
        },
        "id": "hYq4thC0x6SY",
        "outputId": "cfb959e6-0023-49c2-aef7-ce613c267feb"
      },
      "execution_count": null,
      "outputs": [
        {
          "output_type": "stream",
          "name": "stdout",
          "text": [
            "0    [Cases, Guinea]\n",
            "1    [Cases, Guinea]\n",
            "2    [Cases, Guinea]\n",
            "3    [Cases, Guinea]\n",
            "4    [Cases, Guinea]\n",
            "Name: variable, dtype: object\n"
          ]
        }
      ]
    },
    {
      "cell_type": "code",
      "source": [
        "print(type(variable_split)) #variable_split의 타입은 시리즈다"
      ],
      "metadata": {
        "colab": {
          "base_uri": "https://localhost:8080/"
        },
        "id": "vdzrFTsyyjE0",
        "outputId": "821638db-c84d-4957-8cd2-129624e7b96b"
      },
      "execution_count": null,
      "outputs": [
        {
          "output_type": "stream",
          "name": "stdout",
          "text": [
            "<class 'pandas.core.series.Series'>\n"
          ]
        }
      ]
    },
    {
      "cell_type": "code",
      "source": [
        "print(type(variable_split[0])) #split 메서드는 분할한 문자열을 리스트로 반환한다"
      ],
      "metadata": {
        "colab": {
          "base_uri": "https://localhost:8080/"
        },
        "id": "G_f3ydtsy0gd",
        "outputId": "b0968ea1-0853-46ee-bac3-348bd8b08f60"
      },
      "execution_count": null,
      "outputs": [
        {
          "output_type": "stream",
          "name": "stdout",
          "text": [
            "<class 'list'>\n"
          ]
        }
      ]
    },
    {
      "cell_type": "code",
      "source": [
        "status_values = variable_split.str.get(0) # str 속성의 get()메서드는 분할한 문자열 리스트의 각 값에 접근하여 새로운 열로 가져옴\n",
        "country_values = variable_split.str.get(1)\n",
        "print(status_values) # 잘 나뉘었는지 확인"
      ],
      "metadata": {
        "colab": {
          "base_uri": "https://localhost:8080/"
        },
        "id": "Xi1JsJIszSjd",
        "outputId": "4ab09888-829a-40f6-eab1-f4608ed5dd41"
      },
      "execution_count": null,
      "outputs": [
        {
          "output_type": "stream",
          "name": "stdout",
          "text": [
            "0        Cases\n",
            "1        Cases\n",
            "2        Cases\n",
            "3        Cases\n",
            "4        Cases\n",
            "         ...  \n",
            "1947    Deaths\n",
            "1948    Deaths\n",
            "1949    Deaths\n",
            "1950    Deaths\n",
            "1951    Deaths\n",
            "Name: variable, Length: 1952, dtype: object\n"
          ]
        }
      ]
    },
    {
      "cell_type": "code",
      "source": [
        "ebola_long['status'] = status_values\n",
        "ebola_long['country'] = country_values\n",
        "print(ebola_long)"
      ],
      "metadata": {
        "colab": {
          "base_uri": "https://localhost:8080/"
        },
        "id": "62sRaJtM0O1M",
        "outputId": "4ed5d5a7-a20e-4d5d-9f6d-6f15a69f2d95"
      },
      "execution_count": null,
      "outputs": [
        {
          "output_type": "stream",
          "name": "stdout",
          "text": [
            "            Date  Day      variable   value  status country\n",
            "0       1/5/2015  289  Cases_Guinea  2776.0   Cases  Guinea\n",
            "1       1/4/2015  288  Cases_Guinea  2775.0   Cases  Guinea\n",
            "2       1/3/2015  287  Cases_Guinea  2769.0   Cases  Guinea\n",
            "3       1/2/2015  286  Cases_Guinea     NaN   Cases  Guinea\n",
            "4     12/31/2014  284  Cases_Guinea  2730.0   Cases  Guinea\n",
            "...          ...  ...           ...     ...     ...     ...\n",
            "1947   3/27/2014    5   Deaths_Mali     NaN  Deaths    Mali\n",
            "1948   3/26/2014    4   Deaths_Mali     NaN  Deaths    Mali\n",
            "1949   3/25/2014    3   Deaths_Mali     NaN  Deaths    Mali\n",
            "1950   3/24/2014    2   Deaths_Mali     NaN  Deaths    Mali\n",
            "1951   3/22/2014    0   Deaths_Mali     NaN  Deaths    Mali\n",
            "\n",
            "[1952 rows x 6 columns]\n"
          ]
        }
      ]
    },
    {
      "cell_type": "markdown",
      "source": [
        "## **한 번에 분할하고 합치기**"
      ],
      "metadata": {
        "id": "dvI3UZG70rFX"
      }
    },
    {
      "cell_type": "markdown",
      "source": [
        "깔끔한 데이터 한 번에 만들기"
      ],
      "metadata": {
        "id": "VYv7NLfB1DVk"
      }
    },
    {
      "cell_type": "code",
      "source": [
        "ebola_long = ebola.melt(id_vars=['Date', 'Day']) # 원본 에볼라 데이터셋에 melt()메서드를 사용하여 다시 피벗 되돌리기 상태로 초기화\n",
        "variable_split = ebola_long.variable.str.split('_', expand=True) #매개변수 expand로 리스트 시리즈 대신 분할 결과를 새로운 열로 만든 데이터프레임을 반환\n",
        "print(variable_split)"
      ],
      "metadata": {
        "colab": {
          "base_uri": "https://localhost:8080/"
        },
        "id": "U9WbDY120tvI",
        "outputId": "86cad637-c4d3-4528-91f3-a48aa8ea8662"
      },
      "execution_count": null,
      "outputs": [
        {
          "output_type": "stream",
          "name": "stdout",
          "text": [
            "           0       1\n",
            "0      Cases  Guinea\n",
            "1      Cases  Guinea\n",
            "2      Cases  Guinea\n",
            "3      Cases  Guinea\n",
            "4      Cases  Guinea\n",
            "...      ...     ...\n",
            "1947  Deaths    Mali\n",
            "1948  Deaths    Mali\n",
            "1949  Deaths    Mali\n",
            "1950  Deaths    Mali\n",
            "1951  Deaths    Mali\n",
            "\n",
            "[1952 rows x 2 columns]\n"
          ]
        }
      ]
    },
    {
      "cell_type": "code",
      "source": [
        "#파이썬과 판다스의 다중 할당 기능을 사용하여 새로 분할한 열을 원본 데이터프레임에 바로 할당할 수도 있다.\n",
        "ebola_long[['status', 'country']] = variable_split\n",
        "print(ebola_long)"
      ],
      "metadata": {
        "colab": {
          "base_uri": "https://localhost:8080/"
        },
        "id": "SVI9beFz2t_t",
        "outputId": "907d9d5a-4ccc-4e1e-879e-4ffaaf7ebfb8"
      },
      "execution_count": null,
      "outputs": [
        {
          "output_type": "stream",
          "name": "stdout",
          "text": [
            "            Date  Day      variable   value  status country\n",
            "0       1/5/2015  289  Cases_Guinea  2776.0   Cases  Guinea\n",
            "1       1/4/2015  288  Cases_Guinea  2775.0   Cases  Guinea\n",
            "2       1/3/2015  287  Cases_Guinea  2769.0   Cases  Guinea\n",
            "3       1/2/2015  286  Cases_Guinea     NaN   Cases  Guinea\n",
            "4     12/31/2014  284  Cases_Guinea  2730.0   Cases  Guinea\n",
            "...          ...  ...           ...     ...     ...     ...\n",
            "1947   3/27/2014    5   Deaths_Mali     NaN  Deaths    Mali\n",
            "1948   3/26/2014    4   Deaths_Mali     NaN  Deaths    Mali\n",
            "1949   3/25/2014    3   Deaths_Mali     NaN  Deaths    Mali\n",
            "1950   3/24/2014    2   Deaths_Mali     NaN  Deaths    Mali\n",
            "1951   3/22/2014    0   Deaths_Mali     NaN  Deaths    Mali\n",
            "\n",
            "[1952 rows x 6 columns]\n"
          ]
        }
      ]
    },
    {
      "cell_type": "markdown",
      "source": [
        "# **05-4. 변수가 행과 열 모두에 있을 때**"
      ],
      "metadata": {
        "id": "o7uyLVW_3TCY"
      }
    },
    {
      "cell_type": "markdown",
      "source": [
        "행과 열 모두에 있는 변수 정리하기"
      ],
      "metadata": {
        "id": "0IHgFyGo6OJo"
      }
    },
    {
      "cell_type": "code",
      "source": [
        "weather = pd.read_csv('weather.csv')\n",
        "print(weather.iloc[:5,:11]) #월별 날짜의 최저 기온과 최고 기온을 포함, elment 열은 값이 2가지이므로 넓게 피벗을 적용할 수 있다."
      ],
      "metadata": {
        "colab": {
          "base_uri": "https://localhost:8080/"
        },
        "id": "LDBDg6oJ3W-9",
        "outputId": "b0686058-0261-47de-a583-766db0a4f5e1"
      },
      "execution_count": null,
      "outputs": [
        {
          "output_type": "stream",
          "name": "stdout",
          "text": [
            "        id  year  month element  d1    d2    d3  d4    d5  d6  d7\n",
            "0  MX17004  2010      1    tmax NaN   NaN   NaN NaN   NaN NaN NaN\n",
            "1  MX17004  2010      1    tmin NaN   NaN   NaN NaN   NaN NaN NaN\n",
            "2  MX17004  2010      2    tmax NaN  27.3  24.1 NaN   NaN NaN NaN\n",
            "3  MX17004  2010      2    tmin NaN  14.4  14.4 NaN   NaN NaN NaN\n",
            "4  MX17004  2010      3    tmax NaN   NaN   NaN NaN  32.1 NaN NaN\n"
          ]
        }
      ]
    },
    {
      "cell_type": "code",
      "source": [
        "# 날짜를 정리\n",
        "weather_melt = weather.melt(\n",
        "    id_vars= [\"id\", \"year\", \"month\", \"element\"],\n",
        "    var_name = \"day\",\n",
        "    value_name = \"temp\",\n",
        ")\n",
        "print(weather_melt)"
      ],
      "metadata": {
        "colab": {
          "base_uri": "https://localhost:8080/"
        },
        "id": "vhIQ1hXp8r1P",
        "outputId": "5d0a5a39-9479-4f13-dd48-ca06c2e42093"
      },
      "execution_count": null,
      "outputs": [
        {
          "output_type": "stream",
          "name": "stdout",
          "text": [
            "          id  year  month element  day  temp\n",
            "0    MX17004  2010      1    tmax   d1   NaN\n",
            "1    MX17004  2010      1    tmin   d1   NaN\n",
            "2    MX17004  2010      2    tmax   d1   NaN\n",
            "3    MX17004  2010      2    tmin   d1   NaN\n",
            "4    MX17004  2010      3    tmax   d1   NaN\n",
            "..       ...   ...    ...     ...  ...   ...\n",
            "677  MX17004  2010     10    tmin  d31   NaN\n",
            "678  MX17004  2010     11    tmax  d31   NaN\n",
            "679  MX17004  2010     11    tmin  d31   NaN\n",
            "680  MX17004  2010     12    tmax  d31   NaN\n",
            "681  MX17004  2010     12    tmin  d31   NaN\n",
            "\n",
            "[682 rows x 6 columns]\n"
          ]
        }
      ]
    },
    {
      "cell_type": "code",
      "source": [
        "#pivot_table() 메서드를 사용하여 element 열에 저장된 변수를 피벗\n",
        "weather_tidy = weather_melt.pivot_table(\n",
        "    index=['id', 'year', 'month', 'day'],\n",
        "    columns='element',\n",
        "    values='temp'\n",
        ")\n",
        "print(weather_tidy)"
      ],
      "metadata": {
        "colab": {
          "base_uri": "https://localhost:8080/"
        },
        "id": "5b_xW5SR9RsR",
        "outputId": "1ac1ae22-cfd9-4cf1-9b61-cba6dd90ea30"
      },
      "execution_count": null,
      "outputs": [
        {
          "output_type": "stream",
          "name": "stdout",
          "text": [
            "element                 tmax  tmin\n",
            "id      year month day            \n",
            "MX17004 2010 1     d30  27.8  14.5\n",
            "             2     d11  29.7  13.4\n",
            "                   d2   27.3  14.4\n",
            "                   d23  29.9  10.7\n",
            "                   d3   24.1  14.4\n",
            "             3     d10  34.5  16.8\n",
            "                   d16  31.1  17.6\n",
            "                   d5   32.1  14.2\n",
            "             4     d27  36.3  16.7\n",
            "             5     d27  33.2  18.2\n",
            "             6     d17  28.0  17.5\n",
            "                   d29  30.1  18.0\n",
            "             7     d3   28.6  17.5\n",
            "                   d14  29.9  16.5\n",
            "             8     d23  26.4  15.0\n",
            "                   d5   29.6  15.8\n",
            "                   d29  28.0  15.3\n",
            "                   d13  29.8  16.5\n",
            "                   d25  29.7  15.6\n",
            "                   d31  25.4  15.4\n",
            "                   d8   29.0  17.3\n",
            "             10    d5   27.0  14.0\n",
            "                   d14  29.5  13.0\n",
            "                   d15  28.7  10.5\n",
            "                   d28  31.2  15.0\n",
            "                   d7   28.1  12.9\n",
            "             11    d2   31.3  16.3\n",
            "                   d5   26.3   7.9\n",
            "                   d27  27.7  14.2\n",
            "                   d26  28.1  12.1\n",
            "                   d4   27.2  12.0\n",
            "             12    d1   29.9  13.8\n",
            "                   d6   27.8  10.5\n"
          ]
        }
      ]
    },
    {
      "cell_type": "code",
      "source": [
        "#계층 평면화\n",
        "weather_tidy_flat = weather_tidy.reset_index()\n",
        "print(weather_tidy_flat)"
      ],
      "metadata": {
        "colab": {
          "base_uri": "https://localhost:8080/"
        },
        "id": "uaPfrt1N961i",
        "outputId": "8feb2aca-4873-4bf3-9ac7-f195294df213"
      },
      "execution_count": null,
      "outputs": [
        {
          "output_type": "stream",
          "name": "stdout",
          "text": [
            "element       id  year  month  day  tmax  tmin\n",
            "0        MX17004  2010      1  d30  27.8  14.5\n",
            "1        MX17004  2010      2  d11  29.7  13.4\n",
            "2        MX17004  2010      2   d2  27.3  14.4\n",
            "3        MX17004  2010      2  d23  29.9  10.7\n",
            "4        MX17004  2010      2   d3  24.1  14.4\n",
            "5        MX17004  2010      3  d10  34.5  16.8\n",
            "6        MX17004  2010      3  d16  31.1  17.6\n",
            "7        MX17004  2010      3   d5  32.1  14.2\n",
            "8        MX17004  2010      4  d27  36.3  16.7\n",
            "9        MX17004  2010      5  d27  33.2  18.2\n",
            "10       MX17004  2010      6  d17  28.0  17.5\n",
            "11       MX17004  2010      6  d29  30.1  18.0\n",
            "12       MX17004  2010      7   d3  28.6  17.5\n",
            "13       MX17004  2010      7  d14  29.9  16.5\n",
            "14       MX17004  2010      8  d23  26.4  15.0\n",
            "15       MX17004  2010      8   d5  29.6  15.8\n",
            "16       MX17004  2010      8  d29  28.0  15.3\n",
            "17       MX17004  2010      8  d13  29.8  16.5\n",
            "18       MX17004  2010      8  d25  29.7  15.6\n",
            "19       MX17004  2010      8  d31  25.4  15.4\n",
            "20       MX17004  2010      8   d8  29.0  17.3\n",
            "21       MX17004  2010     10   d5  27.0  14.0\n",
            "22       MX17004  2010     10  d14  29.5  13.0\n",
            "23       MX17004  2010     10  d15  28.7  10.5\n",
            "24       MX17004  2010     10  d28  31.2  15.0\n",
            "25       MX17004  2010     10   d7  28.1  12.9\n",
            "26       MX17004  2010     11   d2  31.3  16.3\n",
            "27       MX17004  2010     11   d5  26.3   7.9\n",
            "28       MX17004  2010     11  d27  27.7  14.2\n",
            "29       MX17004  2010     11  d26  28.1  12.1\n",
            "30       MX17004  2010     11   d4  27.2  12.0\n",
            "31       MX17004  2010     12   d1  29.9  13.8\n",
            "32       MX17004  2010     12   d6  27.8  10.5\n"
          ]
        }
      ]
    }
  ]
}